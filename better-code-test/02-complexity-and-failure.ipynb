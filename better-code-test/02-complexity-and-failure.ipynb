{
 "cells": [
  {
   "cell_type": "code",
   "execution_count": 1,
   "id": "isolated-ceiling",
   "metadata": {
    "execution": {
     "iopub.execute_input": "2021-06-28T16:55:57.107931Z",
     "iopub.status.busy": "2021-06-28T16:55:57.107398Z",
     "iopub.status.idle": "2021-06-28T16:55:57.194283Z",
     "shell.execute_reply": "2021-06-28T16:55:57.193896Z"
    },
    "slideshow": {
     "slide_type": "skip"
    }
   },
   "outputs": [],
   "source": [
    "#include \"../common.hpp\""
   ]
  },
  {
   "cell_type": "markdown",
   "id": "brief-ferry",
   "metadata": {
    "slideshow": {
     "slide_type": "slide"
    }
   },
   "source": [
    "# Complexity, Failure, & Optional Operations\n",
    "## Revisiting Equality"
   ]
  },
  {
   "cell_type": "code",
   "execution_count": 2,
   "id": "concrete-republic",
   "metadata": {
    "execution": {
     "iopub.execute_input": "2021-06-28T16:55:57.196249Z",
     "iopub.status.busy": "2021-06-28T16:55:57.195864Z",
     "iopub.status.idle": "2021-06-28T16:55:57.197804Z",
     "shell.execute_reply": "2021-06-28T16:55:57.197430Z"
    },
    "slideshow": {
     "slide_type": "fragment"
    }
   },
   "outputs": [],
   "source": [
    "template <class T>\n",
    "void test_equality_3(const T& a) {\n",
    "    // Reflexivity\n",
    "    for (const auto& e : a)\n",
    "        REQUIRE(e.value == e.value);\n",
    "\n",
    "    // Symmetry\n",
    "    for_each_k_combination<2>(a, [](const auto& a, const auto& b) {\n",
    "        REQUIRE((a.tag == b.tag) == (a.value == b.value));\n",
    "        REQUIRE((a.tag == b.tag) == (b.value == a.value));\n",
    "    });\n",
    "\n",
    "    // Transitivity (implied by symmetry test)\n",
    "}"
   ]
  },
  {
   "cell_type": "code",
   "execution_count": 3,
   "id": "distinguished-elements",
   "metadata": {
    "execution": {
     "iopub.execute_input": "2021-06-28T16:55:57.199225Z",
     "iopub.status.busy": "2021-06-28T16:55:57.198840Z",
     "iopub.status.idle": "2021-06-28T16:55:57.200009Z",
     "shell.execute_reply": "2021-06-28T16:55:57.199650Z"
    },
    "slideshow": {
     "slide_type": "skip"
    }
   },
   "outputs": [],
   "source": [
    "template <class T>\n",
    "auto make_vector(initializer_list<T> init, std::size_t additional_capacity) {\n",
    "    vector<T> r;\n",
    "    r.reserve(size(init) + additional_capacity);\n",
    "    r.insert(end(r), init);\n",
    "    return r;\n",
    "}"
   ]
  },
  {
   "cell_type": "code",
   "execution_count": 4,
   "id": "modern-rally",
   "metadata": {
    "execution": {
     "iopub.execute_input": "2021-06-28T16:55:57.201465Z",
     "iopub.status.busy": "2021-06-28T16:55:57.201042Z",
     "iopub.status.idle": "2021-06-28T16:55:57.251209Z",
     "shell.execute_reply": "2021-06-28T16:55:57.250636Z"
    },
    "slideshow": {
     "slide_type": "skip"
    }
   },
   "outputs": [],
   "source": [
    "struct {\n",
    "    int tag;\n",
    "    std::vector<int> value;\n",
    "} vec_rep[]{\n",
    "    {0, make_vector<int>({}, 0)}, {0, make_vector<int>({}, 1)},\n",
    "    {0, make_vector<int>({}, 2)},\n",
    "\n",
    "    {1, make_vector({0}, 0)},     {1, make_vector({0}, 1)},\n",
    "    {1, make_vector({0}, 2)},\n",
    "\n",
    "    {2, make_vector({0, 1}, 0)},  {2, make_vector({0, 1}, 0)},\n",
    "    {2, make_vector({0, 1}, 0)},\n",
    "\n",
    "    {3, make_vector({0, 2}, 0)},  {3, make_vector({0, 2}, 0)},\n",
    "    {3, make_vector({0, 2}, 0)},\n",
    "\n",
    "    {4, make_vector({1, 2}, 0)},  {4, make_vector({1, 2}, 0)},\n",
    "    {4, make_vector({1, 2}, 0)},\n",
    "};"
   ]
  },
  {
   "cell_type": "code",
   "execution_count": 5,
   "id": "appropriate-velvet",
   "metadata": {
    "execution": {
     "iopub.execute_input": "2021-06-28T16:55:57.253168Z",
     "iopub.status.busy": "2021-06-28T16:55:57.252854Z",
     "iopub.status.idle": "2021-06-28T16:55:57.298226Z",
     "shell.execute_reply": "2021-06-28T16:55:57.297906Z"
    },
    "slideshow": {
     "slide_type": "slide"
    }
   },
   "outputs": [],
   "source": [
    "{\n",
    "    test_equality_3(vec_rep);\n",
    "}"
   ]
  },
  {
   "cell_type": "markdown",
   "id": "facial-symbol",
   "metadata": {
    "slideshow": {
     "slide_type": "slide"
    }
   },
   "source": [
    "### Complexity"
   ]
  },
  {
   "cell_type": "markdown",
   "id": "furnished-footwear",
   "metadata": {
    "slideshow": {
     "slide_type": "slide"
    }
   },
   "source": [
    "![](./img/equality.png)"
   ]
  },
  {
   "cell_type": "markdown",
   "id": "surrounded-grenada",
   "metadata": {
    "slideshow": {
     "slide_type": "slide"
    }
   },
   "source": [
    "- It is difficult to test complexity by measuring performance"
   ]
  },
  {
   "cell_type": "markdown",
   "id": "twenty-easter",
   "metadata": {
    "slideshow": {
     "slide_type": "fragment"
    }
   },
   "source": [
    "\\begin{align}\n",
    "performance \\neq complexity\n",
    "\\end{align}"
   ]
  },
  {
   "cell_type": "markdown",
   "id": "curious-window",
   "metadata": {
    "slideshow": {
     "slide_type": "fragment"
    }
   },
   "source": [
    "- Complexity is a measure of the number of operations executed"
   ]
  },
  {
   "cell_type": "markdown",
   "id": "atlantic-gazette",
   "metadata": {
    "slideshow": {
     "slide_type": "fragment"
    }
   },
   "source": [
    "\\begin{align}\n",
    "complexity \\approx performance\n",
    "\\end{align}"
   ]
  },
  {
   "cell_type": "markdown",
   "id": "protective-taylor",
   "metadata": {
    "slideshow": {
     "slide_type": "fragment"
    }
   },
   "source": [
    "- For $complexity = performance$ all operations must execute in the same, constant, time\n",
    "    - Irrespective of cache, compiler optimizations, and processor load"
   ]
  },
  {
   "cell_type": "markdown",
   "id": "intimate-avenue",
   "metadata": {
    "slideshow": {
     "slide_type": "fragment"
    }
   },
   "source": [
    "- To test complexity, count operations"
   ]
  },
  {
   "cell_type": "code",
   "execution_count": 6,
   "id": "annoying-rotation",
   "metadata": {
    "execution": {
     "iopub.execute_input": "2021-06-28T16:55:57.300582Z",
     "iopub.status.busy": "2021-06-28T16:55:57.299900Z",
     "iopub.status.idle": "2021-06-28T16:55:57.301685Z",
     "shell.execute_reply": "2021-06-28T16:55:57.301376Z"
    },
    "slideshow": {
     "slide_type": "slide"
    }
   },
   "outputs": [],
   "source": [
    "namespace {\n",
    "\n",
    "static size_t _equality;\n",
    "\n",
    "struct annotate_1 {\n",
    "    int _value{0};\n",
    "\n",
    "    annotate_1(int value) : _value(value) {}\n",
    "\n",
    "    friend inline bool operator==(const annotate_1& x, const annotate_1& y) {\n",
    "        ++_equality;\n",
    "        return x._value == y._value;\n",
    "    }\n",
    "};\n",
    "\n",
    "}"
   ]
  },
  {
   "cell_type": "code",
   "execution_count": 7,
   "id": "frozen-prediction",
   "metadata": {
    "execution": {
     "iopub.execute_input": "2021-06-28T16:55:57.303252Z",
     "iopub.status.busy": "2021-06-28T16:55:57.302839Z",
     "iopub.status.idle": "2021-06-28T16:55:57.304365Z",
     "shell.execute_reply": "2021-06-28T16:55:57.304027Z"
    },
    "slideshow": {
     "slide_type": "slide"
    }
   },
   "outputs": [],
   "source": [
    "template <class F>\n",
    "void expect_equality(const F& f, size_t max) {\n",
    "    size_t initial = _equality;\n",
    "    f();\n",
    "    REQUIRE((_equality - initial) <= max);\n",
    "}"
   ]
  },
  {
   "cell_type": "code",
   "execution_count": 8,
   "id": "front-helena",
   "metadata": {
    "execution": {
     "iopub.execute_input": "2021-06-28T16:55:57.305989Z",
     "iopub.status.busy": "2021-06-28T16:55:57.305611Z",
     "iopub.status.idle": "2021-06-28T16:55:57.307494Z",
     "shell.execute_reply": "2021-06-28T16:55:57.307152Z"
    },
    "slideshow": {
     "slide_type": "slide"
    }
   },
   "outputs": [],
   "source": [
    "template <class T>\n",
    "void test_equality_4(const T& a) {\n",
    "    // Reflexivity\n",
    "    for (const auto& e : a) {\n",
    "        expect_equality([&] { REQUIRE(e.value == e.value); }, e.value.size());\n",
    "    }\n",
    "\n",
    "    // Symmetry\n",
    "    for_each_k_combination<2>(a, [&](const auto& a, const auto& b) {\n",
    "        expect_equality([&] { REQUIRE((a.tag == b.tag) == (a.value == b.value)); },\n",
    "                        ((a.value.size() != b.value.size()) ? 0 : a.value.size()));\n",
    "\n",
    "        expect_equality([&] { REQUIRE((a.tag == b.tag) == (b.value == a.value)); },\n",
    "                        ((a.value.size() != b.value.size()) ? 0 : a.value.size()));\n",
    "    });\n",
    "\n",
    "    // Transitivity (implied by symmetry test)\n",
    "}"
   ]
  },
  {
   "cell_type": "code",
   "execution_count": 9,
   "id": "stuck-albert",
   "metadata": {
    "execution": {
     "iopub.execute_input": "2021-06-28T16:55:57.308910Z",
     "iopub.status.busy": "2021-06-28T16:55:57.308513Z",
     "iopub.status.idle": "2021-06-28T16:55:57.348437Z",
     "shell.execute_reply": "2021-06-28T16:55:57.348115Z"
    },
    "slideshow": {
     "slide_type": "slide"
    }
   },
   "outputs": [],
   "source": [
    "struct {\n",
    "    int tag;\n",
    "    std::vector<annotate_1> value;\n",
    "} vec_rep_1[]{\n",
    "    {0, make_vector<annotate_1>({}, 0)},\n",
    "    {0, make_vector<annotate_1>({}, 1)},\n",
    "    {0, make_vector<annotate_1>({}, 2)},\n",
    "\n",
    "    {1, make_vector<annotate_1>({0}, 0)},\n",
    "    {1, make_vector<annotate_1>({0}, 1)},\n",
    "    {1, make_vector<annotate_1>({0}, 2)},\n",
    "\n",
    "    {2, make_vector<annotate_1>({{0}, {1}}, 0)},\n",
    "    {2, make_vector<annotate_1>({{0}, {1}}, 0)},\n",
    "\n",
    "    {3, make_vector<annotate_1>({{0}, {2}}, 0)},\n",
    "    {3, make_vector<annotate_1>({{0}, {2}}, 0)},\n",
    "\n",
    "    {4, make_vector<annotate_1>({{1}, {2}}, 0)},\n",
    "    {4, make_vector<annotate_1>({{1}, {2}}, 0)},\n",
    "};"
   ]
  },
  {
   "cell_type": "code",
   "execution_count": 10,
   "id": "experienced-decimal",
   "metadata": {
    "execution": {
     "iopub.execute_input": "2021-06-28T16:55:57.350898Z",
     "iopub.status.busy": "2021-06-28T16:55:57.350187Z",
     "iopub.status.idle": "2021-06-28T16:55:57.387886Z",
     "shell.execute_reply": "2021-06-28T16:55:57.387567Z"
    },
    "slideshow": {
     "slide_type": "slide"
    }
   },
   "outputs": [],
   "source": [
    "{\n",
    "    test_equality_4(vec_rep_1);\n",
    "}"
   ]
  },
  {
   "cell_type": "markdown",
   "id": "coastal-pasta",
   "metadata": {
    "slideshow": {
     "slide_type": "slide"
    }
   },
   "source": [
    "## Revisiting Copy and Assignment"
   ]
  },
  {
   "cell_type": "markdown",
   "id": "attached-protocol",
   "metadata": {
    "slideshow": {
     "slide_type": "fragment"
    }
   },
   "source": [
    "> **Exercise 2.1**  Add a counter to `annotate_1` for copy and a test case for copy and assignment complexity."
   ]
  },
  {
   "cell_type": "markdown",
   "id": "entitled-reset",
   "metadata": {
    "slideshow": {
     "slide_type": "slide"
    }
   },
   "source": [
    "### Exception During Copy and Assignment"
   ]
  },
  {
   "cell_type": "markdown",
   "id": "molecular-stationery",
   "metadata": {
    "slideshow": {
     "slide_type": "fragment"
    }
   },
   "source": [
    "- Should we test the behavior when an exception is thrown copying or assigning a `vector`?"
   ]
  },
  {
   "cell_type": "markdown",
   "id": "fundamental-canadian",
   "metadata": {
    "slideshow": {
     "slide_type": "fragment"
    }
   },
   "source": [
    "- There are two possible points of failure:\n",
    "    - Allocating memory for the `vector`\n",
    "    - Copying the objects in the `vector`\n",
    "        - Most likely because of a memory allocation failure"
   ]
  },
  {
   "cell_type": "markdown",
   "id": "metallic-accreditation",
   "metadata": {
    "slideshow": {
     "slide_type": "slide"
    }
   },
   "source": [
    "- Out-of-memory, OOM, rarely actually results in a `bad_alloc` exception\n",
    "    - The OS behavior of out-of-memory, OOM, cannot be relied upon\n",
    "    - MacOS, and Linux (and Android) over-commit\n",
    "        - Exhausting virtual memory suspends or kills the application\n",
    "        - A `bad_alloc` is only possible in 32 bit mode (deprecated MacOS) by exhausting the address space\n",
    "     - iOS also over-commits\n",
    "         - But there is no backing store\n",
    "         - Exhausting physical memory kills the application"
   ]
  },
  {
   "cell_type": "markdown",
   "id": "mediterranean-lodge",
   "metadata": {
    "slideshow": {
     "slide_type": "fragment"
    }
   },
   "source": [
    "- Most OOM recovery code is untested\n",
    "    - likely to fail\n",
    "    - and a possible security risk\n",
    "- Platform calls are likely not to handle memory failures"
   ]
  },
  {
   "cell_type": "markdown",
   "id": "scientific-publisher",
   "metadata": {
    "slideshow": {
     "slide_type": "slide"
    }
   },
   "source": [
    "- Herb Sutter has put forth a proposal to migrate away from exceptions to signal out-of-memory, and simply terminate the app is such circumstances, this may make it into C++20 or a TS in the C++20 time frame\n",
    "    - [Zero-overhead deterministic exceptions: Throwing values](http://www.open-std.org/jtc1/sc22/wg21/docs/papers/2018/p0709r1.pdf)"
   ]
  },
  {
   "cell_type": "markdown",
   "id": "placed-services",
   "metadata": {
    "slideshow": {
     "slide_type": "fragment"
    }
   },
   "source": [
    "- I'm cautiously in favor of this proposal"
   ]
  },
  {
   "cell_type": "markdown",
   "id": "chubby-iceland",
   "metadata": {
    "slideshow": {
     "slide_type": "slide"
    }
   },
   "source": [
    "- There are several scenarios where `vector` or `T` could still throw on copy\n",
    "    - When using a custom allocator which limits resources\n",
    "    - When using replacement operator new / delete which limit resources\n",
    "        - (This may be disallowed by the above proposal.)\n",
    "    - When the copying `T` throws for a reason other tham OOM\n",
    "        - (Though it is dificult to give a non-contrived example.)"
   ]
  },
  {
   "cell_type": "markdown",
   "id": "cloudy-permission",
   "metadata": {
    "slideshow": {
     "slide_type": "fragment"
    }
   },
   "source": [
    "- Jupyter doesn't allow me to replace `operator new` and `operator delete`\n",
    "    - But typically you could use these to test failures with allocations"
   ]
  },
  {
   "cell_type": "code",
   "execution_count": 11,
   "id": "gross-antigua",
   "metadata": {
    "execution": {
     "iopub.execute_input": "2021-06-28T16:55:57.390465Z",
     "iopub.status.busy": "2021-06-28T16:55:57.389821Z",
     "iopub.status.idle": "2021-06-28T16:55:57.391734Z",
     "shell.execute_reply": "2021-06-28T16:55:57.391224Z"
    },
    "slideshow": {
     "slide_type": "slide"
    }
   },
   "outputs": [],
   "source": [
    "size_t _allocate{0};\n",
    "size_t _deallocate{0};\n",
    "size_t _allocate_limit{numeric_limits<size_t>::max()};"
   ]
  },
  {
   "cell_type": "code",
   "execution_count": 12,
   "id": "noted-worse",
   "metadata": {
    "execution": {
     "iopub.execute_input": "2021-06-28T16:55:57.393871Z",
     "iopub.status.busy": "2021-06-28T16:55:57.393216Z",
     "iopub.status.idle": "2021-06-28T16:55:57.395061Z",
     "shell.execute_reply": "2021-06-28T16:55:57.394746Z"
    },
    "slideshow": {
     "slide_type": "slide"
    }
   },
   "outputs": [],
   "source": [
    "template <class T>\n",
    "struct test_allocator {\n",
    "    using value_type = T;\n",
    "\n",
    "    test_allocator() = default;\n",
    "    \n",
    "    template <class U>\n",
    "    constexpr test_allocator(const test_allocator<U>&) noexcept {}\n",
    "    \n",
    "    [[nodiscard]] T* allocate(size_t n) {\n",
    "        if (_allocate == _allocate_limit) throw bad_alloc();\n",
    "        if (n > (numeric_limits<size_t>::max() / sizeof(T))) throw bad_alloc();\n",
    "        auto result = static_cast<T*>(::operator new(n * sizeof(T)));\n",
    "        ++_allocate;\n",
    "        return result;\n",
    "    }\n",
    "\n",
    "    void deallocate(T* p, size_t n) noexcept {\n",
    "        ::operator delete(p /*, n */); // gcc doesn't yet support delete with size\n",
    "        ++_deallocate;\n",
    "    }\n",
    "    \n",
    "    friend bool operator==(const test_allocator&, const test_allocator&) { return true; }\n",
    "    friend bool operator!=(const test_allocator&, const test_allocator&) { return false; }\n",
    "};"
   ]
  },
  {
   "cell_type": "code",
   "execution_count": 13,
   "id": "hydraulic-summit",
   "metadata": {
    "execution": {
     "iopub.execute_input": "2021-06-28T16:55:57.397089Z",
     "iopub.status.busy": "2021-06-28T16:55:57.396679Z",
     "iopub.status.idle": "2021-06-28T16:55:57.397583Z",
     "shell.execute_reply": "2021-06-28T16:55:57.397949Z"
    },
    "slideshow": {
     "slide_type": "slide"
    }
   },
   "outputs": [],
   "source": [
    "template <class T>\n",
    "auto make_vector_2(initializer_list<T> init, std::size_t additional_capacity) {\n",
    "    vector<T, test_allocator<T>> r;\n",
    "    r.reserve(size(init) + additional_capacity);\n",
    "    r.insert(end(r), init);\n",
    "    return r;\n",
    "}"
   ]
  },
  {
   "cell_type": "code",
   "execution_count": 14,
   "id": "dimensional-minute",
   "metadata": {
    "execution": {
     "iopub.execute_input": "2021-06-28T16:55:57.399225Z",
     "iopub.status.busy": "2021-06-28T16:55:57.398878Z",
     "iopub.status.idle": "2021-06-28T16:55:57.436443Z",
     "shell.execute_reply": "2021-06-28T16:55:57.436169Z"
    },
    "slideshow": {
     "slide_type": "slide"
    }
   },
   "outputs": [],
   "source": [
    "std::vector<int, test_allocator<int>> vec_rep_2[]{\n",
    "    make_vector_2<int>({}, 0), make_vector_2<int>({}, 1), make_vector_2<int>({}, 2),\n",
    "    make_vector_2({0}, 0),     make_vector_2({0}, 1),     make_vector_2({0}, 2),\n",
    "    make_vector_2({0, 1}, 0),  make_vector_2({0, 2}, 0),  make_vector_2({1, 2}, 0)};"
   ]
  },
  {
   "cell_type": "code",
   "execution_count": 15,
   "id": "secure-giant",
   "metadata": {
    "execution": {
     "iopub.execute_input": "2021-06-28T16:55:57.439052Z",
     "iopub.status.busy": "2021-06-28T16:55:57.438249Z",
     "iopub.status.idle": "2021-06-28T16:55:57.440800Z",
     "shell.execute_reply": "2021-06-28T16:55:57.440266Z"
    },
    "slideshow": {
     "slide_type": "skip"
    }
   },
   "outputs": [],
   "source": [
    "template <class T>\n",
    "void modify(vector<T>& a) {\n",
    "    a.push_back(T{});\n",
    "}"
   ]
  },
  {
   "cell_type": "code",
   "execution_count": 16,
   "id": "considered-alfred",
   "metadata": {
    "execution": {
     "iopub.execute_input": "2021-06-28T16:55:57.443239Z",
     "iopub.status.busy": "2021-06-28T16:55:57.442809Z",
     "iopub.status.idle": "2021-06-28T16:55:57.446729Z",
     "shell.execute_reply": "2021-06-28T16:55:57.446375Z"
    },
    "slideshow": {
     "slide_type": "slide"
    }
   },
   "outputs": [],
   "source": [
    "template <class T>\n",
    "void test_copy_and_assignment_2(const T& v) {\n",
    "    for (const auto& a : v) {\n",
    "        decay_t<decltype(a)> b = a; // copy construct\n",
    "        REQUIRE(a == b);            // copies are equal\n",
    "        b = b;                      // self assignment\n",
    "        REQUIRE(a == b);            // self assignment is a no-op\n",
    "        modify(b);\n",
    "        REQUIRE(a != b);            // copies are disjoint\n",
    "    }\n",
    "    for (const auto& a : v) {\n",
    "        for (const auto& c : v) {\n",
    "            decay_t<decltype(a)> b = a; // make a copy\n",
    "            b = c;                      // copy assignment\n",
    "            REQUIRE(b == c);            // copies ar equal\n",
    "            modify(b);\n",
    "            REQUIRE(b != c);            // copies are disjoint\n",
    "        }\n",
    "    }\n",
    "}"
   ]
  },
  {
   "cell_type": "code",
   "execution_count": 17,
   "id": "incorrect-brooks",
   "metadata": {
    "execution": {
     "iopub.execute_input": "2021-06-28T16:55:57.448061Z",
     "iopub.status.busy": "2021-06-28T16:55:57.447687Z",
     "iopub.status.idle": "2021-06-28T16:55:57.449396Z",
     "shell.execute_reply": "2021-06-28T16:55:57.449031Z"
    },
    "slideshow": {
     "slide_type": "slide"
    }
   },
   "outputs": [],
   "source": [
    "template <class F>\n",
    "size_t allocation_count(const F& f) {\n",
    "    auto initial = _allocate;\n",
    "    f();\n",
    "    return _allocate - initial;\n",
    "}\n",
    "\n",
    "template <class F>\n",
    "void allocation_failure(const F& f, size_t i) {\n",
    "    auto limit = _allocate + i;\n",
    "    swap(limit, _allocate_limit);\n",
    "\n",
    "    auto initial = _allocate - _deallocate;\n",
    "    bool failed = false;\n",
    "\n",
    "    try {\n",
    "        f();\n",
    "    } catch (bad_alloc&) {\n",
    "        failed = true;\n",
    "    }\n",
    "    swap(limit, _allocate_limit);\n",
    "    REQUIRE(failed && (initial == (_allocate - _deallocate)));\n",
    "}"
   ]
  },
  {
   "cell_type": "code",
   "execution_count": 18,
   "id": "compatible-jesus",
   "metadata": {
    "execution": {
     "iopub.execute_input": "2021-06-28T16:55:57.450868Z",
     "iopub.status.busy": "2021-06-28T16:55:57.450451Z",
     "iopub.status.idle": "2021-06-28T16:55:57.451787Z",
     "shell.execute_reply": "2021-06-28T16:55:57.451449Z"
    },
    "slideshow": {
     "slide_type": "slide"
    }
   },
   "outputs": [],
   "source": [
    "template <class T>\n",
    "void test_copy_and_assignment_failure(const T& v) {\n",
    "    for (const auto& a : v) {\n",
    "        for (const auto& c : v) {\n",
    "            auto n = allocation_count([&] {\n",
    "                decay_t<decltype(a)> b = a; // copy construct\n",
    "                b = c;                      // copy assignment\n",
    "            });\n",
    "\n",
    "            for (size_t i = 0; i != n; ++i) {\n",
    "                allocation_failure(\n",
    "                    [&] {\n",
    "                        decay_t<decltype(a)> b = a; // copy construct\n",
    "                        b = c;                      // copy assignment\n",
    "                    },\n",
    "                    i);\n",
    "            }\n",
    "        }\n",
    "    }\n",
    "}"
   ]
  },
  {
   "cell_type": "code",
   "execution_count": 19,
   "id": "blind-scoop",
   "metadata": {
    "execution": {
     "iopub.execute_input": "2021-06-28T16:55:57.453299Z",
     "iopub.status.busy": "2021-06-28T16:55:57.452912Z",
     "iopub.status.idle": "2021-06-28T16:55:57.478808Z",
     "shell.execute_reply": "2021-06-28T16:55:57.478491Z"
    },
    "slideshow": {
     "slide_type": "slide"
    }
   },
   "outputs": [],
   "source": [
    "{\n",
    "    test_copy_and_assignment_failure(vec_rep_2);\n",
    "}"
   ]
  },
  {
   "cell_type": "markdown",
   "id": "owned-mention",
   "metadata": {
    "slideshow": {
     "slide_type": "slide"
    }
   },
   "source": [
    "> **Exercise 2.2**  Add a `_copy_limit` to `annotate_1` from _exercise 2.1_ and add a destructor counter. Extend the above test to ensure the all `annotate_1` objects are correctely destructed in the event of an exception from the allocator or from copying the `annotate_1` object."
   ]
  },
  {
   "cell_type": "markdown",
   "id": "light-borough",
   "metadata": {
    "slideshow": {
     "slide_type": "slide"
    }
   },
   "source": [
    "### Optional Move/Copy Operations"
   ]
  },
  {
   "cell_type": "markdown",
   "id": "structural-railway",
   "metadata": {
    "slideshow": {
     "slide_type": "slide"
    }
   },
   "source": [
    "![](./img/container-copy-constructible.png)"
   ]
  },
  {
   "cell_type": "markdown",
   "id": "indoor-affairs",
   "metadata": {
    "slideshow": {
     "slide_type": "slide"
    }
   },
   "source": [
    "![](./img/container-copy-assignable.png)"
   ]
  },
  {
   "cell_type": "markdown",
   "id": "aboriginal-jacksonville",
   "metadata": {
    "slideshow": {
     "slide_type": "slide"
    }
   },
   "source": [
    "- \"Requires\" in this context means that the concept is required for _this_ operation\n",
    "    - Not for a `vector` in general"
   ]
  },
  {
   "cell_type": "code",
   "execution_count": 20,
   "id": "ready-platform",
   "metadata": {
    "execution": {
     "iopub.execute_input": "2021-06-28T16:55:57.481775Z",
     "iopub.status.busy": "2021-06-28T16:55:57.481192Z",
     "iopub.status.idle": "2021-06-28T16:55:57.500737Z",
     "shell.execute_reply": "2021-06-28T16:55:57.500439Z"
    },
    "slideshow": {
     "slide_type": "fragment"
    }
   },
   "outputs": [],
   "source": [
    "{\n",
    "    vector<unique_ptr<int>> a;\n",
    "    vector<unique_ptr<int>> b;\n",
    "}"
   ]
  },
  {
   "cell_type": "markdown",
   "id": "geological-bradford",
   "metadata": {
    "slideshow": {
     "slide_type": "fragment"
    }
   },
   "source": [
    "```cpp\n",
    "{\n",
    "    vector<unique_ptr<int>> a;\n",
    "    vector<unique_ptr<int>> b = a;\n",
    "}\n",
    "```"
   ]
  },
  {
   "cell_type": "markdown",
   "id": "forced-florence",
   "metadata": {
    "slideshow": {
     "slide_type": "fragment"
    }
   },
   "source": [
    "```\n",
    "In file included from input_line_5:1:\n",
    "In file included from /Users/sean-parent/miniconda3/envs/notebook/include/xeus/xinterpreter.hpp:12:\n",
    "In file included from /Users/sean-parent/miniconda3/envs/notebook/include/c++/v1/functional:487:\n",
    "/Users/sean-parent/miniconda3/envs/notebook/include/c++/v1/memory:1759:31: error: call to implicitly-deleted copy constructor of 'std::__1::unique_ptr<int, std::__1::default_delete<int> >'\n",
    "            ::new((void*)__p) _Up(_VSTD::forward<_Args>(__args)...);\n",
    "                              ^   ~~~~~~~~~~~~~~~~~~~~~~~~~~~~~\n",
    "/Users/sean-parent/miniconda3/envs/notebook/include/c++/v1/memory:1670:18: note: in instantiation of function template specialization 'std::__1::allocator<std::__1::unique_ptr<int,\n",
    "      std::__1::default_delete<int> > >::construct<std::__1::unique_ptr<int, std::__1::default_delete<int> >,\n",
    "      std::__1::unique_ptr<int, std::__1::default_delete<int> > &>' requested here\n",
    "            {__a.construct(__p, _VSTD::forward<_Args>(__args)...);}\n",
    "                 ^\n",
    "/Users/sean-parent/miniconda3/envs/notebook/include/c++/v1/memory:1516:14: note: in instantiation of function template specialization\n",
    "      'std::__1::allocator_traits<std::__1::allocator<std::__1::unique_ptr<int, std::__1::default_delete<int> > >\n",
    "      >::__construct<std::__1::unique_ptr<int, std::__1::default_delete<int> >, std::__1::unique_ptr<int,\n",
    "      std::__1::default_delete<int> > &>' requested here\n",
    "            {__construct(__has_construct<allocator_type, _Tp*, _Args...>(),\n",
    "             ^\n",
    "/Users/sean-parent/miniconda3/envs/notebook/include/c++/v1/memory:1600:17: note: in instantiation of function template specialization\n",
    "      'std::__1::allocator_traits<std::__1::allocator<std::__1::unique_ptr<int, std::__1::default_delete<int> > >\n",
    "      >::construct<std::__1::unique_ptr<int, std::__1::default_delete<int> >, std::__1::unique_ptr<int,\n",
    "      std::__1::default_delete<int> > &>' requested here\n",
    "                construct(__a, _VSTD::__to_raw_pointer(__begin2), *__begin1);\n",
    "                ^\n",
    "/Users/sean-parent/miniconda3/envs/notebook/include/c++/v1/vector:1019:21: note: in instantiation of function template specialization\n",
    "      'std::__1::allocator_traits<std::__1::allocator<std::__1::unique_ptr<int, std::__1::default_delete<int> > >\n",
    "      >::__construct_range_forward<std::__1::unique_ptr<int, std::__1::default_delete<int> > *,\n",
    "      std::__1::unique_ptr<int, std::__1::default_delete<int> > *>' requested here\n",
    "    __alloc_traits::__construct_range_forward(__a, __first, __last, this->__end_);\n",
    "                    ^\n",
    "/Users/sean-parent/miniconda3/envs/notebook/include/c++/v1/vector:1202:9: note: in instantiation of function template specialization 'std::__1::vector<std::__1::unique_ptr<int,\n",
    "      std::__1::default_delete<int> >, std::__1::allocator<std::__1::unique_ptr<int, std::__1::default_delete<int> >\n",
    "      > >::__construct_at_end<std::__1::unique_ptr<int, std::__1::default_delete<int> > *>' requested here\n",
    "        __construct_at_end(__x.__begin_, __x.__end_, __n);\n",
    "        ^\n",
    "input_line_29:4:33: note: in instantiation of member function 'std::__1::vector<std::__1::unique_ptr<int, std::__1::default_delete<int> >,\n",
    "      std::__1::allocator<std::__1::unique_ptr<int, std::__1::default_delete<int> > > >::vector' requested here\n",
    "    vector<unique_ptr<int>> b = a;\n",
    "                                ^\n",
    "/Users/sean-parent/miniconda3/envs/notebook/include/c++/v1/memory:2388:3: note: copy constructor is implicitly deleted because 'unique_ptr<int, std::__1::default_delete<int> >' has a user-declared\n",
    "      move constructor\n",
    "  unique_ptr(unique_ptr&& __u) noexcept\n",
    "  ^\n",
    "Interpreter Error: \n",
    "```"
   ]
  },
  {
   "cell_type": "markdown",
   "id": "varying-ethernet",
   "metadata": {
    "slideshow": {
     "slide_type": "slide"
    }
   },
   "source": [
    "- To make matters worse, we cannot test if `vector` is copyable or not"
   ]
  },
  {
   "cell_type": "code",
   "execution_count": 21,
   "id": "challenging-olive",
   "metadata": {
    "execution": {
     "iopub.execute_input": "2021-06-28T16:55:57.502290Z",
     "iopub.status.busy": "2021-06-28T16:55:57.501838Z",
     "iopub.status.idle": "2021-06-28T16:55:57.513503Z",
     "shell.execute_reply": "2021-06-28T16:55:57.513205Z"
    },
    "slideshow": {
     "slide_type": "fragment"
    }
   },
   "outputs": [
    {
     "name": "stdout",
     "output_type": "stream",
     "text": [
      "true\n"
     ]
    }
   ],
   "source": [
    "{\n",
    "    vector<unique_ptr<int>> a;\n",
    "    cout << boolalpha << is_copy_constructible_v<decltype(a)> << endl;\n",
    "}"
   ]
  },
  {
   "cell_type": "markdown",
   "id": "numeric-comparison",
   "metadata": {
    "slideshow": {
     "slide_type": "slide"
    }
   },
   "source": [
    "- This is because the copy-constructor for `vector` is declared, but it will fail to instanciate\n",
    "    - There is currently no good way to SFINAE the a copy constructor\n",
    "        - To \"fix\" this would require multiple specializations of `vector`\n",
    "    - This is a defect in the language/library that _should_ be fixed with concepts\n",
    "   "
   ]
  },
  {
   "cell_type": "markdown",
   "id": "helpful-theorem",
   "metadata": {
    "slideshow": {
     "slide_type": "-"
    }
   },
   "source": [
    "```cpp\n",
    "    vector(const vector&)\n",
    "    requires is_copy_constructible_v<T>;\n",
    "```"
   ]
  },
  {
   "cell_type": "raw",
   "id": "prime-masters",
   "metadata": {
    "slideshow": {
     "slide_type": "fragment"
    }
   },
   "source": [
    "As of C++11, the only requirement on `T` is that it is _Erasable_ (Destructible)"
   ]
  },
  {
   "cell_type": "code",
   "execution_count": 22,
   "id": "informal-discretion",
   "metadata": {
    "execution": {
     "iopub.execute_input": "2021-06-28T16:55:57.515262Z",
     "iopub.status.busy": "2021-06-28T16:55:57.514860Z",
     "iopub.status.idle": "2021-06-28T16:55:57.528770Z",
     "shell.execute_reply": "2021-06-28T16:55:57.528418Z"
    },
    "slideshow": {
     "slide_type": "slide"
    }
   },
   "outputs": [],
   "source": [
    "{\n",
    "    class useless {\n",
    "    public:        \n",
    "        useless() = default;\n",
    "        \n",
    "        useless(const useless&) noexcept = delete;\n",
    "        useless(useless&&) = delete;\n",
    "        \n",
    "        useless& operator=(const useless&) = delete;\n",
    "        useless& operator=(useless&&) noexcept = delete;\n",
    "    };\n",
    "    \n",
    "    vector<useless> a(3); // a few useless things!\n",
    "}"
   ]
  },
  {
   "cell_type": "markdown",
   "id": "modified-roberts",
   "metadata": {
    "slideshow": {
     "slide_type": "slide"
    }
   },
   "source": [
    "- Creating models for all permuations of operations would be prohibitive\n",
    "    - Instead we can use static_asserts to ensure operations are not instanciated"
   ]
  },
  {
   "cell_type": "code",
   "execution_count": 23,
   "id": "quality-federation",
   "metadata": {
    "execution": {
     "iopub.execute_input": "2021-06-28T16:55:57.530618Z",
     "iopub.status.busy": "2021-06-28T16:55:57.530120Z",
     "iopub.status.idle": "2021-06-28T16:55:57.531403Z",
     "shell.execute_reply": "2021-06-28T16:55:57.531138Z"
    },
    "slideshow": {
     "slide_type": "slide"
    }
   },
   "outputs": [],
   "source": [
    "namespace {\n",
    "\n",
    "enum operations { copy_constructible = 1 << 0, equality_comparable = 1 << 1 };\n",
    "\n",
    "template <operations Ops>\n",
    "struct annotate_2 {\n",
    "    int _value{0};\n",
    "\n",
    "    annotate_2(int value) : _value(value) {}\n",
    "\n",
    "    annotate_2(const annotate_2& x) : _value{x._value} {\n",
    "        static_assert(Ops & copy_constructible);\n",
    "    }\n",
    "\n",
    "    friend inline bool operator==(const annotate_2& x, const annotate_2& y) {\n",
    "        static_assert(Ops & equality_comparable);\n",
    "        ++_equality;\n",
    "        return x._value == y._value;\n",
    "    }\n",
    "};\n",
    "\n",
    "} // namespace"
   ]
  },
  {
   "cell_type": "code",
   "execution_count": 24,
   "id": "stainless-width",
   "metadata": {
    "execution": {
     "iopub.execute_input": "2021-06-28T16:55:57.532952Z",
     "iopub.status.busy": "2021-06-28T16:55:57.532648Z",
     "iopub.status.idle": "2021-06-28T16:55:57.555345Z",
     "shell.execute_reply": "2021-06-28T16:55:57.555073Z"
    },
    "slideshow": {
     "slide_type": "slide"
    }
   },
   "outputs": [],
   "source": [
    "{\n",
    "    \n",
    "using annotate_t = annotate_2<copy_constructible>;\n",
    "\n",
    "vector<annotate_t> x;\n",
    "x.push_back(annotate_t(42));\n",
    "\n",
    "}"
   ]
  },
  {
   "cell_type": "markdown",
   "id": "complicated-coordinator",
   "metadata": {
    "slideshow": {
     "slide_type": "slide"
    }
   },
   "source": [
    "```cpp\n",
    "{\n",
    "    \n",
    "using annotate_t = annotate_2<copy_constructible>;\n",
    "\n",
    "vector<annotate_t> a, b;\n",
    "\n",
    "cout << (a == b) << endl;\n",
    "\n",
    "}\n",
    "```"
   ]
  },
  {
   "cell_type": "markdown",
   "id": "complicated-authentication",
   "metadata": {
    "slideshow": {
     "slide_type": "fragment"
    }
   },
   "source": [
    "```\n",
    "input_line_30:11:9: error: static_assert failed\n",
    "        static_assert(Ops & equality_comparable);\n",
    "        ^             ~~~~~~~~~~~~~~~~~~~~~~~~~\n",
    "/Users/sean-parent/miniconda3/envs/notebook/include/c++/v1/algorithm:682:71: note: in instantiation of member function '(anonymous namespace)::operator==' requested here\n",
    "    bool operator()(const _T1& __x, const _T1& __y) const {return __x == __y;}\n",
    "                                                                      ^\n",
    "/Users/sean-parent/miniconda3/envs/notebook/include/c++/v1/algorithm:1337:19: note: in instantiation of function template specialization 'std::__1::equal<std::__1::__wrap_iter<const (anonymous\n",
    "      namespace)::annotate_2<(anonymous namespace)::operations::copy_constructible> *>, std::__1::__wrap_iter<const\n",
    "      (anonymous namespace)::annotate_2<(anonymous namespace)::operations::copy_constructible> *>,\n",
    "      std::__1::__equal_to<(anonymous namespace)::annotate_2<(anonymous namespace)::operations::copy_constructible>,\n",
    "      (anonymous namespace)::annotate_2<(anonymous namespace)::operations::copy_constructible> > >' requested here\n",
    "    return _VSTD::equal(__first1, __last1, __first2, __equal_to<__v1, __v2>());\n",
    "                  ^\n",
    "/Users/sean-parent/miniconda3/envs/notebook/include/c++/v1/vector:3301:41: note: in instantiation of function template specialization 'std::__1::equal<std::__1::__wrap_iter<const (anonymous\n",
    "      namespace)::annotate_2<(anonymous namespace)::operations::copy_constructible> *>, std::__1::__wrap_iter<const\n",
    "      (anonymous namespace)::annotate_2<(anonymous namespace)::operations::copy_constructible> *> >' requested here\n",
    "    return __sz == __y.size() && _VSTD::equal(__x.begin(), __x.end(), __y.begin());\n",
    "                                        ^\n",
    "input_line_32:6:12: note: in instantiation of function template specialization 'std::__1::operator==<(anonymous\n",
    "      namespace)::annotate_2<(anonymous namespace)::operations::copy_constructible>, std::__1::allocator<(anonymous\n",
    "      namespace)::annotate_2<(anonymous namespace)::operations::copy_constructible> > >' requested here\n",
    "cout << (a == b) << endl;\n",
    "           ^\n",
    "Interpreter Error: \n",
    "```"
   ]
  },
  {
   "cell_type": "markdown",
   "id": "prospective-ideal",
   "metadata": {
    "slideshow": {
     "slide_type": "slide"
    }
   },
   "source": [
    "## Homework\n",
    "\n",
    "- Do the exercises\n",
    "- Write a program that can iterate through the combinations of operations for `annotate_2` and only test those operations\n",
    "    - Hint: this is going to require metaprogramming and/or constexpr"
   ]
  }
 ],
 "metadata": {
  "jupytext": {
   "formats": "ipynb,md"
  },
  "kernelspec": {
   "display_name": "C++17",
   "language": "C++17",
   "name": "xcpp17"
  },
  "language_info": {
   "codemirror_mode": "text/x-c++src",
   "file_extension": ".cpp",
   "mimetype": "text/x-c++src",
   "name": "c++",
   "version": "17"
  }
 },
 "nbformat": 4,
 "nbformat_minor": 5
}

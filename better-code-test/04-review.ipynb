{
 "cells": [
  {
   "cell_type": "code",
   "execution_count": 1,
   "id": "entitled-service",
   "metadata": {
    "execution": {
     "iopub.execute_input": "2021-06-28T16:56:01.300837Z",
     "iopub.status.busy": "2021-06-28T16:56:01.300203Z",
     "iopub.status.idle": "2021-06-28T16:56:01.385833Z",
     "shell.execute_reply": "2021-06-28T16:56:01.385413Z"
    },
    "slideshow": {
     "slide_type": "skip"
    }
   },
   "outputs": [],
   "source": [
    "#include \"../common.hpp\""
   ]
  },
  {
   "cell_type": "markdown",
   "id": "charitable-experience",
   "metadata": {
    "slideshow": {
     "slide_type": "slide"
    }
   },
   "source": [
    "# Review\n",
    "\n",
    "- How to construct a test case"
   ]
  },
  {
   "cell_type": "markdown",
   "id": "duplicate-litigation",
   "metadata": {
    "slideshow": {
     "slide_type": "slide"
    }
   },
   "source": [
    "## Do your homework\n",
    "\n",
    "- Identify _preconditions_ (what is expected)\n",
    "     - Including implicit preconditions in the basic interface"
   ]
  },
  {
   "cell_type": "markdown",
   "id": "inappropriate-energy",
   "metadata": {
    "slideshow": {
     "slide_type": "fragment"
    }
   },
   "source": [
    "- Example from documentation for `vector::back`\n",
    "> Calling `back` on an empty container is undefined."
   ]
  },
  {
   "cell_type": "markdown",
   "id": "expired-planner",
   "metadata": {
    "slideshow": {
     "slide_type": "slide"
    }
   },
   "source": [
    "- If the API is a template, what are the requirements for the type arguments?\n",
    "    - Including the axioms of any operations on the type"
   ]
  },
  {
   "cell_type": "markdown",
   "id": "catholic-browser",
   "metadata": {
    "slideshow": {
     "slide_type": "fragment"
    }
   },
   "source": [
    "- Example from documentation for `vector`\n",
    "\n",
    "> The requirements that are imposed on the elements depend on the actual operations performed on the container. Generally, it is required that element type meets the requirements of `Erasable`, but many member functions impose stricter requirements. This container (but not its members) can be instantiated with an incomplete element type if the allocator satisfies the allocator completeness requirements."
   ]
  },
  {
   "cell_type": "markdown",
   "id": "requested-tuning",
   "metadata": {
    "slideshow": {
     "slide_type": "fragment"
    }
   },
   "source": [
    "- From the general library requirements\n",
    "\n",
    "> `X(a)` [copy construction], _Requires:_ `T` is `CopyInsertable` into `X`"
   ]
  },
  {
   "cell_type": "markdown",
   "id": "expired-passport",
   "metadata": {
    "slideshow": {
     "slide_type": "slide"
    }
   },
   "source": [
    "- Identify _postconditions_ (what is guaranteed) "
   ]
  },
  {
   "cell_type": "markdown",
   "id": "foreign-premises",
   "metadata": {
    "slideshow": {
     "slide_type": "fragment"
    }
   },
   "source": [
    "- From documentation for `vector`\n",
    "\n",
    "> `a.back()`; _Operational semantics:_\n",
    "```cpp\n",
    "{ auto tmp = a.end(); --tmp; return *tmp; }\n",
    "```"
   ]
  },
  {
   "cell_type": "markdown",
   "id": "south-radio",
   "metadata": {
    "slideshow": {
     "slide_type": "fragment"
    }
   },
   "source": [
    "- From definition of _`CopyInsertable`_\n",
    "\n",
    "> The value of `v` is unchanged and is equivalent to `*p`"
   ]
  },
  {
   "cell_type": "markdown",
   "id": "peripheral-optimum",
   "metadata": {
    "slideshow": {
     "slide_type": "fragment"
    }
   },
   "source": [
    "- Note that postconditions can extend to affiliated objects\n",
    "\n",
    "> After container move construction, references, pointers, and iterators (other than the end iterator) to `other` remain valid, but refer to elements that are now in `*this`."
   ]
  },
  {
   "cell_type": "markdown",
   "id": "infinite-burns",
   "metadata": {
    "slideshow": {
     "slide_type": "slide"
    }
   },
   "source": [
    "- Identify _invariants_ (what always holds)"
   ]
  },
  {
   "cell_type": "markdown",
   "id": "acoustic-apple",
   "metadata": {
    "slideshow": {
     "slide_type": "fragment"
    }
   },
   "source": [
    "- Some may be implicit and follow from definition\n",
    "    - `!(capacity() < size())`\n",
    "    - `distance(begin(), end()) == size()`"
   ]
  },
  {
   "cell_type": "markdown",
   "id": "beautiful-weekly",
   "metadata": {
    "slideshow": {
     "slide_type": "slide"
    }
   },
   "source": [
    "- Have a basic mental model of the implementation"
   ]
  },
  {
   "cell_type": "markdown",
   "id": "arabic-print",
   "metadata": {
    "slideshow": {
     "slide_type": "slide"
    }
   },
   "source": [
    "![](./img/vector-anatomy.svg)"
   ]
  },
  {
   "cell_type": "markdown",
   "id": "differential-bailey",
   "metadata": {
    "slideshow": {
     "slide_type": "slide"
    }
   },
   "source": [
    "## Design your tests"
   ]
  },
  {
   "cell_type": "markdown",
   "id": "hydraulic-distinction",
   "metadata": {
    "slideshow": {
     "slide_type": "fragment"
    }
   },
   "source": [
    "- Determine a representative set of values (and types)\n",
    "    - Values must satisfy preconditions\n",
    "    - Different operations may require different values\n",
    "    - Include values that trigger an inflection in preconditions, postconditions, and implementation"
   ]
  },
  {
   "cell_type": "markdown",
   "id": "academic-syndication",
   "metadata": {
    "slideshow": {
     "slide_type": "fragment"
    }
   },
   "source": [
    "- Tagging values is useful to identify known properties\n",
    "    - Equality\n",
    "    - Orderings\n",
    "    - Concepts (Copyable vs. Movable)"
   ]
  },
  {
   "cell_type": "markdown",
   "id": "asian-chorus",
   "metadata": {
    "slideshow": {
     "slide_type": "slide"
    }
   },
   "source": [
    "- Execute with all meaningful combinations of representative values\n",
    "    - include aliased values where allowed\n",
    "    - and duplicate values\n",
    "\n",
    "- Check postconditions, axioms, and invariants after API execution\n",
    "- Use counters to test complexity and external failure points\n",
    "- Use a model type with `static_assert` to test type requirements"
   ]
  },
  {
   "cell_type": "markdown",
   "id": "sought-agenda",
   "metadata": {
    "slideshow": {
     "slide_type": "slide"
    }
   },
   "source": [
    "## Anatomy of a test case for a template"
   ]
  },
  {
   "cell_type": "markdown",
   "id": "occasional-beverage",
   "metadata": {
    "slideshow": {
     "slide_type": "fragment"
    }
   },
   "source": [
    "- Create a `model` type which counts operations to measure complexity"
   ]
  },
  {
   "cell_type": "code",
   "execution_count": 2,
   "id": "equipped-breakdown",
   "metadata": {
    "execution": {
     "iopub.execute_input": "2021-06-28T16:56:01.388084Z",
     "iopub.status.busy": "2021-06-28T16:56:01.387703Z",
     "iopub.status.idle": "2021-06-28T16:56:01.389445Z",
     "shell.execute_reply": "2021-06-28T16:56:01.389012Z"
    },
    "slideshow": {
     "slide_type": "fragment"
    }
   },
   "outputs": [],
   "source": [
    "struct {\n",
    "    size_t _equality;\n",
    "    size_t _ctor;\n",
    "    size_t _move_ctor;\n",
    "    size_t _copy_ctor;\n",
    "    size_t _copy_assignment;\n",
    "    size_t _move_assignment;\n",
    "    size_t _dtor;\n",
    "} _counters;"
   ]
  },
  {
   "cell_type": "markdown",
   "id": "empirical-momentum",
   "metadata": {
    "slideshow": {
     "slide_type": "slide"
    }
   },
   "source": [
    "- The `model` type is parameterized for the required operations"
   ]
  },
  {
   "cell_type": "code",
   "execution_count": 3,
   "id": "behavioral-christianity",
   "metadata": {
    "execution": {
     "iopub.execute_input": "2021-06-28T16:56:01.391061Z",
     "iopub.status.busy": "2021-06-28T16:56:01.390696Z",
     "iopub.status.idle": "2021-06-28T16:56:01.392108Z",
     "shell.execute_reply": "2021-06-28T16:56:01.391780Z"
    },
    "slideshow": {
     "slide_type": "fragment"
    }
   },
   "outputs": [],
   "source": [
    "enum operations {\n",
    "    moveable = 1 << 0,\n",
    "    copyable = 1 << 1,\n",
    "    equality_comparable = 1 << 2\n",
    "};"
   ]
  },
  {
   "cell_type": "markdown",
   "id": "pleasant-omega",
   "metadata": {
    "slideshow": {
     "slide_type": "slide"
    }
   },
   "source": [
    "- The model tests for valid operation use"
   ]
  },
  {
   "cell_type": "code",
   "execution_count": 4,
   "id": "signed-mambo",
   "metadata": {
    "execution": {
     "iopub.execute_input": "2021-06-28T16:56:01.393611Z",
     "iopub.status.busy": "2021-06-28T16:56:01.393174Z",
     "iopub.status.idle": "2021-06-28T16:56:01.395529Z",
     "shell.execute_reply": "2021-06-28T16:56:01.395191Z"
    },
    "run_control": {
     "marked": false
    },
    "slideshow": {
     "slide_type": "slide"
    }
   },
   "outputs": [],
   "source": [
    "template <operations Ops>\n",
    "struct model {\n",
    "    int _value = 0; // 0 flags partially formed\n",
    "\n",
    "    explicit model(int x) : _value(x) { ++_counters._ctor; }\n",
    "    model(model&& x) noexcept : _value(x._value) {\n",
    "        static_assert(Ops & moveable);\n",
    "        x._value = 0;\n",
    "        ++_counters._move_ctor;\n",
    "    }\n",
    "    model& operator=(model&& x) {\n",
    "        static_assert(Ops & moveable);\n",
    "        REQUIRE(x._value || !(x._value || _value));\n",
    "        _value = x._value;\n",
    "        x._value = 0;\n",
    "        ++_counters._move_assignment;\n",
    "        return *this;\n",
    "    }\n",
    "    //...\n",
    "    static constexpr auto equality = [](const auto& a, const auto& b) {\n",
    "        return a._value == b._value;\n",
    "    };\n",
    "};"
   ]
  },
  {
   "cell_type": "markdown",
   "id": "magnetic-administration",
   "metadata": {
    "slideshow": {
     "slide_type": "slide"
    }
   },
   "source": [
    "- Write a test for the class invariants"
   ]
  },
  {
   "cell_type": "code",
   "execution_count": 5,
   "id": "unknown-geology",
   "metadata": {
    "execution": {
     "iopub.execute_input": "2021-06-28T16:56:01.397176Z",
     "iopub.status.busy": "2021-06-28T16:56:01.396803Z",
     "iopub.status.idle": "2021-06-28T16:56:01.398552Z",
     "shell.execute_reply": "2021-06-28T16:56:01.398215Z"
    },
    "slideshow": {
     "slide_type": "fragment"
    }
   },
   "outputs": [],
   "source": [
    "template <class C>\n",
    "void test_invariants(const C& a) {\n",
    "    REQUIRE(a.empty() == (a.begin() == a.end()));\n",
    "    REQUIRE(distance(a.begin(), a.end()) == a.size());\n",
    "    REQUIRE(!(a.capacity() < a.size()));\n",
    "}"
   ]
  },
  {
   "cell_type": "markdown",
   "id": "informal-stopping",
   "metadata": {
    "slideshow": {
     "slide_type": "slide"
    }
   },
   "source": [
    "- Write a test for each operation\n",
    "    - Test invariants after a mutable operation\n",
    "    - Test postconditions\n",
    "    - Test complexity"
   ]
  },
  {
   "cell_type": "code",
   "execution_count": 6,
   "id": "gothic-amendment",
   "metadata": {
    "execution": {
     "iopub.execute_input": "2021-06-28T16:56:01.400132Z",
     "iopub.status.busy": "2021-06-28T16:56:01.399743Z",
     "iopub.status.idle": "2021-06-28T16:56:01.402231Z",
     "shell.execute_reply": "2021-06-28T16:56:01.401871Z"
    },
    "slideshow": {
     "slide_type": "slide"
    }
   },
   "outputs": [],
   "source": [
    "template <class C, class I, class T>\n",
    "void test_move_insert(\n",
    "    const C& initial, const T& initial_value, C& container, I position, T value) {\n",
    "    auto counters = _counters;\n",
    "    bool has_capacity = container.size() < container.capacity();\n",
    "    auto ip = begin(initial) + distance(begin(container), position);\n",
    "\n",
    "    auto p = container.insert(position, move(value));\n",
    "    // Test invariants\n",
    "    test_invariants(container);\n",
    "    // Test postconditions\n",
    "    REQUIRE(equal(begin(initial), ip, begin(container), p, T::equality));\n",
    "    REQUIRE(equal(ip, end(initial), next(p), end(container), T::equality));\n",
    "    REQUIRE(T::equality(*p, initial_value));\n",
    "    if (has_capacity) {\n",
    "        REQUIRE(p == position);\n",
    "    }\n",
    "    // Test complexity\n",
    "    auto move_count =\n",
    "        (has_capacity ? distance(ip, end(initial)) : initial.size()) + 1;\n",
    "    REQUIRE((_counters._move_ctor - counters._move_ctor) <= move_count);\n",
    "}"
   ]
  },
  {
   "cell_type": "markdown",
   "id": "funded-consultation",
   "metadata": {
    "slideshow": {
     "slide_type": "slide"
    }
   },
   "source": [
    "- Write a driver to construct cases which exercise inflection points"
   ]
  },
  {
   "cell_type": "markdown",
   "id": "annual-africa",
   "metadata": {
    "slideshow": {
     "slide_type": "fragment"
    }
   },
   "source": [
    "- A helper function to generate vectors from an array with a given capacity"
   ]
  },
  {
   "cell_type": "code",
   "execution_count": 7,
   "id": "limiting-strike",
   "metadata": {
    "execution": {
     "iopub.execute_input": "2021-06-28T16:56:01.403660Z",
     "iopub.status.busy": "2021-06-28T16:56:01.403237Z",
     "iopub.status.idle": "2021-06-28T16:56:01.404365Z",
     "shell.execute_reply": "2021-06-28T16:56:01.404020Z"
    },
    "slideshow": {
     "slide_type": "fragment"
    }
   },
   "outputs": [],
   "source": [
    "template <class C, class T>\n",
    "auto build_vector(const T& a, size_t capacity) {\n",
    "    C r;\n",
    "    r.reserve(capacity);\n",
    "    for (auto& e : a)\n",
    "        r.emplace_back(e);\n",
    "    return r;\n",
    "}"
   ]
  },
  {
   "cell_type": "markdown",
   "id": "loved-quest",
   "metadata": {
    "slideshow": {
     "slide_type": "slide"
    }
   },
   "source": [
    "- A driver to generate test cases and execute the test"
   ]
  },
  {
   "cell_type": "code",
   "execution_count": 8,
   "id": "second-baptist",
   "metadata": {
    "execution": {
     "iopub.execute_input": "2021-06-28T16:56:01.405829Z",
     "iopub.status.busy": "2021-06-28T16:56:01.405464Z",
     "iopub.status.idle": "2021-06-28T16:56:01.439108Z",
     "shell.execute_reply": "2021-06-28T16:56:01.438715Z"
    },
    "slideshow": {
     "slide_type": "slide"
    }
   },
   "outputs": [],
   "source": [
    "void test_move_insert_driver() {\n",
    "    using value_t = model<moveable>;\n",
    "    constexpr int a[] = {1, 2, 3};\n",
    "\n",
    "    auto v1 = build_vector<vector<value_t>>(a, size(a));\n",
    "    size_t positions[] = {0, size(a) / 2, size(a)}; // begin, middle, end\n",
    "    // insert each position without sufficient capacity\n",
    "    for (const auto& e : positions) {\n",
    "        auto v2 = build_vector<vector<value_t>>(a, size(a));\n",
    "        test_move_insert(v1, value_t{4}, v2, begin(v2) + e, value_t{4});\n",
    "    }\n",
    "    // insert each position with sufficient capacity\n",
    "    for (const auto& e : positions) {\n",
    "        auto v2 = build_vector<vector<value_t>>(a, size(a) + 1);\n",
    "        test_move_insert(v1, value_t{4}, v2, begin(v2) + e, value_t{4});\n",
    "    }\n",
    "    // insert into an empty vector\n",
    "    {\n",
    "        vector<value_t> v2;\n",
    "        test_move_insert(vector<value_t>(), value_t{4}, v2, begin(v2), value_t{4});\n",
    "    }\n",
    "}"
   ]
  },
  {
   "cell_type": "markdown",
   "id": "visible-closing",
   "metadata": {
    "slideshow": {
     "slide_type": "slide"
    }
   },
   "source": [
    "- Execute the tests"
   ]
  },
  {
   "cell_type": "code",
   "execution_count": 9,
   "id": "correct-prediction",
   "metadata": {
    "execution": {
     "iopub.execute_input": "2021-06-28T16:56:01.440700Z",
     "iopub.status.busy": "2021-06-28T16:56:01.440311Z",
     "iopub.status.idle": "2021-06-28T16:56:01.476898Z",
     "shell.execute_reply": "2021-06-28T16:56:01.476612Z"
    },
    "slideshow": {
     "slide_type": "fragment"
    }
   },
   "outputs": [],
   "source": [
    "test_move_insert_driver();"
   ]
  },
  {
   "cell_type": "markdown",
   "id": "suitable-reaction",
   "metadata": {
    "slideshow": {
     "slide_type": "slide"
    }
   },
   "source": [
    "## Creating general test cases\n",
    "\n",
    "- For many operations and types you can write generic test case\n",
    "    - copy, move, equality, comparisons\n",
    "    - iterators, containers\n",
    "    - numerics\n",
    "\n",
    "- Refine how you manage tables of representative values so you can reuse the structure with different tables for different tests\n",
    "\n",
    "- For a given type, you can write a single test for invariants and use it after each operation"
   ]
  },
  {
   "cell_type": "markdown",
   "id": "dramatic-patrick",
   "metadata": {
    "slideshow": {
     "slide_type": "slide"
    }
   },
   "source": [
    "## Designing a testable interface\n",
    "\n",
    "- Write complete and _regular_ types\n",
    "- When the semantics are the same, use the same name\n",
    "- Keep class interfaces thin\n",
    "    - Seek a minimal _efficient basis_\n",
    "- Minimize dependencies\n",
    "    - Try to write each piece of code as a stand alone library\n",
    "    - Use template arguments, callbacks, and delegates to factor out dependencies"
   ]
  },
  {
   "cell_type": "markdown",
   "id": "decimal-death",
   "metadata": {
    "slideshow": {
     "slide_type": "slide"
    }
   },
   "source": [
    "## Upcoming\n",
    "\n",
    "- September 19th, Jared Wyles will guest lecture on clang-format and clang-tidy tools\n",
    "- October 3rd, Lecture on Generic Programming\n",
    "- October 17th, No class (I'll be at Pacific++ in Sydney)\n",
    "- October 31st, Start Better Code section (finally!)"
   ]
  }
 ],
 "metadata": {
  "jupytext": {
   "formats": "ipynb,md"
  },
  "kernelspec": {
   "display_name": "C++17",
   "language": "C++17",
   "name": "xcpp17"
  },
  "language_info": {
   "codemirror_mode": "text/x-c++src",
   "file_extension": ".cpp",
   "mimetype": "text/x-c++src",
   "name": "c++",
   "version": "17"
  }
 },
 "nbformat": 4,
 "nbformat_minor": 5
}

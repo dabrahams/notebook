{
 "cells": [
  {
   "cell_type": "code",
   "execution_count": 1,
   "id": "valuable-grove",
   "metadata": {
    "execution": {
     "iopub.execute_input": "2021-06-28T16:55:59.171737Z",
     "iopub.status.busy": "2021-06-28T16:55:59.170864Z",
     "iopub.status.idle": "2021-06-28T16:55:59.257508Z",
     "shell.execute_reply": "2021-06-28T16:55:59.256986Z"
    },
    "slideshow": {
     "slide_type": "skip"
    }
   },
   "outputs": [],
   "source": [
    "#include \"../common.hpp\""
   ]
  },
  {
   "cell_type": "markdown",
   "id": "elegant-appliance",
   "metadata": {
    "slideshow": {
     "slide_type": "skip"
    },
    "toc": true
   },
   "source": [
    "<h1>Table of Contents<span class=\"tocSkip\"></span></h1>\n",
    "<div class=\"toc\" style=\"margin-top: 1em;\"><ul class=\"toc-item\"><li><span><a href=\"#Contracts\" data-toc-modified-id=\"Contracts-1\"><span class=\"toc-item-num\">1&nbsp;&nbsp;</span>Contracts</a></span><ul class=\"toc-item\"><li><span><a href=\"#History\" data-toc-modified-id=\"History-1.1\"><span class=\"toc-item-num\">1.1&nbsp;&nbsp;</span>History</a></span></li><li><span><a href=\"#Preconditions\" data-toc-modified-id=\"Preconditions-1.2\"><span class=\"toc-item-num\">1.2&nbsp;&nbsp;</span>Preconditions</a></span><ul class=\"toc-item\"><li><span><a href=\"#Example--operator[]-and-at()\" data-toc-modified-id=\"Example--operator[]-and-at()-1.2.1\"><span class=\"toc-item-num\">1.2.1&nbsp;&nbsp;</span>Example  <code>operator[]</code> and <code>at()</code></a></span></li><li><span><a href=\"#Basic-Interface-Preconditions\" data-toc-modified-id=\"Basic-Interface-Preconditions-1.2.2\"><span class=\"toc-item-num\">1.2.2&nbsp;&nbsp;</span>Basic Interface Preconditions</a></span></li></ul></li><li><span><a href=\"#Postconditions\" data-toc-modified-id=\"Postconditions-1.3\"><span class=\"toc-item-num\">1.3&nbsp;&nbsp;</span>Postconditions</a></span><ul class=\"toc-item\"><li><span><a href=\"#Example-clear()\" data-toc-modified-id=\"Example-clear()-1.3.1\"><span class=\"toc-item-num\">1.3.1&nbsp;&nbsp;</span>Example <code>clear()</code></a></span></li><li><span><a href=\"#Basic-Interface-Postconditions\" data-toc-modified-id=\"Basic-Interface-Postconditions-1.3.2\"><span class=\"toc-item-num\">1.3.2&nbsp;&nbsp;</span>Basic Interface Postconditions</a></span><ul class=\"toc-item\"><li><span><a href=\"#Lifetime-of-reference-results\" data-toc-modified-id=\"Lifetime-of-reference-results-1.3.2.1\"><span class=\"toc-item-num\">1.3.2.1&nbsp;&nbsp;</span>Lifetime of reference results</a></span></li><li><span><a href=\"#Unsequenced-modification-and-conflicting-postconditions\" data-toc-modified-id=\"Unsequenced-modification-and-conflicting-postconditions-1.3.2.2\"><span class=\"toc-item-num\">1.3.2.2&nbsp;&nbsp;</span>Unsequenced modification and conflicting postconditions</a></span></li><li><span><a href=\"#Exception-Guarantees\" data-toc-modified-id=\"Exception-Guarantees-1.3.2.3\"><span class=\"toc-item-num\">1.3.2.3&nbsp;&nbsp;</span>Exception Guarantees</a></span></li></ul></li></ul></li><li><span><a href=\"#Invariants\" data-toc-modified-id=\"Invariants-1.4\"><span class=\"toc-item-num\">1.4&nbsp;&nbsp;</span>Invariants</a></span></li><li><span><a href=\"#Security\" data-toc-modified-id=\"Security-1.5\"><span class=\"toc-item-num\">1.5&nbsp;&nbsp;</span>Security</a></span></li></ul></li></ul></div>"
   ]
  },
  {
   "cell_type": "markdown",
   "id": "digital-alfred",
   "metadata": {
    "slideshow": {
     "slide_type": "slide"
    }
   },
   "source": [
    "# Contracts\n",
    "## History\n",
    "\n",
    "- _Design by contract_ comes from Bertrand Meyer's work on Eiffel\n",
    "- Described in his book [Object-Oriented Software Construction](https://en.wikipedia.org/wiki/Object-Oriented_Software_Construction)\n",
    "- The work builds on _Hoare logic_ and Dijkstra's _predicate transformer semantics_"
   ]
  },
  {
   "cell_type": "markdown",
   "id": "happy-gravity",
   "metadata": {
    "slideshow": {
     "slide_type": "fragment"
    }
   },
   "source": [
    "- Hoare logic is also known as _Floyd-Hoare logic_, Floyd being Robert Floyd who was Jim&nbsp;King's advisor"
   ]
  },
  {
   "cell_type": "markdown",
   "id": "quality-description",
   "metadata": {
    "slideshow": {
     "slide_type": "slide"
    }
   },
   "source": [
    "- A contract describes:\n",
    "    - Operation pre- and postconditions\n",
    "    - Class invariants\n",
    "        - Class invariants are postconditions common to all class operations"
   ]
  },
  {
   "cell_type": "markdown",
   "id": "recorded-heading",
   "metadata": {
    "slideshow": {
     "slide_type": "fragment"
    }
   },
   "source": [
    "- A contract is a _Hoare triple_\n",
    "    - Expectation (precondition)\n",
    "    - Guarantee (postcondition)\n",
    "    - Maintains (invariants)"
   ]
  },
  {
   "cell_type": "markdown",
   "id": "varying-arrow",
   "metadata": {
    "slideshow": {
     "slide_type": "slide"
    }
   },
   "source": [
    "## Preconditions\n",
    "- The preconditions of a function are what the function expects\n",
    "    - Violation of a precondition is undefined behavior\n",
    "    - A precondition can not be tested\n",
    "        - Instead we test within the domain of the precondition\n",
    "    - _Some_ preconditions may be _asserted_ by the function\n",
    "- It is not practical to assert all preconditions\n",
    "    - Examples of preconditions which are impractical to test\n",
    "        - A pair of pointers specify a valid range\n",
    "        - A comparison function defines a strict-weak-ordering\n",
    "- When writing test cases, consider the inflection cases for representative values"
   ]
  },
  {
   "cell_type": "markdown",
   "id": "foster-world",
   "metadata": {
    "slideshow": {
     "slide_type": "slide"
    }
   },
   "source": [
    "### Example  `operator[]` and `at()`\n",
    "- `vector::operator[]` has _strong_ preconditions\n",
    "    - If the index is out of range, behavior is undefined\n",
    "    - You cannot test behavior for an out-of-range index\n",
    "- `vector::at()` has _weaker_ preconditions\n",
    "    - If the index is out of range it will throw `std::out_of_range`\n",
    "    - The boundary between an index within the range and one outside is an inflection point\n",
    "    "
   ]
  },
  {
   "cell_type": "code",
   "execution_count": 2,
   "id": "visible-staff",
   "metadata": {
    "execution": {
     "iopub.execute_input": "2021-06-28T16:55:59.259537Z",
     "iopub.status.busy": "2021-06-28T16:55:59.259107Z",
     "iopub.status.idle": "2021-06-28T16:55:59.283371Z",
     "shell.execute_reply": "2021-06-28T16:55:59.282190Z"
    },
    "slideshow": {
     "slide_type": "slide"
    }
   },
   "outputs": [
    {
     "name": "stderr",
     "output_type": "stream",
     "text": [
      "FAILED: REQUIRE_THROWS_AS("
     ]
    },
    {
     "name": "stderr",
     "output_type": "stream",
     "text": [
      "x.at(2)"
     ]
    },
    {
     "name": "stderr",
     "output_type": "stream",
     "text": [
      ")\n"
     ]
    }
   ],
   "source": [
    "{\n",
    "    vector<int> x{0, 1, 2};\n",
    "    REQUIRE_THROWS_AS(x.at(2), std::out_of_range);\n",
    "}"
   ]
  },
  {
   "cell_type": "code",
   "execution_count": 3,
   "id": "quality-charlotte",
   "metadata": {
    "execution": {
     "iopub.execute_input": "2021-06-28T16:55:59.285210Z",
     "iopub.status.busy": "2021-06-28T16:55:59.284811Z",
     "iopub.status.idle": "2021-06-28T16:55:59.299665Z",
     "shell.execute_reply": "2021-06-28T16:55:59.299342Z"
    },
    "slideshow": {
     "slide_type": "fragment"
    }
   },
   "outputs": [],
   "source": [
    "{\n",
    "    vector<int> x{0, 1, 2};\n",
    "    REQUIRE_THROWS_AS(x.at(3), std::out_of_range);\n",
    "}"
   ]
  },
  {
   "cell_type": "markdown",
   "id": "charitable-marina",
   "metadata": {
    "slideshow": {
     "slide_type": "slide"
    }
   },
   "source": [
    "> **Exercise 3.1**  Write a table with representative values and expected results and a test for indexing."
   ]
  },
  {
   "cell_type": "markdown",
   "id": "fallen-entrepreneur",
   "metadata": {
    "slideshow": {
     "slide_type": "slide"
    }
   },
   "source": [
    "### Basic Interface Preconditions\n",
    "- The _basic interface_ is the implicit contract which goes without saying\n",
    "    - So much so that the standard doesn't fully specify the basic interface\n",
    "- There are the obvious basic preconditions\n",
    "    - You can't pass arbitrary memory cast to a particular type to a function\n",
    "    - The heap can't be corrupt\n",
    "    - There is sufficient stack space\n",
    "- There are also aspects that are more subtle"
   ]
  },
  {
   "cell_type": "code",
   "execution_count": 4,
   "id": "according-dealing",
   "metadata": {
    "execution": {
     "iopub.execute_input": "2021-06-28T16:55:59.301686Z",
     "iopub.status.busy": "2021-06-28T16:55:59.301346Z",
     "iopub.status.idle": "2021-06-28T16:55:59.324981Z",
     "shell.execute_reply": "2021-06-28T16:55:59.324261Z"
    },
    "slideshow": {
     "slide_type": "slide"
    }
   },
   "outputs": [
    {
     "name": "stdout",
     "output_type": "stream",
     "text": [
      "size: 4, capacity: 4\n"
     ]
    },
    {
     "name": "stdout",
     "output_type": "stream",
     "text": [
      "0 1 2 3 3 "
     ]
    }
   ],
   "source": [
    "{\n",
    "    vector<int> x = { 0, 1, 2, 3 };\n",
    "    cout << \"size: \" << x.size() << \", capacity: \" << x.capacity() << endl;;\n",
    "    x.push_back(x.back()); // OK?\n",
    "    for (const auto& e : x) cout << e << \" \";\n",
    "}"
   ]
  },
  {
   "cell_type": "markdown",
   "id": "sharp-silicon",
   "metadata": {
    "slideshow": {
     "slide_type": "fragment"
    }
   },
   "source": [
    "- The signature for `vector::back()` is:\n",
    "```cpp\n",
    "T& back();\n",
    "```\n",
    "- The signature for `vector::push_back()` is:\n",
    "```cpp\n",
    "void push_back(const T&);\n",
    "```"
   ]
  },
  {
   "cell_type": "markdown",
   "id": "convenient-reduction",
   "metadata": {
    "slideshow": {
     "slide_type": "slide"
    }
   },
   "source": [
    "![](./img/vector-anatomy.svg)"
   ]
  },
  {
   "cell_type": "markdown",
   "id": "light-queue",
   "metadata": {
    "slideshow": {
     "slide_type": "slide"
    }
   },
   "source": [
    "The expected preconditions of a `const T&` argument to a function, which may alias a value being modified by the function, is:\n",
    "- The argument is valid at the invocation\n",
    "- It is the called functions responsibility to copy, if necessary, to avoid problems from aliasing"
   ]
  },
  {
   "cell_type": "markdown",
   "id": "instant-magic",
   "metadata": {
    "slideshow": {
     "slide_type": "fragment"
    }
   },
   "source": [
    "- This is a _weak_ precondition"
   ]
  },
  {
   "cell_type": "markdown",
   "id": "verbal-feelings",
   "metadata": {
    "slideshow": {
     "slide_type": "fragment"
    }
   },
   "source": [
    "- This is the same situation as _self assignment_\n",
    "```cpp\n",
    "a = a; // must be a no-op\n",
    "```"
   ]
  },
  {
   "cell_type": "markdown",
   "id": "spectacular-coaching",
   "metadata": {
    "slideshow": {
     "slide_type": "slide"
    }
   },
   "source": [
    "> **Exercise 3.2**  Extend the assignment test to validate self assignment for representative values."
   ]
  },
  {
   "cell_type": "markdown",
   "id": "adaptive-portrait",
   "metadata": {
    "slideshow": {
     "slide_type": "slide"
    }
   },
   "source": [
    "A `T&&` argument is more complex:"
   ]
  },
  {
   "cell_type": "code",
   "execution_count": 5,
   "id": "described-handbook",
   "metadata": {
    "execution": {
     "iopub.execute_input": "2021-06-28T16:55:59.327042Z",
     "iopub.status.busy": "2021-06-28T16:55:59.326559Z",
     "iopub.status.idle": "2021-06-28T16:55:59.357972Z",
     "shell.execute_reply": "2021-06-28T16:55:59.356869Z"
    },
    "slideshow": {
     "slide_type": "fragment"
    }
   },
   "outputs": [
    {
     "name": "stdout",
     "output_type": "stream",
     "text": [
      "size: 2, capacity: 2\n"
     ]
    },
    {
     "name": "stdout",
     "output_type": "stream",
     "text": [
      " World Hello "
     ]
    }
   ],
   "source": [
    "{\n",
    "    vector<string> x = { \"Hello\", \"World\" };\n",
    "    cout << \"size: \" << x.size() << \", capacity: \" << x.capacity() << endl;;\n",
    "    x.push_back(move(x.front())); // OK?\n",
    "    for (const auto& e : x) cout << e << \" \";\n",
    "}"
   ]
  },
  {
   "cell_type": "markdown",
   "id": "motivated-charm",
   "metadata": {
    "slideshow": {
     "slide_type": "fragment"
    }
   },
   "source": [
    "- The signature for the `vector::push_back()` overload in this case is:\n",
    "```cpp\n",
    "void push_back(T&&);\n",
    "```"
   ]
  },
  {
   "cell_type": "markdown",
   "id": "satisfied-geography",
   "metadata": {
    "slideshow": {
     "slide_type": "fragment"
    }
   },
   "source": [
    "Should this work?"
   ]
  },
  {
   "cell_type": "markdown",
   "id": "vocal-theorem",
   "metadata": {
    "slideshow": {
     "slide_type": "slide"
    }
   },
   "source": [
    "## Postconditions\n",
    "- The postconditions of a function guarantees properties of the result\n",
    "    - Postconditions can be tested\n",
    "    - But you cannot test what is _not_ guaranteed\n",
    "- When testing a function try to be sure you cover all of the post conditions"
   ]
  },
  {
   "cell_type": "markdown",
   "id": "rising-martial",
   "metadata": {
    "slideshow": {
     "slide_type": "slide"
    }
   },
   "source": [
    "### Example `clear()`\n",
    "- `vector::clear()` has the following postconditions:\n",
    "    - removes all elements from the container\n",
    "    - leaves `capacity()` unchanged"
   ]
  },
  {
   "cell_type": "code",
   "execution_count": 6,
   "id": "developed-assurance",
   "metadata": {
    "execution": {
     "iopub.execute_input": "2021-06-28T16:55:59.359972Z",
     "iopub.status.busy": "2021-06-28T16:55:59.359543Z",
     "iopub.status.idle": "2021-06-28T16:55:59.380426Z",
     "shell.execute_reply": "2021-06-28T16:55:59.380153Z"
    },
    "slideshow": {
     "slide_type": "fragment"
    }
   },
   "outputs": [],
   "source": [
    "{\n",
    "    vector<int> x = {0, 1, 2, 3};\n",
    "    auto n = x.capacity();\n",
    "    x.clear();\n",
    "    REQUIRE(x.empty());\n",
    "    REQUIRE(x.capacity() == n);\n",
    "}"
   ]
  },
  {
   "cell_type": "markdown",
   "id": "dutch-canvas",
   "metadata": {
    "slideshow": {
     "slide_type": "slide"
    }
   },
   "source": [
    "> **Exercise 3.3**  Review the postconditions for your existing tests and make sure your tests are complete."
   ]
  },
  {
   "cell_type": "markdown",
   "id": "incident-elizabeth",
   "metadata": {
    "slideshow": {
     "slide_type": "slide"
    }
   },
   "source": [
    "### Basic Interface Postconditions\n",
    "- The _basic interface_ also includes post conditions\n",
    "\n",
    "#### Lifetime of reference results\n",
    "- A member function returning a reference to a _part_ of the object is valid until:\n",
    "    - a mutating (non-const) member function call\n",
    "        - Note, that a non-mutating call might not be declared `const`\n",
    "        - i.e. `vector::begin()`\n",
    "    - or, the end of the objects lifetime\n",
    "    "
   ]
  },
  {
   "cell_type": "markdown",
   "id": "acceptable-approval",
   "metadata": {
    "slideshow": {
     "slide_type": "slide"
    }
   },
   "source": [
    "#### Unsequenced modification and conflicting postconditions\n",
    "- A classic interview test:\n",
    "    - What does this print:"
   ]
  },
  {
   "cell_type": "code",
   "execution_count": 7,
   "id": "local-narrow",
   "metadata": {
    "execution": {
     "iopub.execute_input": "2021-06-28T16:55:59.382912Z",
     "iopub.status.busy": "2021-06-28T16:55:59.382221Z",
     "iopub.status.idle": "2021-06-28T16:55:59.399417Z",
     "shell.execute_reply": "2021-06-28T16:55:59.387989Z"
    },
    "slideshow": {
     "slide_type": "fragment"
    }
   },
   "outputs": [
    {
     "name": "stderr",
     "output_type": "stream",
     "text": [
      "\u001b[1m"
     ]
    },
    {
     "name": "stderr",
     "output_type": "stream",
     "text": [
      "input_line_13"
     ]
    },
    {
     "name": "stderr",
     "output_type": "stream",
     "text": [
      ":"
     ]
    },
    {
     "name": "stderr",
     "output_type": "stream",
     "text": [
      "4"
     ]
    },
    {
     "name": "stderr",
     "output_type": "stream",
     "text": [
      ":"
     ]
    },
    {
     "name": "stderr",
     "output_type": "stream",
     "text": [
      "11"
     ]
    },
    {
     "name": "stderr",
     "output_type": "stream",
     "text": [
      ":"
     ]
    },
    {
     "name": "stderr",
     "output_type": "stream",
     "text": [
      " "
     ]
    },
    {
     "name": "stderr",
     "output_type": "stream",
     "text": [
      "\u001b[0m"
     ]
    },
    {
     "name": "stderr",
     "output_type": "stream",
     "text": [
      "\u001b[0;1;35m"
     ]
    },
    {
     "name": "stderr",
     "output_type": "stream",
     "text": [
      "warning"
     ]
    },
    {
     "name": "stderr",
     "output_type": "stream",
     "text": [
      ": "
     ]
    },
    {
     "name": "stderr",
     "output_type": "stream",
     "text": [
      "\u001b[0m"
     ]
    },
    {
     "name": "stderr",
     "output_type": "stream",
     "text": [
      "\u001b[1m"
     ]
    },
    {
     "name": "stderr",
     "output_type": "stream",
     "text": [
      "unsequenced"
     ]
    },
    {
     "name": "stderr",
     "output_type": "stream",
     "text": [
      " "
     ]
    },
    {
     "name": "stderr",
     "output_type": "stream",
     "text": [
      "modification"
     ]
    },
    {
     "name": "stderr",
     "output_type": "stream",
     "text": [
      " "
     ]
    },
    {
     "name": "stderr",
     "output_type": "stream",
     "text": [
      "and"
     ]
    },
    {
     "name": "stderr",
     "output_type": "stream",
     "text": [
      " "
     ]
    },
    {
     "name": "stderr",
     "output_type": "stream",
     "text": [
      "access"
     ]
    },
    {
     "name": "stderr",
     "output_type": "stream",
     "text": [
      " "
     ]
    },
    {
     "name": "stderr",
     "output_type": "stream",
     "text": [
      "to"
     ]
    },
    {
     "name": "stderr",
     "output_type": "stream",
     "text": [
      " "
     ]
    },
    {
     "name": "stderr",
     "output_type": "stream",
     "text": [
      "'i'"
     ]
    },
    {
     "name": "stderr",
     "output_type": "stream",
     "text": [
      " "
     ]
    },
    {
     "name": "stderr",
     "output_type": "stream",
     "text": [
      "[-Wunsequenced]"
     ]
    },
    {
     "name": "stderr",
     "output_type": "stream",
     "text": [
      "\u001b[0m"
     ]
    },
    {
     "name": "stderr",
     "output_type": "stream",
     "text": [
      "\n"
     ]
    },
    {
     "name": "stderr",
     "output_type": "stream",
     "text": [
      "    i += i++ + ++i;"
     ]
    },
    {
     "name": "stderr",
     "output_type": "stream",
     "text": [
      "\n"
     ]
    },
    {
     "name": "stderr",
     "output_type": "stream",
     "text": [
      "\u001b[0;1;32m"
     ]
    },
    {
     "name": "stderr",
     "output_type": "stream",
     "text": [
      "      ~~  ^"
     ]
    },
    {
     "name": "stderr",
     "output_type": "stream",
     "text": [
      "\n"
     ]
    },
    {
     "name": "stderr",
     "output_type": "stream",
     "text": [
      "\u001b[0m"
     ]
    },
    {
     "name": "stdout",
     "output_type": "stream",
     "text": [
      "4\n"
     ]
    }
   ],
   "source": [
    "{\n",
    "    int i = 0;\n",
    "    i += i++ + ++i;\n",
    "    cout << i << endl;\n",
    "}"
   ]
  },
  {
   "cell_type": "markdown",
   "id": "affecting-hospital",
   "metadata": {
    "slideshow": {
     "slide_type": "slide"
    }
   },
   "source": [
    "- The postconditions of move assignment for `vector` are:\n",
    "    - The lhs is equal to the prior value of the rhs \n",
    "    - references, pointers, and iterators to elements in the rhs remain valid\n",
    "        - but refer to elements that are in lhs\n",
    "    - The state of the rhs is \"valid but unspecified\"\n",
    "        - but because of the above requirements, this _usually_ means \"empty\""
   ]
  },
  {
   "cell_type": "code",
   "execution_count": 8,
   "id": "spoken-difficulty",
   "metadata": {
    "execution": {
     "iopub.execute_input": "2021-06-28T16:55:59.401638Z",
     "iopub.status.busy": "2021-06-28T16:55:59.401092Z",
     "iopub.status.idle": "2021-06-28T16:55:59.422045Z",
     "shell.execute_reply": "2021-06-28T16:55:59.421760Z"
    },
    "slideshow": {
     "slide_type": "fragment"
    }
   },
   "outputs": [
    {
     "name": "stdout",
     "output_type": "stream",
     "text": [
      "0\n"
     ]
    }
   ],
   "source": [
    "{\n",
    "    vector<int> x = {0, 1, 2, 3};\n",
    "    x = move(x);\n",
    "    cout << x.size() << endl;\n",
    "}"
   ]
  },
  {
   "cell_type": "markdown",
   "id": "abroad-allocation",
   "metadata": {
    "slideshow": {
     "slide_type": "fragment"
    }
   },
   "source": [
    "- The only state that could satisfy the documented postconditions for move assignment with self move are a no-op"
   ]
  },
  {
   "cell_type": "markdown",
   "id": "quarterly-boxing",
   "metadata": {
    "slideshow": {
     "slide_type": "slide"
    }
   },
   "source": [
    "- Compare to `unique_ptr`\n",
    "    - move assignment is as if by calling `reset(r.release())`\n",
    "    - this implies that a self move is `x.reset(x.release())`\n",
    "        - which is a no-op"
   ]
  },
  {
   "cell_type": "code",
   "execution_count": 9,
   "id": "welcome-observation",
   "metadata": {
    "execution": {
     "iopub.execute_input": "2021-06-28T16:55:59.424188Z",
     "iopub.status.busy": "2021-06-28T16:55:59.423607Z",
     "iopub.status.idle": "2021-06-28T16:55:59.449459Z",
     "shell.execute_reply": "2021-06-28T16:55:59.448997Z"
    },
    "slideshow": {
     "slide_type": "fragment"
    }
   },
   "outputs": [
    {
     "name": "stdout",
     "output_type": "stream",
     "text": [
      "42\n"
     ]
    }
   ],
   "source": [
    "{\n",
    "    auto x = make_unique<int>(42);\n",
    "    x = move(x);\n",
    "    cout << *x << endl;\n",
    "}"
   ]
  },
  {
   "cell_type": "markdown",
   "id": "accurate-addition",
   "metadata": {
    "slideshow": {
     "slide_type": "slide"
    }
   },
   "source": [
    "- The postconditions on moving a string are:\n",
    "    - lhs contains the prior rhs value\n",
    "    - rhs value is \"valid but unspecified\"\n",
    "- Until C++17 the postcondition of self-move on a string was:\n",
    "    - \"the function has no effect\"\n",
    "- But this language was removed in C++17"
   ]
  },
  {
   "cell_type": "code",
   "execution_count": 10,
   "id": "looking-jacksonville",
   "metadata": {
    "execution": {
     "iopub.execute_input": "2021-06-28T16:55:59.451116Z",
     "iopub.status.busy": "2021-06-28T16:55:59.450627Z",
     "iopub.status.idle": "2021-06-28T16:55:59.461254Z",
     "shell.execute_reply": "2021-06-28T16:55:59.460970Z"
    },
    "slideshow": {
     "slide_type": "fragment"
    }
   },
   "outputs": [
    {
     "name": "stdout",
     "output_type": "stream",
     "text": [
      "0\n"
     ]
    }
   ],
   "source": [
    "{\n",
    "    string x = \"Hello\";\n",
    "    x = move(x);\n",
    "    cout << x.size() << endl;\n",
    "}"
   ]
  },
  {
   "cell_type": "markdown",
   "id": "closed-economy",
   "metadata": {
    "slideshow": {
     "slide_type": "slide"
    }
   },
   "source": [
    "- So should this case work from 1.2.2?"
   ]
  },
  {
   "cell_type": "code",
   "execution_count": 11,
   "id": "distinguished-vessel",
   "metadata": {
    "execution": {
     "iopub.execute_input": "2021-06-28T16:55:59.462969Z",
     "iopub.status.busy": "2021-06-28T16:55:59.462419Z",
     "iopub.status.idle": "2021-06-28T16:55:59.493285Z",
     "shell.execute_reply": "2021-06-28T16:55:59.492183Z"
    },
    "slideshow": {
     "slide_type": "fragment"
    }
   },
   "outputs": [
    {
     "name": "stdout",
     "output_type": "stream",
     "text": [
      "size: 2, capacity: 2\n"
     ]
    },
    {
     "name": "stdout",
     "output_type": "stream",
     "text": [
      " World Hello "
     ]
    }
   ],
   "source": [
    "{\n",
    "    vector<string> x = { \"Hello\", \"World\" };\n",
    "    cout << \"size: \" << x.size() << \", capacity: \" << x.capacity() << endl;;\n",
    "    x.push_back(move(x.front())); // OK?\n",
    "    for (const auto& e : x) cout << e << \" \";\n",
    "}"
   ]
  },
  {
   "cell_type": "markdown",
   "id": "adopted-lobby",
   "metadata": {
    "slideshow": {
     "slide_type": "slide"
    }
   },
   "source": [
    "- It is debatable\n",
    "    - If it works, x.front() is \"valid but unspecified\"\n",
    "    - For it to work may require moving a moved from object when `vector` is resized\n",
    "    - It requires an additional move to hold the value during reallocation"
   ]
  },
  {
   "cell_type": "markdown",
   "id": "color-refrigerator",
   "metadata": {
    "slideshow": {
     "slide_type": "slide"
    }
   },
   "source": [
    "- The _basic interface_ is only partially specified\n",
    "    - aliased references are only discussed with regard to race conditions\n",
    "    - unless otherwise specified, treat modifying the same object as an unsequenced modification\n",
    "        - even if specified, be cautious, this is an area of change"
   ]
  },
  {
   "cell_type": "markdown",
   "id": "actual-easter",
   "metadata": {
    "slideshow": {
     "slide_type": "fragment"
    }
   },
   "source": [
    "- The issues of aliasing can often be side-stepped by passing sink arguments by value\n",
    "- i.e. if the signature f `push_back()` was:\n",
    "\n",
    "```cpp\n",
    "void push_back(T);\n",
    "```"
   ]
  },
  {
   "cell_type": "markdown",
   "id": "offensive-legislation",
   "metadata": {
    "slideshow": {
     "slide_type": "fragment"
    }
   },
   "source": [
    "One argument is that for the basic interface, passing arguments by rvalue and lvalue references should be viewed as an optimization of passing by value and should not change behavior."
   ]
  },
  {
   "cell_type": "markdown",
   "id": "applied-gospel",
   "metadata": {
    "slideshow": {
     "slide_type": "fragment"
    }
   },
   "source": [
    "But that has performance implications."
   ]
  },
  {
   "cell_type": "markdown",
   "id": "cultural-plant",
   "metadata": {
    "slideshow": {
     "slide_type": "slide"
    }
   },
   "source": [
    "#### Exception Guarantees\n",
    "\n",
    "- The exception guarantees are part of the basic interface\n",
    "- They describe the postconditions of a function in the event of an exception\n",
    "    - There are 4 levels, from strong to weak\n",
    "    - `noexcept`: Will not throw an exception\n",
    "    - strong: Any modified state is returned to its prior, logical state\n",
    "    - basic: All modified objects are left in a \"valid but unspecified\" state\n",
    "    - weak: Result is undefined"
   ]
  },
  {
   "cell_type": "markdown",
   "id": "annoying-parent",
   "metadata": {
    "slideshow": {
     "slide_type": "slide"
    }
   },
   "source": [
    "- Unless otherwise specified, the basic guarantee is assumed\n",
    "- In the absence of a modification, the _basic_ and _strong_ exception guarantees are the same. "
   ]
  },
  {
   "cell_type": "markdown",
   "id": "consolidated-delight",
   "metadata": {
    "slideshow": {
     "slide_type": "fragment"
    }
   },
   "source": [
    "- For example:"
   ]
  },
  {
   "cell_type": "code",
   "execution_count": 12,
   "id": "written-mixer",
   "metadata": {
    "execution": {
     "iopub.execute_input": "2021-06-28T16:55:59.495365Z",
     "iopub.status.busy": "2021-06-28T16:55:59.494919Z",
     "iopub.status.idle": "2021-06-28T16:55:59.520585Z",
     "shell.execute_reply": "2021-06-28T16:55:59.520218Z"
    },
    "slideshow": {
     "slide_type": "fragment"
    }
   },
   "outputs": [],
   "source": [
    "{\n",
    "    vector<int> x{0, 1, 2};\n",
    "    auto copy = x;\n",
    "    REQUIRE_THROWS_AS(x.at(3), std::out_of_range);\n",
    "    REQUIRE(copy == x); // per basic exception guarantee\n",
    "}"
   ]
  },
  {
   "cell_type": "markdown",
   "id": "julian-membership",
   "metadata": {
    "slideshow": {
     "slide_type": "slide"
    }
   },
   "source": [
    "## Invariants\n",
    "\n",
    "- An invariant is a relationship which must hold irrespective of the operation performed\n",
    "    - They are a generalized collection of postconditions and as such are testable"
   ]
  },
  {
   "cell_type": "code",
   "execution_count": 13,
   "id": "acquired-quarterly",
   "metadata": {
    "execution": {
     "iopub.execute_input": "2021-06-28T16:55:59.522518Z",
     "iopub.status.busy": "2021-06-28T16:55:59.522021Z",
     "iopub.status.idle": "2021-06-28T16:55:59.524134Z",
     "shell.execute_reply": "2021-06-28T16:55:59.523831Z"
    },
    "slideshow": {
     "slide_type": "fragment"
    }
   },
   "outputs": [],
   "source": [
    "template <class T>\n",
    "void test_vector_invariants(const T& x) {\n",
    "    REQUIRE(!(x.capacity() < x.size()));\n",
    "    REQUIRE((x.size() == 0) == x.empty());\n",
    "    REQUIRE(x.empty() == (x.begin() == x.end()));\n",
    "    //...\n",
    "}"
   ]
  },
  {
   "cell_type": "markdown",
   "id": "greenhouse-wednesday",
   "metadata": {
    "slideshow": {
     "slide_type": "slide"
    }
   },
   "source": [
    "> **Exercise 3.4** Complete the invariant test for a vector and extend your tests to check the invariants after each mutating operation."
   ]
  },
  {
   "cell_type": "markdown",
   "id": "superior-brown",
   "metadata": {
    "slideshow": {
     "slide_type": "slide"
    }
   },
   "source": [
    "## Security\n",
    "- A secure interface has no preconditions\n",
    "- A secure system has no bugs\n",
    "    - To exploit a system:\n",
    "        - Identify interfaces which cannot be verified\n",
    "        - Boundary conditions that may not have been anticipated"
   ]
  },
  {
   "cell_type": "code",
   "execution_count": null,
   "id": "analyzed-economy",
   "metadata": {},
   "outputs": [],
   "source": []
  }
 ],
 "metadata": {
  "jupytext": {
   "formats": "ipynb,md"
  },
  "kernelspec": {
   "display_name": "C++17",
   "language": "C++17",
   "name": "xcpp17"
  },
  "language_info": {
   "codemirror_mode": "text/x-c++src",
   "file_extension": ".cpp",
   "mimetype": "text/x-c++src",
   "name": "c++",
   "version": "17"
  }
 },
 "nbformat": 4,
 "nbformat_minor": 5
}

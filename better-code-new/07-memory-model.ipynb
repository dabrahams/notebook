{
 "cells": [
  {
   "cell_type": "markdown",
   "id": "speaking-israeli",
   "metadata": {
    "slideshow": {
     "slide_type": "slide"
    }
   },
   "source": [
    "# The C++ Memory Model\n",
    "\n",
    "## Basics\n",
    "\n",
    "- Memory consists of one or more contiguous sequence of bytes\n",
    "- Every byte has a unique address.\n",
    "    - Bytes are >= 8 bits"
   ]
  },
  {
   "cell_type": "markdown",
   "id": "exotic-respondent",
   "metadata": {
    "slideshow": {
     "slide_type": "slide"
    }
   },
   "source": [
    "## Processor Memory Hierarchy\n",
    "\n",
    "![Memory Hierarchy](img/memory-hierarchy.svg)"
   ]
  },
  {
   "cell_type": "markdown",
   "id": "enhanced-billy",
   "metadata": {
    "slideshow": {
     "slide_type": "slide"
    }
   },
   "source": [
    "## Threads and Data Races\n",
    "\n",
    "- All objects are accessible to all threads\n",
    "- When an evaluation of an expression writes to a memory location\n",
    "    - and another evaluation reads or modifies the same memory location\n",
    "    - the expressions _conflict_ and there is a _data race_ unless\n",
    "        - both evaluations are on the same thread or same signal handler\n",
    "        - both are atomic operations\n",
    "        - one _happens-before_ another\n",
    "    - if a data race occurs the behavior of the program is undefined"
   ]
  },
  {
   "cell_type": "markdown",
   "id": "civil-blood",
   "metadata": {
    "slideshow": {
     "slide_type": "slide"
    }
   },
   "source": [
    "## Memory Order\n",
    "\n",
    "- Memory order specifies how regular, non-atomic, memory accesses are to be ordered **around an atomic operation**\n",
    "- Absent any constraints, one thread can observe the values changed by another thread in any order\n",
    "- The default order for any standard library atomic operation is _sequentially-consistent_ (seq_cst)\n"
   ]
  },
  {
   "cell_type": "markdown",
   "id": "invisible-duncan",
   "metadata": {
    "slideshow": {
     "slide_type": "slide"
    }
   },
   "source": [
    "## Other Supported Memory Orders\n",
    "\n",
    "- Relaxed: there is no synchronization or ordering constraints imposed on _other_ reads or writes, only the operation's atomicity is guaranteed"
   ]
  },
  {
   "cell_type": "markdown",
   "id": "dependent-mixer",
   "metadata": {
    "slideshow": {
     "slide_type": "slide"
    }
   },
   "source": [
    "![performance-move](img/memory-relaxed.svg)"
   ]
  },
  {
   "cell_type": "markdown",
   "id": "respiratory-nickname",
   "metadata": {
    "slideshow": {
     "slide_type": "slide"
    }
   },
   "source": [
    "- Acquire: applies to a load operation\n",
    "    - no reads or writes in the current thread can be reordered before the load\n",
    "- Release: applies to a store operation\n",
    "    - no reads or writes in the current thread can be reordered after the store\n",
    "    - all writes are visible in other threads that acquire the same atomic\n",
    "    - all writes with a data dependency are visible in other threads that consume the same atomic\n",
    "- Acquire-Release: applies to read-modify-write operations\n",
    "    - Same guarantees as acquire and release for a single atomic operation"
   ]
  },
  {
   "cell_type": "markdown",
   "id": "acoustic-stroke",
   "metadata": {
    "slideshow": {
     "slide_type": "slide"
    }
   },
   "source": [
    "![performance-move](img/memory-aquire-release.svg)"
   ]
  },
  {
   "cell_type": "markdown",
   "id": "military-panama",
   "metadata": {
    "slideshow": {
     "slide_type": "slide"
    }
   },
   "source": [
    "- Consume: (discouraged as of C++17) similar to aquire but only applies to dependent operations\n",
    "    - no known production compiler tracks dependency chains - consume becomes aquire"
   ]
  },
  {
   "cell_type": "markdown",
   "id": "clinical-hybrid",
   "metadata": {
    "slideshow": {
     "slide_type": "slide"
    }
   },
   "source": [
    "## Sequentially Consistent Ordering\n",
    "\n",
    "- load operations are acquire\n",
    "- store operations are a release\n",
    "- read-modify-write are acquire and release\n",
    "- **a single total order exists in which all threads observe all modifications in the same order**"
   ]
  },
  {
   "cell_type": "markdown",
   "id": "gentle-alfred",
   "metadata": {
    "slideshow": {
     "slide_type": "slide"
    }
   },
   "source": [
    "## Important\n",
    "\n",
    "- Intel hardware has a _strong_ memory model\n",
    "    - Every machine instruction has an implied acquire-release semantics\n",
    "    - That _does not_ imply that every operation is atomic\n",
    "    - And without specifying a memory order, the compiler is free to reorder operations\n",
    "    - Peformance of memory-order relaxed and sequentially-consistent has no _hardware_ implications"
   ]
  },
  {
   "cell_type": "markdown",
   "id": "incredible-maldives",
   "metadata": {
    "slideshow": {
     "slide_type": "slide"
    }
   },
   "source": [
    "![performance-move](img/performance-move.png)\n",
    "\n",
    "<div style=\"text-align:center\">\n",
    "    <a style=\"text-align:center\" href=\"http://quick-bench.com/p13s_cSQ0JTeMUGcttdS1EFHVcE\">Cost of Copy</a>\n",
    "</div>"
   ]
  },
  {
   "cell_type": "markdown",
   "id": "cleared-essence",
   "metadata": {
    "slideshow": {
     "slide_type": "slide"
    }
   },
   "source": [
    "- ARM has a _weak_ memory model\n",
    "    - Every operation is a consume or release\n",
    "    - But without specifying a memory order, the compiler is free to reorder operations"
   ]
  },
  {
   "cell_type": "markdown",
   "id": "august-tamil",
   "metadata": {
    "slideshow": {
     "slide_type": "slide"
    }
   },
   "source": [
    "## Recommendations\n",
    "\n",
    "- Avoid using primitive synchronization mechanisms at all\n",
    "- If you must, only use **sequentially consistent** ordering unless\n",
    "    - You can demonstrate a performance gain\n",
    "    - You can _prove_ it is correct\n",
    "    - You have at least one other expert review your proof\n",
    "    - You write a complete description along with your proof and include it in the code\n",
    "    - You include a unit test to demonstrate both correctness and gain"
   ]
  }
 ],
 "metadata": {
  "jupytext": {
   "formats": "ipynb,md"
  },
  "kernelspec": {
   "display_name": "C++17",
   "language": "C++17",
   "name": "xcpp17"
  },
  "language_info": {
   "codemirror_mode": "text/x-c++src",
   "file_extension": ".cpp",
   "mimetype": "text/x-c++src",
   "name": "c++",
   "version": "17"
  }
 },
 "nbformat": 4,
 "nbformat_minor": 5
}

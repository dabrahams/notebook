{
 "cells": [
  {
   "cell_type": "markdown",
   "id": "derived-kentucky",
   "metadata": {
    "slideshow": {
     "slide_type": "skip"
    },
    "toc": true
   },
   "source": [
    "<h1>Table of Contents<span class=\"tocSkip\"></span></h1>\n",
    "<div class=\"toc\" style=\"margin-top: 1em;\"><ul class=\"toc-item\"><li><span><a href=\"#Preliminaries\" data-toc-modified-id=\"Preliminaries-1\"><span class=\"toc-item-num\">1&nbsp;&nbsp;</span>Preliminaries</a></span><ul class=\"toc-item\"><li><span><a href=\"#Class-Information\" data-toc-modified-id=\"Class-Information-1.1\"><span class=\"toc-item-num\">1.1&nbsp;&nbsp;</span>Class Information</a></span></li><li><span><a href=\"#Brief-History-of-C++\" data-toc-modified-id=\"Brief-History-of-C++-1.2\"><span class=\"toc-item-num\">1.2&nbsp;&nbsp;</span>Brief History of C++</a></span></li><li><span><a href=\"#C++11,-C++14,-C++17...-C++20,-TSs...\" data-toc-modified-id=\"C++11,-C++14,-C++17...-C++20,-TSs...-1.3\"><span class=\"toc-item-num\">1.3&nbsp;&nbsp;</span>C++11, C++14, C++17... C++20, TSs...</a></span><ul class=\"toc-item\"><li><span><a href=\"#Clang\" data-toc-modified-id=\"Clang-1.3.1\"><span class=\"toc-item-num\">1.3.1&nbsp;&nbsp;</span>Clang</a></span></li><li><span><a href=\"#Boost\" data-toc-modified-id=\"Boost-1.3.2\"><span class=\"toc-item-num\">1.3.2&nbsp;&nbsp;</span>Boost</a></span></li><li><span><a href=\"#The-Free-Lunch-Is-Over\" data-toc-modified-id=\"The-Free-Lunch-Is-Over-1.3.3\"><span class=\"toc-item-num\">1.3.3&nbsp;&nbsp;</span>The Free Lunch Is Over</a></span></li><li><span><a href=\"#Language-Evolution\" data-toc-modified-id=\"Language-Evolution-1.3.4\"><span class=\"toc-item-num\">1.3.4&nbsp;&nbsp;</span>Language Evolution</a></span></li></ul></li><li><span><a href=\"#Online-Resources\" data-toc-modified-id=\"Online-Resources-1.4\"><span class=\"toc-item-num\">1.4&nbsp;&nbsp;</span>Online Resources</a></span><ul class=\"toc-item\"><li><span><a href=\"#Information:\" data-toc-modified-id=\"Information:-1.4.1\"><span class=\"toc-item-num\">1.4.1&nbsp;&nbsp;</span>Information:</a></span></li><li><span><a href=\"#Reference:\" data-toc-modified-id=\"Reference:-1.4.2\"><span class=\"toc-item-num\">1.4.2&nbsp;&nbsp;</span>Reference:</a></span></li><li><span><a href=\"#Tools:\" data-toc-modified-id=\"Tools:-1.4.3\"><span class=\"toc-item-num\">1.4.3&nbsp;&nbsp;</span>Tools:</a></span></li></ul></li><li><span><a href=\"#Other-Tools\" data-toc-modified-id=\"Other-Tools-1.5\"><span class=\"toc-item-num\">1.5&nbsp;&nbsp;</span>Other Tools</a></span></li></ul></li><li><span><a href=\"#Demo\" data-toc-modified-id=\"Demo-2\"><span class=\"toc-item-num\">2&nbsp;&nbsp;</span>Demo</a></span></li></ul></div>"
   ]
  },
  {
   "cell_type": "code",
   "execution_count": 1,
   "id": "dense-engine",
   "metadata": {
    "execution": {
     "iopub.execute_input": "2021-06-28T16:56:05.176204Z",
     "iopub.status.busy": "2021-06-28T16:56:05.175623Z",
     "iopub.status.idle": "2021-06-28T16:56:05.178720Z",
     "shell.execute_reply": "2021-06-28T16:56:05.178209Z"
    },
    "slideshow": {
     "slide_type": "skip"
    }
   },
   "outputs": [],
   "source": [
    "#include <iostream>\n",
    "\n",
    "using namespace std;"
   ]
  },
  {
   "cell_type": "markdown",
   "id": "attempted-merchant",
   "metadata": {
    "slideshow": {
     "slide_type": "slide"
    }
   },
   "source": [
    "# Preliminaries\n",
    "\n",
    "- If you are using connect locally, mute your speaker and mic\n",
    "- If you are remote, mute your mic"
   ]
  },
  {
   "cell_type": "markdown",
   "id": "reflected-douglas",
   "metadata": {
    "slideshow": {
     "slide_type": "slide"
    }
   },
   "source": [
    "## Class Information\n",
    "\n",
    "- https://git.corp.adobe.com/better-code/class/wiki"
   ]
  },
  {
   "cell_type": "markdown",
   "id": "intended-hunter",
   "metadata": {
    "slideshow": {
     "slide_type": "slide"
    }
   },
   "source": [
    "## Brief History of C++\n",
    "\n",
    "- 1979 Bjarne Stroustrup begins work on C with Classes\n",
    "- 1983 \"C with Classes\" renamed C++\n",
    "- 1985 _The C++ Programming Language_ is published along with first commercial compiler, Cfront\n",
    "- 1989 C++ 2.0 released with Cfront 2.0\n",
    "- 1998 C++ published as ISO standard (C++98) with the STL from Alex Stepanov and Meng Lee\n",
    "- 2003 C++03 ISO standard, minor revisions to C++98\n",
    "- 2011 C++11 Major language update\n",
    "- 2014 C++14 Revisions, minor additions, corrections to C++11\n",
    "- 2017 C++17 Significant (not quite major) update\n",
    "- 2020 ..."
   ]
  },
  {
   "cell_type": "markdown",
   "id": "square-morocco",
   "metadata": {
    "slideshow": {
     "slide_type": "slide"
    }
   },
   "source": [
    "With C++11 there were significant process changes to encourage working groups to publish Technical Specifications (TS's) for experimental features, language and library, in advance of them being incorporated into the language. The process replaced the prior Technical Report (TR1) process which was used to vet library extensions prior to C++11."
   ]
  },
  {
   "cell_type": "markdown",
   "id": "fantastic-injury",
   "metadata": {
    "slideshow": {
     "slide_type": "slide"
    }
   },
   "source": [
    "## C++11, C++14, C++17... C++20, TSs...\n",
    "\n",
    "### Clang\n",
    "\n",
    "- 2000 LLVM project is started at University of Illinois at Urbana-Champaign by Vikram Adve and Chris Lattner\n",
    "    - later adding ObjC and C support\n",
    "- 2005 Apple hires Lattner, initially working on Clang OpenGL compiler\n",
    "- 2009 GCC runtime library moves to GPLv3 license, Apple (and others) move to add C++ support to Clang\n",
    "- 2010 Clang++ able to build Boost libraries and passes nearly all tests\n",
    "- Clang now actively developed by Apple, Microsoft, Google, ARM, Sony, Intel, AMD and others\n",
    "- LLVM has spawned numerous other languages, including Swift"
   ]
  },
  {
   "cell_type": "markdown",
   "id": "polyphonic-front",
   "metadata": {
    "slideshow": {
     "slide_type": "slide"
    }
   },
   "source": [
    "### Boost\n",
    "\n",
    "- 1998 Beman Dawes and Robert Klarer propose the idea for creating a web based library repository"
   ]
  },
  {
   "cell_type": "markdown",
   "id": "bottom-preserve",
   "metadata": {
    "slideshow": {
     "slide_type": "fragment"
    }
   },
   "source": [
    "### The Free Lunch Is Over\n",
    "\n",
    "- 2005 Herb Sutter publishes [_The Free Lunch Is Over: A Fundamental Turn Toward Concurrency in Software_](http://www.gotw.ca/publications/concurrency-ddj.htm)"
   ]
  },
  {
   "cell_type": "markdown",
   "id": "desperate-arbor",
   "metadata": {
    "slideshow": {
     "slide_type": "fragment"
    }
   },
   "source": [
    "### Language Evolution\n",
    "\n",
    "- 1987 Need for common functional language identified and work on [Haskell begins](http://haskell.cs.yale.edu/wp-content/uploads/2011/02/history.pdf)\n",
    "- 2005 Joel Spolsky publishes [_The Perils of JavaSchools_](https://www.joelonsoftware.com/2005/12/29/the-perils-of-javaschools-2/)\n",
    "- JavaScript Transpilers: Babel, CoffeeScript, TypeScript, Dart, GWT, [Elm](http://elm-lang.org/), ..."
   ]
  },
  {
   "cell_type": "markdown",
   "id": "human-store",
   "metadata": {
    "slideshow": {
     "slide_type": "slide"
    }
   },
   "source": [
    "## Online Resources\n",
    "\n",
    "### Information:\n",
    "- [r/cpp](https://www.reddit.com/r/cpp/): Reddit forum to find news and blogs\n",
    "- [Cpplang Slack](https://cpplang.now.sh/): Get your questions answered fast\n",
    "- [CppCast](http://cppcast.com/): The only podcast dedicated to C++\n",
    "- [isocpp](https://isocpp.org/): The standard committee and recent news\n",
    "- [stackoverflow](https://stackoverflow.com/questions/tagged/c%2B%2B): Get your questions answered well\n",
    "\n",
    "### Reference:\n",
    "- [cppreference](http://en.cppreference.com/w/): The best online reference for C++\n",
    "- [working draft](http://www.open-std.org/jtc1/sc22/wg21/docs/papers/2017/n4700.pdf): The definitive answer"
   ]
  },
  {
   "cell_type": "markdown",
   "id": "stopped-dallas",
   "metadata": {
    "slideshow": {
     "slide_type": "slide"
    }
   },
   "source": [
    "### Tools:\n",
    "- [Compiler Explorer (godbolt)](https://godbolt.org/): See what the code generates\n",
    "- [Coliru](http://coliru.stacked-crooked.com/): Just run some code\n",
    "- [Clang in Browser](https://tbfleming.github.io/cib/): Demo of Clang to wasm in the browser\n",
    "- [Quick C++ Benchmarks](http://quick-bench.com/): Handy way to run small benchmarks and generate graphs"
   ]
  },
  {
   "cell_type": "markdown",
   "id": "smaller-pavilion",
   "metadata": {
    "slideshow": {
     "slide_type": "slide"
    }
   },
   "source": [
    "## Other Tools\n",
    "\n",
    "- [clang-tidy](http://clang.llvm.org/extra/clang-tidy/): Diagnose and fix your code\n",
    "- [include-what-you-use](https://include-what-you-use.org/): Help to prune the include lists and add direct dependencies\n",
    "- [cling](https://root.cern.ch/cling): Interpreted C++\n",
    "- [jupyter](https://jupyter.org/): Data science notebook, can work with cling\n",
    "- Xcode includes clang static analyzer and sanitizers"
   ]
  },
  {
   "cell_type": "markdown",
   "id": "operating-honor",
   "metadata": {
    "slideshow": {
     "slide_type": "fragment"
    }
   },
   "source": [
    "Moving to `cmake` would simplify the process of using many tools."
   ]
  },
  {
   "cell_type": "markdown",
   "id": "threaded-barbados",
   "metadata": {
    "slideshow": {
     "slide_type": "slide"
    }
   },
   "source": [
    "# Demo"
   ]
  },
  {
   "cell_type": "code",
   "execution_count": 2,
   "id": "corresponding-nature",
   "metadata": {
    "execution": {
     "iopub.execute_input": "2021-06-28T16:56:05.181191Z",
     "iopub.status.busy": "2021-06-28T16:56:05.180739Z",
     "iopub.status.idle": "2021-06-28T16:56:05.231816Z",
     "shell.execute_reply": "2021-06-28T16:56:05.231475Z"
    },
    "slideshow": {
     "slide_type": "slide"
    }
   },
   "outputs": [],
   "source": [
    "vector<int> a = {30, 20, 40, 10};\n",
    "sort(begin(a), end(a));"
   ]
  },
  {
   "cell_type": "code",
   "execution_count": 3,
   "id": "dental-patrick",
   "metadata": {
    "execution": {
     "iopub.execute_input": "2021-06-28T16:56:05.233664Z",
     "iopub.status.busy": "2021-06-28T16:56:05.233232Z",
     "iopub.status.idle": "2021-06-28T16:56:05.240905Z",
     "shell.execute_reply": "2021-06-28T16:56:05.239121Z"
    },
    "slideshow": {
     "slide_type": "-"
    }
   },
   "outputs": [
    {
     "name": "stdout",
     "output_type": "stream",
     "text": [
      "10\n"
     ]
    },
    {
     "name": "stdout",
     "output_type": "stream",
     "text": [
      "20\n"
     ]
    },
    {
     "name": "stdout",
     "output_type": "stream",
     "text": [
      "30\n"
     ]
    },
    {
     "name": "stdout",
     "output_type": "stream",
     "text": [
      "40\n"
     ]
    }
   ],
   "source": [
    "for(const auto& e : a) cout << e << endl;"
   ]
  },
  {
   "cell_type": "code",
   "execution_count": null,
   "id": "residential-runner",
   "metadata": {},
   "outputs": [],
   "source": []
  }
 ],
 "metadata": {
  "jupytext": {
   "formats": "ipynb,md"
  },
  "kernelspec": {
   "display_name": "C++17",
   "language": "C++17",
   "name": "xcpp17"
  },
  "language_info": {
   "codemirror_mode": "text/x-c++src",
   "file_extension": ".cpp",
   "mimetype": "text/x-c++src",
   "name": "c++",
   "version": "17"
  }
 },
 "nbformat": 4,
 "nbformat_minor": 5
}

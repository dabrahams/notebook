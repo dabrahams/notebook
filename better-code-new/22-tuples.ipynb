{
 "cells": [
  {
   "cell_type": "code",
   "execution_count": 1,
   "id": "hundred-arrangement",
   "metadata": {
    "execution": {
     "iopub.execute_input": "2021-06-28T16:57:00.205717Z",
     "iopub.status.busy": "2021-06-28T16:57:00.205150Z",
     "iopub.status.idle": "2021-06-28T16:57:00.397572Z",
     "shell.execute_reply": "2021-06-28T16:57:00.397208Z"
    },
    "slideshow": {
     "slide_type": "skip"
    }
   },
   "outputs": [],
   "source": [
    "#include <iostream>\n",
    "#include <string>\n",
    "#include <tuple>\n",
    "#include <future>\n",
    "\n",
    "#include \"../common.hpp\"\n",
    "\n",
    "using namespace std;"
   ]
  },
  {
   "cell_type": "markdown",
   "id": "clean-vessel",
   "metadata": {
    "incorrectly_encoded_metadata": "slideshow={\"slide_type\": \"slide\"} toc-hr-collapsed=false"
   },
   "source": [
    "# Tuples, Parameter Packs, & Initializer Lists \n",
    "- `tuples`, parameter packs (variadic templates), and initializer lists are closely related\n",
    "    - IMO, they should be the same thing\n",
    "    - They each provide a distinct set of capabilities\n",
    "    - Learn to use them in conjunction "
   ]
  },
  {
   "cell_type": "markdown",
   "id": "dramatic-feeding",
   "metadata": {
    "slideshow": {
     "slide_type": "slide"
    }
   },
   "source": [
    "## `tuple`\n",
    "- `std::tuple` is a generalization of `std::pair`\n",
    "    - `tuple` is a standard library component, implemented using parameter packs\n",
    "    - `tuple` holds an arbitrary number of elements of arbitrary type (including none)"
   ]
  },
  {
   "cell_type": "code",
   "execution_count": 2,
   "id": "wanted-luther",
   "metadata": {
    "execution": {
     "iopub.execute_input": "2021-06-28T16:57:00.399576Z",
     "iopub.status.busy": "2021-06-28T16:57:00.398884Z",
     "iopub.status.idle": "2021-06-28T16:57:00.418032Z",
     "shell.execute_reply": "2021-06-28T16:57:00.417784Z"
    },
    "slideshow": {
     "slide_type": "fragment"
    }
   },
   "outputs": [],
   "source": [
    "{\n",
    "    tuple<> a; // empty\n",
    "    tuple<int> b = 5;\n",
    "    tuple<int, string> c = {5, \"Hello World!\"s};\n",
    "    tuple<int, string, double> d = {5, \"Hello World!\"s, 42.5};\n",
    "}"
   ]
  },
  {
   "cell_type": "markdown",
   "id": "collectible-child",
   "metadata": {
    "slideshow": {
     "slide_type": "slide"
    }
   },
   "source": [
    "- A tuple can be constructed from a set of arguments using `make_tuple`\n",
    "    - Or using deduction guides (C++17)"
   ]
  },
  {
   "cell_type": "code",
   "execution_count": 3,
   "id": "comparable-assault",
   "metadata": {
    "execution": {
     "iopub.execute_input": "2021-06-28T16:57:00.420534Z",
     "iopub.status.busy": "2021-06-28T16:57:00.419816Z",
     "iopub.status.idle": "2021-06-28T16:57:00.431538Z",
     "shell.execute_reply": "2021-06-28T16:57:00.431220Z"
    },
    "slideshow": {
     "slide_type": "fragment"
    }
   },
   "outputs": [],
   "source": [
    "{\n",
    "    auto x = make_tuple(10, 3.0, \"Hello World!\"s);\n",
    "}"
   ]
  },
  {
   "cell_type": "code",
   "execution_count": 4,
   "id": "waiting-damages",
   "metadata": {
    "execution": {
     "iopub.execute_input": "2021-06-28T16:57:00.434094Z",
     "iopub.status.busy": "2021-06-28T16:57:00.433254Z",
     "iopub.status.idle": "2021-06-28T16:57:00.444146Z",
     "shell.execute_reply": "2021-06-28T16:57:00.443802Z"
    },
    "slideshow": {
     "slide_type": "fragment"
    }
   },
   "outputs": [],
   "source": [
    "{\n",
    "    tuple x = {10, 3.0, \"Hello World!\"s}; // since C++17\n",
    "}"
   ]
  },
  {
   "cell_type": "markdown",
   "id": "spanish-wrist",
   "metadata": {
    "slideshow": {
     "slide_type": "slide"
    }
   },
   "source": [
    "- `get<>()` is used to retrieve an element from a tuple"
   ]
  },
  {
   "cell_type": "code",
   "execution_count": 5,
   "id": "educated-utilization",
   "metadata": {
    "execution": {
     "iopub.execute_input": "2021-06-28T16:57:00.446651Z",
     "iopub.status.busy": "2021-06-28T16:57:00.446108Z",
     "iopub.status.idle": "2021-06-28T16:57:00.456230Z",
     "shell.execute_reply": "2021-06-28T16:57:00.455940Z"
    },
    "slideshow": {
     "slide_type": "fragment"
    }
   },
   "outputs": [
    {
     "name": "stdout",
     "output_type": "stream",
     "text": [
      "3.2\n"
     ]
    }
   ],
   "source": [
    "{\n",
    "    tuple x = {10, 3.2, \"Hello World!\"s};\n",
    "    cout << get<1>(x) << endl;\n",
    "}"
   ]
  },
  {
   "cell_type": "markdown",
   "id": "second-conjunction",
   "metadata": {
    "slideshow": {
     "slide_type": "slide"
    }
   },
   "source": [
    "- `tuple_element_t<>` is used to retrieve an element type from a tuple"
   ]
  },
  {
   "cell_type": "code",
   "execution_count": 6,
   "id": "encouraging-evolution",
   "metadata": {
    "execution": {
     "iopub.execute_input": "2021-06-28T16:57:00.458071Z",
     "iopub.status.busy": "2021-06-28T16:57:00.457752Z",
     "iopub.status.idle": "2021-06-28T16:57:00.465897Z",
     "shell.execute_reply": "2021-06-28T16:57:00.465623Z"
    },
    "slideshow": {
     "slide_type": "fragment"
    }
   },
   "outputs": [
    {
     "name": "stdout",
     "output_type": "stream",
     "text": [
      "d\n"
     ]
    }
   ],
   "source": [
    "{\n",
    "    tuple x = { 10, 3.2, \"Hello World!\"s };\n",
    "    cout << typeid(tuple_element_t<1, decltype(x)>).name() << endl;\n",
    "}"
   ]
  },
  {
   "cell_type": "markdown",
   "id": "everyday-surgeon",
   "metadata": {
    "slideshow": {
     "slide_type": "slide"
    }
   },
   "source": [
    "- `tuple_size_v<>` is used to get the number of elements in a tuple"
   ]
  },
  {
   "cell_type": "code",
   "execution_count": 7,
   "id": "tutorial-interference",
   "metadata": {
    "execution": {
     "iopub.execute_input": "2021-06-28T16:57:00.467545Z",
     "iopub.status.busy": "2021-06-28T16:57:00.467033Z",
     "iopub.status.idle": "2021-06-28T16:57:00.476262Z",
     "shell.execute_reply": "2021-06-28T16:57:00.475934Z"
    },
    "slideshow": {
     "slide_type": "fragment"
    }
   },
   "outputs": [
    {
     "name": "stdout",
     "output_type": "stream",
     "text": [
      "3\n"
     ]
    }
   ],
   "source": [
    "{\n",
    "    tuple x = { 10, 3.0, \"Hello World!\"s };\n",
    "    cout << tuple_size_v<decltype(x)> << endl;\n",
    "}"
   ]
  },
  {
   "cell_type": "markdown",
   "id": "entitled-envelope",
   "metadata": {
    "slideshow": {
     "slide_type": "slide"
    }
   },
   "source": [
    "- The `tie()` function creates a `tuple` of l-value references\n",
    "    - A common use is to us `tie()` to extract the elements of a `tuple`"
   ]
  },
  {
   "cell_type": "code",
   "execution_count": 8,
   "id": "meaningful-assessment",
   "metadata": {
    "execution": {
     "iopub.execute_input": "2021-06-28T16:57:00.478621Z",
     "iopub.status.busy": "2021-06-28T16:57:00.477853Z",
     "iopub.status.idle": "2021-06-28T16:57:00.499219Z",
     "shell.execute_reply": "2021-06-28T16:57:00.498336Z"
    },
    "slideshow": {
     "slide_type": "fragment"
    }
   },
   "outputs": [
    {
     "name": "stdout",
     "output_type": "stream",
     "text": [
      "10, Hello World!\n"
     ]
    }
   ],
   "source": [
    "{\n",
    "    int a;\n",
    "    string b;\n",
    "    \n",
    "    tie(a, b) = tuple{10, \"Hello World!\"s};\n",
    "    cout << a << \", \" << b << endl;\n",
    "}"
   ]
  },
  {
   "cell_type": "markdown",
   "id": "expressed-spectrum",
   "metadata": {
    "slideshow": {
     "slide_type": "slide"
    }
   },
   "source": [
    "- You can use `ignore` with `tie()` to skip any elements"
   ]
  },
  {
   "cell_type": "code",
   "execution_count": 9,
   "id": "about-syria",
   "metadata": {
    "execution": {
     "iopub.execute_input": "2021-06-28T16:57:00.500945Z",
     "iopub.status.busy": "2021-06-28T16:57:00.500587Z",
     "iopub.status.idle": "2021-06-28T16:57:00.519312Z",
     "shell.execute_reply": "2021-06-28T16:57:00.518968Z"
    },
    "slideshow": {
     "slide_type": "fragment"
    }
   },
   "outputs": [
    {
     "name": "stdout",
     "output_type": "stream",
     "text": [
      "Hello World!\n"
     ]
    }
   ],
   "source": [
    "{\n",
    "    string a;\n",
    "    \n",
    "    tie(ignore, a) = tuple{10, \"Hello World!\"s};\n",
    "    cout << a << endl;\n",
    "}"
   ]
  },
  {
   "cell_type": "markdown",
   "id": "biblical-prospect",
   "metadata": {
    "slideshow": {
     "slide_type": "slide"
    }
   },
   "source": [
    "- With C++17 you can use structured bindings to extract the elements"
   ]
  },
  {
   "cell_type": "code",
   "execution_count": 10,
   "id": "geographic-tomorrow",
   "metadata": {
    "execution": {
     "iopub.execute_input": "2021-06-28T16:57:00.520939Z",
     "iopub.status.busy": "2021-06-28T16:57:00.520561Z",
     "iopub.status.idle": "2021-06-28T16:57:00.532547Z",
     "shell.execute_reply": "2021-06-28T16:57:00.532168Z"
    },
    "slideshow": {
     "slide_type": "fragment"
    }
   },
   "outputs": [
    {
     "name": "stdout",
     "output_type": "stream",
     "text": [
      "10, Hello World!\n"
     ]
    }
   ],
   "source": [
    "{\n",
    "    auto [a, b] = tuple{10, \"Hello World!\"s};\n",
    "    cout << a << \", \" << b << endl;\n",
    "}"
   ]
  },
  {
   "cell_type": "markdown",
   "id": "better-dominican",
   "metadata": {
    "slideshow": {
     "slide_type": "fragment"
    }
   },
   "source": [
    "- However, there is no `ignore` equivalent"
   ]
  },
  {
   "cell_type": "markdown",
   "id": "assisted-context",
   "metadata": {
    "slideshow": {
     "slide_type": "slide"
    }
   },
   "source": [
    "- `tie()` is also useful for class reflection\n",
    "    - `tuple` provides lexicographical comparisons"
   ]
  },
  {
   "cell_type": "code",
   "execution_count": 11,
   "id": "touched-range",
   "metadata": {
    "execution": {
     "iopub.execute_input": "2021-06-28T16:57:00.534094Z",
     "iopub.status.busy": "2021-06-28T16:57:00.533707Z",
     "iopub.status.idle": "2021-06-28T16:57:00.545052Z",
     "shell.execute_reply": "2021-06-28T16:57:00.544731Z"
    },
    "slideshow": {
     "slide_type": "fragment"
    }
   },
   "outputs": [],
   "source": [
    "class example1 {\n",
    "    int _a;\n",
    "    string _b;\n",
    "    bool _c;\n",
    "\n",
    "    auto as_tuple() const { return tie(_a, _b, _c); }\n",
    "public:\n",
    "    example1(int a, string b, bool c) : _a(move(a)), _b(move(b)), _c(move(c)) { }\n",
    "    \n",
    "    friend inline bool operator==(const example1& x, const example1& y) {\n",
    "        return x.as_tuple() == y.as_tuple();\n",
    "    }\n",
    "    friend inline bool operator<(const example1& x, const example1& y) {\n",
    "        return x.as_tuple() < y.as_tuple();\n",
    "    }\n",
    "    //...\n",
    "};"
   ]
  },
  {
   "cell_type": "code",
   "execution_count": 12,
   "id": "appropriate-interaction",
   "metadata": {
    "execution": {
     "iopub.execute_input": "2021-06-28T16:57:00.547066Z",
     "iopub.status.busy": "2021-06-28T16:57:00.546456Z",
     "iopub.status.idle": "2021-06-28T16:57:00.569669Z",
     "shell.execute_reply": "2021-06-28T16:57:00.567758Z"
    },
    "slideshow": {
     "slide_type": "slide"
    }
   },
   "outputs": [
    {
     "name": "stdout",
     "output_type": "stream",
     "text": [
      "x == x: true\n"
     ]
    },
    {
     "name": "stdout",
     "output_type": "stream",
     "text": [
      "x == y: false\n"
     ]
    },
    {
     "name": "stdout",
     "output_type": "stream",
     "text": [
      "x < y: true\n"
     ]
    },
    {
     "name": "stdout",
     "output_type": "stream",
     "text": [
      "y < x: false\n"
     ]
    },
    {
     "name": "stdout",
     "output_type": "stream",
     "text": [
      "x < x: false\n"
     ]
    }
   ],
   "source": [
    "{\n",
    "    example1 x(10, \"Hello\", false);\n",
    "    example1 y(10, \"World\", false);\n",
    "    \n",
    "    cout << boolalpha;\n",
    "    cout << \"x == x: \" << (x == x) << endl;\n",
    "    cout << \"x == y: \" << (x == y) << endl;\n",
    "    cout << \"x < y: \" << (x < y) << endl;\n",
    "    cout << \"y < x: \" << (y < x) << endl;\n",
    "    cout << \"x < x: \" << (x < x) << endl;\n",
    "}"
   ]
  },
  {
   "cell_type": "markdown",
   "id": "dress-catholic",
   "metadata": {
    "slideshow": {
     "slide_type": "slide"
    }
   },
   "source": [
    "## Parameter Packs\n",
    "- A type parameter pack is a template argument representing a sequence of types\n",
    "- A function parameter pack is a set of function arguments matching a type parameter pack"
   ]
  },
  {
   "cell_type": "code",
   "execution_count": 13,
   "id": "reflected-ozone",
   "metadata": {
    "execution": {
     "iopub.execute_input": "2021-06-28T16:57:00.571778Z",
     "iopub.status.busy": "2021-06-28T16:57:00.571227Z",
     "iopub.status.idle": "2021-06-28T16:57:00.572623Z",
     "shell.execute_reply": "2021-06-28T16:57:00.572282Z"
    },
    "slideshow": {
     "slide_type": "fragment"
    }
   },
   "outputs": [],
   "source": [
    "template <class... Args> // Args is a type parameter pack\n",
    "void example_fn1(Args... args); // Args... is a pack expansion\n",
    "                                // args is a function parameter pack"
   ]
  },
  {
   "cell_type": "markdown",
   "id": "threatened-virginia",
   "metadata": {
    "slideshow": {
     "slide_type": "slide"
    }
   },
   "source": [
    "- Although one might think that `Args` would be a tuple type and `args` a tuple instance that is not the case"
   ]
  },
  {
   "cell_type": "markdown",
   "id": "average-asbestos",
   "metadata": {
    "slideshow": {
     "slide_type": "fragment"
    }
   },
   "source": [
    "```cpp\n",
    "template <class... Args>\n",
    "void example_fn1(Args... args) {\n",
    "    auto x = args;\n",
    "}\n",
    "```\n",
    "---\n",
    "```\n",
    "input_line_26:3:14: error: initializer contains unexpanded parameter pack 'args'\n",
    "    auto x = args;\n",
    "             ^~~~\n",
    "```"
   ]
  },
  {
   "cell_type": "markdown",
   "id": "honest-alexander",
   "metadata": {
    "slideshow": {
     "slide_type": "slide"
    }
   },
   "source": [
    "- In order to use a parameter pack, it must be _expanded_ with `...`"
   ]
  },
  {
   "cell_type": "code",
   "execution_count": 14,
   "id": "educated-smith",
   "metadata": {
    "execution": {
     "iopub.execute_input": "2021-06-28T16:57:00.574558Z",
     "iopub.status.busy": "2021-06-28T16:57:00.574066Z",
     "iopub.status.idle": "2021-06-28T16:57:00.574874Z",
     "shell.execute_reply": "2021-06-28T16:57:00.575112Z"
    },
    "slideshow": {
     "slide_type": "fragment"
    }
   },
   "outputs": [],
   "source": [
    "template <class... Args>\n",
    "void example_fn2(Args... args) {\n",
    "    tuple x = { args... }; // expand parameter pack into a tuple\n",
    "}"
   ]
  },
  {
   "cell_type": "markdown",
   "id": "spread-desktop",
   "metadata": {
    "slideshow": {
     "slide_type": "slide"
    }
   },
   "source": [
    "- The pack expansion is the equivalent of replacing it with a comma separated list `arg1, arg2, arg3, ...`\n",
    "    - and can be used almost anyplace a comma separated list is allowed\n",
    "- The expansion can also occur after a valid subexpression containing the parameter pack\n",
    "    - In which case the subexpression is repeated"
   ]
  },
  {
   "cell_type": "code",
   "execution_count": 15,
   "id": "equipped-complement",
   "metadata": {
    "execution": {
     "iopub.execute_input": "2021-06-28T16:57:00.577140Z",
     "iopub.status.busy": "2021-06-28T16:57:00.576605Z",
     "iopub.status.idle": "2021-06-28T16:57:00.577614Z",
     "shell.execute_reply": "2021-06-28T16:57:00.577861Z"
    },
    "slideshow": {
     "slide_type": "fragment"
    }
   },
   "outputs": [],
   "source": [
    "// A C++14 implementation of make_tuple()\n",
    "\n",
    "template <class... Args>\n",
    "auto make_tuple1(\n",
    "    Args&&... args) { // type parameter pack expansion to forward references\n",
    "    return tuple<decay_t<Args>...>(\n",
    "        forward<Args>(args)...); // type and function parameter pack expansions\n",
    "}"
   ]
  },
  {
   "cell_type": "code",
   "execution_count": 16,
   "id": "egyptian-implement",
   "metadata": {
    "execution": {
     "iopub.execute_input": "2021-06-28T16:57:00.579681Z",
     "iopub.status.busy": "2021-06-28T16:57:00.579238Z",
     "iopub.status.idle": "2021-06-28T16:57:00.595730Z",
     "shell.execute_reply": "2021-06-28T16:57:00.594793Z"
    },
    "slideshow": {
     "slide_type": "slide"
    }
   },
   "outputs": [
    {
     "name": "stdout",
     "output_type": "stream",
     "text": [
      "10, Hello, false\n"
     ]
    }
   ],
   "source": [
    "{\n",
    "auto [a, b, c] = make_tuple1(10, \"Hello\", false);\n",
    "cout << a << \", \" << b << \", \" << c << endl;\n",
    "}"
   ]
  },
  {
   "cell_type": "markdown",
   "id": "atlantic-charlotte",
   "metadata": {
    "slideshow": {
     "slide_type": "slide"
    }
   },
   "source": [
    "- C++17 adds _fold expressions_, this allows parameter packs to be expanded with an arbitrary binary function"
   ]
  },
  {
   "cell_type": "code",
   "execution_count": 17,
   "id": "requested-melbourne",
   "metadata": {
    "execution": {
     "iopub.execute_input": "2021-06-28T16:57:00.597945Z",
     "iopub.status.busy": "2021-06-28T16:57:00.597634Z",
     "iopub.status.idle": "2021-06-28T16:57:00.598836Z",
     "shell.execute_reply": "2021-06-28T16:57:00.598449Z"
    },
    "slideshow": {
     "slide_type": "fragment"
    }
   },
   "outputs": [],
   "source": [
    "template <class T, class... Args>\n",
    "auto sum(T&& initial, Args&&... args) {\n",
    "    return (forward<T>(initial) + ... + forward<Args>(args));\n",
    "}"
   ]
  },
  {
   "cell_type": "code",
   "execution_count": 18,
   "id": "judicial-ontario",
   "metadata": {
    "execution": {
     "iopub.execute_input": "2021-06-28T16:57:00.600748Z",
     "iopub.status.busy": "2021-06-28T16:57:00.600223Z",
     "iopub.status.idle": "2021-06-28T16:57:00.610748Z",
     "shell.execute_reply": "2021-06-28T16:57:00.609854Z"
    },
    "slideshow": {
     "slide_type": "fragment"
    }
   },
   "outputs": [
    {
     "name": "stdout",
     "output_type": "stream",
     "text": [
      "9\n"
     ]
    },
    {
     "name": "stdout",
     "output_type": "stream",
     "text": [
      "Hello Class!\n"
     ]
    }
   ],
   "source": [
    "{\n",
    "    cout << sum(1, 3, 5) << endl;\n",
    "    cout << sum(\"Hello\"s, \" \", \"Class!\") << endl;\n",
    "}"
   ]
  },
  {
   "cell_type": "markdown",
   "id": "clear-parcel",
   "metadata": {
    "slideshow": {
     "slide_type": "slide"
    }
   },
   "source": [
    "- Non-type template parameter packs also work"
   ]
  },
  {
   "cell_type": "code",
   "execution_count": 19,
   "id": "egyptian-effect",
   "metadata": {
    "execution": {
     "iopub.execute_input": "2021-06-28T16:57:00.612287Z",
     "iopub.status.busy": "2021-06-28T16:57:00.611931Z",
     "iopub.status.idle": "2021-06-28T16:57:00.613366Z",
     "shell.execute_reply": "2021-06-28T16:57:00.613003Z"
    },
    "slideshow": {
     "slide_type": "fragment"
    }
   },
   "outputs": [],
   "source": [
    "template <int... Ns>\n",
    "constexpr int sum() {\n",
    "    return (... + Ns);\n",
    "}"
   ]
  },
  {
   "cell_type": "code",
   "execution_count": 20,
   "id": "informed-surrey",
   "metadata": {
    "execution": {
     "iopub.execute_input": "2021-06-28T16:57:00.614678Z",
     "iopub.status.busy": "2021-06-28T16:57:00.614302Z",
     "iopub.status.idle": "2021-06-28T16:57:00.617551Z",
     "shell.execute_reply": "2021-06-28T16:57:00.617221Z"
    },
    "slideshow": {
     "slide_type": "fragment"
    }
   },
   "outputs": [
    {
     "name": "stdout",
     "output_type": "stream",
     "text": [
      "10\n"
     ]
    }
   ],
   "source": [
    "{\n",
    "    cout << sum<1, 2, 3, 4>() << endl;\n",
    "}"
   ]
  },
  {
   "cell_type": "markdown",
   "id": "flying-place",
   "metadata": {
    "slideshow": {
     "slide_type": "slide"
    }
   },
   "source": [
    "- `auto...` can be used to create a function parameter pack in a lambda"
   ]
  },
  {
   "cell_type": "code",
   "execution_count": 21,
   "id": "southern-transition",
   "metadata": {
    "execution": {
     "iopub.execute_input": "2021-06-28T16:57:00.619112Z",
     "iopub.status.busy": "2021-06-28T16:57:00.618773Z",
     "iopub.status.idle": "2021-06-28T16:57:00.621592Z",
     "shell.execute_reply": "2021-06-28T16:57:00.621254Z"
    },
    "slideshow": {
     "slide_type": "fragment"
    }
   },
   "outputs": [
    {
     "name": "stdout",
     "output_type": "stream",
     "text": [
      "15\n"
     ]
    }
   ],
   "source": [
    "{\n",
    "    auto product = [](auto... args) { return (args * ...); };\n",
    "\n",
    "    cout << product(1, 3, 5) << endl;\n",
    "}"
   ]
  },
  {
   "cell_type": "markdown",
   "id": "rubber-madison",
   "metadata": {
    "slideshow": {
     "slide_type": "slide"
    }
   },
   "source": [
    "- But you can't use _`type...`_ to get a non-type parameter pack"
   ]
  },
  {
   "cell_type": "markdown",
   "id": "human-palestinian",
   "metadata": {
    "slideshow": {
     "slide_type": "fragment"
    }
   },
   "source": [
    "```cpp\n",
    "{\n",
    "    auto product = [](int... args){ return (args * ...); };\n",
    "}\n",
    "```\n",
    "```\n",
    "input_line_52:3:26: error: type 'int' of function parameter pack does not contain any unexpanded parameter\n",
    "      packs\n",
    "    auto product = [](int... args){ return (args * ...); };\n",
    "```"
   ]
  },
  {
   "cell_type": "markdown",
   "id": "superior-diversity",
   "metadata": {
    "slideshow": {
     "slide_type": "slide"
    }
   },
   "source": [
    "- `sizeof...()` will tell you the number of elements in a parameter pack"
   ]
  },
  {
   "cell_type": "code",
   "execution_count": 22,
   "id": "convertible-guess",
   "metadata": {
    "execution": {
     "iopub.execute_input": "2021-06-28T16:57:00.623203Z",
     "iopub.status.busy": "2021-06-28T16:57:00.622817Z",
     "iopub.status.idle": "2021-06-28T16:57:00.623696Z",
     "shell.execute_reply": "2021-06-28T16:57:00.623958Z"
    },
    "slideshow": {
     "slide_type": "fragment"
    }
   },
   "outputs": [],
   "source": [
    "template <class... Args>\n",
    "size_t arg_count(const Args&... args) {\n",
    "    return sizeof...(args);\n",
    "}"
   ]
  },
  {
   "cell_type": "code",
   "execution_count": 23,
   "id": "separated-machinery",
   "metadata": {
    "execution": {
     "iopub.execute_input": "2021-06-28T16:57:00.625618Z",
     "iopub.status.busy": "2021-06-28T16:57:00.625226Z",
     "iopub.status.idle": "2021-06-28T16:57:00.628216Z",
     "shell.execute_reply": "2021-06-28T16:57:00.627904Z"
    },
    "slideshow": {
     "slide_type": "fragment"
    }
   },
   "outputs": [
    {
     "name": "stdout",
     "output_type": "stream",
     "text": [
      "3\n"
     ]
    }
   ],
   "source": [
    "{\n",
    "    cout << arg_count(1, 32.5, \"Hello\") << endl;\n",
    "}"
   ]
  },
  {
   "cell_type": "markdown",
   "id": "liquid-argument",
   "metadata": {
    "slideshow": {
     "slide_type": "slide"
    }
   },
   "source": [
    "- `std::apply()` converts a tuple into arguments to a function\n",
    "    - _C++17 but easily implemented in C++14_"
   ]
  },
  {
   "cell_type": "code",
   "execution_count": 24,
   "id": "specified-praise",
   "metadata": {
    "execution": {
     "iopub.execute_input": "2021-06-28T16:57:00.629877Z",
     "iopub.status.busy": "2021-06-28T16:57:00.629457Z",
     "iopub.status.idle": "2021-06-28T16:57:00.645010Z",
     "shell.execute_reply": "2021-06-28T16:57:00.643906Z"
    },
    "slideshow": {
     "slide_type": "fragment"
    }
   },
   "outputs": [
    {
     "name": "stdout",
     "output_type": "stream",
     "text": [
      "Hello!\n"
     ]
    },
    {
     "name": "stdout",
     "output_type": "stream",
     "text": [
      "Hello!\n"
     ]
    },
    {
     "name": "stdout",
     "output_type": "stream",
     "text": [
      "Hello!\n"
     ]
    }
   ],
   "source": [
    "{\n",
    "    tuple x = { \"Hello!\"s, 3 };\n",
    "    \n",
    "    apply([](const string& str, int n){\n",
    "        while (n-- != 0) cout << str << endl;\n",
    "    }, x);\n",
    "}"
   ]
  },
  {
   "cell_type": "markdown",
   "id": "former-league",
   "metadata": {
    "slideshow": {
     "slide_type": "slide"
    }
   },
   "source": [
    "- We can use `apply()` to convert a tuple into an argument pack"
   ]
  },
  {
   "cell_type": "code",
   "execution_count": 25,
   "id": "acknowledged-locator",
   "metadata": {
    "execution": {
     "iopub.execute_input": "2021-06-28T16:57:00.647248Z",
     "iopub.status.busy": "2021-06-28T16:57:00.646896Z",
     "iopub.status.idle": "2021-06-28T16:57:00.667871Z",
     "shell.execute_reply": "2021-06-28T16:57:00.667571Z"
    },
    "slideshow": {
     "slide_type": "fragment"
    }
   },
   "outputs": [
    {
     "name": "stdout",
     "output_type": "stream",
     "text": [
      "25\n"
     ]
    }
   ],
   "source": [
    "{\n",
    "    tuple x = {1, 3, 5, 7, 9};\n",
    "\n",
    "    cout << apply([](auto... args) { return (... + args); }, x) << endl;\n",
    "}"
   ]
  },
  {
   "cell_type": "markdown",
   "id": "premium-praise",
   "metadata": {
    "slideshow": {
     "slide_type": "slide"
    }
   },
   "source": [
    "## `initializer_list<>`\n",
    "- When a function takes an argument of type `std::initializer_list<>` it may be passed a list of elements of the same type"
   ]
  },
  {
   "cell_type": "code",
   "execution_count": 26,
   "id": "cellular-airport",
   "metadata": {
    "execution": {
     "iopub.execute_input": "2021-06-28T16:57:00.669974Z",
     "iopub.status.busy": "2021-06-28T16:57:00.669657Z",
     "iopub.status.idle": "2021-06-28T16:57:00.675257Z",
     "shell.execute_reply": "2021-06-28T16:57:00.674966Z"
    },
    "slideshow": {
     "slide_type": "fragment"
    }
   },
   "outputs": [
    {
     "name": "stdout",
     "output_type": "stream",
     "text": [
      "15\n"
     ]
    }
   ],
   "source": [
    "{\n",
    "    auto product = [](initializer_list<int> args) {\n",
    "        // should use reduce but not implemented in libstdc++\n",
    "        // return (args * ...);\n",
    "        return accumulate(begin(args), end(args), 1, multiplies());\n",
    "    };\n",
    "\n",
    "    cout << product({1, 3, 5}) << endl;\n",
    "}"
   ]
  },
  {
   "cell_type": "markdown",
   "id": "palestinian-constant",
   "metadata": {
    "slideshow": {
     "slide_type": "slide"
    }
   },
   "source": [
    "- The intended use is to allow constructors for containers to behave as constructors for built in arrays"
   ]
  },
  {
   "cell_type": "code",
   "execution_count": 27,
   "id": "cleared-fellow",
   "metadata": {
    "execution": {
     "iopub.execute_input": "2021-06-28T16:57:00.676985Z",
     "iopub.status.busy": "2021-06-28T16:57:00.676618Z",
     "iopub.status.idle": "2021-06-28T16:57:00.698029Z",
     "shell.execute_reply": "2021-06-28T16:57:00.696615Z"
    },
    "slideshow": {
     "slide_type": "fragment"
    }
   },
   "outputs": [
    {
     "name": "stdout",
     "output_type": "stream",
     "text": [
      "0\n"
     ]
    },
    {
     "name": "stdout",
     "output_type": "stream",
     "text": [
      "10\n"
     ]
    },
    {
     "name": "stdout",
     "output_type": "stream",
     "text": [
      "20\n"
     ]
    },
    {
     "name": "stdout",
     "output_type": "stream",
     "text": [
      "30\n"
     ]
    }
   ],
   "source": [
    "{\n",
    "    vector v = {0, 10, 20, 30};\n",
    "    \n",
    "    for (const auto& e : v) cout << e << endl;\n",
    "}"
   ]
  },
  {
   "cell_type": "markdown",
   "id": "intermediate-russian",
   "metadata": {
    "slideshow": {
     "slide_type": "slide"
    }
   },
   "source": [
    "- An `initializer_list<>` differs from a parameter pack in a few ways\n",
    "    - The elements in an `initializer_list<>` can only be a single type\n",
    "    - Even though the `initializer_list<>` is a temporary object, access to it is always via `const &`\n",
    "        - It is not possible to move or forward from an `initializer_list<>`\n",
    "    - Elements of an `initializer_list<>` are allowed to be stored in read-only memory\n",
    "    - **The order the element expressions are evaluated in an `initializer_list<>` is defined to be left-to-right**\n",
    "    - An `initializer_list<>` does not require a template interface\n",
    "        - Can be used in a function prototype in a header\n",
    "    - An `initializer_list<>` can be used with a range based for loop\n",
    "    \n",
    "- An `initializer_list` is not a library only feature, it is a language feature exposed through a library interface"
   ]
  },
  {
   "cell_type": "code",
   "execution_count": 28,
   "id": "eligible-seventh",
   "metadata": {
    "execution": {
     "iopub.execute_input": "2021-06-28T16:57:00.699990Z",
     "iopub.status.busy": "2021-06-28T16:57:00.699509Z",
     "iopub.status.idle": "2021-06-28T16:57:00.704776Z",
     "shell.execute_reply": "2021-06-28T16:57:00.704109Z"
    },
    "slideshow": {
     "slide_type": "slide"
    }
   },
   "outputs": [
    {
     "name": "stdout",
     "output_type": "stream",
     "text": [
      "Hello\n"
     ]
    },
    {
     "name": "stdout",
     "output_type": "stream",
     "text": [
      "World!\n"
     ]
    }
   ],
   "source": [
    "{\n",
    "    auto a = { \"Hello\"s, \"World!\"s }; // a is initializer_list<string>\n",
    "    for (const auto& e : a) cout << e << endl;\n",
    "}"
   ]
  },
  {
   "cell_type": "markdown",
   "id": "searching-proposal",
   "metadata": {
    "slideshow": {
     "slide_type": "fragment"
    }
   },
   "source": [
    "```cpp\n",
    "{\n",
    "    auto a = { \"Hello\"s, 10 };\n",
    "}\n",
    "```\n",
    "```\n",
    "input_line_47:3:10: error: cannot deduce actual type for variable 'a' with type\n",
    "'auto' from initializer list\n",
    "    auto a = { \"Hello\"s, 10 };\n",
    "         ^   ~~~~~~~~~~~~~~~~\n",
    "```"
   ]
  },
  {
   "cell_type": "markdown",
   "id": "intellectual-doctrine",
   "metadata": {
    "slideshow": {
     "slide_type": "slide"
    }
   },
   "source": [
    "## Combining the three building blocks"
   ]
  },
  {
   "cell_type": "markdown",
   "id": "ruled-mailing",
   "metadata": {
    "slideshow": {
     "slide_type": "slide"
    }
   },
   "source": [
    "- By exploiting the fact that an initializer list evaluates in order we can iterate over a function parameter pack\n",
    "    - Thanks to Eric Niebler for the suggestion"
   ]
  },
  {
   "cell_type": "code",
   "execution_count": 29,
   "id": "spread-situation",
   "metadata": {
    "execution": {
     "iopub.execute_input": "2021-06-28T16:57:00.706473Z",
     "iopub.status.busy": "2021-06-28T16:57:00.705932Z",
     "iopub.status.idle": "2021-06-28T16:57:00.707622Z",
     "shell.execute_reply": "2021-06-28T16:57:00.707169Z"
    },
    "slideshow": {
     "slide_type": "fragment"
    }
   },
   "outputs": [],
   "source": [
    "template <class F, class... Args>\n",
    "constexpr F for_each_argument(F f, Args&&... args) {\n",
    "    (void)std::initializer_list<int>{(f(std::forward<Args>(args)), 0)...};\n",
    "    return f;\n",
    "}"
   ]
  },
  {
   "cell_type": "code",
   "execution_count": 30,
   "id": "assigned-attitude",
   "metadata": {
    "execution": {
     "iopub.execute_input": "2021-06-28T16:57:00.709492Z",
     "iopub.status.busy": "2021-06-28T16:57:00.709000Z",
     "iopub.status.idle": "2021-06-28T16:57:00.714716Z",
     "shell.execute_reply": "2021-06-28T16:57:00.713680Z"
    },
    "slideshow": {
     "slide_type": "fragment"
    }
   },
   "outputs": [
    {
     "name": "stdout",
     "output_type": "stream",
     "text": [
      "10\n"
     ]
    },
    {
     "name": "stdout",
     "output_type": "stream",
     "text": [
      "Hello!\n"
     ]
    },
    {
     "name": "stdout",
     "output_type": "stream",
     "text": [
      "35.2\n"
     ]
    }
   ],
   "source": [
    "{\n",
    "    for_each_argument([](const auto& e){\n",
    "        cout << e << endl;\n",
    "    }, 10, \"Hello!\", 35.2);\n",
    "}"
   ]
  },
  {
   "cell_type": "markdown",
   "id": "central-shaft",
   "metadata": {
    "slideshow": {
     "slide_type": "slide"
    }
   },
   "source": [
    "- We can use `apply()` to convert a tuple to an argument list\n",
    "    - Combined with `for_each_argument()` we can iterate over a tuple"
   ]
  },
  {
   "cell_type": "code",
   "execution_count": 31,
   "id": "excellent-rental",
   "metadata": {
    "execution": {
     "iopub.execute_input": "2021-06-28T16:57:00.716954Z",
     "iopub.status.busy": "2021-06-28T16:57:00.716456Z",
     "iopub.status.idle": "2021-06-28T16:57:00.717380Z",
     "shell.execute_reply": "2021-06-28T16:57:00.717665Z"
    },
    "slideshow": {
     "slide_type": "fragment"
    }
   },
   "outputs": [],
   "source": [
    "namespace {\n",
    "\n",
    "template <class F, class Tuple>\n",
    "constexpr F for_each_element(F f, Tuple&& t) {\n",
    "    return std::apply(\n",
    "        [_f = std::move(f)](auto&&... args) {\n",
    "            return for_each_argument(std::move(_f),\n",
    "                                     std::forward<decltype(args)>(args)...);\n",
    "        },\n",
    "        std::forward<Tuple>(t));\n",
    "}\n",
    "\n",
    "} // namespace"
   ]
  },
  {
   "cell_type": "code",
   "execution_count": 32,
   "id": "faced-credits",
   "metadata": {
    "execution": {
     "iopub.execute_input": "2021-06-28T16:57:00.719667Z",
     "iopub.status.busy": "2021-06-28T16:57:00.719249Z",
     "iopub.status.idle": "2021-06-28T16:57:00.741064Z",
     "shell.execute_reply": "2021-06-28T16:57:00.740009Z"
    },
    "slideshow": {
     "slide_type": "slide"
    }
   },
   "outputs": [
    {
     "name": "stdout",
     "output_type": "stream",
     "text": [
      "10\n"
     ]
    },
    {
     "name": "stdout",
     "output_type": "stream",
     "text": [
      "Hello!\n"
     ]
    },
    {
     "name": "stdout",
     "output_type": "stream",
     "text": [
      "35.2\n"
     ]
    }
   ],
   "source": [
    "{\n",
    "    for_each_element([](const auto& e){\n",
    "        cout << e << endl;\n",
    "    }, tuple(10, \"Hello!\"s, 35.2));\n",
    "}"
   ]
  },
  {
   "cell_type": "markdown",
   "id": "amateur-toyota",
   "metadata": {
    "slideshow": {
     "slide_type": "slide"
    }
   },
   "source": [
    "- By using `tie()` to reflect a object members into a tuple, we can iterate the members of the object"
   ]
  },
  {
   "cell_type": "code",
   "execution_count": 33,
   "id": "soviet-friend",
   "metadata": {
    "execution": {
     "iopub.execute_input": "2021-06-28T16:57:00.743008Z",
     "iopub.status.busy": "2021-06-28T16:57:00.742424Z",
     "iopub.status.idle": "2021-06-28T16:57:00.749221Z",
     "shell.execute_reply": "2021-06-28T16:57:00.748974Z"
    },
    "slideshow": {
     "slide_type": "fragment"
    }
   },
   "outputs": [],
   "source": [
    "namespace {\n",
    "    \n",
    "class example2 {\n",
    "    int _a;\n",
    "    string _b;\n",
    "    bool _c;\n",
    "\n",
    "    auto as_tuple() const { return tie(_a, _b, _c); }\n",
    "public:\n",
    "    example2(int a, string b, bool c) : _a(move(a)), _b(move(b)), _c(move(c)) { }\n",
    "    \n",
    "    friend inline ostream& operator<<(ostream& out, const example2& x) {\n",
    "        for_each_element([&](const auto& e){\n",
    "            out << boolalpha << e << endl;\n",
    "        }, x.as_tuple());\n",
    "        return out;\n",
    "    }\n",
    "};\n",
    "    \n",
    "} // namespace"
   ]
  },
  {
   "cell_type": "code",
   "execution_count": 34,
   "id": "departmental-potato",
   "metadata": {
    "execution": {
     "iopub.execute_input": "2021-06-28T16:57:00.751073Z",
     "iopub.status.busy": "2021-06-28T16:57:00.750662Z",
     "iopub.status.idle": "2021-06-28T16:57:00.769081Z",
     "shell.execute_reply": "2021-06-28T16:57:00.767946Z"
    },
    "slideshow": {
     "slide_type": "slide"
    }
   },
   "outputs": [
    {
     "name": "stdout",
     "output_type": "stream",
     "text": [
      "42\n"
     ]
    },
    {
     "name": "stdout",
     "output_type": "stream",
     "text": [
      "Hello World\n"
     ]
    },
    {
     "name": "stdout",
     "output_type": "stream",
     "text": [
      "true\n"
     ]
    }
   ],
   "source": [
    "{\n",
    "    example2 x(42, \"Hello World\", true);\n",
    "    cout << x;\n",
    "}"
   ]
  },
  {
   "cell_type": "markdown",
   "id": "center-bridges",
   "metadata": {
    "slideshow": {
     "slide_type": "slide"
    }
   },
   "source": [
    "- Recall our implementation of a polymorphic task\n",
    "    - Using parameter packs we can write a task that takes any number of arguments and returns a value"
   ]
  },
  {
   "cell_type": "code",
   "execution_count": 35,
   "id": "collected-tennessee",
   "metadata": {
    "execution": {
     "iopub.execute_input": "2021-06-28T16:57:00.770808Z",
     "iopub.status.busy": "2021-06-28T16:57:00.770291Z",
     "iopub.status.idle": "2021-06-28T16:57:00.772052Z",
     "shell.execute_reply": "2021-06-28T16:57:00.771714Z"
    },
    "slideshow": {
     "slide_type": "slide"
    }
   },
   "outputs": [],
   "source": [
    "namespace {\n",
    "\n",
    "template <class>\n",
    "class task;\n",
    "\n",
    "template <class R, class... Args>\n",
    "class task<R(Args...)> {\n",
    "    struct concept;\n",
    "    \n",
    "    template <class F>\n",
    "    struct model;\n",
    "    \n",
    "    unique_ptr<concept> _p;\n",
    "\n",
    "public:\n",
    "    constexpr task() noexcept = default;\n",
    "    template <class F>\n",
    "    task(F&& f) : _p(make_unique<model<decay_t<F>>>(forward<F>(f))) {}\n",
    "    task(task&&) noexcept = default;\n",
    "    task& operator=(task&&) noexcept = default;\n",
    "\n",
    "    R operator()(Args... args) { return _p->invoke(forward<Args>(args)...); }\n",
    "};\n",
    "    \n",
    "} // namespace"
   ]
  },
  {
   "cell_type": "code",
   "execution_count": 36,
   "id": "inside-connectivity",
   "metadata": {
    "execution": {
     "iopub.execute_input": "2021-06-28T16:57:00.773677Z",
     "iopub.status.busy": "2021-06-28T16:57:00.773116Z",
     "iopub.status.idle": "2021-06-28T16:57:00.774702Z",
     "shell.execute_reply": "2021-06-28T16:57:00.774181Z"
    },
    "slideshow": {
     "slide_type": "slide"
    }
   },
   "outputs": [],
   "source": [
    "namespace {\n",
    "    \n",
    "template <class R, class... Args>\n",
    "struct task<R(Args...)>::concept {\n",
    "    virtual ~concept() = default;\n",
    "    virtual R invoke(Args&&...) = 0;\n",
    "};\n",
    "\n",
    "template <class R, class... Args>\n",
    "template <class F>\n",
    "struct task<R(Args...)>::model final : concept {\n",
    "    template <class G>\n",
    "    explicit model(G&& f) : _f(forward<G>(f)) {}\n",
    "    R invoke(Args&&... args) override { return move(_f)(forward<Args>(args)...); }\n",
    "\n",
    "    F _f;\n",
    "};\n",
    "    \n",
    "} // namespace"
   ]
  },
  {
   "cell_type": "code",
   "execution_count": 37,
   "id": "successful-absence",
   "metadata": {
    "execution": {
     "iopub.execute_input": "2021-06-28T16:57:00.776404Z",
     "iopub.status.busy": "2021-06-28T16:57:00.775817Z",
     "iopub.status.idle": "2021-06-28T16:57:00.827498Z",
     "shell.execute_reply": "2021-06-28T16:57:00.826800Z"
    },
    "slideshow": {
     "slide_type": "slide"
    }
   },
   "outputs": [
    {
     "name": "stdout",
     "output_type": "stream",
     "text": [
      "Hello 5\n"
     ]
    }
   ],
   "source": [
    "{\n",
    "    task<string(int)> f;\n",
    "\n",
    "    f = [_prefix = \"Hello \"s](int suffix) mutable {\n",
    "        return move(_prefix) + to_string(suffix);\n",
    "    };\n",
    "\n",
    "    cout << f(5) << endl;\n",
    "}"
   ]
  },
  {
   "cell_type": "markdown",
   "id": "material-teacher",
   "metadata": {
    "slideshow": {
     "slide_type": "slide"
    }
   },
   "source": [
    "- A function parameter pack can be captured in a lambda"
   ]
  },
  {
   "cell_type": "code",
   "execution_count": 38,
   "id": "short-wrestling",
   "metadata": {
    "execution": {
     "iopub.execute_input": "2021-06-28T16:57:00.829508Z",
     "iopub.status.busy": "2021-06-28T16:57:00.828889Z",
     "iopub.status.idle": "2021-06-28T16:57:00.830643Z",
     "shell.execute_reply": "2021-06-28T16:57:00.830265Z"
    },
    "slideshow": {
     "slide_type": "fragment"
    }
   },
   "outputs": [],
   "source": [
    "template <class F, class... Args>\n",
    "auto bind_all_1(F f, Args&&... args) {\n",
    "    return [_f = move(f), args...] { _f(args...); };\n",
    "}"
   ]
  },
  {
   "cell_type": "code",
   "execution_count": 39,
   "id": "built-seller",
   "metadata": {
    "execution": {
     "iopub.execute_input": "2021-06-28T16:57:00.832242Z",
     "iopub.status.busy": "2021-06-28T16:57:00.831779Z",
     "iopub.status.idle": "2021-06-28T16:57:00.841531Z",
     "shell.execute_reply": "2021-06-28T16:57:00.841150Z"
    },
    "slideshow": {
     "slide_type": "fragment"
    }
   },
   "outputs": [
    {
     "name": "stdout",
     "output_type": "stream",
     "text": [
      "Hello, World!"
     ]
    }
   ],
   "source": [
    "{\n",
    "    auto print =\n",
    "        bind_all_1([](const string& a, const string& b) { cout << a << \", \" << b; },\n",
    "                   \"Hello\", \"World!\");\n",
    "\n",
    "    print();\n",
    "}"
   ]
  },
  {
   "cell_type": "markdown",
   "id": "loved-calibration",
   "metadata": {
    "slideshow": {
     "slide_type": "slide"
    }
   },
   "source": [
    "- However, there is no way to _move_ or _forward_ a function parameter pack directly into a lambda capture"
   ]
  },
  {
   "cell_type": "code",
   "execution_count": 40,
   "id": "meaning-burning",
   "metadata": {
    "execution": {
     "iopub.execute_input": "2021-06-28T16:57:00.843214Z",
     "iopub.status.busy": "2021-06-28T16:57:00.842670Z",
     "iopub.status.idle": "2021-06-28T16:57:00.852694Z",
     "shell.execute_reply": "2021-06-28T16:57:00.849823Z"
    },
    "slideshow": {
     "slide_type": "fragment"
    }
   },
   "outputs": [
    {
     "name": "stdout",
     "output_type": "stream",
     "text": [
      "annotate ctor\n"
     ]
    },
    {
     "name": "stdout",
     "output_type": "stream",
     "text": [
      "annotate ctor\n"
     ]
    },
    {
     "name": "stdout",
     "output_type": "stream",
     "text": [
      "annotate copy-ctor\n"
     ]
    },
    {
     "name": "stdout",
     "output_type": "stream",
     "text": [
      "annotate copy-ctor\n"
     ]
    },
    {
     "name": "stdout",
     "output_type": "stream",
     "text": [
      "annotate dtor\n"
     ]
    },
    {
     "name": "stdout",
     "output_type": "stream",
     "text": [
      "annotate dtor\n"
     ]
    },
    {
     "name": "stdout",
     "output_type": "stream",
     "text": [
      "annotate dtor\n"
     ]
    },
    {
     "name": "stdout",
     "output_type": "stream",
     "text": [
      "annotate dtor\n"
     ]
    }
   ],
   "source": [
    "{\n",
    "    auto print = bind_all_1([](const annotate& a, const annotate& b) {}, annotate(),\n",
    "                            annotate());\n",
    "\n",
    "    print();\n",
    "}"
   ]
  },
  {
   "cell_type": "markdown",
   "id": "sophisticated-dublin",
   "metadata": {
    "slideshow": {
     "slide_type": "slide"
    }
   },
   "source": [
    "- but you can forward a function parameter pack using a tuple"
   ]
  },
  {
   "cell_type": "code",
   "execution_count": 41,
   "id": "representative-tournament",
   "metadata": {
    "execution": {
     "iopub.execute_input": "2021-06-28T16:57:00.854304Z",
     "iopub.status.busy": "2021-06-28T16:57:00.853880Z",
     "iopub.status.idle": "2021-06-28T16:57:00.855115Z",
     "shell.execute_reply": "2021-06-28T16:57:00.854782Z"
    },
    "slideshow": {
     "slide_type": "fragment"
    }
   },
   "outputs": [],
   "source": [
    "template <class F, class... Args>\n",
    "auto bind_all_2(F f, Args&&... args) {\n",
    "    return\n",
    "        [_f = move(f), _args = tuple{forward<Args>(args)...}] { apply(_f, _args); };\n",
    "}"
   ]
  },
  {
   "cell_type": "code",
   "execution_count": 42,
   "id": "warming-fever",
   "metadata": {
    "execution": {
     "iopub.execute_input": "2021-06-28T16:57:00.856829Z",
     "iopub.status.busy": "2021-06-28T16:57:00.856179Z",
     "iopub.status.idle": "2021-06-28T16:57:00.876548Z",
     "shell.execute_reply": "2021-06-28T16:57:00.873890Z"
    },
    "slideshow": {
     "slide_type": "slide"
    }
   },
   "outputs": [
    {
     "name": "stdout",
     "output_type": "stream",
     "text": [
      "annotate ctor\n"
     ]
    },
    {
     "name": "stdout",
     "output_type": "stream",
     "text": [
      "annotate ctor\n"
     ]
    },
    {
     "name": "stdout",
     "output_type": "stream",
     "text": [
      "annotate move-ctor\n"
     ]
    },
    {
     "name": "stdout",
     "output_type": "stream",
     "text": [
      "annotate move-ctor\n"
     ]
    },
    {
     "name": "stdout",
     "output_type": "stream",
     "text": [
      "annotate dtor\n"
     ]
    },
    {
     "name": "stdout",
     "output_type": "stream",
     "text": [
      "annotate dtor\n"
     ]
    },
    {
     "name": "stdout",
     "output_type": "stream",
     "text": [
      "annotate dtor\n"
     ]
    },
    {
     "name": "stdout",
     "output_type": "stream",
     "text": [
      "annotate dtor\n"
     ]
    }
   ],
   "source": [
    "{\n",
    "    auto print = bind_all_2([](const annotate& a, const annotate& b) {}, annotate(),\n",
    "                            annotate());\n",
    "\n",
    "    print();\n",
    "}"
   ]
  },
  {
   "cell_type": "markdown",
   "id": "latin-brazil",
   "metadata": {
    "slideshow": {
     "slide_type": "slide"
    }
   },
   "source": [
    "## Recommendations\n",
    "- Tuples, parameter packs, and initializer lists are powerful tools for generative code\n",
    "- The ability to capture argument lists in tuples and expand back is useful for marshaling arguments\n",
    "- `tie()` is a useful tool for compile time reflection\n",
    "- Many use cases of function parameter packs are just to provide simple bindings\n",
    "    - Because of the complexity of specifying the callable object in C++, a lambda is a better solution\n",
    "    - e.g. `std::async(&f, a, b);` vs `std::async([=]{ f(a, b); });`\n",
    "- Generally `initializer_list<>` is troublesome because it doesn't support move, only use when the type is known to be trivial\n",
    "    - In practice, initialization with an `initializer_list<>` is rarely useful outside of a test case\n",
    "- Don't use a `tuple` where a `struct` would be more clear\n",
    "    - Especially true with C++17 structured bindings\n",
    "- Proceed with caution..."
   ]
  },
  {
   "cell_type": "markdown",
   "id": "informed-child",
   "metadata": {
    "incorrectly_encoded_metadata": "slideshow={\"slide_type\": \"slide\"} toc-hr-collapsed=false"
   },
   "source": [
    "## Homework\n",
    "- See if you can find a place in your project code that could be improved at the call site by using any of the above tools\n",
    "    - How significant is the improvement?\n",
    "    - How much complexity is required in the implementation to support it?\n",
    "- Report on the homework wiki https://git.corp.adobe.com/better-code/class/wiki/Homework"
   ]
  }
 ],
 "metadata": {
  "jupytext": {
   "formats": "ipynb,md"
  },
  "kernelspec": {
   "display_name": "C++17",
   "language": "C++17",
   "name": "xcpp17"
  },
  "language_info": {
   "codemirror_mode": "text/x-c++src",
   "file_extension": ".cpp",
   "mimetype": "text/x-c++src",
   "name": "c++",
   "version": "17"
  }
 },
 "nbformat": 4,
 "nbformat_minor": 5
}

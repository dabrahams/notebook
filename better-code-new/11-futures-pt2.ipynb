{
 "cells": [
  {
   "cell_type": "markdown",
   "id": "complete-twelve",
   "metadata": {
    "slideshow": {
     "slide_type": "skip"
    },
    "toc": true
   },
   "source": [
    "<h1>Table of Contents<span class=\"tocSkip\"></span></h1>\n",
    "<div class=\"toc\" style=\"margin-top: 1em;\"><ul class=\"toc-item\"><li><span><a href=\"#Futures-(pt2)\" data-toc-modified-id=\"Futures-(pt2)-1\"><span class=\"toc-item-num\">1&nbsp;&nbsp;</span>Futures (pt2)</a></span><ul class=\"toc-item\"><li><span><a href=\"#Homework\" data-toc-modified-id=\"Homework-1.1\"><span class=\"toc-item-num\">1.1&nbsp;&nbsp;</span>Homework</a></span></li></ul></li></ul></div>"
   ]
  },
  {
   "cell_type": "markdown",
   "id": "stuffed-electron",
   "metadata": {},
   "source": [
    "# Futures (pt2)"
   ]
  },
  {
   "cell_type": "code",
   "execution_count": 1,
   "id": "commercial-costa",
   "metadata": {
    "execution": {
     "iopub.execute_input": "2021-06-28T16:56:30.672385Z",
     "iopub.status.busy": "2021-06-28T16:56:30.671807Z",
     "iopub.status.idle": "2021-06-28T16:56:30.805212Z",
     "shell.execute_reply": "2021-06-28T16:56:30.804779Z"
    },
    "slideshow": {
     "slide_type": "skip"
    }
   },
   "outputs": [],
   "source": [
    "#include <mutex>\n",
    "#include <string>\n",
    "#include <unordered_set>\n",
    "#include <functional>\n",
    "#include <future>\n",
    "#include <condition_variable>\n",
    "#include <deque>\n",
    "#include <thread>\n",
    "#include <iostream>\n",
    "\n",
    "using namespace std;"
   ]
  },
  {
   "cell_type": "code",
   "execution_count": 2,
   "id": "executive-barrier",
   "metadata": {
    "execution": {
     "iopub.execute_input": "2021-06-28T16:56:30.807614Z",
     "iopub.status.busy": "2021-06-28T16:56:30.807171Z",
     "iopub.status.idle": "2021-06-28T16:56:30.808368Z",
     "shell.execute_reply": "2021-06-28T16:56:30.808011Z"
    },
    "slideshow": {
     "slide_type": "slide"
    }
   },
   "outputs": [],
   "source": [
    "namespace bcc0 {\n",
    "\n",
    "class task {\n",
    "    // Need implementation here\n",
    "public:\n",
    "    task() = default;\n",
    "    \n",
    "    task(const task&) = delete;\n",
    "    task(task&&) noexcept = default;\n",
    "    \n",
    "    task& operator=(const task&) = delete;\n",
    "    task& operator=(task&&) noexcept = default;\n",
    "    \n",
    "    template <class F> // F model void()\n",
    "    task(F f); // Need to implement\n",
    "    \n",
    "    void operator()(); // Need to implement\n",
    "};\n",
    "\n",
    "} // namespace bcc0"
   ]
  },
  {
   "cell_type": "code",
   "execution_count": 3,
   "id": "processed-wright",
   "metadata": {
    "execution": {
     "iopub.execute_input": "2021-06-28T16:56:30.809978Z",
     "iopub.status.busy": "2021-06-28T16:56:30.809573Z",
     "iopub.status.idle": "2021-06-28T16:56:30.817724Z",
     "shell.execute_reply": "2021-06-28T16:56:30.817231Z"
    },
    "run_control": {
     "marked": true
    },
    "slideshow": {
     "slide_type": "slide"
    }
   },
   "outputs": [],
   "source": [
    "namespace bcc {\n",
    "    \n",
    "class task {\n",
    "    struct concept;\n",
    "\n",
    "    template <class F>\n",
    "    struct model;\n",
    "\n",
    "    std::unique_ptr<concept> _self;\n",
    "\n",
    "public:\n",
    "    task() = default;\n",
    "    //...\n",
    "\n",
    "    template <class F> // F model void()\n",
    "    task(F f);         // Need to implement\n",
    "\n",
    "    void operator()(); // Need to implement\n",
    "};\n",
    "    \n",
    "} // namespace bcc"
   ]
  },
  {
   "cell_type": "code",
   "execution_count": 4,
   "id": "endless-christmas",
   "metadata": {
    "execution": {
     "iopub.execute_input": "2021-06-28T16:56:30.819514Z",
     "iopub.status.busy": "2021-06-28T16:56:30.819190Z",
     "iopub.status.idle": "2021-06-28T16:56:30.819986Z",
     "shell.execute_reply": "2021-06-28T16:56:30.820270Z"
    },
    "slideshow": {
     "slide_type": "skip"
    }
   },
   "outputs": [],
   "source": [
    "using namespace bcc;"
   ]
  },
  {
   "cell_type": "code",
   "execution_count": 5,
   "id": "weird-gentleman",
   "metadata": {
    "execution": {
     "iopub.execute_input": "2021-06-28T16:56:30.822116Z",
     "iopub.status.busy": "2021-06-28T16:56:30.821700Z",
     "iopub.status.idle": "2021-06-28T16:56:30.822482Z",
     "shell.execute_reply": "2021-06-28T16:56:30.822738Z"
    },
    "slideshow": {
     "slide_type": "slide"
    }
   },
   "outputs": [],
   "source": [
    "struct task::concept {\n",
    "    virtual ~concept() {}\n",
    "    virtual void invoke() = 0;\n",
    "};"
   ]
  },
  {
   "cell_type": "code",
   "execution_count": 6,
   "id": "improved-caution",
   "metadata": {
    "execution": {
     "iopub.execute_input": "2021-06-28T16:56:30.824401Z",
     "iopub.status.busy": "2021-06-28T16:56:30.824063Z",
     "iopub.status.idle": "2021-06-28T16:56:30.824797Z",
     "shell.execute_reply": "2021-06-28T16:56:30.825103Z"
    },
    "slideshow": {
     "slide_type": "fragment"
    }
   },
   "outputs": [],
   "source": [
    "template <class F>\n",
    "struct task::model final : concept {\n",
    "    F _f;\n",
    "    model(F f) : _f(move(f)) {}\n",
    "    void invoke() override { _f(); }\n",
    "};"
   ]
  },
  {
   "cell_type": "code",
   "execution_count": 7,
   "id": "flying-collar",
   "metadata": {
    "execution": {
     "iopub.execute_input": "2021-06-28T16:56:30.826616Z",
     "iopub.status.busy": "2021-06-28T16:56:30.826280Z",
     "iopub.status.idle": "2021-06-28T16:56:30.827046Z",
     "shell.execute_reply": "2021-06-28T16:56:30.827342Z"
    },
    "slideshow": {
     "slide_type": "slide"
    }
   },
   "outputs": [],
   "source": [
    "template <class F>\n",
    "task::task(F f) : _self(make_unique<model<F>>(move(f))) { }"
   ]
  },
  {
   "cell_type": "code",
   "execution_count": 8,
   "id": "reasonable-possible",
   "metadata": {
    "execution": {
     "iopub.execute_input": "2021-06-28T16:56:30.828906Z",
     "iopub.status.busy": "2021-06-28T16:56:30.828511Z",
     "iopub.status.idle": "2021-06-28T16:56:30.830708Z",
     "shell.execute_reply": "2021-06-28T16:56:30.830393Z"
    },
    "run_control": {
     "marked": true
    },
    "slideshow": {
     "slide_type": "fragment"
    }
   },
   "outputs": [],
   "source": [
    "namespace bcc {\n",
    "\n",
    "void task::operator()() { _self->invoke(); }\n",
    "\n",
    "} // namespace bcc"
   ]
  },
  {
   "cell_type": "markdown",
   "id": "animated-timing",
   "metadata": {
    "slideshow": {
     "slide_type": "fragment"
    }
   },
   "source": [
    "```cpp\n",
    "class sequential_process {\n",
    "    // using task = function<void()>;\n",
    "\n",
    "```"
   ]
  },
  {
   "cell_type": "code",
   "execution_count": 9,
   "id": "driven-coaching",
   "metadata": {
    "execution": {
     "iopub.execute_input": "2021-06-28T16:56:30.832528Z",
     "iopub.status.busy": "2021-06-28T16:56:30.832099Z",
     "iopub.status.idle": "2021-06-28T16:56:30.868484Z",
     "shell.execute_reply": "2021-06-28T16:56:30.868162Z"
    },
    "slideshow": {
     "slide_type": "skip"
    }
   },
   "outputs": [],
   "source": [
    "namespace bcc {\n",
    "\n",
    "class sequential_process {\n",
    "    // using task = function<void()>;\n",
    "\n",
    "    mutex _mutex;\n",
    "    condition_variable _condition;\n",
    "    deque<task> _queue;\n",
    "    bool _done = false;\n",
    "\n",
    "    void run_loop();\n",
    "\n",
    "    thread _thread{[this] { run_loop(); }};\n",
    "\n",
    "public:\n",
    "    ~sequential_process();\n",
    "    void async(task f);\n",
    "};\n",
    "    \n",
    "sequential_process::~sequential_process() {\n",
    "    {\n",
    "        lock_guard<mutex> lock(_mutex);\n",
    "        _done = true;\n",
    "    }\n",
    "    _condition.notify_one();\n",
    "    _thread.join();\n",
    "}\n",
    "\n",
    "void sequential_process::run_loop() {\n",
    "    while (true) {\n",
    "        task work;\n",
    "        {\n",
    "            unique_lock<mutex> lock(_mutex);\n",
    "\n",
    "            while (_queue.empty() && !_done) {\n",
    "                _condition.wait(lock);\n",
    "            }\n",
    "\n",
    "            if (_queue.empty()) return;\n",
    "\n",
    "            work = move(_queue.front());\n",
    "            _queue.pop_front();\n",
    "        }\n",
    "        work();\n",
    "    }\n",
    "}\n",
    "    \n",
    "void sequential_process::async(task f) {\n",
    "    {\n",
    "        lock_guard<mutex> lock(_mutex);\n",
    "        _queue.push_back(move(f));\n",
    "    }\n",
    "    _condition.notify_one();\n",
    "}\n",
    "    \n",
    "template <class F> // F models R()\n",
    "auto async_packaged(sequential_process& process, F&& f) {\n",
    "    using result_t = std::result_of_t<std::decay_t<F>()>;\n",
    "    \n",
    "    packaged_task<result_t()> task{std::forward<F>(f)};\n",
    "    auto result = task.get_future();\n",
    "    \n",
    "    process.async(move(task));\n",
    "    \n",
    "    return result;\n",
    "}\n",
    "    \n",
    "} // namespace bcc\n",
    "\n",
    "using namespace bcc;"
   ]
  },
  {
   "cell_type": "markdown",
   "id": "difficult-questionnaire",
   "metadata": {
    "slideshow": {
     "slide_type": "slide"
    }
   },
   "source": [
    "```cpp\n",
    "{\n",
    "sequential_process process;\n",
    "\n",
    "auto future = async_packaged(process, []{ return \"Hello World!\"s; });\n",
    "    \n",
    "cout << future.get() << endl;\n",
    "}\n",
    "```"
   ]
  },
  {
   "cell_type": "markdown",
   "id": "alternative-exercise",
   "metadata": {
    "slideshow": {
     "slide_type": "slide"
    }
   },
   "source": [
    "- You can only invoke `get()` on a future once\n",
    "    - subsequent invocations will throw an exception!\n",
    "    \n",
    "```cpp\n",
    "{\n",
    "sequential_process process;\n",
    "\n",
    "auto future = async_packaged(process, []{ return \"Hello World!\"s; });\n",
    "    \n",
    "cout << future.get() << endl;\n",
    "cout << future.get() << endl; // Will throw!\n",
    "}\n",
    "```"
   ]
  },
  {
   "cell_type": "markdown",
   "id": "adolescent-plant",
   "metadata": {
    "slideshow": {
     "slide_type": "fragment"
    }
   },
   "source": [
    "- If you need to check the value multiple times\n",
    "    - use `std::shared_future<>`\n",
    "    - store the result in `std::optional<>` _(C++17)_"
   ]
  },
  {
   "cell_type": "code",
   "execution_count": 10,
   "id": "dried-latest",
   "metadata": {
    "execution": {
     "iopub.execute_input": "2021-06-28T16:56:30.870432Z",
     "iopub.status.busy": "2021-06-28T16:56:30.870032Z",
     "iopub.status.idle": "2021-06-28T16:56:30.892486Z",
     "shell.execute_reply": "2021-06-28T16:56:30.892166Z"
    },
    "slideshow": {
     "slide_type": "slide"
    }
   },
   "outputs": [],
   "source": [
    "namespace v0 {\n",
    "\n",
    "class interned_string {\n",
    "    struct shared_pool {\n",
    "        mutex _mutex;\n",
    "        unordered_set<string> _pool;\n",
    "\n",
    "        const string* insert(const string& a) {\n",
    "            lock_guard<mutex> lock(_mutex);\n",
    "            return &*_pool.insert(a).first;\n",
    "        }\n",
    "    };\n",
    "\n",
    "    static auto pool() -> shared_pool& {\n",
    "        static shared_pool result;\n",
    "        return result;\n",
    "    }\n",
    "\n",
    "    const std::string* _string;\n",
    "\n",
    "public:\n",
    "    interned_string(const string& a) : _string(pool().insert(a)) {}\n",
    "    const string& str() const { return *_string; }\n",
    "};\n",
    "\n",
    "} // namespace v0"
   ]
  },
  {
   "cell_type": "code",
   "execution_count": 11,
   "id": "blessed-island",
   "metadata": {
    "execution": {
     "iopub.execute_input": "2021-06-28T16:56:30.894033Z",
     "iopub.status.busy": "2021-06-28T16:56:30.893630Z",
     "iopub.status.idle": "2021-06-28T16:56:30.940843Z",
     "shell.execute_reply": "2021-06-28T16:56:30.940549Z"
    },
    "slideshow": {
     "slide_type": "slide"
    }
   },
   "outputs": [],
   "source": [
    "struct shared_pool {\n",
    "    unordered_set<string> _pool;\n",
    "    sequential_process _process;\n",
    "    \n",
    "    auto insert(string a) -> future<const string*> {\n",
    "        return async_packaged(_process, [this, _a = move(a)]() mutable {\n",
    "            return &*_pool.insert(move(_a)).first;\n",
    "        });\n",
    "    }\n",
    "};"
   ]
  },
  {
   "cell_type": "code",
   "execution_count": 12,
   "id": "higher-purple",
   "metadata": {
    "execution": {
     "iopub.execute_input": "2021-06-28T16:56:30.942909Z",
     "iopub.status.busy": "2021-06-28T16:56:30.942457Z",
     "iopub.status.idle": "2021-06-28T16:56:30.944720Z",
     "shell.execute_reply": "2021-06-28T16:56:30.944400Z"
    },
    "run_control": {
     "marked": true
    },
    "slideshow": {
     "slide_type": "slide"
    }
   },
   "outputs": [],
   "source": [
    "namespace v1 {\n",
    "    \n",
    "class interned_string {\n",
    "    // struct shared_pool\n",
    "\n",
    "    static auto pool() -> shared_pool& {\n",
    "        static shared_pool result;\n",
    "        return result;\n",
    "    }\n",
    "\n",
    "    shared_future<const std::string*> _string;\n",
    "public:\n",
    "    interned_string(string a) : _string(pool().insert(move(a))) {}\n",
    "    const string& str() const { return *_string.get(); }\n",
    "};\n",
    "    \n",
    "} // namespace v1"
   ]
  },
  {
   "cell_type": "markdown",
   "id": "potential-affect",
   "metadata": {
    "slideshow": {
     "slide_type": "slide"
    }
   },
   "source": [
    "- `std::future<>` in C++11-17 is very limited\n",
    "    - with no continuations they do not compose\n",
    "        - there is no good way to extend `interned_string::str()` to return a future\n",
    "    - the blocking behavior of `get()` means\n",
    "        - we lose performance (Amdahl!)\n",
    "        - inappropriate to use in a pooled scheduler\n",
    "    - the _only call get once_ behavior makes them cumbersome and error prone\n",
    "        - converting to a `shared_future` imposes additional costs\n",
    "\n",
    "- Pros:\n",
    "    - replace some common uses of condition variables\n",
    "    - transformation from synchronous code to asynchronous code is simple\n",
    "    - some parallelism is better than none"
   ]
  },
  {
   "cell_type": "markdown",
   "id": "gross-height",
   "metadata": {
    "slideshow": {
     "slide_type": "slide"
    }
   },
   "source": [
    "## Homework\n",
    "- Read [Future Ruminations](http://sean-parent.stlab.cc/2017/07/10/future-ruminations.html)"
   ]
  }
 ],
 "metadata": {
  "jupytext": {
   "formats": "ipynb,md"
  },
  "kernelspec": {
   "display_name": "C++17",
   "language": "C++17",
   "name": "xcpp17"
  },
  "language_info": {
   "codemirror_mode": "text/x-c++src",
   "file_extension": ".cpp",
   "mimetype": "text/x-c++src",
   "name": "c++",
   "version": "17"
  }
 },
 "nbformat": 4,
 "nbformat_minor": 5
}

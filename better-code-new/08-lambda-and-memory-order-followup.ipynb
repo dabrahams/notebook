{
 "cells": [
  {
   "cell_type": "code",
   "execution_count": 1,
   "id": "floppy-comedy",
   "metadata": {
    "execution": {
     "iopub.execute_input": "2021-06-28T16:56:23.486889Z",
     "iopub.status.busy": "2021-06-28T16:56:23.486321Z",
     "iopub.status.idle": "2021-06-28T16:56:23.516017Z",
     "shell.execute_reply": "2021-06-28T16:56:23.515587Z"
    },
    "slideshow": {
     "slide_type": "skip"
    }
   },
   "outputs": [],
   "source": [
    "#include <set>\n",
    "#include <atomic>\n",
    "\n",
    "using namespace std;"
   ]
  },
  {
   "cell_type": "markdown",
   "id": "occupied-birth",
   "metadata": {
    "slideshow": {
     "slide_type": "slide"
    }
   },
   "source": [
    "# Lambda Expression Follow-up\n",
    "- Homework to use a lambda expression with a standard algorithm or container\n",
    "```cpp\n",
    "set<int, ???> s; // How do you use a lambda for a comparison type?\n",
    "```"
   ]
  },
  {
   "cell_type": "markdown",
   "id": "opponent-richardson",
   "metadata": {
    "slideshow": {
     "slide_type": "fragment"
    }
   },
   "source": [
    "- You cannot\n",
    "    - Best you can do is use a pointer to function or std::function and pass the lambda to the constructor as comparison"
   ]
  },
  {
   "cell_type": "code",
   "execution_count": 2,
   "id": "enclosed-upset",
   "metadata": {
    "execution": {
     "iopub.execute_input": "2021-06-28T16:56:23.517511Z",
     "iopub.status.busy": "2021-06-28T16:56:23.517141Z",
     "iopub.status.idle": "2021-06-28T16:56:23.535723Z",
     "shell.execute_reply": "2021-06-28T16:56:23.535419Z"
    },
    "slideshow": {
     "slide_type": "fragment"
    }
   },
   "outputs": [],
   "source": [
    "{\n",
    "    set<int, bool (*)(int a, int b)> s{[](int a, int b) { return a > b; }};\n",
    "}"
   ]
  },
  {
   "cell_type": "markdown",
   "id": "matched-enough",
   "metadata": {
    "slideshow": {
     "slide_type": "slide"
    }
   },
   "source": [
    "- Disadvantage is the expression cannot be inlined\n",
    "- Recommendation - continue to use function objects"
   ]
  },
  {
   "cell_type": "code",
   "execution_count": 3,
   "id": "latin-house",
   "metadata": {
    "execution": {
     "iopub.execute_input": "2021-06-28T16:56:23.537274Z",
     "iopub.status.busy": "2021-06-28T16:56:23.536859Z",
     "iopub.status.idle": "2021-06-28T16:56:23.550662Z",
     "shell.execute_reply": "2021-06-28T16:56:23.550344Z"
    },
    "slideshow": {
     "slide_type": "fragment"
    }
   },
   "outputs": [],
   "source": [
    "{\n",
    "    set<int, greater<>> s;\n",
    "}"
   ]
  },
  {
   "cell_type": "markdown",
   "id": "flush-lewis",
   "metadata": {
    "slideshow": {
     "slide_type": "slide"
    }
   },
   "source": [
    "# Memory Order Follow-up\n",
    "\n",
    "- It wasn't clear in my slides that C++11 allows you to specify the memory order on many operations"
   ]
  },
  {
   "cell_type": "code",
   "execution_count": 4,
   "id": "higher-significance",
   "metadata": {
    "execution": {
     "iopub.execute_input": "2021-06-28T16:56:23.552111Z",
     "iopub.status.busy": "2021-06-28T16:56:23.551714Z",
     "iopub.status.idle": "2021-06-28T16:56:23.555385Z",
     "shell.execute_reply": "2021-06-28T16:56:23.555041Z"
    },
    "slideshow": {
     "slide_type": "fragment"
    }
   },
   "outputs": [],
   "source": [
    "atomic<int> x;\n",
    "x.store(10, memory_order_relaxed);"
   ]
  },
  {
   "cell_type": "markdown",
   "id": "functioning-fairy",
   "metadata": {
    "slideshow": {
     "slide_type": "fragment"
    }
   },
   "source": [
    "- You can specify the memory order for\n",
    "    - operations on atomics\n",
    "    - explicitly with `std::atomic_thread_fence`, `std::atomic_signal_fence`\n",
    "    - and can explicitly control dependencies with `std::kill_dependency`"
   ]
  },
  {
   "cell_type": "markdown",
   "id": "fixed-elizabeth",
   "metadata": {
    "slideshow": {
     "slide_type": "slide"
    }
   },
   "source": [
    "- The memory order controls\n",
    "    - How the compiler can reorder operations on possibly shared memory around the atomic operations\n",
    "    - Which instructions the compiler emits to control processor memory ordering around the atomic operations"
   ]
  },
  {
   "cell_type": "code",
   "execution_count": null,
   "id": "independent-appearance",
   "metadata": {},
   "outputs": [],
   "source": []
  }
 ],
 "metadata": {
  "jupytext": {
   "formats": "ipynb,md"
  },
  "kernelspec": {
   "display_name": "C++17",
   "language": "C++17",
   "name": "xcpp17"
  },
  "language_info": {
   "codemirror_mode": "text/x-c++src",
   "file_extension": ".cpp",
   "mimetype": "text/x-c++src",
   "name": "c++",
   "version": "17"
  }
 },
 "nbformat": 4,
 "nbformat_minor": 5
}

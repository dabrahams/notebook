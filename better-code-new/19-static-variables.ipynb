{
 "cells": [
  {
   "cell_type": "code",
   "execution_count": 1,
   "id": "industrial-stanford",
   "metadata": {
    "execution": {
     "iopub.execute_input": "2021-06-28T16:56:54.520421Z",
     "iopub.status.busy": "2021-06-28T16:56:54.519728Z",
     "iopub.status.idle": "2021-06-28T16:56:54.526841Z",
     "shell.execute_reply": "2021-06-28T16:56:54.526403Z"
    },
    "slideshow": {
     "slide_type": "skip"
    }
   },
   "outputs": [],
   "source": [
    "#include <pthread.h>\n",
    "#include <stdint.h>\n",
    "#include <stdlib.h>\n",
    "#include <string.h>\n",
    "\n",
    "/* Default is not to use posix_memalign, so systems like Android\n",
    " * can use thread local data without heavier POSIX memory allocators.\n",
    " */\n",
    "#ifndef EMUTLS_USE_POSIX_MEMALIGN\n",
    "#define EMUTLS_USE_POSIX_MEMALIGN 0\n",
    "#endif\n",
    "\n",
    "namespace {\n",
    "/* For every TLS variable xyz,\n",
    " * there is one __emutls_control variable named __emutls_v.xyz.\n",
    " * If xyz has non-zero initial value, __emutls_v.xyz's \"value\"\n",
    " * will point to __emutls_t.xyz, which has the initial value.\n",
    " */\n",
    "typedef struct __emutls_control {\n",
    "    size_t size;  /* size of the object in bytes */\n",
    "    size_t align; /* alignment of the object in bytes */\n",
    "    union {\n",
    "        uintptr_t index; /* data[index-1] is the object address */\n",
    "        void* address;   /* object address, when in single thread env */\n",
    "    } object;\n",
    "    void* value; /* null or non-zero initial value for the object */\n",
    "} __emutls_control;\n",
    "\n",
    "static inline void* emutls_memalign_alloc(size_t align, size_t size) {\n",
    "    void* base;\n",
    "#if EMUTLS_USE_POSIX_MEMALIGN\n",
    "    if (posix_memalign(&base, align, size) != 0) abort();\n",
    "#else\n",
    "#define EXTRA_ALIGN_PTR_BYTES (align - 1 + sizeof(void*))\n",
    "    char* object;\n",
    "    if ((object = (char*)malloc(EXTRA_ALIGN_PTR_BYTES + size)) == NULL) abort();\n",
    "    base = (void*)(((uintptr_t)(object + EXTRA_ALIGN_PTR_BYTES)) &\n",
    "                   ~(uintptr_t)(align - 1));\n",
    "\n",
    "    ((void**)base)[-1] = object;\n",
    "#endif\n",
    "    return base;\n",
    "}\n",
    "\n",
    "static inline void emutls_memalign_free(void* base) {\n",
    "#if EMUTLS_USE_POSIX_MEMALIGN\n",
    "    free(base);\n",
    "#else\n",
    "    /* The mallocated address is in ((void**)base)[-1] */\n",
    "    free(((void**)base)[-1]);\n",
    "#endif\n",
    "}\n",
    "\n",
    "/* Emulated TLS objects are always allocated at run-time. */\n",
    "static inline void* emutls_allocate_object(__emutls_control* control) {\n",
    "    /* Use standard C types, check with gcc's emutls.o. */\n",
    "    typedef unsigned int gcc_word __attribute__((mode(word)));\n",
    "    typedef unsigned int gcc_pointer __attribute__((mode(pointer)));\n",
    "    static_assert(sizeof(size_t) == sizeof(gcc_word), \"fail\");\n",
    "    static_assert(sizeof(uintptr_t) == sizeof(gcc_pointer), \"fail\");\n",
    "    static_assert(sizeof(uintptr_t) == sizeof(void*), \"fail\");\n",
    "\n",
    "    size_t size = control->size;\n",
    "    size_t align = control->align;\n",
    "    if (align < sizeof(void*)) align = sizeof(void*);\n",
    "    /* Make sure that align is power of 2. */\n",
    "    if ((align & (align - 1)) != 0) abort();\n",
    "\n",
    "    void* base = emutls_memalign_alloc(align, size);\n",
    "    if (control->value)\n",
    "        memcpy(base, control->value, size);\n",
    "    else\n",
    "        memset(base, 0, size);\n",
    "    return base;\n",
    "}\n",
    "\n",
    "static pthread_mutex_t emutls_mutex = PTHREAD_MUTEX_INITIALIZER;\n",
    "\n",
    "static size_t emutls_num_object = 0; /* number of allocated TLS objects */\n",
    "\n",
    "typedef struct emutls_address_array {\n",
    "    uintptr_t size; /* number of elements in the 'data' array */\n",
    "    void* data[];\n",
    "} emutls_address_array;\n",
    "\n",
    "static pthread_key_t emutls_pthread_key;\n",
    "\n",
    "static void emutls_key_destructor(void* ptr) {\n",
    "    emutls_address_array* array = (emutls_address_array*)ptr;\n",
    "    uintptr_t i;\n",
    "    for (i = 0; i < array->size; ++i) {\n",
    "        if (array->data[i]) emutls_memalign_free(array->data[i]);\n",
    "    }\n",
    "    free(ptr);\n",
    "}\n",
    "\n",
    "static void emutls_init(void) {\n",
    "    if (pthread_key_create(&emutls_pthread_key, emutls_key_destructor) != 0)\n",
    "        abort();\n",
    "}\n",
    "\n",
    "/* Returns control->object.index; set index if not allocated yet. */\n",
    "static inline uintptr_t emutls_get_index(__emutls_control* control) {\n",
    "    uintptr_t index = __atomic_load_n(&control->object.index, __ATOMIC_ACQUIRE);\n",
    "    if (!index) {\n",
    "        static pthread_once_t once = PTHREAD_ONCE_INIT;\n",
    "        pthread_once(&once, emutls_init);\n",
    "        pthread_mutex_lock(&emutls_mutex);\n",
    "        index = control->object.index;\n",
    "        if (!index) {\n",
    "            index = ++emutls_num_object;\n",
    "            __atomic_store_n(&control->object.index, index, __ATOMIC_RELEASE);\n",
    "        }\n",
    "        pthread_mutex_unlock(&emutls_mutex);\n",
    "    }\n",
    "    return index;\n",
    "}\n",
    "\n",
    "/* Updates newly allocated thread local emutls_address_array. */\n",
    "static inline void emutls_check_array_set_size(emutls_address_array* array,\n",
    "                                               uintptr_t size) {\n",
    "    if (array == NULL) abort();\n",
    "    array->size = size;\n",
    "    pthread_setspecific(emutls_pthread_key, (void*)array);\n",
    "}\n",
    "\n",
    "/* Returns the new 'data' array size, number of elements,\n",
    " * which must be no smaller than the given index.\n",
    " */\n",
    "static inline uintptr_t emutls_new_data_array_size(uintptr_t index) {\n",
    "    /* Need to allocate emutls_address_array with one extra slot\n",
    "     * to store the data array size.\n",
    "     * Round up the emutls_address_array size to multiple of 16.\n",
    "     */\n",
    "    return ((index + 1 + 15) & ~((uintptr_t)15)) - 1;\n",
    "}\n",
    "\n",
    "/* Returns the thread local emutls_address_array.\n",
    " * Extends its size if necessary to hold address at index.\n",
    " */\n",
    "static inline emutls_address_array* emutls_get_address_array(uintptr_t index) {\n",
    "    emutls_address_array* array =\n",
    "        (emutls_address_array*)pthread_getspecific(emutls_pthread_key);\n",
    "    if (array == NULL) {\n",
    "        uintptr_t new_size = emutls_new_data_array_size(index);\n",
    "        array = (emutls_address_array*)calloc(new_size + 1, sizeof(void*));\n",
    "        emutls_check_array_set_size(array, new_size);\n",
    "    } else if (index > array->size) {\n",
    "        uintptr_t orig_size = array->size;\n",
    "        uintptr_t new_size = emutls_new_data_array_size(index);\n",
    "        array =\n",
    "            (emutls_address_array*)realloc(array, (new_size + 1) * sizeof(void*));\n",
    "        if (array)\n",
    "            memset(array->data + orig_size, 0,\n",
    "                   (new_size - orig_size) * sizeof(void*));\n",
    "        emutls_check_array_set_size(array, new_size);\n",
    "    }\n",
    "    return array;\n",
    "}\n",
    "} // namespace\n",
    "\n",
    "extern \"C\" void* __emutls_get_address(__emutls_control* control) {\n",
    "    uintptr_t index = emutls_get_index(control);\n",
    "    emutls_address_array* array = emutls_get_address_array(index);\n",
    "    if (array->data[index - 1] == NULL)\n",
    "        array->data[index - 1] = emutls_allocate_object(control);\n",
    "    return array->data[index - 1];\n",
    "}"
   ]
  },
  {
   "cell_type": "code",
   "execution_count": 2,
   "id": "cordless-transportation",
   "metadata": {
    "execution": {
     "iopub.execute_input": "2021-06-28T16:56:54.528471Z",
     "iopub.status.busy": "2021-06-28T16:56:54.528057Z",
     "iopub.status.idle": "2021-06-28T16:56:54.532271Z",
     "shell.execute_reply": "2021-06-28T16:56:54.531845Z"
    },
    "slideshow": {
     "slide_type": "skip"
    }
   },
   "outputs": [],
   "source": [
    "#include <vector>\n",
    "#include <typeinfo>\n",
    "#include <typeindex>\n",
    "#include <string>\n",
    "#include <iostream>\n",
    "\n",
    "using namespace std;"
   ]
  },
  {
   "cell_type": "markdown",
   "id": "straight-listing",
   "metadata": {
    "slideshow": {
     "slide_type": "slide"
    }
   },
   "source": [
    "# `static` & `thread_local` variables"
   ]
  },
  {
   "cell_type": "markdown",
   "id": "photographic-millennium",
   "metadata": {
    "slideshow": {
     "slide_type": "slide"
    }
   },
   "source": [
    "## `static` & non-local variables\n",
    "- initialization of `static` and non-local variables with dynamic initialization is thread-safe"
   ]
  },
  {
   "cell_type": "code",
   "execution_count": 3,
   "id": "occupied-focus",
   "metadata": {
    "execution": {
     "iopub.execute_input": "2021-06-28T16:56:54.534200Z",
     "iopub.status.busy": "2021-06-28T16:56:54.533797Z",
     "iopub.status.idle": "2021-06-28T16:56:54.544344Z",
     "shell.execute_reply": "2021-06-28T16:56:54.544016Z"
    },
    "slideshow": {
     "slide_type": "fragment"
    }
   },
   "outputs": [],
   "source": [
    "namespace bcc1 {\n",
    "\n",
    "const auto& get_table() {\n",
    "    static const vector<type_index> result = {typeid(int), typeid(long), typeid(short)};\n",
    "    return result;\n",
    "}\n",
    "\n",
    "} // namespace bcc1"
   ]
  },
  {
   "cell_type": "markdown",
   "id": "another-harrison",
   "metadata": {
    "slideshow": {
     "slide_type": "slide"
    }
   },
   "source": [
    "- Thread safety only applies to object initialization\n",
    "    - If there is writeable access, additional thread safety measures must be used\n",
    "    - Thread-safety only applies to objects individually, not collectively\n",
    "- Immediately invoked lambda expressions provide a nice way to perform complex initialization\n",
    "    - Known as 'IIFE' (pronounced \"iffy\") for Immediately Invoked Function Expression, from JavaScript."
   ]
  },
  {
   "cell_type": "code",
   "execution_count": 4,
   "id": "gorgeous-christopher",
   "metadata": {
    "execution": {
     "iopub.execute_input": "2021-06-28T16:56:54.546060Z",
     "iopub.status.busy": "2021-06-28T16:56:54.545675Z",
     "iopub.status.idle": "2021-06-28T16:56:54.563171Z",
     "shell.execute_reply": "2021-06-28T16:56:54.562862Z"
    },
    "slideshow": {
     "slide_type": "fragment"
    }
   },
   "outputs": [],
   "source": [
    "namespace bcc2 {\n",
    "\n",
    "const auto& get_table() {\n",
    "    static const auto result = [] {\n",
    "        vector<type_index> r{typeid(int), typeid(long), typeid(short)};\n",
    "        sort(begin(r), end(r));\n",
    "        return r;\n",
    "    }();\n",
    "    return result;\n",
    "}\n",
    "\n",
    "} // namespace bcc2"
   ]
  },
  {
   "cell_type": "markdown",
   "id": "modified-correlation",
   "metadata": {
    "slideshow": {
     "slide_type": "slide"
    }
   },
   "source": [
    "- The thread safety construct imposes a negligligable performance impact (difficult to measure) on each access"
   ]
  },
  {
   "cell_type": "markdown",
   "id": "impressed-bloom",
   "metadata": {
    "slideshow": {
     "slide_type": "slide"
    }
   },
   "source": [
    "## `thread_local` variables\n",
    "- `thread_local` implies static storage duration\n",
    "- non-local `thread_local` variables with dynamic initialization are initialized at the start of every thread start\n",
    "    - local `thread_local` variables are initialized on first execution in a given thread\n",
    "- access to a `thread_local` imposes about a 15% performance penalty (at least on Apple platforms) compared to accessing a `static` variable"
   ]
  },
  {
   "cell_type": "code",
   "execution_count": 5,
   "id": "exempt-socket",
   "metadata": {
    "execution": {
     "iopub.execute_input": "2021-06-28T16:56:54.564900Z",
     "iopub.status.busy": "2021-06-28T16:56:54.564508Z",
     "iopub.status.idle": "2021-06-28T16:56:54.565962Z",
     "shell.execute_reply": "2021-06-28T16:56:54.566262Z"
    },
    "slideshow": {
     "slide_type": "slide"
    }
   },
   "outputs": [],
   "source": [
    "namespace {\n",
    "\n",
    "auto& context() {\n",
    "    thread_local vector<string> result;\n",
    "    return result;\n",
    "}\n",
    "\n",
    "} // namespace bcc3"
   ]
  },
  {
   "cell_type": "markdown",
   "id": "blocked-special",
   "metadata": {
    "slideshow": {
     "slide_type": "fragment"
    }
   },
   "source": [
    "- Access to a `thread_local` variable doesn't require synchronization\n",
    "    - Unless it is otherwise shared to a differnt thread"
   ]
  },
  {
   "cell_type": "code",
   "execution_count": 6,
   "id": "attached-florence",
   "metadata": {
    "execution": {
     "iopub.execute_input": "2021-06-28T16:56:54.567863Z",
     "iopub.status.busy": "2021-06-28T16:56:54.567500Z",
     "iopub.status.idle": "2021-06-28T16:56:54.569508Z",
     "shell.execute_reply": "2021-06-28T16:56:54.569105Z"
    },
    "slideshow": {
     "slide_type": "slide"
    }
   },
   "outputs": [],
   "source": [
    "namespace {\n",
    "\n",
    "void do_stuff() { cout << \"context: \" << context().back() << endl; }\n",
    "\n",
    "} // namespace"
   ]
  },
  {
   "cell_type": "code",
   "execution_count": 7,
   "id": "marine-sender",
   "metadata": {
    "execution": {
     "iopub.execute_input": "2021-06-28T16:56:54.571060Z",
     "iopub.status.busy": "2021-06-28T16:56:54.570694Z",
     "iopub.status.idle": "2021-06-28T16:56:54.598209Z",
     "shell.execute_reply": "2021-06-28T16:56:54.597105Z"
    },
    "slideshow": {
     "slide_type": "fragment"
    }
   },
   "outputs": [
    {
     "name": "stdout",
     "output_type": "stream",
     "text": [
      "context: selecting\n"
     ]
    },
    {
     "name": "stdout",
     "output_type": "stream",
     "text": [
      "context: painting\n"
     ]
    },
    {
     "name": "stdout",
     "output_type": "stream",
     "text": [
      "context: selecting\n"
     ]
    }
   ],
   "source": [
    "context().push_back(\"selecting\");\n",
    "do_stuff();\n",
    "context().push_back(\"painting\");\n",
    "do_stuff();\n",
    "context().pop_back();\n",
    "do_stuff();\n",
    "context().pop_back();"
   ]
  },
  {
   "cell_type": "markdown",
   "id": "embedded-robertson",
   "metadata": {
    "slideshow": {
     "slide_type": "slide"
    }
   },
   "source": [
    "## Recommendations\n",
    "- Avoid non-local variables except for `constexpr` variables\n",
    "    - Dynamic initialization of non-local variables impacts startup\n",
    "    - Non-local `thread_local` variables impact the startup of every thread\n",
    "- When you must use a dynamically initialized singleton make it a `static` local variable\n",
    "    - Prefer `const` to ensure thread safety\n",
    "    - If mutable, consider making it a sequential process\n",
    "- `thread-local` local variables can be a useful tool for establishing auxiliary scope information\n",
    "    - Drawing contexts\n",
    "    - Transactions\n",
    "    - Memory allocators\n",
    "    - Caches"
   ]
  },
  {
   "cell_type": "markdown",
   "id": "related-relations",
   "metadata": {
    "slideshow": {
     "slide_type": "slide"
    }
   },
   "source": [
    "## Homework\n",
    "- Find and fix one of:\n",
    "    - A non-local with dynamic initialization\n",
    "    - A local `static` which does not have thead-safe initialization\n",
    "    - A use of `pthread_once()`, `boost::call_once()` or similar (simplify)\n",
    "    - A use of `pthread_getspecific()`, `boost::thread_specific_ptr()` or similar (simplify)\n",
    "    - A local `static` with dynamic initialization which could be `constexpr`"
   ]
  },
  {
   "cell_type": "code",
   "execution_count": null,
   "id": "figured-behavior",
   "metadata": {},
   "outputs": [],
   "source": []
  }
 ],
 "metadata": {
  "jupytext": {
   "formats": "ipynb,md"
  },
  "kernelspec": {
   "display_name": "C++17",
   "language": "C++17",
   "name": "xcpp17"
  },
  "language_info": {
   "codemirror_mode": "text/x-c++src",
   "file_extension": ".cpp",
   "mimetype": "text/x-c++src",
   "name": "c++",
   "version": "17"
  }
 },
 "nbformat": 4,
 "nbformat_minor": 5
}

{
 "cells": [
  {
   "cell_type": "markdown",
   "id": "exciting-glory",
   "metadata": {},
   "source": [
    "\\begin{align}\n",
    "a \\rightarrow b &\\implies a = b. \\tag{Equal} \\\\\n",
    "\\text{Let } a = c  \\text{. } a \\rightarrow b \\text{, } m(a) &\\implies a \\not = b \\wedge b = c. \\tag{Disjoint}\n",
    "\\end{align}"
   ]
  },
  {
   "cell_type": "markdown",
   "id": "detailed-terrorism",
   "metadata": {},
   "source": [
    "\\begin{align}\n",
    "\\text{Let } a = c  \\text{. } a \\rightarrow b \\text{, } m(a) &\\implies a \\not = b \\wedge b = c. \\tag{Copies are Disjoint}\n",
    "\\end{align}"
   ]
  },
  {
   "cell_type": "code",
   "execution_count": null,
   "id": "applied-mission",
   "metadata": {},
   "outputs": [],
   "source": []
  }
 ],
 "metadata": {
  "jupytext": {
   "formats": "ipynb,md"
  },
  "kernelspec": {
   "display_name": "C++17",
   "language": "C++17",
   "name": "xcpp17"
  },
  "language_info": {
   "codemirror_mode": "text/x-c++src",
   "file_extension": ".cpp",
   "mimetype": "text/x-c++src",
   "name": "c++",
   "version": "17"
  }
 },
 "nbformat": 4,
 "nbformat_minor": 5
}

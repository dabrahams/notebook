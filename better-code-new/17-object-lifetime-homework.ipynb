{
 "cells": [
  {
   "cell_type": "code",
   "execution_count": 1,
   "id": "educated-newfoundland",
   "metadata": {
    "execution": {
     "iopub.execute_input": "2021-06-28T16:56:44.890229Z",
     "iopub.status.busy": "2021-06-28T16:56:44.889608Z",
     "iopub.status.idle": "2021-06-28T16:56:45.020218Z",
     "shell.execute_reply": "2021-06-28T16:56:45.019789Z"
    },
    "slideshow": {
     "slide_type": "skip"
    }
   },
   "outputs": [],
   "source": [
    "#include <algorithm>\n",
    "#include <deque>\n",
    "#include <future>\n",
    "#include <iostream>\n",
    "#include <memory>\n",
    "#include <mutex>\n",
    "#include <thread>\n",
    "#include <utility>\n",
    "#include <vector>\n",
    "\n",
    "using namespace std;"
   ]
  },
  {
   "cell_type": "code",
   "execution_count": 2,
   "id": "virtual-seller",
   "metadata": {
    "execution": {
     "iopub.execute_input": "2021-06-28T16:56:45.022027Z",
     "iopub.status.busy": "2021-06-28T16:56:45.021513Z",
     "iopub.status.idle": "2021-06-28T16:56:45.063379Z",
     "shell.execute_reply": "2021-06-28T16:56:45.063099Z"
    },
    "slideshow": {
     "slide_type": "skip"
    }
   },
   "outputs": [],
   "source": [
    "namespace bcc {\n",
    "\n",
    "class task {\n",
    "    struct concept {\n",
    "        virtual ~concept() {}\n",
    "        virtual void invoke() = 0;\n",
    "    };\n",
    "\n",
    "    template <class F>\n",
    "    struct model final : concept {\n",
    "        F _f;\n",
    "        model(F f) : _f(move(f)) {}\n",
    "        void invoke() override { _f(); }\n",
    "    };\n",
    "    unique_ptr<concept> _self;\n",
    "\n",
    "public:\n",
    "    task() = default;\n",
    "\n",
    "    template <class F> // F model void()\n",
    "    task(F f) : _self(make_unique<model<F>>(move(f))) {}\n",
    "\n",
    "    void operator()() { _self->invoke(); }\n",
    "    explicit operator bool() const { return static_cast<bool>(_self); }\n",
    "};\n",
    "\n",
    "class notification_queue {\n",
    "    using lock_t = unique_lock<mutex>;\n",
    "\n",
    "    deque<task> _q;\n",
    "    bool _done{false};\n",
    "    mutex _mutex;\n",
    "    condition_variable _ready;\n",
    "\n",
    "public:\n",
    "    bool try_pop(task& x) {\n",
    "        lock_t lock{_mutex, try_to_lock};\n",
    "        if (!lock || _q.empty()) return false;\n",
    "        x = move(_q.front());\n",
    "        _q.pop_front();\n",
    "        return true;\n",
    "    }\n",
    "\n",
    "    template <typename F>\n",
    "    bool try_push(F&& f) {\n",
    "        {\n",
    "            lock_t lock{_mutex, try_to_lock};\n",
    "            if (!lock) return false;\n",
    "            _q.emplace_back(forward<F>(f));\n",
    "        }\n",
    "        _ready.notify_one();\n",
    "        return true;\n",
    "    }\n",
    "\n",
    "    void done() {\n",
    "        {\n",
    "            unique_lock<mutex> lock{_mutex};\n",
    "            _done = true;\n",
    "        }\n",
    "        _ready.notify_all();\n",
    "    }\n",
    "\n",
    "    bool pop(task& x) {\n",
    "        lock_t lock{_mutex};\n",
    "        while (_q.empty() && !_done)\n",
    "            _ready.wait(lock);\n",
    "        if (_q.empty()) return false;\n",
    "        x = move(_q.front());\n",
    "        _q.pop_front();\n",
    "        return true;\n",
    "    }\n",
    "\n",
    "    template <typename F>\n",
    "    void push(F&& f) {\n",
    "        {\n",
    "            lock_t lock{_mutex};\n",
    "            _q.emplace_back(forward<F>(f));\n",
    "        }\n",
    "        _ready.notify_one();\n",
    "    }\n",
    "};\n",
    "\n",
    "/**************************************************************************************************/\n",
    "\n",
    "class task_system {\n",
    "    const unsigned _count{thread::hardware_concurrency()};\n",
    "    vector<thread> _threads;\n",
    "    vector<notification_queue> _q{_count};\n",
    "    atomic<unsigned> _index{0};\n",
    "\n",
    "    void run(unsigned i) {\n",
    "        while (true) {\n",
    "            task f;\n",
    "\n",
    "            for (unsigned n = 0; n != _count; ++n) {\n",
    "                if (_q[(i + n) % _count].try_pop(f)) break;\n",
    "            }\n",
    "            if (!f && !_q[i].pop(f)) break;\n",
    "\n",
    "            f();\n",
    "        }\n",
    "    }\n",
    "\n",
    "public:\n",
    "    task_system() {\n",
    "        for (unsigned n = 0; n != _count; ++n) {\n",
    "            _threads.emplace_back([&, n] { run(n); });\n",
    "        }\n",
    "    }\n",
    "\n",
    "    ~task_system() {\n",
    "        for (auto& e : _q)\n",
    "            e.done();\n",
    "        for (auto& e : _threads)\n",
    "            e.join();\n",
    "    }\n",
    "\n",
    "    template <typename F>\n",
    "    void async(F&& f) {\n",
    "        auto i = _index++;\n",
    "\n",
    "        for (unsigned n = 0; n != _count; ++n) {\n",
    "            if (_q[(i + n) % _count].try_push(forward<F>(f))) return;\n",
    "        }\n",
    "\n",
    "        _q[i % _count].push(forward<F>(f));\n",
    "    }\n",
    "};\n",
    "    \n",
    "template <class F>\n",
    "void pool_async(F&& f) {\n",
    "    static task_system pool;\n",
    "    pool.async(forward<F>(f));\n",
    "}\n",
    "\n",
    "}"
   ]
  },
  {
   "cell_type": "code",
   "execution_count": 3,
   "id": "dietary-advocate",
   "metadata": {
    "execution": {
     "iopub.execute_input": "2021-06-28T16:56:45.065393Z",
     "iopub.status.busy": "2021-06-28T16:56:45.064795Z",
     "iopub.status.idle": "2021-06-28T16:56:45.066032Z",
     "shell.execute_reply": "2021-06-28T16:56:45.065757Z"
    },
    "slideshow": {
     "slide_type": "skip"
    }
   },
   "outputs": [],
   "source": [
    "using namespace bcc;"
   ]
  },
  {
   "cell_type": "markdown",
   "id": "broke-argentina",
   "metadata": {
    "slideshow": {
     "slide_type": "slide"
    }
   },
   "source": [
    "# Object Lifetime Homework"
   ]
  },
  {
   "cell_type": "code",
   "execution_count": 4,
   "id": "vanilla-lodging",
   "metadata": {
    "execution": {
     "iopub.execute_input": "2021-06-28T16:56:45.067831Z",
     "iopub.status.busy": "2021-06-28T16:56:45.067477Z",
     "iopub.status.idle": "2021-06-28T16:56:45.068808Z",
     "shell.execute_reply": "2021-06-28T16:56:45.068519Z"
    },
    "slideshow": {
     "slide_type": "skip"
    }
   },
   "outputs": [],
   "source": [
    "namespace bcc {\n",
    "\n",
    "class sequential_process {\n",
    "    mutex _mutex;\n",
    "    bool _running = false;\n",
    "    deque<task> _queue;\n",
    "\n",
    "    void resume() {\n",
    "        task work;\n",
    "        while (true) {\n",
    "            {\n",
    "                unique_lock<mutex> lock(_mutex);\n",
    "\n",
    "                if (_queue.empty()) {\n",
    "                    _running = false;\n",
    "                    return;\n",
    "                }\n",
    "                work = move(_queue.front());\n",
    "                _queue.pop_front();\n",
    "            }\n",
    "            move(work)();\n",
    "        }\n",
    "    }\n",
    "\n",
    "public:\n",
    "    void async(task f);\n",
    "};\n",
    "\n",
    "} // namespace"
   ]
  },
  {
   "cell_type": "markdown",
   "id": "average-marijuana",
   "metadata": {
    "slideshow": {
     "slide_type": "fragment"
    }
   },
   "source": [
    "- **Problem:** The transformation to call `resume()` on a thread pool causes on object life time problem.\n",
    "    - The `sequential_process` may destruct before `resume()` is invoked."
   ]
  },
  {
   "cell_type": "code",
   "execution_count": 5,
   "id": "impressed-rouge",
   "metadata": {
    "execution": {
     "iopub.execute_input": "2021-06-28T16:56:45.070672Z",
     "iopub.status.busy": "2021-06-28T16:56:45.070174Z",
     "iopub.status.idle": "2021-06-28T16:56:45.107930Z",
     "shell.execute_reply": "2021-06-28T16:56:45.107658Z"
    },
    "slideshow": {
     "slide_type": "fragment"
    }
   },
   "outputs": [],
   "source": [
    "namespace bcc {\n",
    "\n",
    "void sequential_process::async(task f) {\n",
    "    bool running = true;\n",
    "    {\n",
    "        lock_guard<mutex> lock(_mutex);\n",
    "        _queue.push_back(move(f));\n",
    "        swap(running, _running);\n",
    "    }\n",
    "    if (!running) pool_async([this] { resume(); }); // <--- FIX ME !!!\n",
    "}\n",
    "\n",
    "} // namespace"
   ]
  },
  {
   "cell_type": "markdown",
   "id": "improved-celebration",
   "metadata": {
    "slideshow": {
     "slide_type": "slide"
    }
   },
   "source": [
    "- As is, this code has _undefined behavior_ because `process` may destruct before the lambda executes, causing a data race\n",
    "\n",
    "```cpp\n",
    "{\n",
    "    sequential_process process;\n",
    "\n",
    "    process.async([] {\n",
    "        this_thread::sleep_for(1s);\n",
    "        cout << \"Made it!\" << endl;\n",
    "    });\n",
    "}\n",
    "```"
   ]
  },
  {
   "cell_type": "markdown",
   "id": "micro-ceremony",
   "metadata": {
    "slideshow": {
     "slide_type": "fragment"
    }
   },
   "source": [
    "```\n",
    "==================\n",
    "WARNING: ThreadSanitizer: data race (pid=7699)\n",
    "  Read of size 8 at 0x7ffeefbff498 by main thread:\n",
    "    #0 std::__1::__deque_base<(anonymous namespace)::task, std::__1::allocator<(anonymous namespace)::task> >::begin() deque:1061 (scratch:x86_64+0x1000154e5)\n",
    "    #1 std::__1::__deque_base<(anonymous namespace)::task, std::__1::allocator<(anonymous namespace)::task> >::clear() deque:1167 (scratch:x86_64+0x100014ce0)\n",
    "    #2 std::__1::__deque_base<(anonymous namespace)::task, std::__1::allocator<(anonymous namespace)::task> >::~__deque_base() deque:1105 (scratch:x86_64+0x100014a3a)\n",
    "    #3 std::__1::deque<(anonymous namespace)::task, std::__1::allocator<(anonymous namespace)::task> >::~deque() deque:1187 (scratch:x86_64+0x1000149d8)\n",
    "    #4 std::__1::deque<(anonymous namespace)::task, std::__1::allocator<(anonymous namespace)::task> >::~deque() deque:1187 (scratch:x86_64+0x100014998)\n",
    "    #5 (anonymous namespace)::sequential_process::~sequential_process() main.cpp:182 (scratch:x86_64+0x100024956)\n",
    "    #6 (anonymous namespace)::sequential_process::~sequential_process() main.cpp:182 (scratch:x86_64+0x100005878)\n",
    "    #7 main main.cpp:290 (scratch:x86_64+0x1000045d6)\n",
    "\n",
    "  Previous write of size 8 at 0x7ffeefbff498 by thread T4 (mutexes: write M272):\n",
    "    #0 std::__1::deque<(anonymous namespace)::task, std::__1::allocator<(anonymous namespace)::task> >::pop_front() deque:2568 (scratch:x86_64+0x10001ac75)\n",
    "    #1 (anonymous namespace)::sequential_process::resume() main.cpp:214 (scratch:x86_64+0x1000244e1)\n",
    "    #2 (anonymous namespace)::sequential_process::async((anonymous namespace)::task)::'lambda'()::operator()() const main.cpp:247 (scratch:x86_64+0x100024149)\n",
    "    #3 (anonymous namespace)::task::model<(anonymous namespace)::sequential_process::async((anonymous namespace)::task)::'lambda'()>::invoke() main.cpp:36 (scratch:x86_64+0x100023fed)\n",
    "    #4 (anonymous namespace)::task::operator()() main.cpp:46 (scratch:x86_64+0x10001a3ce)\n",
    "    #5 (anonymous namespace)::task_system::run(unsigned int) main.cpp:123 (scratch:x86_64+0x1000196b0)\n",
    "    #6 (anonymous namespace)::task_system::task_system()::'lambda'()::operator()() const main.cpp:130 (scratch:x86_64+0x10001940a)\n",
    "    #7 std::__1::__thread_proxy<std::__1::tuple<std::__1::unique_ptr<std::__1::__thread_struct, std::__1::default_delete<std::__1::__thread_struct> >, (anonymous namespace)::task_system::task_system()::'lambda'()> >(void*, void*) type_traits:4323 (scratch:x86_64+0x100017d54)\n",
    "\n",
    "  As if synchronized via sleep:\n",
    "    #0 nanosleep <null> (libclang_rt.tsan_osx_dynamic.dylib:x86_64h+0x270e3)\n",
    "    #1 std::__1::this_thread::sleep_for(std::__1::chrono::duration<long long, std::__1::ratio<1l, 1000000000l> > const&) <null> (libc++.1.dylib:x86_64+0x47933)\n",
    "    #2 main main.cpp:288 (scratch:x86_64+0x1000045c5)\n",
    "\n",
    "  Location is stack of main thread.\n",
    "\n",
    "  Mutex M272 (0x7ffeefbff430) created at:\n",
    "    #0 pthread_mutex_lock <null> (libclang_rt.tsan_osx_dynamic.dylib:x86_64h+0x37aae)\n",
    "    #1 std::__1::mutex::lock() <null> (libc++.1.dylib:x86_64+0x39c7e)\n",
    "    #2 main main.cpp:283 (scratch:x86_64+0x100004582)\n",
    "\n",
    "  Thread T4 (tid=440231, running) created by main thread at:\n",
    "    #0 pthread_create <null> (libclang_rt.tsan_osx_dynamic.dylib:x86_64h+0x283ed)\n",
    "    #1 std::__1::thread::thread<(anonymous namespace)::task_system::task_system()::'lambda'(), void>((anonymous namespace)::task_system::task_system()::'lambda'()&&) __threading_support:327 (scratch:x86_64+0x100016e18)\n",
    "    #2 std::__1::thread::thread<(anonymous namespace)::task_system::task_system()::'lambda'(), void>((anonymous namespace)::task_system::task_system()::'lambda'()&&) thread:360 (scratch:x86_64+0x100016318)\n",
    "    #3 _ZNSt3__16vectorINS_6threadENS_9allocatorIS1_EEE24__emplace_back_slow_pathIJZN12_GLOBAL__N_111task_systemC1EvEUlvE_EEEvDpOT_ memory:1759 (scratch:x86_64+0x100016087)\n",
    "    #4 (anonymous namespace)::task_system::task_system() vector:1644 (scratch:x86_64+0x100012499)\n",
    "    #5 (anonymous namespace)::task_system::task_system() main.cpp:128 (scratch:x86_64+0x100011938)\n",
    "    #6 void (anonymous namespace)::pool_async<(anonymous namespace)::sequential_process::async((anonymous namespace)::task)::'lambda'()>((anonymous namespace)::sequential_process::async((anonymous namespace)::task)::'lambda'()&&) main.cpp:157 (scratch:x86_64+0x100006b93)\n",
    "    #7 (anonymous namespace)::sequential_process::async((anonymous namespace)::task) main.cpp:247 (scratch:x86_64+0x100004986)\n",
    "    #8 main main.cpp:283 (scratch:x86_64+0x100004582)\n",
    "\n",
    "SUMMARY: ThreadSanitizer: data race deque:1061 in std::__1::__deque_base<(anonymous namespace)::task, std::__1::allocator<(anonymous namespace)::task> >::begin()\n",
    "==================\n",
    "ThreadSanitizer report breakpoint hit. Use 'thread info -s' to get extended information about the report.\n",
    "```"
   ]
  },
  {
   "cell_type": "markdown",
   "id": "assisted-ensemble",
   "metadata": {
    "slideshow": {
     "slide_type": "slide"
    }
   },
   "source": [
    "## A <strike>Ch</strike>easy Fix"
   ]
  },
  {
   "cell_type": "markdown",
   "id": "committed-mediterranean",
   "metadata": {
    "slideshow": {
     "slide_type": "fragment"
    }
   },
   "source": [
    "- Extend the lifetime of `process` to _fix_ the invocation"
   ]
  },
  {
   "cell_type": "code",
   "execution_count": 6,
   "id": "optimum-hebrew",
   "metadata": {
    "execution": {
     "iopub.execute_input": "2021-06-28T16:56:45.110294Z",
     "iopub.status.busy": "2021-06-28T16:56:45.109778Z",
     "iopub.status.idle": "2021-06-28T16:56:47.267505Z",
     "shell.execute_reply": "2021-06-28T16:56:47.266770Z"
    }
   },
   "outputs": [
    {
     "name": "stdout",
     "output_type": "stream",
     "text": [
      "Made it!\n"
     ]
    }
   ],
   "source": [
    "{\n",
    "    auto process = make_shared<sequential_process>();\n",
    "\n",
    "    process->async([process] {\n",
    "        this_thread::sleep_for(1s);\n",
    "        cout << \"Made it!\" << endl;\n",
    "    });\n",
    "    \n",
    "    this_thread::sleep_for(2s); // This line is here for my slides\n",
    "}"
   ]
  },
  {
   "cell_type": "markdown",
   "id": "ready-tokyo",
   "metadata": {
    "slideshow": {
     "slide_type": "slide"
    }
   },
   "source": [
    "- We can no longer rely on when all tasks in our `sequential_process` are done\n",
    "    - Our tasks must be constructed to be independent of process destruction"
   ]
  },
  {
   "cell_type": "markdown",
   "id": "solar-reader",
   "metadata": {
    "slideshow": {
     "slide_type": "slide"
    }
   },
   "source": [
    "## Blocking"
   ]
  },
  {
   "cell_type": "markdown",
   "id": "mediterranean-hospital",
   "metadata": {
    "slideshow": {
     "slide_type": "fragment"
    }
   },
   "source": [
    "- To keep the original semantics we could block on destruction of `sequential_process`\n",
    "- To do this we again need:\n",
    "    - A `_done` flag \n",
    "    - A `_condition` variable\n",
    "    - A destructor that signals done"
   ]
  },
  {
   "cell_type": "code",
   "execution_count": 7,
   "id": "nasty-genetics",
   "metadata": {
    "execution": {
     "iopub.execute_input": "2021-06-28T16:56:47.270075Z",
     "iopub.status.busy": "2021-06-28T16:56:47.269458Z",
     "iopub.status.idle": "2021-06-28T16:56:47.272103Z",
     "shell.execute_reply": "2021-06-28T16:56:47.271629Z"
    },
    "slideshow": {
     "slide_type": "slide"
    }
   },
   "outputs": [],
   "source": [
    "namespace bcc2 {\n",
    "\n",
    "class sequential_process {\n",
    "    function<void(task)> _executor;\n",
    "\n",
    "    mutex _mutex;\n",
    "    bool _running = false;\n",
    "    deque<task> _queue;\n",
    "\n",
    "    condition_variable _condition; // <---\n",
    "    bool _done = false;            // <---\n",
    "\n",
    "    void resume();\n",
    "\n",
    "public:\n",
    "    ~sequential_process(); // <---\n",
    "    void async(task f);\n",
    "};\n",
    "\n",
    "} // namespace bcc2"
   ]
  },
  {
   "cell_type": "code",
   "execution_count": 8,
   "id": "human-gamma",
   "metadata": {
    "execution": {
     "iopub.execute_input": "2021-06-28T16:56:47.274038Z",
     "iopub.status.busy": "2021-06-28T16:56:47.273536Z",
     "iopub.status.idle": "2021-06-28T16:56:47.315666Z",
     "shell.execute_reply": "2021-06-28T16:56:47.315305Z"
    },
    "slideshow": {
     "slide_type": "skip"
    }
   },
   "outputs": [],
   "source": [
    "// SKIP CELL\n",
    "\n",
    "namespace bcc2 {\n",
    "\n",
    "void sequential_process::async(task f) {\n",
    "    bool running = true;\n",
    "    {\n",
    "        lock_guard<mutex> lock(_mutex);\n",
    "        _queue.push_back(move(f));\n",
    "        swap(running, _running);\n",
    "    }\n",
    "    if (!running) pool_async([this] { resume(); }); // <--- FIX ME !!!\n",
    "}\n",
    "\n",
    "} // namespace bcc"
   ]
  },
  {
   "cell_type": "markdown",
   "id": "chicken-manner",
   "metadata": {
    "slideshow": {
     "slide_type": "slide"
    }
   },
   "source": [
    "- In the destructor if we are are still running\n",
    "    - signal that we are done and want a notification\n",
    "    - wait until we are no longer running"
   ]
  },
  {
   "cell_type": "code",
   "execution_count": 9,
   "id": "verified-strike",
   "metadata": {
    "execution": {
     "iopub.execute_input": "2021-06-28T16:56:47.317581Z",
     "iopub.status.busy": "2021-06-28T16:56:47.317211Z",
     "iopub.status.idle": "2021-06-28T16:56:47.322317Z",
     "shell.execute_reply": "2021-06-28T16:56:47.321978Z"
    },
    "slideshow": {
     "slide_type": "fragment"
    }
   },
   "outputs": [],
   "source": [
    "namespace bcc2 {\n",
    "\n",
    "sequential_process::~sequential_process() {\n",
    "    unique_lock<mutex> lock(_mutex);\n",
    "    if (!_running) return;\n",
    "    _done = true;\n",
    "    while (_running)\n",
    "        _condition.wait(lock);\n",
    "}\n",
    "\n",
    "} // namespace bcc"
   ]
  },
  {
   "cell_type": "markdown",
   "id": "operating-scott",
   "metadata": {
    "slideshow": {
     "slide_type": "slide"
    }
   },
   "source": [
    "- Finally in `resume()` if we are done then notify when we stop running"
   ]
  },
  {
   "cell_type": "code",
   "execution_count": 10,
   "id": "fewer-qatar",
   "metadata": {
    "execution": {
     "iopub.execute_input": "2021-06-28T16:56:47.323857Z",
     "iopub.status.busy": "2021-06-28T16:56:47.323477Z",
     "iopub.status.idle": "2021-06-28T16:56:47.328616Z",
     "shell.execute_reply": "2021-06-28T16:56:47.328252Z"
    },
    "slideshow": {
     "slide_type": "fragment"
    }
   },
   "outputs": [],
   "source": [
    "namespace bcc2 {\n",
    "\n",
    "void sequential_process::resume() {\n",
    "    task work;\n",
    "    while (true) {\n",
    "        {\n",
    "            unique_lock<mutex> lock(_mutex);\n",
    "\n",
    "            if (_queue.empty()) {\n",
    "                _running = false;\n",
    "                if (_done) _condition.notify_one(); // <---\n",
    "                return;\n",
    "            }\n",
    "            work = move(_queue.front());\n",
    "            _queue.pop_front();\n",
    "        }\n",
    "        move(work)();\n",
    "    }\n",
    "}\n",
    "\n",
    "} // namespace bcc"
   ]
  },
  {
   "cell_type": "markdown",
   "id": "identical-consumption",
   "metadata": {
    "slideshow": {
     "slide_type": "slide"
    }
   },
   "source": [
    "- It works in our example\n",
    "    - But only so long as we have _enough_ threads\n",
    "- If the task is scheduled on the same as the one destructing `process`\n",
    "    - And there is no thread available to steal the task\n",
    "    - Deadlock!"
   ]
  },
  {
   "cell_type": "markdown",
   "id": "mediterranean-darkness",
   "metadata": {
    "slideshow": {
     "slide_type": "fragment"
    }
   },
   "source": [
    "- But how many threads are enough?\n",
    "    - On a system with `N` processes we need `N+1` threads available in the pool to guarantee no deadlocks"
   ]
  },
  {
   "cell_type": "markdown",
   "id": "pressing-bathroom",
   "metadata": {
    "slideshow": {
     "slide_type": "fragment"
    }
   },
   "source": [
    "- In a single threaded environment, like wasm, this will deadlock _often_"
   ]
  },
  {
   "cell_type": "markdown",
   "id": "historic-happening",
   "metadata": {
    "slideshow": {
     "slide_type": "fragment"
    }
   },
   "source": [
    "- Probability of failure is a function of number of threads, number of processes, frequency of dispatched tasks, and frequency of joins\n",
    "    - I have no idea how to calculate it..."
   ]
  },
  {
   "cell_type": "markdown",
   "id": "lightweight-hampshire",
   "metadata": {
    "slideshow": {
     "slide_type": "slide"
    }
   },
   "source": [
    "## Handle / Body"
   ]
  },
  {
   "cell_type": "markdown",
   "id": "funky-merchant",
   "metadata": {
    "slideshow": {
     "slide_type": "fragment"
    }
   },
   "source": [
    "- Same as the easy approach, but we push the `shared_ptr` into the implementation"
   ]
  },
  {
   "cell_type": "code",
   "execution_count": 11,
   "id": "heard-copyright",
   "metadata": {
    "execution": {
     "iopub.execute_input": "2021-06-28T16:56:47.330320Z",
     "iopub.status.busy": "2021-06-28T16:56:47.329949Z",
     "iopub.status.idle": "2021-06-28T16:56:47.333411Z",
     "shell.execute_reply": "2021-06-28T16:56:47.333050Z"
    },
    "slideshow": {
     "slide_type": "fragment"
    }
   },
   "outputs": [],
   "source": [
    "namespace bcc3 {\n",
    "\n",
    "class sequential_process {\n",
    "    struct implementation;\n",
    "\n",
    "    shared_ptr<implementation> _self;\n",
    "\n",
    "public:\n",
    "    sequential_process();\n",
    "\n",
    "    void async(task);\n",
    "};\n",
    "\n",
    "} // namespace bcc3"
   ]
  },
  {
   "cell_type": "markdown",
   "id": "drawn-trustee",
   "metadata": {
    "slideshow": {
     "slide_type": "slide"
    }
   },
   "source": [
    "- Our prior `sequential_process` class becomes the implementation"
   ]
  },
  {
   "cell_type": "code",
   "execution_count": 12,
   "id": "unknown-witch",
   "metadata": {
    "execution": {
     "iopub.execute_input": "2021-06-28T16:56:47.334935Z",
     "iopub.status.busy": "2021-06-28T16:56:47.334500Z",
     "iopub.status.idle": "2021-06-28T16:56:47.336573Z",
     "shell.execute_reply": "2021-06-28T16:56:47.336242Z"
    },
    "slideshow": {
     "slide_type": "fragment"
    }
   },
   "outputs": [],
   "source": [
    "namespace bcc3 {\n",
    "\n",
    "struct sequential_process::implementation\n",
    "    : enable_shared_from_this<implementation> { // <---\n",
    "    mutex _mutex;\n",
    "    deque<task> _queue;\n",
    "    bool _running = false;\n",
    "\n",
    "    void resume();\n",
    "    void async(task);\n",
    "};\n",
    "\n",
    "} // namespace bcc3"
   ]
  },
  {
   "cell_type": "markdown",
   "id": "saved-benefit",
   "metadata": {
    "slideshow": {
     "slide_type": "slide"
    }
   },
   "source": [
    "- `implementation::async()` can then attach a shared pointer from this to `resume()`"
   ]
  },
  {
   "cell_type": "code",
   "execution_count": 13,
   "id": "alpine-workstation",
   "metadata": {
    "execution": {
     "iopub.execute_input": "2021-06-28T16:56:47.338085Z",
     "iopub.status.busy": "2021-06-28T16:56:47.337687Z",
     "iopub.status.idle": "2021-06-28T16:56:47.375856Z",
     "shell.execute_reply": "2021-06-28T16:56:47.375578Z"
    },
    "slideshow": {
     "slide_type": "fragment"
    }
   },
   "outputs": [],
   "source": [
    "namespace bcc3 {\n",
    "\n",
    "void sequential_process::implementation::async(task f) {\n",
    "    bool running = true;\n",
    "    {\n",
    "        lock_guard<mutex> lock(_mutex);\n",
    "        _queue.push_back(move(f));\n",
    "        swap(running, _running);\n",
    "    }\n",
    "    if (!running)\n",
    "        pool_async([_self = shared_from_this()] { _self->resume(); }); // <---\n",
    "}\n",
    "\n",
    "} // namespace bcc3"
   ]
  },
  {
   "cell_type": "markdown",
   "id": "empty-surgery",
   "metadata": {
    "slideshow": {
     "slide_type": "slide"
    }
   },
   "source": [
    "- The approach suffers the same problem as the easy approach\n",
    "- We can no longer rely on when all tasks in our sequential_process are done\n",
    "    - Our tasks must be constructed to be independent of process destruction"
   ]
  },
  {
   "cell_type": "markdown",
   "id": "verified-surgeon",
   "metadata": {
    "slideshow": {
     "slide_type": "fragment"
    }
   },
   "source": [
    "- A similar approach, capturing `weak_from_this()` in the lambda has the effect of canceling any operations that haven't started before destruction\n",
    "    - But does not provide any stronger guarantees\n",
    "    - And may result in unexpected task cancellation"
   ]
  },
  {
   "cell_type": "markdown",
   "id": "quiet-fishing",
   "metadata": {
    "slideshow": {
     "slide_type": "slide"
    }
   },
   "source": [
    "## Completion Task"
   ]
  },
  {
   "cell_type": "markdown",
   "id": "incident-tomato",
   "metadata": {
    "slideshow": {
     "slide_type": "fragment"
    }
   },
   "source": [
    "- To solve the handle/body issue of not knowing when the process completes we can add a completion task"
   ]
  },
  {
   "cell_type": "code",
   "execution_count": 14,
   "id": "careful-eligibility",
   "metadata": {
    "execution": {
     "iopub.execute_input": "2021-06-28T16:56:47.378028Z",
     "iopub.status.busy": "2021-06-28T16:56:47.377585Z",
     "iopub.status.idle": "2021-06-28T16:56:47.381034Z",
     "shell.execute_reply": "2021-06-28T16:56:47.380650Z"
    },
    "slideshow": {
     "slide_type": "fragment"
    }
   },
   "outputs": [],
   "source": [
    "namespace bcc4 {\n",
    "\n",
    "class sequential_process {\n",
    "    struct implementation;\n",
    "\n",
    "    shared_ptr<implementation> _self;\n",
    "\n",
    "public:\n",
    "    explicit sequential_process(task); // <---\n",
    "\n",
    "    void async(task);\n",
    "};\n",
    "\n",
    "} // namespace bcc4"
   ]
  },
  {
   "cell_type": "markdown",
   "id": "pharmaceutical-frost",
   "metadata": {
    "slideshow": {
     "slide_type": "slide"
    }
   },
   "source": [
    "- The task is stored in the implementation\n",
    "    - And invoked on destruction"
   ]
  },
  {
   "cell_type": "code",
   "execution_count": 15,
   "id": "marine-florida",
   "metadata": {
    "execution": {
     "iopub.execute_input": "2021-06-28T16:56:47.383263Z",
     "iopub.status.busy": "2021-06-28T16:56:47.382543Z",
     "iopub.status.idle": "2021-06-28T16:56:47.385075Z",
     "shell.execute_reply": "2021-06-28T16:56:47.384775Z"
    },
    "slideshow": {
     "slide_type": "fragment"
    }
   },
   "outputs": [],
   "source": [
    "namespace bcc4 {\n",
    "\n",
    "struct sequential_process::implementation\n",
    "    : enable_shared_from_this<implementation> {\n",
    "    mutex _mutex;\n",
    "    deque<task> _queue;\n",
    "    bool _running = false;\n",
    "    task _completion; // <---\n",
    "\n",
    "    void resume();\n",
    "\n",
    "    implementation(task completion) : _completion(move(completion)) {} // <---\n",
    "    ~implementation() { move(_completion)(); }                         // <---\n",
    "\n",
    "    void async(task);\n",
    "};\n",
    "\n",
    "} // namespace bcc4"
   ]
  },
  {
   "cell_type": "code",
   "execution_count": 16,
   "id": "frank-jacket",
   "metadata": {
    "execution": {
     "iopub.execute_input": "2021-06-28T16:56:47.386778Z",
     "iopub.status.busy": "2021-06-28T16:56:47.386288Z",
     "iopub.status.idle": "2021-06-28T16:56:47.426366Z",
     "shell.execute_reply": "2021-06-28T16:56:47.426027Z"
    },
    "slideshow": {
     "slide_type": "skip"
    }
   },
   "outputs": [],
   "source": [
    "// SKIP CELL\n",
    "namespace bcc4 {\n",
    "\n",
    "inline sequential_process::sequential_process(task completion)\n",
    "    : _self(make_shared<implementation>(move(completion))) {}\n",
    "\n",
    "inline void sequential_process::async(task f) { _self->async(move(f)); }\n",
    "\n",
    "void sequential_process::implementation::resume() {\n",
    "    task work;\n",
    "    while (true) {\n",
    "        {\n",
    "            unique_lock<mutex> lock(_mutex);\n",
    "\n",
    "            if (_queue.empty()) {\n",
    "                _running = false;\n",
    "\n",
    "                return;\n",
    "            }\n",
    "            work = move(_queue.front());\n",
    "            _queue.pop_front();\n",
    "        }\n",
    "        move(work)();\n",
    "    }\n",
    "}\n",
    "\n",
    "void sequential_process::implementation::async(task f) {\n",
    "    bool running = true;\n",
    "    {\n",
    "        lock_guard<mutex> lock(_mutex);\n",
    "        _queue.push_back(move(f));\n",
    "        swap(running, _running);\n",
    "    }\n",
    "    if (!running)\n",
    "        pool_async([_self = shared_from_this()] { _self->resume(); }); // <---\n",
    "}\n",
    "    \n",
    "} // namespace bcc4"
   ]
  },
  {
   "cell_type": "code",
   "execution_count": 17,
   "id": "capable-trustee",
   "metadata": {
    "execution": {
     "iopub.execute_input": "2021-06-28T16:56:47.428596Z",
     "iopub.status.busy": "2021-06-28T16:56:47.428118Z",
     "iopub.status.idle": "2021-06-28T16:56:49.622656Z",
     "shell.execute_reply": "2021-06-28T16:56:49.622000Z"
    },
    "slideshow": {
     "slide_type": "slide"
    }
   },
   "outputs": [
    {
     "name": "stdout",
     "output_type": "stream",
     "text": [
      "Made it!\n"
     ]
    },
    {
     "name": "stdout",
     "output_type": "stream",
     "text": [
      "End\n"
     ]
    }
   ],
   "source": [
    "{\n",
    "    bcc4::sequential_process process([] { cout << \"End\" << endl; });\n",
    "\n",
    "    process.async([] {\n",
    "        this_thread::sleep_for(1s);\n",
    "        cout << \"Made it!\" << endl;\n",
    "    });\n",
    "}\n",
    "this_thread::sleep_for(2s);"
   ]
  },
  {
   "cell_type": "markdown",
   "id": "confirmed-maria",
   "metadata": {
    "slideshow": {
     "slide_type": "fragment"
    }
   },
   "source": [
    "- A completion handler can also be adapted to a future with continuations\n",
    "- This is likely the approach I would take in a library\n",
    "    - Make it the clients problem"
   ]
  },
  {
   "cell_type": "markdown",
   "id": "breeding-portal",
   "metadata": {
    "slideshow": {
     "slide_type": "slide"
    }
   },
   "source": [
    "## Safe Blocking"
   ]
  },
  {
   "cell_type": "markdown",
   "id": "damaged-speech",
   "metadata": {
    "slideshow": {
     "slide_type": "fragment"
    }
   },
   "source": [
    "- To safely block on destruction\n",
    "    - If the process is already running (not just queued) then wait\n",
    "    - Otherwise run the process in the current context"
   ]
  },
  {
   "cell_type": "markdown",
   "id": "bridal-pride",
   "metadata": {
    "slideshow": {
     "slide_type": "slide"
    }
   },
   "source": [
    "- Because we could be in a queued state\n",
    "    - The queued task may end up running after destruction we need a shared implementation\n",
    "- Our sequential process is movable, but not copyable, so we have a single point of destruction"
   ]
  },
  {
   "cell_type": "code",
   "execution_count": 18,
   "id": "supposed-initial",
   "metadata": {
    "execution": {
     "iopub.execute_input": "2021-06-28T16:56:49.625544Z",
     "iopub.status.busy": "2021-06-28T16:56:49.624981Z",
     "iopub.status.idle": "2021-06-28T16:56:49.629750Z",
     "shell.execute_reply": "2021-06-28T16:56:49.629396Z"
    },
    "slideshow": {
     "slide_type": "slide"
    }
   },
   "outputs": [],
   "source": [
    "namespace bcc5 {\n",
    "\n",
    "class sequential_process {\n",
    "    struct implementation;\n",
    "    shared_ptr<implementation> _self;\n",
    "\n",
    "public:\n",
    "    sequential_process();\n",
    "\n",
    "    sequential_process(const sequential_process&) = delete;\n",
    "    sequential_process(sequential_process&&) noexcept = default;\n",
    "\n",
    "    sequential_process& operator=(const sequential_process&) = delete;\n",
    "    sequential_process& operator=(sequential_process&&) noexcept = default;\n",
    "\n",
    "    ~sequential_process();\n",
    "\n",
    "    void async(task f);\n",
    "};\n",
    "\n",
    "} // namespace bcc5"
   ]
  },
  {
   "cell_type": "markdown",
   "id": "turned-cincinnati",
   "metadata": {
    "slideshow": {
     "slide_type": "slide"
    }
   },
   "source": [
    "- In our blocking case we had `_running` and `_done` flags\n",
    "    - Instead of adding more flags, we replace the flags with an `enum` for the state\n"
   ]
  },
  {
   "cell_type": "code",
   "execution_count": 19,
   "id": "heavy-depth",
   "metadata": {
    "execution": {
     "iopub.execute_input": "2021-06-28T16:56:49.631516Z",
     "iopub.status.busy": "2021-06-28T16:56:49.631096Z",
     "iopub.status.idle": "2021-06-28T16:56:49.633674Z",
     "shell.execute_reply": "2021-06-28T16:56:49.633357Z"
    },
    "slideshow": {
     "slide_type": "fragment"
    }
   },
   "outputs": [],
   "source": [
    "namespace bcc5 {\n",
    "\n",
    "struct sequential_process::implementation : enable_shared_from_this<implementation> {\n",
    "    function<void(task)> _executor;\n",
    "\n",
    "    mutex _mutex;\n",
    "    deque<task> _queue;\n",
    "\n",
    "    condition_variable _condition;\n",
    "    enum { idle, queued, running, done } _state = idle; // <---\n",
    "\n",
    "    void resume();\n",
    "    void wait(); // <---\n",
    "    void async(task f);\n",
    "};\n",
    "\n",
    "} // namespace bcc5"
   ]
  },
  {
   "cell_type": "markdown",
   "id": "judicial-affiliation",
   "metadata": {
    "slideshow": {
     "slide_type": "slide"
    }
   },
   "source": [
    "- When we enqueue the task, we change the state to `queued` if we were `idle`"
   ]
  },
  {
   "cell_type": "code",
   "execution_count": 20,
   "id": "korean-buffalo",
   "metadata": {
    "execution": {
     "iopub.execute_input": "2021-06-28T16:56:49.635213Z",
     "iopub.status.busy": "2021-06-28T16:56:49.634793Z",
     "iopub.status.idle": "2021-06-28T16:56:49.675139Z",
     "shell.execute_reply": "2021-06-28T16:56:49.674781Z"
    },
    "slideshow": {
     "slide_type": "fragment"
    }
   },
   "outputs": [],
   "source": [
    "namespace bcc5 {\n",
    "\n",
    "void sequential_process::implementation::async(task f) {\n",
    "    bool was_idle = false;\n",
    "    {\n",
    "        lock_guard<mutex> lock(_mutex);\n",
    "        _queue.push_back(move(f));\n",
    "        was_idle = _state == idle;     // <---\n",
    "        if (was_idle) _state = queued; // <---\n",
    "    }\n",
    "    if (was_idle) pool_async([_self = shared_from_this()] { _self->resume(); });\n",
    "}\n",
    "\n",
    "} // namespace bcc5"
   ]
  },
  {
   "cell_type": "markdown",
   "id": "constitutional-painting",
   "metadata": {
    "slideshow": {
     "slide_type": "slide"
    }
   },
   "source": [
    "- `resume()` handles the various states\n",
    "    - `idle` -> `idle` (canceled)\n",
    "    - `queued` -> `running`\n",
    "    - `_queue.empty()` -> idle (notify if was `done`)\n",
    "- Because the shared state won't fall out from under `resume()` we can safely call `notify_one()` outside the lock"
   ]
  },
  {
   "cell_type": "code",
   "execution_count": 21,
   "id": "facial-veteran",
   "metadata": {
    "execution": {
     "iopub.execute_input": "2021-06-28T16:56:49.676946Z",
     "iopub.status.busy": "2021-06-28T16:56:49.676513Z",
     "iopub.status.idle": "2021-06-28T16:56:49.682669Z",
     "shell.execute_reply": "2021-06-28T16:56:49.682367Z"
    },
    "slideshow": {
     "slide_type": "slide"
    }
   },
   "outputs": [],
   "source": [
    "void bcc5::sequential_process::implementation::resume() {\n",
    "    task work;\n",
    "    while (true) {\n",
    "        {\n",
    "            unique_lock<mutex> lock(_mutex);\n",
    "\n",
    "            if (_state == idle) return;             // <---\n",
    "            if (_state == queued) _state = running; // <---\n",
    "\n",
    "            if (_queue.empty()) {\n",
    "                auto last_state = _state;\n",
    "                _state = idle;\n",
    "                if (last_state == done) break; // <---\n",
    "                return;\n",
    "            }\n",
    "\n",
    "            work = move(_queue.front());\n",
    "            _queue.pop_front();\n",
    "        }\n",
    "        move(work)();\n",
    "    }\n",
    "    _condition.notify_one(); // <---\n",
    "}"
   ]
  },
  {
   "cell_type": "markdown",
   "id": "alert-sullivan",
   "metadata": {
    "slideshow": {
     "slide_type": "slide"
    }
   },
   "source": [
    "- Finally, we provide the `wait()` operation, called from `~sequential_process()`\n",
    "    - If `idle` we are done and destruct\n",
    "    - If work is `queued` we take ownership of execution\n",
    "    - If `running` we signal `done`"
   ]
  },
  {
   "cell_type": "code",
   "execution_count": 22,
   "id": "spiritual-philosophy",
   "metadata": {
    "execution": {
     "iopub.execute_input": "2021-06-28T16:56:49.684232Z",
     "iopub.status.busy": "2021-06-28T16:56:49.683864Z",
     "iopub.status.idle": "2021-06-28T16:56:49.688142Z",
     "shell.execute_reply": "2021-06-28T16:56:49.687833Z"
    },
    "slideshow": {
     "slide_type": "slide"
    }
   },
   "outputs": [],
   "source": [
    "void bcc5::sequential_process::implementation::wait() {\n",
    "    bool was_queued = false;\n",
    "    {\n",
    "        unique_lock<mutex> lock(_mutex);\n",
    "\n",
    "        if (_state == idle) return;\n",
    "\n",
    "        if (_state == queued) {\n",
    "            _state = idle;\n",
    "            was_queued = true;\n",
    "        } else {\n",
    "            _state = done;\n",
    "            while (_state == done)\n",
    "                _condition.wait(lock);\n",
    "        }\n",
    "    }\n",
    "    if (!was_queued) return;\n",
    "\n",
    "    while (!_queue.empty()) {\n",
    "        move(_queue.front())();\n",
    "        _queue.pop_front();\n",
    "    }\n",
    "}"
   ]
  },
  {
   "cell_type": "code",
   "execution_count": 23,
   "id": "specific-index",
   "metadata": {
    "execution": {
     "iopub.execute_input": "2021-06-28T16:56:49.690131Z",
     "iopub.status.busy": "2021-06-28T16:56:49.689490Z",
     "iopub.status.idle": "2021-06-28T16:56:49.704468Z",
     "shell.execute_reply": "2021-06-28T16:56:49.704166Z"
    },
    "slideshow": {
     "slide_type": "skip"
    }
   },
   "outputs": [],
   "source": [
    "// SKIP\n",
    "namespace bcc5 {\n",
    "    \n",
    "sequential_process::sequential_process() : _self(make_shared<implementation>()) { }\n",
    "\n",
    "sequential_process::~sequential_process() { _self->wait(); }\n",
    "\n",
    "void sequential_process::async(task f) { _self->async(move(f)); }\n",
    "\n",
    "}"
   ]
  },
  {
   "cell_type": "markdown",
   "id": "inner-channel",
   "metadata": {
    "slideshow": {
     "slide_type": "slide"
    }
   },
   "source": [
    "- Our process will now join cleanly without risk of a dead lock"
   ]
  },
  {
   "cell_type": "code",
   "execution_count": 24,
   "id": "baking-queensland",
   "metadata": {
    "execution": {
     "iopub.execute_input": "2021-06-28T16:56:49.706418Z",
     "iopub.status.busy": "2021-06-28T16:56:49.705814Z",
     "iopub.status.idle": "2021-06-28T16:56:50.863319Z",
     "shell.execute_reply": "2021-06-28T16:56:50.862825Z"
    },
    "slideshow": {
     "slide_type": "fragment"
    }
   },
   "outputs": [
    {
     "name": "stdout",
     "output_type": "stream",
     "text": [
      "Made it!\n"
     ]
    },
    {
     "name": "stdout",
     "output_type": "stream",
     "text": [
      "process destructed\n"
     ]
    }
   ],
   "source": [
    "{\n",
    "    bcc5::sequential_process process;\n",
    "\n",
    "    process.async([] {\n",
    "        this_thread::sleep_for(1s);\n",
    "        cout << \"Made it!\" << endl;\n",
    "    });\n",
    "}\n",
    "cout << \"process destructed\" << endl;"
   ]
  },
  {
   "cell_type": "markdown",
   "id": "applied-tulsa",
   "metadata": {
    "slideshow": {
     "slide_type": "slide"
    }
   },
   "source": [
    "## Concluding remarks\n",
    "- One of the more challenging problems in an async environment is to shut things down\n",
    "    - Supply a completion handler and make it the client problem\n",
    "        - Either blocking if client _knows_ they have _enough_ concurrency\n",
    "        - Not blocking, usually by queuing the completion signal to the main queue until everything is complete\n",
    "    - Blocking join, but take care not to dead-lock\n",
    "    - Cancellation, but this is challenging as it may also require a block to ensure currently executing item is complete"
   ]
  },
  {
   "cell_type": "markdown",
   "id": "effective-notification",
   "metadata": {
    "slideshow": {
     "slide_type": "fragment"
    }
   },
   "source": [
    "- Apple's GCD uses completion handlers to solve this problem\n",
    "    - Which is to say, they don't solve it"
   ]
  },
  {
   "cell_type": "code",
   "execution_count": null,
   "id": "vulnerable-ecology",
   "metadata": {},
   "outputs": [],
   "source": []
  }
 ],
 "metadata": {
  "jupytext": {
   "formats": "ipynb,md"
  },
  "kernelspec": {
   "display_name": "C++17",
   "language": "C++17",
   "name": "xcpp17"
  },
  "language_info": {
   "codemirror_mode": "text/x-c++src",
   "file_extension": ".cpp",
   "mimetype": "text/x-c++src",
   "name": "c++",
   "version": "17"
  }
 },
 "nbformat": 4,
 "nbformat_minor": 5
}

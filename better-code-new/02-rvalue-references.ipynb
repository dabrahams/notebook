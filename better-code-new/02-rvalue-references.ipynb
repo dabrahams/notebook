{
 "cells": [
  {
   "cell_type": "code",
   "execution_count": 1,
   "id": "corporate-validation",
   "metadata": {
    "execution": {
     "iopub.execute_input": "2021-06-28T16:56:07.184390Z",
     "iopub.status.busy": "2021-06-28T16:56:07.183641Z",
     "iopub.status.idle": "2021-06-28T16:56:07.270310Z",
     "shell.execute_reply": "2021-06-28T16:56:07.269897Z"
    },
    "slideshow": {
     "slide_type": "skip"
    }
   },
   "outputs": [],
   "source": [
    "#include \"../common.hpp\"\n",
    "\n",
    "using namespace std;\n",
    "using namespace std::string_literals;"
   ]
  },
  {
   "cell_type": "markdown",
   "id": "palestinian-participation",
   "metadata": {
    "slideshow": {
     "slide_type": "slide"
    }
   },
   "source": [
    "## RValue References\n",
    "\n",
    "- [_rvalue_](http://en.cppreference.com/w/cpp/language/value_category) (right hand value) is an unnamed temporary\n",
    "- `T&&` is used to denote an [_rvalue reference_](http://en.cppreference.com/w/cpp/language/reference) a reference that can only bind to a temporary"
   ]
  },
  {
   "cell_type": "markdown",
   "id": "chubby-darkness",
   "metadata": {
    "slideshow": {
     "slide_type": "fragment"
    }
   },
   "source": [
    "```cpp\n",
    "string str = \"Hello\"s;\n",
    "string&& ref = str;\n",
    "```\n",
    "---\n",
    "```cpp\n",
    "input_line_10:3:10: error: rvalue reference to type 'basic_string<...>' cannot bind to lvalue of type 'basic_string<...>'\n",
    "string&& ref = str;\n",
    "         ^     ~~~\n",
    "```"
   ]
  },
  {
   "cell_type": "code",
   "execution_count": 2,
   "id": "comic-magazine",
   "metadata": {
    "execution": {
     "iopub.execute_input": "2021-06-28T16:56:07.272124Z",
     "iopub.status.busy": "2021-06-28T16:56:07.271752Z",
     "iopub.status.idle": "2021-06-28T16:56:07.274499Z",
     "shell.execute_reply": "2021-06-28T16:56:07.274083Z"
    },
    "slideshow": {
     "slide_type": "fragment"
    }
   },
   "outputs": [],
   "source": [
    "string&& ref = \"Hello\"s;"
   ]
  },
  {
   "cell_type": "markdown",
   "id": "proved-speed",
   "metadata": {
    "slideshow": {
     "slide_type": "slide"
    }
   },
   "source": [
    "- A temporary value is safe to _consume_\n",
    "- Useful to avoid copies\n",
    "- A constructor taking the class type by rvalue reference is known as a _move constructor_\n",
    "    - Similar to a copy constructor but it consumes it's argument"
   ]
  },
  {
   "cell_type": "code",
   "execution_count": 3,
   "id": "narrative-jacket",
   "metadata": {
    "execution": {
     "iopub.execute_input": "2021-06-28T16:56:07.275947Z",
     "iopub.status.busy": "2021-06-28T16:56:07.275581Z",
     "iopub.status.idle": "2021-06-28T16:56:07.276781Z",
     "shell.execute_reply": "2021-06-28T16:56:07.276420Z"
    },
    "slideshow": {
     "slide_type": "fragment"
    }
   },
   "outputs": [],
   "source": [
    "class movable {\n",
    "    int* _some_data;\n",
    "public:\n",
    "    movable(movable&& x) noexcept : _some_data{x._some_data} // consume x\n",
    "    { x._some_data = nullptr; } // leave x destructible\n",
    "    \n",
    "    //...\n",
    "};"
   ]
  },
  {
   "cell_type": "markdown",
   "id": "fancy-knight",
   "metadata": {
    "slideshow": {
     "slide_type": "slide"
    }
   },
   "source": [
    "### Return Value Optimization\n",
    "- _Return value optimization_ (RVO) or [_copy elision_](http://en.cppreference.com/w/cpp/language/copy_elision) avoids a copy (or move) on return by constructing the result in place\n",
    "- RVO applies to _local named values_ and rvalue results\n",
    "- Allowed optimziation since C++03, required by C++17"
   ]
  },
  {
   "cell_type": "code",
   "execution_count": 4,
   "id": "verified-glossary",
   "metadata": {
    "execution": {
     "iopub.execute_input": "2021-06-28T16:56:07.278352Z",
     "iopub.status.busy": "2021-06-28T16:56:07.277990Z",
     "iopub.status.idle": "2021-06-28T16:56:07.283086Z",
     "shell.execute_reply": "2021-06-28T16:56:07.282732Z"
    },
    "slideshow": {
     "slide_type": "fragment"
    }
   },
   "outputs": [
    {
     "name": "stdout",
     "output_type": "stream",
     "text": [
      "annotate ctor\n"
     ]
    }
   ],
   "source": [
    "annotate f() {\n",
    "    annotate x;\n",
    "    return x;\n",
    "}\n",
    "\n",
    "annotate y = f();"
   ]
  },
  {
   "cell_type": "markdown",
   "id": "constant-complex",
   "metadata": {
    "slideshow": {
     "slide_type": "slide"
    }
   },
   "source": [
    "- Arguments to functions are in the caller scope\n",
    "- RVO applies to passing an argument by value"
   ]
  },
  {
   "cell_type": "code",
   "execution_count": 5,
   "id": "lyric-institution",
   "metadata": {
    "execution": {
     "iopub.execute_input": "2021-06-28T16:56:07.284816Z",
     "iopub.status.busy": "2021-06-28T16:56:07.284448Z",
     "iopub.status.idle": "2021-06-28T16:56:07.289147Z",
     "shell.execute_reply": "2021-06-28T16:56:07.288277Z"
    },
    "slideshow": {
     "slide_type": "fragment"
    }
   },
   "outputs": [
    {
     "name": "stdout",
     "output_type": "stream",
     "text": [
      "annotate ctor\n"
     ]
    },
    {
     "name": "stdout",
     "output_type": "stream",
     "text": [
      "annotate dtor\n"
     ]
    }
   ],
   "source": [
    "void g(annotate x) { }\n",
    "g(f());"
   ]
  },
  {
   "cell_type": "markdown",
   "id": "forced-living",
   "metadata": {
    "slideshow": {
     "slide_type": "slide"
    }
   },
   "source": [
    "- RVO does not apply to returning value argument\n",
    "- C++11 defines returning a value argument as a _move_ operation"
   ]
  },
  {
   "cell_type": "code",
   "execution_count": 6,
   "id": "several-result",
   "metadata": {
    "execution": {
     "iopub.execute_input": "2021-06-28T16:56:07.290782Z",
     "iopub.status.busy": "2021-06-28T16:56:07.290414Z",
     "iopub.status.idle": "2021-06-28T16:56:07.296275Z",
     "shell.execute_reply": "2021-06-28T16:56:07.294996Z"
    },
    "slideshow": {
     "slide_type": "fragment"
    }
   },
   "outputs": [
    {
     "name": "stdout",
     "output_type": "stream",
     "text": [
      "annotate ctor\n"
     ]
    },
    {
     "name": "stdout",
     "output_type": "stream",
     "text": [
      "annotate move-ctor\n"
     ]
    },
    {
     "name": "stdout",
     "output_type": "stream",
     "text": [
      "annotate dtor\n"
     ]
    }
   ],
   "source": [
    "annotate h(annotate x) {\n",
    "    return x;\n",
    "}\n",
    "\n",
    "annotate z = h(f());"
   ]
  },
  {
   "cell_type": "markdown",
   "id": "meaning-malawi",
   "metadata": {
    "slideshow": {
     "slide_type": "slide"
    }
   },
   "source": [
    "### Using RValue Refs and RVO to Avoid Copies\n",
    "#### Make Classes Movable\n",
    "- Provide a move constructor and move assignment operator\n",
    "    - Compiler will provide them implicitely if\n",
    "        - there are no user declared copy constructors, copy assignment operators, or destructors\n",
    "        - all non-static data members and base classes are movable\n",
    "    - To ensure you have them, declare them `= default`\n",
    "    - Move constructor and move assignment should be declared `noexcept`\n",
    "    - Post-condition of moved from object is _partially formed_ & can alias rhs for move assignment\n",
    "    - Otherwise can assume no aliasing"
   ]
  },
  {
   "cell_type": "markdown",
   "id": "adolescent-formation",
   "metadata": {
    "slideshow": {
     "slide_type": "slide"
    }
   },
   "source": [
    "Example:"
   ]
  },
  {
   "cell_type": "code",
   "execution_count": 7,
   "id": "seeing-burst",
   "metadata": {
    "execution": {
     "iopub.execute_input": "2021-06-28T16:56:07.298040Z",
     "iopub.status.busy": "2021-06-28T16:56:07.297668Z",
     "iopub.status.idle": "2021-06-28T16:56:07.298968Z",
     "shell.execute_reply": "2021-06-28T16:56:07.298618Z"
    },
    "slideshow": {
     "slide_type": "-"
    }
   },
   "outputs": [],
   "source": [
    "class example_01 {\n",
    "    int* _data;\n",
    "public:\n",
    "    explicit example_01(int x) : _data(new int(x)) { }\n",
    "    ~example_01() { delete _data; }\n",
    "    \n",
    "    example_01(const example_01&) = delete;\n",
    "    example_01& operator=(const example_01&) = delete;\n",
    "    \n",
    "    example_01(example_01&& x) noexcept : _data(x._data) { x._data = nullptr; }\n",
    "    example_01& operator=(example_01&& x) noexcept {\n",
    "        delete _data;\n",
    "        _data = x._data;\n",
    "        x._data = nullptr;\n",
    "        return *this;\n",
    "    }\n",
    "    \n",
    "    explicit operator int () { return *_data; }\n",
    "};"
   ]
  },
  {
   "cell_type": "code",
   "execution_count": 8,
   "id": "dried-kidney",
   "metadata": {
    "execution": {
     "iopub.execute_input": "2021-06-28T16:56:07.300713Z",
     "iopub.status.busy": "2021-06-28T16:56:07.300301Z",
     "iopub.status.idle": "2021-06-28T16:56:07.310508Z",
     "shell.execute_reply": "2021-06-28T16:56:07.310135Z"
    },
    "slideshow": {
     "slide_type": "slide"
    }
   },
   "outputs": [],
   "source": [
    "class example_02 {\n",
    "    unique_ptr<int> _data;\n",
    "public:\n",
    "    explicit example_02(int x) : _data(make_unique<int>(x)) { }\n",
    "    // implicit dtor\n",
    "    \n",
    "    // implicit deleted copy-ctor and copy-assignment\n",
    "    \n",
    "    /*\n",
    "        move-ctor and move-assignment would be provided by default, but declaring\n",
    "        them ensures they are provided and correct.\n",
    "    */\n",
    "    example_02(example_02&&) noexcept = default;\n",
    "    example_02& operator=(example_02&&) noexcept = default;\n",
    "    \n",
    "    explicit operator int () { return *_data; }\n",
    "};"
   ]
  },
  {
   "cell_type": "markdown",
   "id": "packed-services",
   "metadata": {
    "slideshow": {
     "slide_type": "slide"
    }
   },
   "source": [
    "#### The Self Swap Problem\n",
    "What is the post condition of:"
   ]
  },
  {
   "cell_type": "code",
   "execution_count": 9,
   "id": "divided-booking",
   "metadata": {
    "execution": {
     "iopub.execute_input": "2021-06-28T16:56:07.312070Z",
     "iopub.status.busy": "2021-06-28T16:56:07.311712Z",
     "iopub.status.idle": "2021-06-28T16:56:07.319712Z",
     "shell.execute_reply": "2021-06-28T16:56:07.319284Z"
    },
    "slideshow": {
     "slide_type": "-"
    }
   },
   "outputs": [],
   "source": [
    "string s = \"Hello World!\";\n",
    "swap(s, s);"
   ]
  },
  {
   "cell_type": "code",
   "execution_count": 10,
   "id": "concerned-defense",
   "metadata": {
    "execution": {
     "iopub.execute_input": "2021-06-28T16:56:07.321344Z",
     "iopub.status.busy": "2021-06-28T16:56:07.321035Z",
     "iopub.status.idle": "2021-06-28T16:56:07.323560Z",
     "shell.execute_reply": "2021-06-28T16:56:07.323244Z"
    },
    "slideshow": {
     "slide_type": "fragment"
    }
   },
   "outputs": [
    {
     "name": "stdout",
     "output_type": "stream",
     "text": [
      "Hello World!\n"
     ]
    }
   ],
   "source": [
    "cout << s << endl;"
   ]
  },
  {
   "cell_type": "markdown",
   "id": "comic-affiliation",
   "metadata": {
    "slideshow": {
     "slide_type": "slide"
    }
   },
   "source": [
    "`std::swap()` is defined as:\n",
    "```cpp\n",
    "template <class T>\n",
    "void swap(T& a, T& b) {\n",
    "    T tmp = move(a);\n",
    "    a = move(b); // if a and b alias, then b has been moved from\n",
    "    b = move(tmp);\n",
    "}\n",
    "```"
   ]
  },
  {
   "cell_type": "markdown",
   "id": "biblical-cotton",
   "metadata": {
    "slideshow": {
     "slide_type": "slide"
    }
   },
   "source": [
    "```cpp\n",
    "    example_01& operator=(example_01&& x) noexcept {\n",
    "        delete _data;\n",
    "        _data = x._data;\n",
    "        x._data = nullptr;\n",
    "        return *this;\n",
    "    }\n",
    "```\n",
    "\n",
    "Is this okay?"
   ]
  },
  {
   "cell_type": "code",
   "execution_count": 11,
   "id": "assisted-destruction",
   "metadata": {
    "execution": {
     "iopub.execute_input": "2021-06-28T16:56:07.325564Z",
     "iopub.status.busy": "2021-06-28T16:56:07.325144Z",
     "iopub.status.idle": "2021-06-28T16:56:07.330560Z",
     "shell.execute_reply": "2021-06-28T16:56:07.330102Z"
    },
    "slideshow": {
     "slide_type": "fragment"
    }
   },
   "outputs": [],
   "source": [
    "example_01 e1(42);\n",
    "swap(e1, e1);"
   ]
  },
  {
   "cell_type": "code",
   "execution_count": 12,
   "id": "overhead-spine",
   "metadata": {
    "execution": {
     "iopub.execute_input": "2021-06-28T16:56:07.332290Z",
     "iopub.status.busy": "2021-06-28T16:56:07.331882Z",
     "iopub.status.idle": "2021-06-28T16:56:07.335840Z",
     "shell.execute_reply": "2021-06-28T16:56:07.335479Z"
    },
    "slideshow": {
     "slide_type": "fragment"
    }
   },
   "outputs": [
    {
     "name": "stdout",
     "output_type": "stream",
     "text": [
      "42\n"
     ]
    }
   ],
   "source": [
    "cout << static_cast<int>(e1) << endl;"
   ]
  },
  {
   "cell_type": "markdown",
   "id": "velvet-router",
   "metadata": {
    "slideshow": {
     "slide_type": "notes"
    }
   },
   "source": [
    "Class Break - resume here 2018-02-07"
   ]
  },
  {
   "cell_type": "markdown",
   "id": "subject-russell",
   "metadata": {
    "slideshow": {
     "slide_type": "slide"
    }
   },
   "source": [
    "#### Use Return Values, Not Out Arguments\n",
    "\n",
    "- Out-arguments defeat RVO"
   ]
  },
  {
   "cell_type": "code",
   "execution_count": 13,
   "id": "chinese-burton",
   "metadata": {
    "execution": {
     "iopub.execute_input": "2021-06-28T16:56:07.338006Z",
     "iopub.status.busy": "2021-06-28T16:56:07.337666Z",
     "iopub.status.idle": "2021-06-28T16:56:07.344013Z",
     "shell.execute_reply": "2021-06-28T16:56:07.342364Z"
    },
    "slideshow": {
     "slide_type": "fragment"
    }
   },
   "outputs": [
    {
     "name": "stdout",
     "output_type": "stream",
     "text": [
      "annotate ctor\n"
     ]
    },
    {
     "name": "stdout",
     "output_type": "stream",
     "text": [
      "annotate ctor\n"
     ]
    },
    {
     "name": "stdout",
     "output_type": "stream",
     "text": [
      "annotate assign\n"
     ]
    },
    {
     "name": "stdout",
     "output_type": "stream",
     "text": [
      "annotate dtor\n"
     ]
    }
   ],
   "source": [
    "void output_01(annotate& out) {\n",
    "    annotate tmp;\n",
    "    // fill in tmp\n",
    "    out = tmp;\n",
    "}\n",
    "\n",
    "annotate a1;\n",
    "output_01(a1);"
   ]
  },
  {
   "cell_type": "code",
   "execution_count": 14,
   "id": "caroline-pressure",
   "metadata": {
    "execution": {
     "iopub.execute_input": "2021-06-28T16:56:07.345730Z",
     "iopub.status.busy": "2021-06-28T16:56:07.345347Z",
     "iopub.status.idle": "2021-06-28T16:56:07.349730Z",
     "shell.execute_reply": "2021-06-28T16:56:07.349374Z"
    },
    "slideshow": {
     "slide_type": "slide"
    }
   },
   "outputs": [
    {
     "name": "stdout",
     "output_type": "stream",
     "text": [
      "annotate ctor\n"
     ]
    }
   ],
   "source": [
    "annotate output_02() {\n",
    "    annotate tmp;\n",
    "    // fill in tmp\n",
    "    return tmp;\n",
    "}\n",
    "\n",
    "annotate a2 = output_02();"
   ]
  },
  {
   "cell_type": "markdown",
   "id": "stunning-wrapping",
   "metadata": {
    "slideshow": {
     "slide_type": "slide"
    }
   },
   "source": [
    "##### Further Reading\n",
    "\n",
    "[Stop Using _Out_ Arguments](http://stlab.cc/tips/stop-using-out-arguments.html)"
   ]
  },
  {
   "cell_type": "markdown",
   "id": "hourly-communications",
   "metadata": {
    "slideshow": {
     "slide_type": "slide"
    }
   },
   "source": [
    "#### Pass _sink_ arguments by value and return, or swap or move into place\n",
    "\n",
    "- A _sink argument_ is an argument whose value is returned or stored\n",
    "- Most constructor arguments are sink arguments\n",
    "- The argument to assignment is a sink argument"
   ]
  },
  {
   "cell_type": "code",
   "execution_count": 15,
   "id": "demographic-hopkins",
   "metadata": {
    "execution": {
     "iopub.execute_input": "2021-06-28T16:56:07.351195Z",
     "iopub.status.busy": "2021-06-28T16:56:07.350826Z",
     "iopub.status.idle": "2021-06-28T16:56:07.352386Z",
     "shell.execute_reply": "2021-06-28T16:56:07.352026Z"
    },
    "slideshow": {
     "slide_type": "slide"
    }
   },
   "outputs": [],
   "source": [
    "string append(string str, const char* suffix) {\n",
    "    str += suffix;\n",
    "    return str;\n",
    "}"
   ]
  },
  {
   "cell_type": "code",
   "execution_count": 16,
   "id": "related-garage",
   "metadata": {
    "execution": {
     "iopub.execute_input": "2021-06-28T16:56:07.353942Z",
     "iopub.status.busy": "2021-06-28T16:56:07.353611Z",
     "iopub.status.idle": "2021-06-28T16:56:07.358538Z",
     "shell.execute_reply": "2021-06-28T16:56:07.357532Z"
    },
    "slideshow": {
     "slide_type": "fragment"
    }
   },
   "outputs": [
    {
     "name": "stdout",
     "output_type": "stream",
     "text": [
      "annotate ctor\n"
     ]
    },
    {
     "name": "stdout",
     "output_type": "stream",
     "text": [
      "annotate move-ctor\n"
     ]
    },
    {
     "name": "stdout",
     "output_type": "stream",
     "text": [
      "annotate dtor\n"
     ]
    }
   ],
   "source": [
    "annotate append(annotate str) {\n",
    "    // modify str\n",
    "    return str;\n",
    "}\n",
    "\n",
    "auto str = append(annotate());"
   ]
  },
  {
   "cell_type": "code",
   "execution_count": 17,
   "id": "creative-person",
   "metadata": {
    "execution": {
     "iopub.execute_input": "2021-06-28T16:56:07.360305Z",
     "iopub.status.busy": "2021-06-28T16:56:07.359997Z",
     "iopub.status.idle": "2021-06-28T16:56:07.366255Z",
     "shell.execute_reply": "2021-06-28T16:56:07.365577Z"
    },
    "slideshow": {
     "slide_type": "slide"
    }
   },
   "outputs": [
    {
     "name": "stdout",
     "output_type": "stream",
     "text": [
      "annotate ctor\n"
     ]
    },
    {
     "name": "stdout",
     "output_type": "stream",
     "text": [
      "annotate move-ctor\n"
     ]
    },
    {
     "name": "stdout",
     "output_type": "stream",
     "text": [
      "annotate dtor\n"
     ]
    }
   ],
   "source": [
    "class example_03 {\n",
    "    annotate _member;\n",
    "public:\n",
    "    explicit example_03(annotate data) : _member(move(data)) { }\n",
    "};\n",
    "\n",
    "example_03 e_03{annotate()};"
   ]
  },
  {
   "cell_type": "markdown",
   "id": "infrared-decline",
   "metadata": {
    "slideshow": {
     "slide_type": "fragment"
    }
   },
   "source": [
    "`std::move()` is a cast to an rvalue reference."
   ]
  },
  {
   "cell_type": "code",
   "execution_count": 18,
   "id": "characteristic-combine",
   "metadata": {
    "execution": {
     "iopub.execute_input": "2021-06-28T16:56:07.367732Z",
     "iopub.status.busy": "2021-06-28T16:56:07.367350Z",
     "iopub.status.idle": "2021-06-28T16:56:07.368684Z",
     "shell.execute_reply": "2021-06-28T16:56:07.368405Z"
    },
    "slideshow": {
     "slide_type": "slide"
    }
   },
   "outputs": [],
   "source": [
    "class example_04 {\n",
    "    annotate* _member;\n",
    "public:\n",
    "    example_04() : _member(new annotate()) { }\n",
    "    ~example_04() { delete _member; }\n",
    "    \n",
    "    example_04(const example_04& x) : _member(new annotate(*x._member)) { }\n",
    "    example_04(example_04&& x) : _member(x._member) { x._member = nullptr; }\n",
    "    \n",
    "    // this assignment handles both move and copy\n",
    "    example_04& operator=(example_04 x) noexcept {\n",
    "        delete _member;\n",
    "        _member = x._member;\n",
    "        x._member = nullptr;\n",
    "        return *this; }\n",
    "};"
   ]
  },
  {
   "cell_type": "code",
   "execution_count": 19,
   "id": "collect-roots",
   "metadata": {
    "execution": {
     "iopub.execute_input": "2021-06-28T16:56:07.370336Z",
     "iopub.status.busy": "2021-06-28T16:56:07.369976Z",
     "iopub.status.idle": "2021-06-28T16:56:07.375391Z",
     "shell.execute_reply": "2021-06-28T16:56:07.374315Z"
    },
    "slideshow": {
     "slide_type": "slide"
    }
   },
   "outputs": [
    {
     "name": "stdout",
     "output_type": "stream",
     "text": [
      "annotate ctor\n"
     ]
    },
    {
     "name": "stdout",
     "output_type": "stream",
     "text": [
      "annotate ctor\n"
     ]
    }
   ],
   "source": [
    "example_04 e41;\n",
    "example_04 e42;"
   ]
  },
  {
   "cell_type": "code",
   "execution_count": 20,
   "id": "afraid-density",
   "metadata": {
    "execution": {
     "iopub.execute_input": "2021-06-28T16:56:07.376807Z",
     "iopub.status.busy": "2021-06-28T16:56:07.376467Z",
     "iopub.status.idle": "2021-06-28T16:56:07.738125Z",
     "shell.execute_reply": "2021-06-28T16:56:07.736822Z"
    },
    "slideshow": {
     "slide_type": "fragment"
    }
   },
   "outputs": [
    {
     "name": "stdout",
     "output_type": "stream",
     "text": [
      "annotate copy-ctor\n"
     ]
    },
    {
     "name": "stdout",
     "output_type": "stream",
     "text": [
      "annotate dtor\n"
     ]
    },
    {
     "data": {
      "text/plain": [
       "@0x7ff297aa6090"
      ]
     },
     "execution_count": 20,
     "metadata": {},
     "output_type": "execute_result"
    }
   ],
   "source": [
    "e41 = e42; // copy"
   ]
  },
  {
   "cell_type": "code",
   "execution_count": 21,
   "id": "black-breakdown",
   "metadata": {
    "execution": {
     "iopub.execute_input": "2021-06-28T16:56:07.740427Z",
     "iopub.status.busy": "2021-06-28T16:56:07.739900Z",
     "iopub.status.idle": "2021-06-28T16:56:07.747154Z",
     "shell.execute_reply": "2021-06-28T16:56:07.746857Z"
    },
    "slideshow": {
     "slide_type": "fragment"
    }
   },
   "outputs": [
    {
     "name": "stdout",
     "output_type": "stream",
     "text": [
      "annotate dtor\n"
     ]
    }
   ],
   "source": [
    "e41 = move(e42);"
   ]
  },
  {
   "cell_type": "markdown",
   "id": "clean-bouquet",
   "metadata": {
    "slideshow": {
     "slide_type": "slide"
    }
   },
   "source": [
    "##### Advantages to by-value assignment\n",
    "\n",
    "- Single implementation for copy and move assignment\n",
    "- Transactional (strong exception guarantee) for copy assignment\n",
    "- Handles self-copy (and usually self-move in moved from case)\n",
    "\n",
    "##### Disadvantages\n",
    "\n",
    "- Potential, significant, performance loss on copy assignment\n",
    "    - [Howard Hinnant - _Everything You Ever Wanted To Know About Move Semantics_](https://www.youtube.com/watch?v=vLinb2fgkHk)"
   ]
  },
  {
   "cell_type": "markdown",
   "id": "surface-federal",
   "metadata": {
    "slideshow": {
     "slide_type": "slide"
    }
   },
   "source": [
    "#### Rvalue Member Functions\n",
    "\n",
    "- `this` is a hidden argument to a member function\n",
    "- `*this` may be an rvalue"
   ]
  },
  {
   "cell_type": "code",
   "execution_count": 22,
   "id": "approved-publicity",
   "metadata": {
    "execution": {
     "iopub.execute_input": "2021-06-28T16:56:07.749191Z",
     "iopub.status.busy": "2021-06-28T16:56:07.748851Z",
     "iopub.status.idle": "2021-06-28T16:56:07.760663Z",
     "shell.execute_reply": "2021-06-28T16:56:07.759413Z"
    },
    "slideshow": {
     "slide_type": "fragment"
    }
   },
   "outputs": [
    {
     "name": "stdout",
     "output_type": "stream",
     "text": [
      "annotate ctor\n"
     ]
    },
    {
     "name": "stdout",
     "output_type": "stream",
     "text": [
      "annotate copy-ctor\n"
     ]
    },
    {
     "name": "stdout",
     "output_type": "stream",
     "text": [
      "annotate dtor\n"
     ]
    }
   ],
   "source": [
    "class example_05 {\n",
    "    annotate _name;\n",
    "public:\n",
    "    const annotate& name() const { return _name; }\n",
    "};\n",
    "\n",
    "auto name_01 = example_05().name();"
   ]
  },
  {
   "cell_type": "code",
   "execution_count": 23,
   "id": "hairy-domestic",
   "metadata": {
    "execution": {
     "iopub.execute_input": "2021-06-28T16:56:07.762116Z",
     "iopub.status.busy": "2021-06-28T16:56:07.761748Z",
     "iopub.status.idle": "2021-06-28T16:56:07.769062Z",
     "shell.execute_reply": "2021-06-28T16:56:07.767816Z"
    },
    "slideshow": {
     "slide_type": "slide"
    }
   },
   "outputs": [
    {
     "name": "stdout",
     "output_type": "stream",
     "text": [
      "annotate ctor\n"
     ]
    },
    {
     "name": "stdout",
     "output_type": "stream",
     "text": [
      "annotate move-ctor\n"
     ]
    },
    {
     "name": "stdout",
     "output_type": "stream",
     "text": [
      "annotate dtor\n"
     ]
    }
   ],
   "source": [
    "class example_06 {\n",
    "    annotate _name;\n",
    "public:\n",
    "    const annotate& name() const& { return _name; }\n",
    "    annotate name() && { return move(_name); }\n",
    "};\n",
    "\n",
    "auto name_02 = example_06().name();"
   ]
  },
  {
   "cell_type": "markdown",
   "id": "instrumental-advertising",
   "metadata": {
    "slideshow": {
     "slide_type": "slide"
    }
   },
   "source": [
    "#### Forward Declare Argument and Result Type\n",
    "\n",
    "- You can use pointer or reference to an incomplete type in an interface"
   ]
  },
  {
   "cell_type": "markdown",
   "id": "sound-aging",
   "metadata": {
    "slideshow": {
     "slide_type": "fragment"
    }
   },
   "source": [
    "- You can also use an incomplete type as a value argument and result type"
   ]
  },
  {
   "cell_type": "code",
   "execution_count": 24,
   "id": "crucial-label",
   "metadata": {
    "execution": {
     "iopub.execute_input": "2021-06-28T16:56:07.770532Z",
     "iopub.status.busy": "2021-06-28T16:56:07.770153Z",
     "iopub.status.idle": "2021-06-28T16:56:07.771253Z",
     "shell.execute_reply": "2021-06-28T16:56:07.770903Z"
    },
    "slideshow": {
     "slide_type": "fragment"
    }
   },
   "outputs": [],
   "source": [
    "class example_07; // forward declaration\n",
    "\n",
    "const example_07& function_01(const example_07&); // You know this works"
   ]
  },
  {
   "cell_type": "code",
   "execution_count": 25,
   "id": "interim-joshua",
   "metadata": {
    "execution": {
     "iopub.execute_input": "2021-06-28T16:56:07.772856Z",
     "iopub.status.busy": "2021-06-28T16:56:07.772503Z",
     "iopub.status.idle": "2021-06-28T16:56:07.773234Z",
     "shell.execute_reply": "2021-06-28T16:56:07.773538Z"
    },
    "slideshow": {
     "slide_type": "fragment"
    }
   },
   "outputs": [],
   "source": [
    "example_07 function_02(example_07); // This works also!"
   ]
  },
  {
   "cell_type": "markdown",
   "id": "amazing-beach",
   "metadata": {
    "slideshow": {
     "slide_type": "slide"
    }
   },
   "source": [
    "### Issue\n",
    "\n",
    "- Assigning an expression to a temporary can impose a performance penalty"
   ]
  },
  {
   "cell_type": "code",
   "execution_count": 26,
   "id": "opening-premium",
   "metadata": {
    "execution": {
     "iopub.execute_input": "2021-06-28T16:56:07.775071Z",
     "iopub.status.busy": "2021-06-28T16:56:07.774723Z",
     "iopub.status.idle": "2021-06-28T16:56:07.779256Z",
     "shell.execute_reply": "2021-06-28T16:56:07.778877Z"
    },
    "slideshow": {
     "slide_type": "skip"
    }
   },
   "outputs": [
    {
     "name": "stdout",
     "output_type": "stream",
     "text": [
      "annotate ctor\n"
     ]
    }
   ],
   "source": [
    "annotate g1(annotate x) { return x; }\n",
    "annotate x;"
   ]
  },
  {
   "cell_type": "code",
   "execution_count": 27,
   "id": "trained-potato",
   "metadata": {
    "execution": {
     "iopub.execute_input": "2021-06-28T16:56:07.780905Z",
     "iopub.status.busy": "2021-06-28T16:56:07.780554Z",
     "iopub.status.idle": "2021-06-28T16:56:07.785410Z",
     "shell.execute_reply": "2021-06-28T16:56:07.784175Z"
    },
    "slideshow": {
     "slide_type": "fragment"
    }
   },
   "outputs": [
    {
     "name": "stdout",
     "output_type": "stream",
     "text": [
      "annotate ctor\n"
     ]
    },
    {
     "name": "stdout",
     "output_type": "stream",
     "text": [
      "annotate move-ctor\n"
     ]
    },
    {
     "name": "stdout",
     "output_type": "stream",
     "text": [
      "annotate dtor\n"
     ]
    }
   ],
   "source": [
    "auto v1 = g1(f());"
   ]
  },
  {
   "cell_type": "code",
   "execution_count": 28,
   "id": "scheduled-interference",
   "metadata": {
    "execution": {
     "iopub.execute_input": "2021-06-28T16:56:07.787289Z",
     "iopub.status.busy": "2021-06-28T16:56:07.786899Z",
     "iopub.status.idle": "2021-06-28T16:56:07.793380Z",
     "shell.execute_reply": "2021-06-28T16:56:07.791681Z"
    },
    "slideshow": {
     "slide_type": "fragment"
    }
   },
   "outputs": [
    {
     "name": "stdout",
     "output_type": "stream",
     "text": [
      "annotate ctor\n"
     ]
    },
    {
     "name": "stdout",
     "output_type": "stream",
     "text": [
      "annotate copy-ctor\n"
     ]
    },
    {
     "name": "stdout",
     "output_type": "stream",
     "text": [
      "annotate move-ctor\n"
     ]
    },
    {
     "name": "stdout",
     "output_type": "stream",
     "text": [
      "annotate dtor\n"
     ]
    }
   ],
   "source": [
    "auto tmp2 = f();\n",
    "auto v2 = g1(tmp2);"
   ]
  },
  {
   "cell_type": "code",
   "execution_count": 29,
   "id": "possible-titanium",
   "metadata": {
    "execution": {
     "iopub.execute_input": "2021-06-28T16:56:07.795188Z",
     "iopub.status.busy": "2021-06-28T16:56:07.794821Z",
     "iopub.status.idle": "2021-06-28T16:56:07.800903Z",
     "shell.execute_reply": "2021-06-28T16:56:07.799696Z"
    },
    "slideshow": {
     "slide_type": "slide"
    }
   },
   "outputs": [
    {
     "name": "stdout",
     "output_type": "stream",
     "text": [
      "annotate ctor\n"
     ]
    },
    {
     "name": "stdout",
     "output_type": "stream",
     "text": [
      "annotate move-ctor\n"
     ]
    },
    {
     "name": "stdout",
     "output_type": "stream",
     "text": [
      "annotate move-ctor\n"
     ]
    },
    {
     "name": "stdout",
     "output_type": "stream",
     "text": [
      "annotate dtor\n"
     ]
    }
   ],
   "source": [
    "auto tmp3 = f();\n",
    "auto v3 = g1(move(tmp3));"
   ]
  },
  {
   "cell_type": "markdown",
   "id": "upper-reference",
   "metadata": {
    "slideshow": {
     "slide_type": "slide"
    }
   },
   "source": [
    "### Summary Recommendations\n",
    "\n",
    "- Make classes movable\n",
    "- Use return values, not out arguments\n",
    "- Pass sink arguments by value and move into place or return\n",
    "- Forward declare argument and result types"
   ]
  },
  {
   "cell_type": "markdown",
   "id": "through-debut",
   "metadata": {
    "slideshow": {
     "slide_type": "slide"
    }
   },
   "source": [
    "### Homework\n",
    "\n",
    "- Apply one or more of the recommendations to code in your product\n",
    "- Measure the results:\n",
    "    - Runtime performance of an optimized build\n",
    "    - (and/or) Binary size of an optimized build\n",
    "    - (and/or) Compile time of a debug build\n",
    "    - (and/or) Resulting source line count delta (indicator of readability)\n",
    "- Report the results on the class wiki: [git.corp.adobe.com/better-code/class/wiki](git.corp.adobe.com/better-code/class/wiki)"
   ]
  },
  {
   "cell_type": "code",
   "execution_count": null,
   "id": "genetic-impossible",
   "metadata": {},
   "outputs": [],
   "source": []
  }
 ],
 "metadata": {
  "jupytext": {
   "formats": "ipynb,md"
  },
  "kernelspec": {
   "display_name": "C++17",
   "language": "C++17",
   "name": "xcpp17"
  },
  "language_info": {
   "codemirror_mode": "text/x-c++src",
   "file_extension": ".cpp",
   "mimetype": "text/x-c++src",
   "name": "c++",
   "version": "17"
  }
 },
 "nbformat": 4,
 "nbformat_minor": 5
}

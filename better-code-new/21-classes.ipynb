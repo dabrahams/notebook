{
 "cells": [
  {
   "cell_type": "code",
   "execution_count": 1,
   "id": "communist-gathering",
   "metadata": {
    "execution": {
     "iopub.execute_input": "2021-06-28T16:56:58.266833Z",
     "iopub.status.busy": "2021-06-28T16:56:58.266252Z",
     "iopub.status.idle": "2021-06-28T16:56:58.269490Z",
     "shell.execute_reply": "2021-06-28T16:56:58.269029Z"
    },
    "slideshow": {
     "slide_type": "skip"
    }
   },
   "outputs": [],
   "source": [
    "#include <string>\n",
    "#include <iostream>\n",
    "#include <tuple>\n",
    "\n",
    "using namespace std;"
   ]
  },
  {
   "cell_type": "markdown",
   "id": "innocent-turkey",
   "metadata": {
    "slideshow": {
     "slide_type": "slide"
    }
   },
   "source": [
    "# Classes"
   ]
  },
  {
   "cell_type": "markdown",
   "id": "contrary-panama",
   "metadata": {
    "slideshow": {
     "slide_type": "slide"
    }
   },
   "source": [
    "## `final`\n",
    "- `final` specifier can be used on a class to disallow derived classes"
   ]
  },
  {
   "cell_type": "code",
   "execution_count": 2,
   "id": "modern-bouquet",
   "metadata": {
    "execution": {
     "iopub.execute_input": "2021-06-28T16:56:58.271628Z",
     "iopub.status.busy": "2021-06-28T16:56:58.271171Z",
     "iopub.status.idle": "2021-06-28T16:56:58.272096Z",
     "shell.execute_reply": "2021-06-28T16:56:58.272435Z"
    },
    "slideshow": {
     "slide_type": "fragment"
    }
   },
   "outputs": [],
   "source": [
    "class base {\n",
    "public:\n",
    "    virtual void member() = 0;\n",
    "};\n",
    "\n",
    "class derived final : public base {\n",
    "public:\n",
    "    void member() override;\n",
    "};"
   ]
  },
  {
   "cell_type": "markdown",
   "id": "urban-novel",
   "metadata": {
    "slideshow": {
     "slide_type": "slide"
    }
   },
   "source": [
    "```cpp\n",
    "class error : public derived { };\n",
    "```\n",
    "---\n",
    "```\n",
    "input_line_9:1:15: error: base 'derived' is marked 'final'\n",
    "class error : derived { };\n",
    "              ^\n",
    "input_line_8:6:8: note: 'derived' declared here\n",
    " class derived final : base {\n",
    "       ^       ~~~~~\n",
    "Interpreter Error: \n",
    "```"
   ]
  },
  {
   "cell_type": "markdown",
   "id": "celtic-block",
   "metadata": {
    "slideshow": {
     "slide_type": "slide"
    }
   },
   "source": [
    "- `final` specifier can also be used on a `virtual` function to specify further overrides are not permitted"
   ]
  },
  {
   "cell_type": "code",
   "execution_count": 3,
   "id": "moved-assessment",
   "metadata": {
    "execution": {
     "iopub.execute_input": "2021-06-28T16:56:58.274275Z",
     "iopub.status.busy": "2021-06-28T16:56:58.273874Z",
     "iopub.status.idle": "2021-06-28T16:56:58.275028Z",
     "shell.execute_reply": "2021-06-28T16:56:58.274716Z"
    },
    "slideshow": {
     "slide_type": "fragment"
    }
   },
   "outputs": [],
   "source": [
    "class derived2 : public base {\n",
    "    void member() final;\n",
    "};"
   ]
  },
  {
   "cell_type": "markdown",
   "id": "french-alexandria",
   "metadata": {
    "slideshow": {
     "slide_type": "fragment"
    }
   },
   "source": [
    "```cpp\n",
    "class error : public derived2 {\n",
    "    void member() override;\n",
    "};\n",
    "```\n",
    "---\n",
    "```\n",
    "input_line_13:3:10: error: declaration of 'method' overrides a 'final' function\n",
    "    void method() override;\n",
    "         ^\n",
    "input_line_11:2:10: note: overridden virtual function is here\n",
    "    void method() final;\n",
    "         ^\n",
    "```"
   ]
  },
  {
   "cell_type": "markdown",
   "id": "closed-optics",
   "metadata": {
    "slideshow": {
     "slide_type": "slide"
    }
   },
   "source": [
    "- `final` makes it clear to the reader that there are no derived classes or methods\n",
    "- More importantly, `final` makes it clear to the compiler, allowing devirtualization optimizations"
   ]
  },
  {
   "cell_type": "markdown",
   "id": "engaged-marriage",
   "metadata": {
    "slideshow": {
     "slide_type": "slide"
    }
   },
   "source": [
    "## `override`\n",
    "- `override` ensures that the function overrides a virtual member function\n",
    "    - Avoids potential mistakes and clarifies intent"
   ]
  },
  {
   "cell_type": "code",
   "execution_count": 4,
   "id": "positive-dublin",
   "metadata": {
    "execution": {
     "iopub.execute_input": "2021-06-28T16:56:58.276884Z",
     "iopub.status.busy": "2021-06-28T16:56:58.276476Z",
     "iopub.status.idle": "2021-06-28T16:56:58.277558Z",
     "shell.execute_reply": "2021-06-28T16:56:58.277216Z"
    },
    "slideshow": {
     "slide_type": "fragment"
    }
   },
   "outputs": [],
   "source": [
    "class derived3 : public base {\n",
    "    void member() const; // no error or warning\n",
    "}"
   ]
  },
  {
   "cell_type": "code",
   "execution_count": 5,
   "id": "universal-standard",
   "metadata": {
    "execution": {
     "iopub.execute_input": "2021-06-28T16:56:58.279021Z",
     "iopub.status.busy": "2021-06-28T16:56:58.278652Z",
     "iopub.status.idle": "2021-06-28T16:56:58.279395Z",
     "shell.execute_reply": "2021-06-28T16:56:58.279727Z"
    },
    "slideshow": {
     "slide_type": "fragment"
    }
   },
   "outputs": [],
   "source": [
    "class derived4 : public base {\n",
    "    virtual void member() const; // no error or warning\n",
    "}"
   ]
  },
  {
   "cell_type": "markdown",
   "id": "documentary-extreme",
   "metadata": {
    "slideshow": {
     "slide_type": "slide"
    }
   },
   "source": [
    "```cpp\n",
    "class derived5 : public base {\n",
    "    void member() const override;\n",
    "}\n",
    "```\n",
    "---\n",
    "```\n",
    "input_line_16:2:25: error: only virtual member functions can be marked 'override'\n",
    "    void member() const override;\n",
    "                        ^~~~~~~~\n",
    "```"
   ]
  },
  {
   "cell_type": "markdown",
   "id": "exciting-consciousness",
   "metadata": {
    "slideshow": {
     "slide_type": "slide"
    }
   },
   "source": [
    "## Construction\n",
    "- You can specify a default initializer for data members directly in the class definition"
   ]
  },
  {
   "cell_type": "code",
   "execution_count": 6,
   "id": "plain-intermediate",
   "metadata": {
    "execution": {
     "iopub.execute_input": "2021-06-28T16:56:58.281339Z",
     "iopub.status.busy": "2021-06-28T16:56:58.280934Z",
     "iopub.status.idle": "2021-06-28T16:56:58.283658Z",
     "shell.execute_reply": "2021-06-28T16:56:58.283323Z"
    },
    "slideshow": {
     "slide_type": "fragment"
    }
   },
   "outputs": [],
   "source": [
    "class example {\n",
    "    int _a = 42;\n",
    "    bool _b = false;\n",
    "    string _c = \"Hello World!\";\n",
    "\n",
    "public:\n",
    "    friend inline ostream& operator<<(ostream& out, const example& x) {\n",
    "       return out << \"(\" << x._a << \", \" << x._b << \", \" << x._c << \")\";\n",
    "    }\n",
    "};"
   ]
  },
  {
   "cell_type": "code",
   "execution_count": 7,
   "id": "ranking-patch",
   "metadata": {
    "execution": {
     "iopub.execute_input": "2021-06-28T16:56:58.285270Z",
     "iopub.status.busy": "2021-06-28T16:56:58.284914Z",
     "iopub.status.idle": "2021-06-28T16:56:58.295769Z",
     "shell.execute_reply": "2021-06-28T16:56:58.295396Z"
    },
    "slideshow": {
     "slide_type": "slide"
    }
   },
   "outputs": [
    {
     "name": "stdout",
     "output_type": "stream",
     "text": [
      "(42, 0, Hello World!)\n"
     ]
    }
   ],
   "source": [
    "{\n",
    "example x;\n",
    "cout << x << endl;\n",
    "}"
   ]
  },
  {
   "cell_type": "markdown",
   "id": "following-insured",
   "metadata": {
    "slideshow": {
     "slide_type": "slide"
    }
   },
   "source": [
    "- Any constructor can override a default initializer"
   ]
  },
  {
   "cell_type": "code",
   "execution_count": 8,
   "id": "satisfactory-classic",
   "metadata": {
    "execution": {
     "iopub.execute_input": "2021-06-28T16:56:58.297627Z",
     "iopub.status.busy": "2021-06-28T16:56:58.297161Z",
     "iopub.status.idle": "2021-06-28T16:56:58.299702Z",
     "shell.execute_reply": "2021-06-28T16:56:58.299400Z"
    },
    "slideshow": {
     "slide_type": "fragment"
    }
   },
   "outputs": [],
   "source": [
    "class example2 {\n",
    "    int _a = 42;\n",
    "    bool _b = false;\n",
    "    string _c = \"Hello World!\";\n",
    "    \n",
    "public:\n",
    "    example2() = default;\n",
    "    example2(int a) : _a(a) { }\n",
    "    \n",
    "    friend inline ostream& operator<<(ostream& out, const example2& x) {\n",
    "       return out << \"(\" << x._a << \", \" << x._b << \", \" << x._c << \")\";\n",
    "    }\n",
    "};"
   ]
  },
  {
   "cell_type": "code",
   "execution_count": 9,
   "id": "simplified-cathedral",
   "metadata": {
    "execution": {
     "iopub.execute_input": "2021-06-28T16:56:58.301447Z",
     "iopub.status.busy": "2021-06-28T16:56:58.301016Z",
     "iopub.status.idle": "2021-06-28T16:56:58.312692Z",
     "shell.execute_reply": "2021-06-28T16:56:58.311861Z"
    },
    "slideshow": {
     "slide_type": "slide"
    }
   },
   "outputs": [
    {
     "name": "stdout",
     "output_type": "stream",
     "text": [
      "(42, 0, Hello World!)\n"
     ]
    },
    {
     "name": "stdout",
     "output_type": "stream",
     "text": [
      "(10, 0, Hello World!)\n"
     ]
    }
   ],
   "source": [
    "{\n",
    "    example2 x;\n",
    "    cout << x << endl;\n",
    "    example2 y(10);\n",
    "    cout << y << endl;\n",
    "}"
   ]
  },
  {
   "cell_type": "markdown",
   "id": "equipped-twins",
   "metadata": {
    "slideshow": {
     "slide_type": "slide"
    }
   },
   "source": [
    "- Constructors can now delegate to other constructors"
   ]
  },
  {
   "cell_type": "code",
   "execution_count": 10,
   "id": "ready-combining",
   "metadata": {
    "execution": {
     "iopub.execute_input": "2021-06-28T16:56:58.314572Z",
     "iopub.status.busy": "2021-06-28T16:56:58.314120Z",
     "iopub.status.idle": "2021-06-28T16:56:58.316940Z",
     "shell.execute_reply": "2021-06-28T16:56:58.316620Z"
    },
    "slideshow": {
     "slide_type": "fragment"
    }
   },
   "outputs": [],
   "source": [
    "class example3 {\n",
    "    int _a = 42;\n",
    "    bool _b = false;\n",
    "    string _c = \"Hello World!\";\n",
    "    \n",
    "public:\n",
    "    example3(int a) : _a(a) { }\n",
    "    example3(double a) : example3(static_cast<int>(round(a))) { }\n",
    "    \n",
    "    friend inline ostream& operator<<(ostream& out, const example3& x) {\n",
    "       return out << \"(\" << x._a << \", \" << x._b << \", \" << x._c << \")\";\n",
    "    }\n",
    "};"
   ]
  },
  {
   "cell_type": "code",
   "execution_count": 11,
   "id": "growing-support",
   "metadata": {
    "execution": {
     "iopub.execute_input": "2021-06-28T16:56:58.318689Z",
     "iopub.status.busy": "2021-06-28T16:56:58.318250Z",
     "iopub.status.idle": "2021-06-28T16:56:58.329046Z",
     "shell.execute_reply": "2021-06-28T16:56:58.328693Z"
    },
    "slideshow": {
     "slide_type": "slide"
    }
   },
   "outputs": [
    {
     "name": "stdout",
     "output_type": "stream",
     "text": [
      "(43, 0, Hello World!)\n"
     ]
    }
   ],
   "source": [
    "{\n",
    "    example3 x(42.8);\n",
    "    cout << x << endl;\n",
    "}"
   ]
  },
  {
   "cell_type": "markdown",
   "id": "helpful-korean",
   "metadata": {
    "slideshow": {
     "slide_type": "slide"
    }
   },
   "source": [
    "- Constructors can now be inherited"
   ]
  },
  {
   "cell_type": "code",
   "execution_count": 12,
   "id": "latest-audience",
   "metadata": {
    "execution": {
     "iopub.execute_input": "2021-06-28T16:56:58.330688Z",
     "iopub.status.busy": "2021-06-28T16:56:58.330266Z",
     "iopub.status.idle": "2021-06-28T16:56:58.331828Z",
     "shell.execute_reply": "2021-06-28T16:56:58.331469Z"
    },
    "slideshow": {
     "slide_type": "fragment"
    }
   },
   "outputs": [],
   "source": [
    "class example4 : public example3 {\n",
    "public:\n",
    "    string _d = \"New Member\";\n",
    "    \n",
    "    using example3::example3;\n",
    "};"
   ]
  },
  {
   "cell_type": "code",
   "execution_count": 13,
   "id": "asian-casting",
   "metadata": {
    "execution": {
     "iopub.execute_input": "2021-06-28T16:56:58.333561Z",
     "iopub.status.busy": "2021-06-28T16:56:58.333076Z",
     "iopub.status.idle": "2021-06-28T16:56:58.345032Z",
     "shell.execute_reply": "2021-06-28T16:56:58.344203Z"
    },
    "slideshow": {
     "slide_type": "fragment"
    }
   },
   "outputs": [
    {
     "name": "stdout",
     "output_type": "stream",
     "text": [
      "(43, 0, Hello World!)\n"
     ]
    },
    {
     "name": "stdout",
     "output_type": "stream",
     "text": [
      "New Member\n"
     ]
    }
   ],
   "source": [
    "{\n",
    "    example4 x(42.8);\n",
    "    cout << x << endl;\n",
    "    cout << x._d << endl;\n",
    "}"
   ]
  },
  {
   "cell_type": "markdown",
   "id": "roman-drawing",
   "metadata": {
    "slideshow": {
     "slide_type": "slide"
    }
   },
   "source": [
    "- Inheriting constructors is \"all or nothing\"\n",
    "    - However, you can replace an inherited constructor"
   ]
  },
  {
   "cell_type": "code",
   "execution_count": 14,
   "id": "representative-medication",
   "metadata": {
    "execution": {
     "iopub.execute_input": "2021-06-28T16:56:58.346627Z",
     "iopub.status.busy": "2021-06-28T16:56:58.346096Z",
     "iopub.status.idle": "2021-06-28T16:56:58.347657Z",
     "shell.execute_reply": "2021-06-28T16:56:58.347355Z"
    },
    "slideshow": {
     "slide_type": "fragment"
    }
   },
   "outputs": [],
   "source": [
    "class example5 : public example3 {\n",
    "public:    \n",
    "    using example3::example3;\n",
    "    example5(int a) : example3(a + 1) { }\n",
    "};"
   ]
  },
  {
   "cell_type": "code",
   "execution_count": 15,
   "id": "universal-armor",
   "metadata": {
    "execution": {
     "iopub.execute_input": "2021-06-28T16:56:58.349139Z",
     "iopub.status.busy": "2021-06-28T16:56:58.348769Z",
     "iopub.status.idle": "2021-06-28T16:56:58.359209Z",
     "shell.execute_reply": "2021-06-28T16:56:58.358867Z"
    },
    "slideshow": {
     "slide_type": "fragment"
    }
   },
   "outputs": [
    {
     "name": "stdout",
     "output_type": "stream",
     "text": [
      "(11, 0, Hello World!)\n"
     ]
    }
   ],
   "source": [
    "{\n",
    "    example5 x(10);\n",
    "    cout << x << endl;\n",
    "}"
   ]
  },
  {
   "cell_type": "markdown",
   "id": "indian-hypothetical",
   "metadata": {
    "slideshow": {
     "slide_type": "slide"
    }
   },
   "source": [
    "- Or delete an inherited constructor"
   ]
  },
  {
   "cell_type": "code",
   "execution_count": 16,
   "id": "minimal-amateur",
   "metadata": {
    "execution": {
     "iopub.execute_input": "2021-06-28T16:56:58.360711Z",
     "iopub.status.busy": "2021-06-28T16:56:58.360311Z",
     "iopub.status.idle": "2021-06-28T16:56:58.361870Z",
     "shell.execute_reply": "2021-06-28T16:56:58.361561Z"
    },
    "slideshow": {
     "slide_type": "fragment"
    }
   },
   "outputs": [],
   "source": [
    "class example6 : public example3 {\n",
    "public:    \n",
    "    using example3::example3;\n",
    "    example6(int a) = delete;\n",
    "};"
   ]
  },
  {
   "cell_type": "markdown",
   "id": "geological-baltimore",
   "metadata": {
    "slideshow": {
     "slide_type": "fragment"
    }
   },
   "source": [
    "```cpp\n",
    "{\n",
    "    example6 x(10);\n",
    "    cout << x << endl;\n",
    "}\n",
    "```\n",
    "---\n",
    "```\n",
    "input_line_27:3:14: error: call to deleted constructor of 'example6'\n",
    "    example6 x(10);\n",
    "             ^ ~~\n",
    "input_line_26:4:5: note: 'example6' has been explicitly marked deleted here\n",
    "    example6(int a) = delete;\n",
    "    ^\n",
    "```"
   ]
  },
  {
   "cell_type": "markdown",
   "id": "former-medium",
   "metadata": {
    "slideshow": {
     "slide_type": "slide"
    }
   },
   "source": [
    "## `static` member variables\n",
    "### Review\n",
    "- non-const static members must be defined at namespace scope"
   ]
  },
  {
   "cell_type": "code",
   "execution_count": 17,
   "id": "featured-hypothesis",
   "metadata": {
    "execution": {
     "iopub.execute_input": "2021-06-28T16:56:58.363289Z",
     "iopub.status.busy": "2021-06-28T16:56:58.362924Z",
     "iopub.status.idle": "2021-06-28T16:56:58.364148Z",
     "shell.execute_reply": "2021-06-28T16:56:58.363785Z"
    },
    "slideshow": {
     "slide_type": "fragment"
    }
   },
   "outputs": [],
   "source": [
    "namespace bcc {\n",
    "    \n",
    "struct example7 {\n",
    "    static int x; // declaration\n",
    "};\n",
    "\n",
    "int example7::x = 5; // definition (don't put in a header!)\n",
    "\n",
    "}"
   ]
  },
  {
   "cell_type": "markdown",
   "id": "north-thomas",
   "metadata": {
    "slideshow": {
     "slide_type": "slide"
    }
   },
   "source": [
    "- `const static` members may be initialized directly in the class\n",
    "    - No definition is required unless [odr-used](http://en.cppreference.com/w/cpp/language/definition#ODR-use)"
   ]
  },
  {
   "cell_type": "code",
   "execution_count": 18,
   "id": "suffering-effects",
   "metadata": {
    "execution": {
     "iopub.execute_input": "2021-06-28T16:56:58.365580Z",
     "iopub.status.busy": "2021-06-28T16:56:58.365180Z",
     "iopub.status.idle": "2021-06-28T16:56:58.368380Z",
     "shell.execute_reply": "2021-06-28T16:56:58.368047Z"
    },
    "slideshow": {
     "slide_type": "fragment"
    }
   },
   "outputs": [
    {
     "name": "stdout",
     "output_type": "stream",
     "text": [
      "42\n"
     ]
    }
   ],
   "source": [
    "struct example8 {\n",
    "    const static int x = 42;\n",
    "};\n",
    "\n",
    "(void)(cout << example8::x << endl); // not an odr-use"
   ]
  },
  {
   "cell_type": "markdown",
   "id": "figured-australia",
   "metadata": {
    "slideshow": {
     "slide_type": "slide"
    }
   },
   "source": [
    "### New\n",
    "- `static` members may be declared `inline` _(C++17)_ and `constexpr`\n",
    "    - `inline static` members do not require a definition at namespace scope"
   ]
  },
  {
   "cell_type": "code",
   "execution_count": 19,
   "id": "pending-healing",
   "metadata": {
    "execution": {
     "iopub.execute_input": "2021-06-28T16:56:58.369693Z",
     "iopub.status.busy": "2021-06-28T16:56:58.369264Z",
     "iopub.status.idle": "2021-06-28T16:56:58.371197Z",
     "shell.execute_reply": "2021-06-28T16:56:58.370924Z"
    },
    "slideshow": {
     "slide_type": "fragment"
    }
   },
   "outputs": [],
   "source": [
    "struct example9 {\n",
    "    inline static int x = 42;\n",
    "};\n",
    "\n",
    "example9::x = 56;"
   ]
  },
  {
   "cell_type": "markdown",
   "id": "civilian-reasoning",
   "metadata": {
    "slideshow": {
     "slide_type": "slide"
    }
   },
   "source": [
    "- `constexpr static` members, like const static members, only require a namespace scope definition if odr-used _(until C++17)_"
   ]
  },
  {
   "cell_type": "code",
   "execution_count": 20,
   "id": "occasional-casting",
   "metadata": {
    "execution": {
     "iopub.execute_input": "2021-06-28T16:56:58.372613Z",
     "iopub.status.busy": "2021-06-28T16:56:58.372150Z",
     "iopub.status.idle": "2021-06-28T16:56:58.375230Z",
     "shell.execute_reply": "2021-06-28T16:56:58.374920Z"
    },
    "slideshow": {
     "slide_type": "fragment"
    }
   },
   "outputs": [
    {
     "name": "stdout",
     "output_type": "stream",
     "text": [
      "42\n"
     ]
    }
   ],
   "source": [
    "struct example10 {\n",
    "    constexpr static int x = 42;\n",
    "};\n",
    "\n",
    "(void)(cout << example10::x << endl); // not an odr-use"
   ]
  },
  {
   "cell_type": "markdown",
   "id": "waiting-variable",
   "metadata": {
    "slideshow": {
     "slide_type": "slide"
    }
   },
   "source": [
    "- Since C++17, `constexpr` implies `inline` for `static` member variables\n",
    "    - No definition is required even for an ODR use"
   ]
  },
  {
   "cell_type": "code",
   "execution_count": 21,
   "id": "rural-supplier",
   "metadata": {
    "execution": {
     "iopub.execute_input": "2021-06-28T16:56:58.376611Z",
     "iopub.status.busy": "2021-06-28T16:56:58.376217Z",
     "iopub.status.idle": "2021-06-28T16:56:58.379100Z",
     "shell.execute_reply": "2021-06-28T16:56:58.378815Z"
    },
    "slideshow": {
     "slide_type": "fragment"
    }
   },
   "outputs": [
    {
     "name": "stdout",
     "output_type": "stream",
     "text": [
      "0x7fe87b763000\n"
     ]
    }
   ],
   "source": [
    "(void)(cout << &example10::x << endl); // an odr-use"
   ]
  },
  {
   "cell_type": "markdown",
   "id": "limited-whale",
   "metadata": {
    "slideshow": {
     "slide_type": "slide"
    }
   },
   "source": [
    "## Recommendations\n",
    "- If you must use public inheritance\n",
    "    - Use `final` and `override` as appropriate\n",
    "- Use member initialization, delegating, and inheriting constructors to simplify class definitions\n",
    "- Follow the recommendations for `static` variables for `static` member variables"
   ]
  },
  {
   "cell_type": "markdown",
   "id": "forced-review",
   "metadata": {
    "slideshow": {
     "slide_type": "slide"
    }
   },
   "source": [
    "## Homework\n",
    "- Find code which does a cast to a derived class then makes virtual function calls\n",
    "    - Mark the derived class as `final`\n",
    "    - Inspect assembly before and after to see if the compiler is able to devirtualize the calls"
   ]
  },
  {
   "cell_type": "code",
   "execution_count": null,
   "id": "genuine-melissa",
   "metadata": {},
   "outputs": [],
   "source": []
  }
 ],
 "metadata": {
  "jupytext": {
   "formats": "ipynb,md"
  },
  "kernelspec": {
   "display_name": "C++17",
   "language": "C++17",
   "name": "xcpp17"
  },
  "language_info": {
   "codemirror_mode": "text/x-c++src",
   "file_extension": ".cpp",
   "mimetype": "text/x-c++src",
   "name": "c++",
   "version": "17"
  }
 },
 "nbformat": 4,
 "nbformat_minor": 5
}

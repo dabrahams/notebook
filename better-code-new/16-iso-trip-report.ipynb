{
 "cells": [
  {
   "cell_type": "markdown",
   "id": "communist-mainland",
   "metadata": {
    "slideshow": {
     "slide_type": "slide"
    }
   },
   "source": [
    "# Trip Report\n",
    "\n",
    "- On April 26th, 2018, I attended the ISO C++ Futures Design Meeting at Nvidia\n",
    "- Goal of meeting; reach closure on a design for _futures_ in C++20\n",
    "    - Must support the [_Executors_](http://www.open-std.org/jtc1/sc22/wg21/docs/papers/2018/p0761r2.pdf) proposal which is on track for C++20\n",
    "        - Executors support heterogenous computation contexts, including GPGPU, and grid computing\n",
    "    - [Coroutine TS](http://www.open-std.org/jtc1/sc22/wg21/docs/papers/2018/n4736.pdf) support which is planned to be included in C++20\n",
    "    - The current futures defined in the [_Concurrency TS_](http://www.open-std.org/jtc1/sc22/wg21/docs/papers/2015/p0159r0.html) are not sufficient\n",
    "    - Plan is for a  _Concurrency TS part 2_ which can be incorporated into C++20"
   ]
  },
  {
   "cell_type": "markdown",
   "id": "perfect-washington",
   "metadata": {
    "slideshow": {
     "slide_type": "slide"
    }
   },
   "source": [
    "- Notable progress\n",
    "    - Refinement of future concepts\n",
    "        - _SharedFuture_ is _Regular_\n",
    "    - Allow rvalue optimizations\n",
    "        - _SharedFuture_ concept does not unnessarily penalize Copyable futures\n",
    "    - Support for optional task _cancelation_\n",
    "        - Including cancelation across heterogenous contexts\n",
    "    - Error handling no longer requires exceptions\n",
    "        - Agreement reached on the capability, but o design consensus reached"
   ]
  },
  {
   "cell_type": "markdown",
   "id": "exterior-apache",
   "metadata": {
    "slideshow": {
     "slide_type": "fragment"
    }
   },
   "source": [
    "- [`stlab::future<>`](http://stlab.cc/libraries/concurrency/future/future/) should be able to model SharedFuture with minor modifications"
   ]
  },
  {
   "cell_type": "code",
   "execution_count": null,
   "id": "silver-salon",
   "metadata": {},
   "outputs": [],
   "source": []
  }
 ],
 "metadata": {
  "jupytext": {
   "formats": "ipynb,md"
  },
  "kernelspec": {
   "display_name": "C++17",
   "language": "C++17",
   "name": "xcpp17"
  },
  "language_info": {
   "codemirror_mode": "text/x-c++src",
   "file_extension": ".cpp",
   "mimetype": "text/x-c++src",
   "name": "c++",
   "version": "17"
  }
 },
 "nbformat": 4,
 "nbformat_minor": 5
}

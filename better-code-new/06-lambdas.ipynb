{
 "cells": [
  {
   "cell_type": "markdown",
   "id": "sporting-apparatus",
   "metadata": {
    "slideshow": {
     "slide_type": "skip"
    },
    "toc": true
   },
   "source": [
    "<h1>Table of Contents<span class=\"tocSkip\"></span></h1>\n",
    "<div class=\"toc\"><ul class=\"toc-item\"><li><span><a href=\"#lambdas\" data-toc-modified-id=\"lambdas-1\"><span class=\"toc-item-num\">1&nbsp;&nbsp;</span>lambdas</a></span><ul class=\"toc-item\"><li><span><a href=\"#review---function-objects\" data-toc-modified-id=\"review---function-objects-1.1\"><span class=\"toc-item-num\">1.1&nbsp;&nbsp;</span>review - function objects</a></span><ul class=\"toc-item\"><li><span><a href=\"#anatomy-of-a-function-object\" data-toc-modified-id=\"anatomy-of-a-function-object-1.1.1\"><span class=\"toc-item-num\">1.1.1&nbsp;&nbsp;</span>anatomy of a function object</a></span></li></ul></li><li><span><a href=\"#lambda-expression\" data-toc-modified-id=\"lambda-expression-1.2\"><span class=\"toc-item-num\">1.2&nbsp;&nbsp;</span>lambda expression</a></span><ul class=\"toc-item\"><li><span><a href=\"#anatomy-of-a-lambda-expression\" data-toc-modified-id=\"anatomy-of-a-lambda-expression-1.2.1\"><span class=\"toc-item-num\">1.2.1&nbsp;&nbsp;</span>anatomy of a lambda expression</a></span></li><li><span><a href=\"#captures\" data-toc-modified-id=\"captures-1.2.2\"><span class=\"toc-item-num\">1.2.2&nbsp;&nbsp;</span>captures</a></span></li><li><span><a href=\"#function-call-operator\" data-toc-modified-id=\"function-call-operator-1.2.3\"><span class=\"toc-item-num\">1.2.3&nbsp;&nbsp;</span>function call operator</a></span></li><li><span><a href=\"#storing-lambdas\" data-toc-modified-id=\"storing-lambdas-1.2.4\"><span class=\"toc-item-num\">1.2.4&nbsp;&nbsp;</span>storing lambdas</a></span><ul class=\"toc-item\"><li><span><a href=\"#limitations-of-std::function\" data-toc-modified-id=\"limitations-of-std::function-1.2.4.1\"><span class=\"toc-item-num\">1.2.4.1&nbsp;&nbsp;</span>limitations of std::function</a></span></li><li><span><a href=\"#limitations-of-lambdas\" data-toc-modified-id=\"limitations-of-lambdas-1.2.4.2\"><span class=\"toc-item-num\">1.2.4.2&nbsp;&nbsp;</span>limitations of lambdas</a></span></li></ul></li></ul></li><li><span><a href=\"#recommendations\" data-toc-modified-id=\"recommendations-1.3\"><span class=\"toc-item-num\">1.3&nbsp;&nbsp;</span>recommendations</a></span></li><li><span><a href=\"#homework\" data-toc-modified-id=\"homework-1.4\"><span class=\"toc-item-num\">1.4&nbsp;&nbsp;</span>homework</a></span></li></ul></li></ul></div>"
   ]
  },
  {
   "cell_type": "code",
   "execution_count": 1,
   "id": "silent-context",
   "metadata": {
    "execution": {
     "iopub.execute_input": "2021-06-28T16:56:19.671072Z",
     "iopub.status.busy": "2021-06-28T16:56:19.670524Z",
     "iopub.status.idle": "2021-06-28T16:56:19.674020Z",
     "shell.execute_reply": "2021-06-28T16:56:19.673543Z"
    },
    "slideshow": {
     "slide_type": "skip"
    }
   },
   "outputs": [],
   "source": [
    "#include <iostream>\n",
    "\n",
    "using namespace std;"
   ]
  },
  {
   "cell_type": "markdown",
   "id": "soviet-stand",
   "metadata": {
    "slideshow": {
     "slide_type": "slide"
    }
   },
   "source": [
    "# lambdas\n",
    "\n",
    "Lambda are a syntax to construct a _function object_.\n",
    "\n",
    "## review - function objects\n",
    "\n",
    "- Consider a simple `struct` or `class` with an `invoke` member function"
   ]
  },
  {
   "cell_type": "code",
   "execution_count": 2,
   "id": "heard-siemens",
   "metadata": {
    "execution": {
     "iopub.execute_input": "2021-06-28T16:56:19.676056Z",
     "iopub.status.busy": "2021-06-28T16:56:19.675578Z",
     "iopub.status.idle": "2021-06-28T16:56:19.676606Z",
     "shell.execute_reply": "2021-06-28T16:56:19.676976Z"
    },
    "slideshow": {
     "slide_type": "fragment"
    }
   },
   "outputs": [],
   "source": [
    "struct add_n_simple {\n",
    "    int _n;\n",
    "    \n",
    "    int invoke(int x) const { return _n + x; }\n",
    "};"
   ]
  },
  {
   "cell_type": "markdown",
   "id": "printable-organization",
   "metadata": {
    "slideshow": {
     "slide_type": "slide"
    }
   },
   "source": [
    "- `add_n_simple` can be used as a function which adds `n` to any value passed to invoke"
   ]
  },
  {
   "cell_type": "code",
   "execution_count": 3,
   "id": "ranking-lightweight",
   "metadata": {
    "execution": {
     "iopub.execute_input": "2021-06-28T16:56:19.678944Z",
     "iopub.status.busy": "2021-06-28T16:56:19.678498Z",
     "iopub.status.idle": "2021-06-28T16:56:19.683121Z",
     "shell.execute_reply": "2021-06-28T16:56:19.682704Z"
    },
    "slideshow": {
     "slide_type": "fragment"
    }
   },
   "outputs": [
    {
     "name": "stdout",
     "output_type": "stream",
     "text": [
      "15\n"
     ]
    }
   ],
   "source": [
    "add_n_simple add_s{5};\n",
    "cout << add_s.invoke(10) << \"\\n\";"
   ]
  },
  {
   "cell_type": "markdown",
   "id": "damaged-financing",
   "metadata": {
    "slideshow": {
     "slide_type": "slide"
    }
   },
   "source": [
    "- We can make invocation more natural by providing a user-defined function call operator, `operator()`, instead of `invoke`\n",
    "- This is known as a _function object type_"
   ]
  },
  {
   "cell_type": "code",
   "execution_count": 4,
   "id": "eight-crawford",
   "metadata": {
    "execution": {
     "iopub.execute_input": "2021-06-28T16:56:19.685099Z",
     "iopub.status.busy": "2021-06-28T16:56:19.684659Z",
     "iopub.status.idle": "2021-06-28T16:56:19.685589Z",
     "shell.execute_reply": "2021-06-28T16:56:19.685944Z"
    },
    "slideshow": {
     "slide_type": "fragment"
    }
   },
   "outputs": [],
   "source": [
    "struct add_n_function {\n",
    "    int _n;\n",
    "        \n",
    "    int operator()(int x) const { return _n + x; }\n",
    "};"
   ]
  },
  {
   "cell_type": "markdown",
   "id": "recreational-navigation",
   "metadata": {
    "slideshow": {
     "slide_type": "fragment"
    }
   },
   "source": [
    "- Invocation now uses function calling syntax"
   ]
  },
  {
   "cell_type": "code",
   "execution_count": 5,
   "id": "dominant-lucas",
   "metadata": {
    "execution": {
     "iopub.execute_input": "2021-06-28T16:56:19.687757Z",
     "iopub.status.busy": "2021-06-28T16:56:19.687248Z",
     "iopub.status.idle": "2021-06-28T16:56:19.691471Z",
     "shell.execute_reply": "2021-06-28T16:56:19.691016Z"
    },
    "slideshow": {
     "slide_type": "fragment"
    }
   },
   "outputs": [
    {
     "name": "stdout",
     "output_type": "stream",
     "text": [
      "15\n"
     ]
    }
   ],
   "source": [
    "add_n_function add_f{5};\n",
    "cout << add_f(10) << \"\\n\";"
   ]
  },
  {
   "cell_type": "markdown",
   "id": "billion-franchise",
   "metadata": {
    "slideshow": {
     "slide_type": "slide"
    }
   },
   "source": [
    "### anatomy of a function object\n",
    "\n",
    "- _closure type_\n",
    "```cpp\n",
    "struct add_n_function {\n",
    "```\n",
    "- _captures_\n",
    "```cpp\n",
    "    int _n;\n",
    "```\n",
    "- _function call operator_\n",
    "```cpp\n",
    "    int operator()(int x) const { return _n + x; }\n",
    "```\n",
    "- _closure_\n",
    "```cpp\n",
    "add_n_function add_f{5};\n",
    "```"
   ]
  },
  {
   "cell_type": "markdown",
   "id": "religious-digit",
   "metadata": {
    "slideshow": {
     "slide_type": "slide"
    }
   },
   "source": [
    "## lambda expression\n",
    "\n",
    "- A lambda expression is a prvalue, _closure_, of a unique unnamed class type, the _closure type_"
   ]
  },
  {
   "cell_type": "code",
   "execution_count": 6,
   "id": "caroline-teacher",
   "metadata": {
    "execution": {
     "iopub.execute_input": "2021-06-28T16:56:19.693123Z",
     "iopub.status.busy": "2021-06-28T16:56:19.692722Z",
     "iopub.status.idle": "2021-06-28T16:56:19.696288Z",
     "shell.execute_reply": "2021-06-28T16:56:19.695831Z"
    },
    "slideshow": {
     "slide_type": "fragment"
    }
   },
   "outputs": [
    {
     "name": "stdout",
     "output_type": "stream",
     "text": [
      "15\n"
     ]
    }
   ],
   "source": [
    "{\n",
    "    \n",
    "auto add_n_lambda = [_n = 5](int x) -> int { return _n + x; };\n",
    "cout << add_n_lambda(10) << \"\\n\";\n",
    "    \n",
    "}"
   ]
  },
  {
   "cell_type": "markdown",
   "id": "returning-politics",
   "metadata": {
    "slideshow": {
     "slide_type": "slide"
    }
   },
   "source": [
    "### anatomy of a lambda expression\n",
    "\n",
    "- _closure type_\n",
    "```cpp\n",
    "    decltype(add_n_lambda)\n",
    "```\n",
    "- _captures_\n",
    "```cpp\n",
    "    [_n = 5]\n",
    "```\n",
    "- _function call operator_\n",
    "```cpp\n",
    "    (int x) -> int { return _n + x; }\n",
    "```\n",
    "- _closure_\n",
    "```cpp\n",
    "    add_n_lambda\n",
    "```"
   ]
  },
  {
   "cell_type": "markdown",
   "id": "optimum-drunk",
   "metadata": {
    "slideshow": {
     "slide_type": "slide"
    }
   },
   "source": [
    "- The argument list and result type are optional\n",
    "    - missing return type is `auto` (not `void`)"
   ]
  },
  {
   "cell_type": "code",
   "execution_count": 7,
   "id": "romance-retro",
   "metadata": {
    "execution": {
     "iopub.execute_input": "2021-06-28T16:56:19.698135Z",
     "iopub.status.busy": "2021-06-28T16:56:19.697760Z",
     "iopub.status.idle": "2021-06-28T16:56:19.700914Z",
     "shell.execute_reply": "2021-06-28T16:56:19.700552Z"
    },
    "slideshow": {
     "slide_type": "fragment"
    }
   },
   "outputs": [
    {
     "name": "stdout",
     "output_type": "stream",
     "text": [
      "42\n"
     ]
    }
   ],
   "source": [
    "{\n",
    "\n",
    "int n = 42;\n",
    "auto return_n = [n]{ return n; };\n",
    "cout << return_n() << '\\n';\n",
    "\n",
    "}"
   ]
  },
  {
   "cell_type": "markdown",
   "id": "instrumental-sport",
   "metadata": {
    "slideshow": {
     "slide_type": "slide"
    }
   },
   "source": [
    "### captures\n",
    "\n",
    "- capture types are deduced\n",
    "- `[]` no capture, convertible to function pointer\n",
    "- `[=]` capture-default any referenced local variable by value (copy)\n",
    "- `[&]` capture-default any referenced local variable by reference\n",
    "- `[x]` captures x by value\n",
    "- `[&x]` captures x by reference\n",
    "- `[_x = expression]` capture `_x` as the value of expression\n",
    "- `[=, &x, _x = expression]` defaults can be mixed with other captures\n",
    "\n",
    "\n",
    "- captured values are fixed when lambda is created, not at invocation"
   ]
  },
  {
   "cell_type": "code",
   "execution_count": 8,
   "id": "cutting-heater",
   "metadata": {
    "execution": {
     "iopub.execute_input": "2021-06-28T16:56:19.702522Z",
     "iopub.status.busy": "2021-06-28T16:56:19.702087Z",
     "iopub.status.idle": "2021-06-28T16:56:19.708381Z",
     "shell.execute_reply": "2021-06-28T16:56:19.708033Z"
    },
    "slideshow": {
     "slide_type": "slide"
    }
   },
   "outputs": [
    {
     "name": "stdout",
     "output_type": "stream",
     "text": [
      "30\n",
      "30\n",
      "30\n",
      "x:200\n",
      "y:30\n"
     ]
    }
   ],
   "source": [
    "{\n",
    "int x = 10;\n",
    "int y = 20;\n",
    "auto ex1 = [=]{ return x + y; };\n",
    "auto ex2 = [&]{ x *= y; };\n",
    "auto ex3 = [x, y]{ return x + y; };\n",
    "auto ex4 = [x, &y]{ y += x; };\n",
    "auto ex5 = [_x = ex1()]{ return _x; };\n",
    "    \n",
    "cout << ex1() << '\\n';\n",
    "ex2();\n",
    "cout << ex3() << '\\n';\n",
    "ex4();\n",
    "cout << ex5() << '\\n';\n",
    "cout << \"x:\" << x << '\\n';\n",
    "cout << \"y:\" << y << '\\n';\n",
    "}"
   ]
  },
  {
   "cell_type": "markdown",
   "id": "collective-slave",
   "metadata": {
    "slideshow": {
     "slide_type": "slide"
    }
   },
   "source": [
    "- `[this]` captures current object by reference\n",
    "- `[*this]` captures current object by-value (C++17)\n",
    "- `[args...]` capture pack expansion by value\n",
    "- `[&args...]` capture pack expansion by reference"
   ]
  },
  {
   "cell_type": "markdown",
   "id": "impressed-latitude",
   "metadata": {
    "slideshow": {
     "slide_type": "slide"
    }
   },
   "source": [
    "### function call operator\n",
    "\n",
    "- Arguments can be declared `auto` to create a _generic lambda_\n",
    "- Function can be declared mutable (default is const)\n",
    "- Functions can be _variadic_ using `auto...`\n",
    "- Function can be declared noexcept"
   ]
  },
  {
   "cell_type": "raw",
   "id": "moved-joyce",
   "metadata": {
    "slideshow": {
     "slide_type": "slide"
    }
   },
   "source": [
    "- Generic function object"
   ]
  },
  {
   "cell_type": "code",
   "execution_count": 9,
   "id": "sporting-leave",
   "metadata": {
    "execution": {
     "iopub.execute_input": "2021-06-28T16:56:19.710134Z",
     "iopub.status.busy": "2021-06-28T16:56:19.709752Z",
     "iopub.status.idle": "2021-06-28T16:56:19.710885Z",
     "shell.execute_reply": "2021-06-28T16:56:19.710571Z"
    }
   },
   "outputs": [],
   "source": [
    "struct add_t {\n",
    "    template <class T, class U>\n",
    "    auto operator()(T x, U y) const {\n",
    "        return x + y;\n",
    "    }\n",
    "};"
   ]
  },
  {
   "cell_type": "code",
   "execution_count": 10,
   "id": "missing-secondary",
   "metadata": {
    "execution": {
     "iopub.execute_input": "2021-06-28T16:56:19.712579Z",
     "iopub.status.busy": "2021-06-28T16:56:19.712181Z",
     "iopub.status.idle": "2021-06-28T16:56:19.715461Z",
     "shell.execute_reply": "2021-06-28T16:56:19.715094Z"
    },
    "slideshow": {
     "slide_type": "fragment"
    }
   },
   "outputs": [
    {
     "name": "stdout",
     "output_type": "stream",
     "text": [
      "15.3\n"
     ]
    }
   ],
   "source": [
    "{\n",
    "    add_t add;\n",
    "\n",
    "    cout << add(5, 10.3) << '\\n';\n",
    "}"
   ]
  },
  {
   "cell_type": "markdown",
   "id": "retained-africa",
   "metadata": {
    "slideshow": {
     "slide_type": "slide"
    }
   },
   "source": [
    "- Generic lambda"
   ]
  },
  {
   "cell_type": "code",
   "execution_count": 11,
   "id": "technological-eleven",
   "metadata": {
    "execution": {
     "iopub.execute_input": "2021-06-28T16:56:19.716951Z",
     "iopub.status.busy": "2021-06-28T16:56:19.716595Z",
     "iopub.status.idle": "2021-06-28T16:56:19.719897Z",
     "shell.execute_reply": "2021-06-28T16:56:19.719552Z"
    },
    "slideshow": {
     "slide_type": "fragment"
    }
   },
   "outputs": [
    {
     "name": "stdout",
     "output_type": "stream",
     "text": [
      "15.3\n"
     ]
    }
   ],
   "source": [
    "{\n",
    "    auto add = [](auto x, auto y) { return x + y; };\n",
    "\n",
    "    cout << add(5, 10.3) << '\\n';\n",
    "}"
   ]
  },
  {
   "cell_type": "markdown",
   "id": "temporal-medium",
   "metadata": {
    "slideshow": {
     "slide_type": "fragment"
    }
   },
   "source": [
    "- `auto&&` is a forwarding-reference"
   ]
  },
  {
   "cell_type": "markdown",
   "id": "lasting-complex",
   "metadata": {
    "slideshow": {
     "slide_type": "slide"
    }
   },
   "source": [
    "- mutable function object"
   ]
  },
  {
   "cell_type": "code",
   "execution_count": 12,
   "id": "incredible-electric",
   "metadata": {
    "execution": {
     "iopub.execute_input": "2021-06-28T16:56:19.721662Z",
     "iopub.status.busy": "2021-06-28T16:56:19.721088Z",
     "iopub.status.idle": "2021-06-28T16:56:19.722050Z",
     "shell.execute_reply": "2021-06-28T16:56:19.722367Z"
    },
    "slideshow": {
     "slide_type": "fragment"
    }
   },
   "outputs": [],
   "source": [
    "struct accumulate_t {\n",
    "    int _value;\n",
    "    \n",
    "    int operator()(int x) {\n",
    "        _value += x;\n",
    "        return _value;\n",
    "    }\n",
    "};"
   ]
  },
  {
   "cell_type": "code",
   "execution_count": 13,
   "id": "acoustic-voltage",
   "metadata": {
    "execution": {
     "iopub.execute_input": "2021-06-28T16:56:19.723984Z",
     "iopub.status.busy": "2021-06-28T16:56:19.723626Z",
     "iopub.status.idle": "2021-06-28T16:56:19.727152Z",
     "shell.execute_reply": "2021-06-28T16:56:19.726819Z"
    },
    "slideshow": {
     "slide_type": "fragment"
    }
   },
   "outputs": [
    {
     "name": "stdout",
     "output_type": "stream",
     "text": [
      "15\n",
      "18\n"
     ]
    }
   ],
   "source": [
    "{\n",
    "accumulate_t accumulate{5};\n",
    "\n",
    "cout << accumulate(10) << '\\n';\n",
    "cout << accumulate(3) << '\\n';\n",
    "}"
   ]
  },
  {
   "cell_type": "markdown",
   "id": "apparent-biodiversity",
   "metadata": {
    "slideshow": {
     "slide_type": "slide"
    }
   },
   "source": [
    "- mutable lambda"
   ]
  },
  {
   "cell_type": "code",
   "execution_count": 14,
   "id": "prostate-render",
   "metadata": {
    "execution": {
     "iopub.execute_input": "2021-06-28T16:56:19.728737Z",
     "iopub.status.busy": "2021-06-28T16:56:19.728315Z",
     "iopub.status.idle": "2021-06-28T16:56:19.732146Z",
     "shell.execute_reply": "2021-06-28T16:56:19.731808Z"
    },
    "slideshow": {
     "slide_type": "fragment"
    }
   },
   "outputs": [
    {
     "name": "stdout",
     "output_type": "stream",
     "text": [
      "15\n",
      "18\n"
     ]
    }
   ],
   "source": [
    "{\n",
    "\n",
    "auto accumulate = [_value = 5](int x) mutable {\n",
    "    _value += x;\n",
    "    return _value;\n",
    "};\n",
    "\n",
    "cout << accumulate(10) << '\\n';\n",
    "cout << accumulate(3) << '\\n';\n",
    "    \n",
    "}"
   ]
  },
  {
   "cell_type": "markdown",
   "id": "second-works",
   "metadata": {
    "slideshow": {
     "slide_type": "slide"
    }
   },
   "source": [
    "- variadic function object"
   ]
  },
  {
   "cell_type": "code",
   "execution_count": 15,
   "id": "short-douglas",
   "metadata": {
    "execution": {
     "iopub.execute_input": "2021-06-28T16:56:19.733724Z",
     "iopub.status.busy": "2021-06-28T16:56:19.733353Z",
     "iopub.status.idle": "2021-06-28T16:56:19.734475Z",
     "shell.execute_reply": "2021-06-28T16:56:19.734121Z"
    },
    "slideshow": {
     "slide_type": "fragment"
    }
   },
   "outputs": [],
   "source": [
    "struct print_all_t {\n",
    "    template <class... Args>\n",
    "    void operator()(const Args&... args) const {\n",
    "        (void)initializer_list<int>{((cout << args << '\\n'),0)...};\n",
    "    }\n",
    "};"
   ]
  },
  {
   "cell_type": "code",
   "execution_count": 16,
   "id": "adaptive-address",
   "metadata": {
    "execution": {
     "iopub.execute_input": "2021-06-28T16:56:19.736087Z",
     "iopub.status.busy": "2021-06-28T16:56:19.735721Z",
     "iopub.status.idle": "2021-06-28T16:56:19.739751Z",
     "shell.execute_reply": "2021-06-28T16:56:19.739408Z"
    },
    "slideshow": {
     "slide_type": "fragment"
    }
   },
   "outputs": [
    {
     "name": "stdout",
     "output_type": "stream",
     "text": [
      "1\n",
      "10.5\n",
      "Hello!\n"
     ]
    }
   ],
   "source": [
    "{\n",
    "    print_all_t print_all;\n",
    "\n",
    "    print_all(1, 10.5, \"Hello!\");\n",
    "}"
   ]
  },
  {
   "cell_type": "markdown",
   "id": "immune-czech",
   "metadata": {
    "slideshow": {
     "slide_type": "slide"
    }
   },
   "source": [
    "- variadic lambda"
   ]
  },
  {
   "cell_type": "code",
   "execution_count": 17,
   "id": "dutch-healthcare",
   "metadata": {
    "execution": {
     "iopub.execute_input": "2021-06-28T16:56:19.741240Z",
     "iopub.status.busy": "2021-06-28T16:56:19.740876Z",
     "iopub.status.idle": "2021-06-28T16:56:19.745201Z",
     "shell.execute_reply": "2021-06-28T16:56:19.744868Z"
    },
    "slideshow": {
     "slide_type": "fragment"
    }
   },
   "outputs": [
    {
     "name": "stdout",
     "output_type": "stream",
     "text": [
      "1\n",
      "10.5\n",
      "Hello!\n"
     ]
    }
   ],
   "source": [
    "{\n",
    "    auto print_all = [](const auto&... args) {\n",
    "        (void)initializer_list<int>{((cout << args << '\\n'), 0)...};\n",
    "    };\n",
    "\n",
    "    print_all(1, 10.5, \"Hello!\");\n",
    "}"
   ]
  },
  {
   "cell_type": "markdown",
   "id": "unknown-forty",
   "metadata": {
    "slideshow": {
     "slide_type": "slide"
    }
   },
   "source": [
    "### storing lambdas\n",
    "\n",
    "- `std::function<>` can hold any callable object with a matching signature"
   ]
  },
  {
   "cell_type": "code",
   "execution_count": 18,
   "id": "pretty-latvia",
   "metadata": {
    "execution": {
     "iopub.execute_input": "2021-06-28T16:56:19.746760Z",
     "iopub.status.busy": "2021-06-28T16:56:19.746369Z",
     "iopub.status.idle": "2021-06-28T16:56:19.749946Z",
     "shell.execute_reply": "2021-06-28T16:56:19.749667Z"
    },
    "slideshow": {
     "slide_type": "fragment"
    }
   },
   "outputs": [],
   "source": [
    "struct lambda_member {\n",
    "    size_t _count = 0;\n",
    "    \n",
    "    function<void(const string&)> _lambda = [_n = _count](const auto& x) {\n",
    "        for(auto n = _n; n != 0; --n) cout << x << '\\n';\n",
    "    };\n",
    "};"
   ]
  },
  {
   "cell_type": "code",
   "execution_count": 19,
   "id": "acceptable-second",
   "metadata": {
    "execution": {
     "iopub.execute_input": "2021-06-28T16:56:19.751435Z",
     "iopub.status.busy": "2021-06-28T16:56:19.751079Z",
     "iopub.status.idle": "2021-06-28T16:56:19.764837Z",
     "shell.execute_reply": "2021-06-28T16:56:19.764091Z"
    },
    "slideshow": {
     "slide_type": "fragment"
    }
   },
   "outputs": [
    {
     "name": "stdout",
     "output_type": "stream",
     "text": [
      "Hello\n",
      "Hello\n",
      "Hello\n",
      "Hello\n"
     ]
    }
   ],
   "source": [
    "lambda_member object{4};\n",
    "\n",
    "object._lambda(\"Hello\");"
   ]
  },
  {
   "cell_type": "markdown",
   "id": "fuzzy-sucking",
   "metadata": {
    "slideshow": {
     "slide_type": "slide"
    }
   },
   "source": [
    "- you can assign a new lambda to a `function`"
   ]
  },
  {
   "cell_type": "code",
   "execution_count": 20,
   "id": "internal-router",
   "metadata": {
    "execution": {
     "iopub.execute_input": "2021-06-28T16:56:19.766654Z",
     "iopub.status.busy": "2021-06-28T16:56:19.766116Z",
     "iopub.status.idle": "2021-06-28T16:56:19.784803Z",
     "shell.execute_reply": "2021-06-28T16:56:19.784027Z"
    },
    "slideshow": {
     "slide_type": "fragment"
    }
   },
   "outputs": [
    {
     "name": "stdout",
     "output_type": "stream",
     "text": [
      "I heard you the first time, World!\n"
     ]
    }
   ],
   "source": [
    "object._lambda = [](const auto& x) {\n",
    "    cout << \"I heard you the first time, \" << x << '\\n';\n",
    "};\n",
    "\n",
    "object._lambda(\"World!\");"
   ]
  },
  {
   "cell_type": "markdown",
   "id": "ranging-employment",
   "metadata": {
    "slideshow": {
     "slide_type": "slide"
    }
   },
   "source": [
    "#### limitations of std::function\n",
    "\n",
    "- incurs virtual function call overhead and heap allocation for larger objects\n",
    "- does not maintain generic or variatic lambdas\n",
    "- does not support mutable lambdas\n",
    "    - we will develop a solution for this later in the course"
   ]
  },
  {
   "cell_type": "markdown",
   "id": "operational-interaction",
   "metadata": {
    "slideshow": {
     "slide_type": "slide"
    }
   },
   "source": [
    "#### limitations of lambdas\n",
    "\n",
    "- lambdas in C++14 can replace all use cases of std::bind(), except moving or forwarding a pack expansion"
   ]
  },
  {
   "cell_type": "code",
   "execution_count": 21,
   "id": "proof-manhattan",
   "metadata": {
    "execution": {
     "iopub.execute_input": "2021-06-28T16:56:19.786730Z",
     "iopub.status.busy": "2021-06-28T16:56:19.786033Z",
     "iopub.status.idle": "2021-06-28T16:56:19.797487Z",
     "shell.execute_reply": "2021-06-28T16:56:19.797147Z"
    },
    "slideshow": {
     "slide_type": "fragment"
    }
   },
   "outputs": [],
   "source": [
    "template <class F, class... Args>\n",
    "auto bind_once(F&& f, Args&& ...args) {\n",
    "    return bind([_f = forward<F>(f)](auto& ...args) mutable {\n",
    "        return move(_f)(move(args)...);\n",
    "    }, forward<Args>(args)...);\n",
    "}\n",
    "\n",
    "unique_ptr<int> sink(unique_ptr<int>&& x) { return move(x); }"
   ]
  },
  {
   "cell_type": "code",
   "execution_count": 22,
   "id": "allied-sleeping",
   "metadata": {
    "execution": {
     "iopub.execute_input": "2021-06-28T16:56:19.799270Z",
     "iopub.status.busy": "2021-06-28T16:56:19.798695Z",
     "iopub.status.idle": "2021-06-28T16:56:19.834420Z",
     "shell.execute_reply": "2021-06-28T16:56:19.833701Z"
    },
    "slideshow": {
     "slide_type": "fragment"
    }
   },
   "outputs": [
    {
     "name": "stdout",
     "output_type": "stream",
     "text": [
      "42\n"
     ]
    }
   ],
   "source": [
    "auto bound = bind_once(sink, make_unique<int>(42));\n",
    "\n",
    "cout << *bound() << '\\n';"
   ]
  },
  {
   "cell_type": "markdown",
   "id": "worldwide-match",
   "metadata": {
    "slideshow": {
     "slide_type": "slide"
    }
   },
   "source": [
    "- There is a proposal to [allow pack expansion in lambda init-capture](http://www.open-std.org/jtc1/sc22/wg21/docs/papers/2017/p0780r1.html)\n",
    "- This would allow `bind_once()` to be expressed as:\n",
    "```cpp\n",
    "template <class F, class... Args>\n",
    "auto bind_once(F&& f, Args&& ...args) {\n",
    "    return [_f = forward<F>(f), _args = forward<Args>(args)...] () mutable {\n",
    "        return move(_f)(move(_args)...);\n",
    "    };\n",
    "}\n",
    "```"
   ]
  },
  {
   "cell_type": "markdown",
   "id": "short-westminster",
   "metadata": {
    "slideshow": {
     "slide_type": "slide"
    }
   },
   "source": [
    "## recommendations\n",
    "\n",
    "- Lambda expressions are syntactic sugar - don't let them frighten you\n",
    "- Naming things, in general, is good. Don't start turning everything into an unnamed type\n",
    "- Lambdas are useful when\n",
    "    - the function object would not be reused elsewhere\n",
    "    - the lambda expression is short\n",
    "    - the lambda expression is bound to, and executed within, the current context (reference captures)\n",
    "    - the lambda expression represents a _continuation_ of the current function in a different execution context\n"
   ]
  },
  {
   "cell_type": "markdown",
   "id": "quick-malta",
   "metadata": {
    "slideshow": {
     "slide_type": "slide"
    }
   },
   "source": [
    "## homework\n",
    "\n",
    "- Find a place in your current project for a function is passed to and standard algorithm or container\n",
    "    - If your current project doesn't use standard algorithms, find a place to use one!\n",
    "- Replace it with a lambda expression\n",
    "- Report the example and your thoughts on the [wiki](git.corp.adobe.com/better-code/class/wiki)\n",
    "\n",
    "- An example...\n",
    "```cpp\n",
    "// Find first position, p, in v, where *p < x\n",
    "auto p = find_if(begin(v), end(v), [&](const auto& a){ return a < x; });\n",
    "```\n",
    "\n"
   ]
  }
 ],
 "metadata": {
  "jupytext": {
   "formats": "ipynb,md"
  },
  "kernelspec": {
   "display_name": "C++17",
   "language": "C++17",
   "name": "xcpp17"
  },
  "language_info": {
   "codemirror_mode": "text/x-c++src",
   "file_extension": ".cpp",
   "mimetype": "text/x-c++src",
   "name": "c++",
   "version": "17"
  }
 },
 "nbformat": 4,
 "nbformat_minor": 5
}

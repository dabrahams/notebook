{
 "cells": [
  {
   "cell_type": "code",
   "execution_count": 1,
   "id": "reverse-aerospace",
   "metadata": {
    "execution": {
     "iopub.execute_input": "2021-06-28T16:56:09.760210Z",
     "iopub.status.busy": "2021-06-28T16:56:09.759704Z",
     "iopub.status.idle": "2021-06-28T16:56:09.843074Z",
     "shell.execute_reply": "2021-06-28T16:56:09.842632Z"
    },
    "slideshow": {
     "slide_type": "skip"
    }
   },
   "outputs": [],
   "source": [
    "#include \"../common.hpp\"\n",
    "\n",
    "using namespace std;\n",
    "using namespace std::string_literals;"
   ]
  },
  {
   "cell_type": "markdown",
   "id": "legendary-ivory",
   "metadata": {
    "slideshow": {
     "slide_type": "slide"
    }
   },
   "source": [
    "# [Forwarding References](http://en.cppreference.com/w/cpp/language/reference)\n",
    "\n",
    "- Pass by value for sink arguments can incur an unnecessary move\n",
    "- Pass by value for a sink argument stored with assignment can incur extra overhead\n",
    "- Pass by `const&` and `&&` can cause a combinatoric problem\n",
    "- What if you don't know if the argument is a sink argument or not?"
   ]
  },
  {
   "cell_type": "markdown",
   "id": "optional-governor",
   "metadata": {
    "slideshow": {
     "slide_type": "slide"
    }
   },
   "source": [
    "## Unnecessary Move"
   ]
  },
  {
   "cell_type": "code",
   "execution_count": 2,
   "id": "loose-essex",
   "metadata": {
    "execution": {
     "iopub.execute_input": "2021-06-28T16:56:09.844870Z",
     "iopub.status.busy": "2021-06-28T16:56:09.844489Z",
     "iopub.status.idle": "2021-06-28T16:56:09.855365Z",
     "shell.execute_reply": "2021-06-28T16:56:09.852205Z"
    },
    "slideshow": {
     "slide_type": "-"
    }
   },
   "outputs": [
    {
     "name": "stdout",
     "output_type": "stream",
     "text": [
      "annotate ctor\n"
     ]
    },
    {
     "name": "stdout",
     "output_type": "stream",
     "text": [
      "annotate copy-ctor\n"
     ]
    },
    {
     "name": "stdout",
     "output_type": "stream",
     "text": [
      "annotate ctor\n"
     ]
    },
    {
     "name": "stdout",
     "output_type": "stream",
     "text": [
      "annotate move-ctor\n"
     ]
    },
    {
     "name": "stdout",
     "output_type": "stream",
     "text": [
      "annotate move-ctor\n"
     ]
    },
    {
     "name": "stdout",
     "output_type": "stream",
     "text": [
      "annotate dtor\n"
     ]
    },
    {
     "name": "stdout",
     "output_type": "stream",
     "text": [
      "annotate dtor\n"
     ]
    }
   ],
   "source": [
    "class c_2 {\n",
    "    annotate _a;\n",
    "    annotate _b;\n",
    "public:\n",
    "    c_2(annotate a, annotate b) : _a(move(a)), _b(move(b)) { }\n",
    "};\n",
    "\n",
    "annotate v_2;\n",
    "c_2 v_3{v_2, annotate()};"
   ]
  },
  {
   "cell_type": "code",
   "execution_count": 3,
   "id": "wired-dragon",
   "metadata": {
    "execution": {
     "iopub.execute_input": "2021-06-28T16:56:09.857111Z",
     "iopub.status.busy": "2021-06-28T16:56:09.856733Z",
     "iopub.status.idle": "2021-06-28T16:56:09.866177Z",
     "shell.execute_reply": "2021-06-28T16:56:09.863986Z"
    },
    "slideshow": {
     "slide_type": "slide"
    }
   },
   "outputs": [
    {
     "name": "stdout",
     "output_type": "stream",
     "text": [
      "annotate ctor\n"
     ]
    },
    {
     "name": "stdout",
     "output_type": "stream",
     "text": [
      "annotate ctor\n"
     ]
    },
    {
     "name": "stdout",
     "output_type": "stream",
     "text": [
      "annotate copy-ctor\n"
     ]
    },
    {
     "name": "stdout",
     "output_type": "stream",
     "text": [
      "annotate move-ctor\n"
     ]
    },
    {
     "name": "stdout",
     "output_type": "stream",
     "text": [
      "annotate dtor\n"
     ]
    }
   ],
   "source": [
    "namespace example_03 {\n",
    "\n",
    "class type {\n",
    "    annotate _a;\n",
    "    annotate _b;\n",
    "public:\n",
    "    template <class T, class U>\n",
    "    type(T&& a, U&& b) : _a(forward<T>(a)), _b(forward<U>(b)) { }\n",
    "};\n",
    "    \n",
    "annotate value;\n",
    "type instance(value, annotate());\n",
    "    \n",
    "\n",
    "} // namespace"
   ]
  },
  {
   "cell_type": "markdown",
   "id": "previous-infrastructure",
   "metadata": {
    "slideshow": {
     "slide_type": "slide"
    }
   },
   "source": [
    "## Extra overhead\n",
    "\n",
    "Copy followed by move assignment can be more expensive than copy assignment."
   ]
  },
  {
   "cell_type": "code",
   "execution_count": 4,
   "id": "absolute-rotation",
   "metadata": {
    "execution": {
     "iopub.execute_input": "2021-06-28T16:56:09.868008Z",
     "iopub.status.busy": "2021-06-28T16:56:09.867636Z",
     "iopub.status.idle": "2021-06-28T16:56:09.876824Z",
     "shell.execute_reply": "2021-06-28T16:56:09.875079Z"
    },
    "slideshow": {
     "slide_type": "slide"
    }
   },
   "outputs": [
    {
     "name": "stdout",
     "output_type": "stream",
     "text": [
      "annotate ctor\n"
     ]
    },
    {
     "name": "stdout",
     "output_type": "stream",
     "text": [
      "annotate ctor\n"
     ]
    },
    {
     "name": "stdout",
     "output_type": "stream",
     "text": [
      "annotate copy-ctor\n"
     ]
    },
    {
     "name": "stdout",
     "output_type": "stream",
     "text": [
      "annotate move-assign\n"
     ]
    },
    {
     "name": "stdout",
     "output_type": "stream",
     "text": [
      "annotate dtor\n"
     ]
    }
   ],
   "source": [
    "class c_4 {\n",
    "    annotate _a;\n",
    "public:\n",
    "    void set(annotate a) {\n",
    "        _a = move(a);\n",
    "    }\n",
    "};\n",
    "\n",
    "annotate v_5;\n",
    "c_4 v_6;\n",
    "v_6.set(v_5);"
   ]
  },
  {
   "cell_type": "code",
   "execution_count": 5,
   "id": "pharmaceutical-commerce",
   "metadata": {
    "execution": {
     "iopub.execute_input": "2021-06-28T16:56:09.878483Z",
     "iopub.status.busy": "2021-06-28T16:56:09.878070Z",
     "iopub.status.idle": "2021-06-28T16:56:09.885738Z",
     "shell.execute_reply": "2021-06-28T16:56:09.884439Z"
    },
    "slideshow": {
     "slide_type": "slide"
    }
   },
   "outputs": [
    {
     "name": "stdout",
     "output_type": "stream",
     "text": [
      "annotate ctor\n"
     ]
    },
    {
     "name": "stdout",
     "output_type": "stream",
     "text": [
      "annotate ctor\n"
     ]
    },
    {
     "name": "stdout",
     "output_type": "stream",
     "text": [
      "annotate assign\n"
     ]
    }
   ],
   "source": [
    "class c_7 {\n",
    "    annotate _a;\n",
    "public:\n",
    "    template <class T>\n",
    "    void set(T&& a) {\n",
    "        _a = forward<T>(a);\n",
    "    }\n",
    "};\n",
    "\n",
    "annotate v_11;\n",
    "c_7 v_12;\n",
    "v_12.set(v_11);"
   ]
  },
  {
   "cell_type": "markdown",
   "id": "objective-bowling",
   "metadata": {
    "slideshow": {
     "slide_type": "slide"
    }
   },
   "source": [
    "## Combinatorial Explosion"
   ]
  },
  {
   "cell_type": "code",
   "execution_count": 6,
   "id": "protecting-niger",
   "metadata": {
    "execution": {
     "iopub.execute_input": "2021-06-28T16:56:09.887427Z",
     "iopub.status.busy": "2021-06-28T16:56:09.886977Z",
     "iopub.status.idle": "2021-06-28T16:56:09.895279Z",
     "shell.execute_reply": "2021-06-28T16:56:09.893694Z"
    },
    "slideshow": {
     "slide_type": "-"
    }
   },
   "outputs": [
    {
     "name": "stdout",
     "output_type": "stream",
     "text": [
      "annotate ctor\n"
     ]
    },
    {
     "name": "stdout",
     "output_type": "stream",
     "text": [
      "annotate copy-ctor\n"
     ]
    },
    {
     "name": "stdout",
     "output_type": "stream",
     "text": [
      "annotate move-ctor\n"
     ]
    },
    {
     "name": "stdout",
     "output_type": "stream",
     "text": [
      "annotate dtor\n"
     ]
    }
   ],
   "source": [
    "class c_3 {\n",
    "    annotate _a;\n",
    "    annotate _b;\n",
    "public:\n",
    "    c_3(const annotate& a, const annotate& b) : _a(a), _b(b) { }\n",
    "    c_3(annotate&& a, const annotate& b) : _a(move(a)), _b(b) { }\n",
    "    c_3(const annotate& a, annotate&& b) : _a(a), _b(move(b)) { }\n",
    "    c_3(annotate&& a, annotate&& b) : _a(move(a)), _b(move(b)) { }\n",
    "};\n",
    "\n",
    "c_3 v_4{v_2, annotate()};"
   ]
  },
  {
   "cell_type": "markdown",
   "id": "structured-armor",
   "metadata": {
    "slideshow": {
     "slide_type": "slide"
    }
   },
   "source": [
    "## Unknown Sink"
   ]
  },
  {
   "cell_type": "markdown",
   "id": "nervous-taxation",
   "metadata": {
    "slideshow": {
     "slide_type": "skip"
    }
   },
   "source": [
    "_**Note:** The interactive C++ tool, cling, used to generate these notes, has a bug with declaring functions returning void. As a workaround I will use a lambda notation._\n",
    "\n",
    "_Instead of:_\n",
    "```cpp\n",
    "void f(int x) { }\n",
    "```\n",
    "\n",
    "_I use:_\n",
    "```cpp\n",
    "auto f = [](int x){ };\n",
    "```\n",
    "\n",
    "_for the purpose of this section, these are equivalent._"
   ]
  },
  {
   "cell_type": "code",
   "execution_count": 7,
   "id": "cognitive-operations",
   "metadata": {
    "execution": {
     "iopub.execute_input": "2021-06-28T16:56:09.897398Z",
     "iopub.status.busy": "2021-06-28T16:56:09.896865Z",
     "iopub.status.idle": "2021-06-28T16:56:09.897980Z",
     "shell.execute_reply": "2021-06-28T16:56:09.897735Z"
    },
    "slideshow": {
     "slide_type": "fragment"
    }
   },
   "outputs": [],
   "source": [
    "template <class F, class T>\n",
    "void wrapper_01(F f, T arg) {\n",
    "    f(arg);\n",
    "}"
   ]
  },
  {
   "cell_type": "markdown",
   "id": "stable-julian",
   "metadata": {
    "slideshow": {
     "slide_type": "fragment"
    }
   },
   "source": [
    "- If argument of `f` is not a sink and passed an lvalue, this will cause an unnecessary copy\n",
    "- If argument of `f` is by reference, this will modify the temporary argument\n",
    "\n",
    "---"
   ]
  },
  {
   "cell_type": "code",
   "execution_count": 8,
   "id": "posted-potter",
   "metadata": {
    "execution": {
     "iopub.execute_input": "2021-06-28T16:56:09.899906Z",
     "iopub.status.busy": "2021-06-28T16:56:09.899327Z",
     "iopub.status.idle": "2021-06-28T16:56:09.900635Z",
     "shell.execute_reply": "2021-06-28T16:56:09.900314Z"
    },
    "slideshow": {
     "slide_type": "fragment"
    }
   },
   "outputs": [],
   "source": [
    "template <class F, class T>\n",
    "void wrapper_02(F f, const T& arg) {\n",
    "    f(arg);\n",
    "}"
   ]
  },
  {
   "cell_type": "markdown",
   "id": "stainless-paris",
   "metadata": {
    "slideshow": {
     "slide_type": "fragment"
    }
   },
   "source": [
    "- If argument of `f` is a sink and passed an rvalue, this will cause an unnecessary copy\n",
    "- If argument of `f` is by reference, this is an error\n",
    "\n",
    "---"
   ]
  },
  {
   "cell_type": "code",
   "execution_count": 9,
   "id": "palestinian-springer",
   "metadata": {
    "execution": {
     "iopub.execute_input": "2021-06-28T16:56:09.902681Z",
     "iopub.status.busy": "2021-06-28T16:56:09.902110Z",
     "iopub.status.idle": "2021-06-28T16:56:09.903028Z",
     "shell.execute_reply": "2021-06-28T16:56:09.903365Z"
    },
    "slideshow": {
     "slide_type": "slide"
    }
   },
   "outputs": [],
   "source": [
    "template <class F, class T>\n",
    "void wrapper_03(F f, T& arg) {\n",
    "    f(arg);\n",
    "}"
   ]
  },
  {
   "cell_type": "markdown",
   "id": "distinguished-corporation",
   "metadata": {
    "slideshow": {
     "slide_type": "fragment"
    }
   },
   "source": [
    "- Cannot be called with an rvalue\n",
    "\n",
    "---"
   ]
  },
  {
   "cell_type": "markdown",
   "id": "offensive-chest",
   "metadata": {
    "slideshow": {
     "slide_type": "slide"
    }
   },
   "source": [
    "A [_forwarding reference_](http://en.cppreference.com/w/cpp/language/reference) is:\n",
    "\n",
    "- function parameter of a function template declared as an rvalue reference to a cv-unqualified type template parameter of the same function template\n",
    "- `auto&&` except when deduced from a brace-enclosed initializer list"
   ]
  },
  {
   "cell_type": "markdown",
   "id": "hungarian-migration",
   "metadata": {
    "slideshow": {
     "slide_type": "fragment"
    }
   },
   "source": [
    "- The syntax is the same as rvalue references, but they are not rvalue references"
   ]
  },
  {
   "cell_type": "markdown",
   "id": "north-professional",
   "metadata": {
    "slideshow": {
     "slide_type": "skip"
    }
   },
   "source": [
    "```cpp\n",
    "// T&& is a forwarding reference, not an rvalue reference\n",
    "template <class F, class T>\n",
    "void wrapper_04(F f, T&& arg) {\n",
    "    f(forward<T>(arg)); // forward does the right thing\n",
    "}\n",
    "\n",
    "void f_01(annotate){ }         // pass by value\n",
    "void f_02(const annotate&) { } // pass by const lvalue reference\n",
    "void f_03(annotate&) { }       // pass by lvalue reference\n",
    "void f_04(annotate&&) { }      // pass by rvalue reference\n",
    "```"
   ]
  },
  {
   "cell_type": "code",
   "execution_count": 10,
   "id": "decimal-harassment",
   "metadata": {
    "execution": {
     "iopub.execute_input": "2021-06-28T16:56:09.905535Z",
     "iopub.status.busy": "2021-06-28T16:56:09.905132Z",
     "iopub.status.idle": "2021-06-28T16:56:09.905869Z",
     "shell.execute_reply": "2021-06-28T16:56:09.906159Z"
    },
    "slideshow": {
     "slide_type": "slide"
    }
   },
   "outputs": [],
   "source": [
    "namespace {\n",
    "    \n",
    "// auto&& is a forwarding reference, not an rvalue reference\n",
    "template <class F, class Arg>\n",
    "void wrapper_04(F f, Arg&& arg) {\n",
    "    f(std::forward<Arg>(arg));\n",
    "};\n",
    "\n",
    "void f_01(annotate){ };         // pass by value\n",
    "void f_02(const annotate&) { }; // pass by const lvalue reference\n",
    "void f_03(annotate&) { };       // pass by lvalue reference\n",
    "void f_04(annotate&&) { };      // pass by rvalue reference\n",
    "\n",
    "} // namespace"
   ]
  },
  {
   "cell_type": "code",
   "execution_count": 11,
   "id": "cooperative-hunger",
   "metadata": {
    "execution": {
     "iopub.execute_input": "2021-06-28T16:56:09.908004Z",
     "iopub.status.busy": "2021-06-28T16:56:09.907673Z",
     "iopub.status.idle": "2021-06-28T16:56:09.921930Z",
     "shell.execute_reply": "2021-06-28T16:56:09.917252Z"
    },
    "slideshow": {
     "slide_type": "slide"
    }
   },
   "outputs": [
    {
     "name": "stdout",
     "output_type": "stream",
     "text": [
      "annotate ctor\n"
     ]
    },
    {
     "name": "stdout",
     "output_type": "stream",
     "text": [
      "annotate copy-ctor\n"
     ]
    },
    {
     "name": "stdout",
     "output_type": "stream",
     "text": [
      "annotate dtor\n"
     ]
    },
    {
     "name": "stdout",
     "output_type": "stream",
     "text": [
      "annotate ctor\n"
     ]
    },
    {
     "name": "stdout",
     "output_type": "stream",
     "text": [
      "annotate move-ctor\n"
     ]
    },
    {
     "name": "stdout",
     "output_type": "stream",
     "text": [
      "annotate dtor\n"
     ]
    },
    {
     "name": "stdout",
     "output_type": "stream",
     "text": [
      "annotate dtor\n"
     ]
    },
    {
     "name": "stdout",
     "output_type": "stream",
     "text": [
      "annotate ctor\n"
     ]
    },
    {
     "name": "stdout",
     "output_type": "stream",
     "text": [
      "annotate dtor\n"
     ]
    },
    {
     "name": "stdout",
     "output_type": "stream",
     "text": [
      "annotate ctor\n"
     ]
    },
    {
     "name": "stdout",
     "output_type": "stream",
     "text": [
      "annotate dtor\n"
     ]
    }
   ],
   "source": [
    "annotate v_03; // lvalue\n",
    "\n",
    "wrapper_04(f_01, v_03);          // call with lvalue - copy\n",
    "wrapper_04(f_01, annotate());    // call with rvalue - move\n",
    "wrapper_04(f_02, v_03);          // call with lvalue\n",
    "wrapper_04(f_02, annotate());    // call with rvalue\n",
    "wrapper_04(f_03, v_03);          // call with lvalue\n",
    "// wrapper_04(f_03, annotate()); // call with rvalue - error\n",
    "// wrapper_04(f_04, v_03);       // call with lvalue - error\n",
    "wrapper_04(f_04, annotate());    // call with rvalue"
   ]
  },
  {
   "cell_type": "markdown",
   "id": "excess-membership",
   "metadata": {
    "slideshow": {
     "slide_type": "slide"
    }
   },
   "source": [
    "## Confusing Syntax\n",
    "These are rvalue references:"
   ]
  },
  {
   "cell_type": "code",
   "execution_count": 12,
   "id": "aging-painting",
   "metadata": {
    "execution": {
     "iopub.execute_input": "2021-06-28T16:56:09.924872Z",
     "iopub.status.busy": "2021-06-28T16:56:09.924056Z",
     "iopub.status.idle": "2021-06-28T16:56:09.925772Z",
     "shell.execute_reply": "2021-06-28T16:56:09.925433Z"
    },
    "slideshow": {
     "slide_type": "fragment"
    }
   },
   "outputs": [],
   "source": [
    "namespace {\n",
    "    \n",
    "void f_0(string&&); //rvalue reference\n",
    "    \n",
    "template <class T>\n",
    "class c_0 {\n",
    "public:\n",
    "    c_0(T&&); // rvalue reference\n",
    "};\n",
    "    \n",
    "} // namespace"
   ]
  },
  {
   "cell_type": "markdown",
   "id": "illegal-orlando",
   "metadata": {
    "slideshow": {
     "slide_type": "slide"
    }
   },
   "source": [
    "These are forwarding references:"
   ]
  },
  {
   "cell_type": "code",
   "execution_count": 13,
   "id": "mighty-student",
   "metadata": {
    "execution": {
     "iopub.execute_input": "2021-06-28T16:56:09.927729Z",
     "iopub.status.busy": "2021-06-28T16:56:09.927145Z",
     "iopub.status.idle": "2021-06-28T16:56:09.928098Z",
     "shell.execute_reply": "2021-06-28T16:56:09.928409Z"
    },
    "slideshow": {
     "slide_type": "-"
    }
   },
   "outputs": [],
   "source": [
    "namespace {\n",
    "\n",
    "template <class T>\n",
    "void f_1(T&&); // forwarding reference\n",
    "    \n",
    "class c_1 {\n",
    "public:\n",
    "    template <class T>\n",
    "    c_1(T&&); // forwarding reference\n",
    "};\n",
    "\n",
    "} // namespace"
   ]
  },
  {
   "cell_type": "markdown",
   "id": "casual-minnesota",
   "metadata": {
    "slideshow": {
     "slide_type": "slide"
    }
   },
   "source": [
    "The difference is one special deduction rule:\n",
    "- If the function parameter, P, is a forwarding reference\n",
    "- And the corresponding function call argument, A, is an lvalue\n",
    "- Then lvalue reference to A is used in place of A for deduction"
   ]
  },
  {
   "cell_type": "code",
   "execution_count": 14,
   "id": "lyric-certification",
   "metadata": {
    "execution": {
     "iopub.execute_input": "2021-06-28T16:56:09.930188Z",
     "iopub.status.busy": "2021-06-28T16:56:09.929809Z",
     "iopub.status.idle": "2021-06-28T16:56:09.937611Z",
     "shell.execute_reply": "2021-06-28T16:56:09.937221Z"
    },
    "slideshow": {
     "slide_type": "fragment"
    }
   },
   "outputs": [],
   "source": [
    "string v_0 = \"Hello World!\";\n",
    "auto&& v_1 = v_0;"
   ]
  },
  {
   "cell_type": "code",
   "execution_count": 15,
   "id": "fuzzy-fortune",
   "metadata": {
    "execution": {
     "iopub.execute_input": "2021-06-28T16:56:09.939473Z",
     "iopub.status.busy": "2021-06-28T16:56:09.939055Z",
     "iopub.status.idle": "2021-06-28T16:56:09.942314Z",
     "shell.execute_reply": "2021-06-28T16:56:09.941971Z"
    },
    "slideshow": {
     "slide_type": "fragment"
    }
   },
   "outputs": [
    {
     "name": "stdout",
     "output_type": "stream",
     "text": [
      "v_1 is an lvalue reference!\n"
     ]
    }
   ],
   "source": [
    "if (is_lvalue_reference<decltype(v_1)>::value) {\n",
    "    cout << \"v_1 is an lvalue reference!\" << endl;\n",
    "}"
   ]
  },
  {
   "cell_type": "markdown",
   "id": "ethical-poster",
   "metadata": {
    "slideshow": {
     "slide_type": "slide"
    }
   },
   "source": [
    "## Should you use forwarding references for all sink arguments?\n",
    "\n",
    "- Pros:\n",
    "    - Eliminates one additional move operation in the copy case\n",
    "    - Replace copy/move-assignment with copy-assignment\n",
    "\n",
    "- Cons:\n",
    "    - Copy-assignment is not always transactional\n",
    "    - Requires template interface\n",
    "        - Error messages reported from internal failures, not at API\n",
    "    - Can push implementation into a header\n",
    "    - Can capture unexpected types\n",
    "        - Workaround be slower to compile (by an order of magnitude)\n",
    "            - From [Eric Niebler](https://twitter.com/ericniebler/status/958490446107361280)"
   ]
  },
  {
   "cell_type": "markdown",
   "id": "spectacular-equality",
   "metadata": {
    "slideshow": {
     "slide_type": "slide"
    }
   },
   "source": [
    "### Capturing too much"
   ]
  },
  {
   "cell_type": "code",
   "execution_count": 16,
   "id": "municipal-conducting",
   "metadata": {
    "execution": {
     "iopub.execute_input": "2021-06-28T16:56:09.943966Z",
     "iopub.status.busy": "2021-06-28T16:56:09.943597Z",
     "iopub.status.idle": "2021-06-28T16:56:09.950942Z",
     "shell.execute_reply": "2021-06-28T16:56:09.949656Z"
    },
    "slideshow": {
     "slide_type": "fragment"
    }
   },
   "outputs": [
    {
     "name": "stdout",
     "output_type": "stream",
     "text": [
      "annotate ctor\n"
     ]
    },
    {
     "name": "stdout",
     "output_type": "stream",
     "text": [
      "annotate move-ctor\n"
     ]
    },
    {
     "name": "stdout",
     "output_type": "stream",
     "text": [
      "annotate dtor\n"
     ]
    }
   ],
   "source": [
    "class c_5 {\n",
    "    annotate _a;\n",
    "public:\n",
    "    template <class T>\n",
    "    c_5(T&& a) : _a(forward<T>(a)) { }\n",
    "};\n",
    "\n",
    "c_5 v_7{annotate()};"
   ]
  },
  {
   "cell_type": "markdown",
   "id": "variable-elder",
   "metadata": {
    "slideshow": {
     "slide_type": "slide"
    }
   },
   "source": [
    "```cpp\n",
    "c_5 v_8{v_7};\n",
    "```"
   ]
  },
  {
   "cell_type": "markdown",
   "id": "fitting-balloon",
   "metadata": {
    "slideshow": {
     "slide_type": "fragment"
    }
   },
   "source": [
    "```\n",
    "input_line_21:5:18: error: no matching constructor for initialization of 'annotate'\n",
    "    c_5(T&& a) : _a(forward<T>(a)) { }\n",
    "                 ^  ~~~~~~~~~~~~~\n",
    "input_line_22:2:6: note: in instantiation of function template specialization 'c_5::c_5<c_5 &>' requested\n",
    "      here\n",
    " c_5 v_8{v_7};\n",
    "     ^\n",
    "./../common.hpp:5:5: note: candidate constructor not viable: no known conversion from 'c_5' to\n",
    "      'const annotate' for 1st argument\n",
    "    annotate(const annotate&) { std::cout << \"annotate copy-ctor\" << std...\n",
    "    ^\n",
    "./../common.hpp:6:5: note: candidate constructor not viable: no known conversion from 'c_5' to 'annotate'\n",
    "      for 1st argument\n",
    "    annotate(annotate&&) noexcept { std::cout << \"annotate move-ctor\" <...\n",
    "    ^\n",
    "./../common.hpp:4:5: note: candidate constructor not viable: requires 0 arguments, but 1 was provided\n",
    "    annotate() { std::cout << \"annotate ctor\" << std::endl; }\n",
    "```"
   ]
  },
  {
   "cell_type": "code",
   "execution_count": 17,
   "id": "signal-attendance",
   "metadata": {
    "execution": {
     "iopub.execute_input": "2021-06-28T16:56:09.952750Z",
     "iopub.status.busy": "2021-06-28T16:56:09.952255Z",
     "iopub.status.idle": "2021-06-28T16:56:09.962180Z",
     "shell.execute_reply": "2021-06-28T16:56:09.960413Z"
    },
    "slideshow": {
     "slide_type": "slide"
    }
   },
   "outputs": [
    {
     "name": "stdout",
     "output_type": "stream",
     "text": [
      "annotate ctor\n"
     ]
    },
    {
     "name": "stdout",
     "output_type": "stream",
     "text": [
      "annotate move-ctor\n"
     ]
    },
    {
     "name": "stdout",
     "output_type": "stream",
     "text": [
      "annotate dtor\n"
     ]
    },
    {
     "name": "stdout",
     "output_type": "stream",
     "text": [
      "annotate copy-ctor\n"
     ]
    }
   ],
   "source": [
    "class c_6 {\n",
    "    annotate _a;\n",
    "public:\n",
    "    template <class T, class = enable_if_t<is_convertible<T, annotate>::value>>\n",
    "    c_6(T&& a) : _a(forward<T>(a)) { }\n",
    "};\n",
    "\n",
    "c_6 v_9{annotate()};\n",
    "c_6 v_10{v_9};"
   ]
  },
  {
   "cell_type": "markdown",
   "id": "sacred-external",
   "metadata": {
    "slideshow": {
     "slide_type": "slide"
    }
   },
   "source": [
    "## Summary Recommendations\n",
    "\n",
    "- Use forwarding reference when you don't know the signature of the destination\n",
    "- Prefer pass by value for sink arguments\n",
    "    - Unless you know you need the additional performance\n",
    "- Be aware of the difference between a forwarding reference and an rvalue reference"
   ]
  },
  {
   "cell_type": "markdown",
   "id": "designed-reader",
   "metadata": {
    "slideshow": {
     "slide_type": "slide"
    }
   },
   "source": [
    "## Homework\n",
    "\n",
    "- Apply one or more of the recommendations to code in your product\n",
    "- Measure the results:\n",
    "    - Runtime performance of an optimized build\n",
    "    - (and/or) Binary size of an optimized build\n",
    "    - (and/or) Compile time of a debug build\n",
    "    - (and/or) Resulting source line count delta (indicator of readability)\n",
    "- Report the results on the class wiki: [git.corp.adobe.com/better-code/class/wiki](git.corp.adobe.com/better-code/class/wiki)"
   ]
  },
  {
   "cell_type": "code",
   "execution_count": null,
   "id": "recovered-taxation",
   "metadata": {},
   "outputs": [],
   "source": []
  }
 ],
 "metadata": {
  "jupytext": {
   "formats": "ipynb,md"
  },
  "kernelspec": {
   "display_name": "C++17",
   "language": "C++17",
   "name": "xcpp17"
  },
  "language_info": {
   "codemirror_mode": "text/x-c++src",
   "file_extension": ".cpp",
   "mimetype": "text/x-c++src",
   "name": "c++",
   "version": "17"
  }
 },
 "nbformat": 4,
 "nbformat_minor": 5
}

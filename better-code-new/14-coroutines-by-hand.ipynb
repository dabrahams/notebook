{
 "cells": [
  {
   "cell_type": "code",
   "execution_count": 1,
   "id": "mechanical-worcester",
   "metadata": {
    "execution": {
     "iopub.execute_input": "2021-06-28T16:56:38.294243Z",
     "iopub.status.busy": "2021-06-28T16:56:38.293499Z",
     "iopub.status.idle": "2021-06-28T16:56:38.294560Z",
     "shell.execute_reply": "2021-06-28T16:56:38.293842Z"
    },
    "slideshow": {
     "slide_type": "skip"
    }
   },
   "outputs": [],
   "source": [
    "#pragma cling add_include_path(\"../stlab/libraries\")"
   ]
  },
  {
   "cell_type": "markdown",
   "id": "continuing-nightmare",
   "metadata": {
    "slideshow": {
     "slide_type": "slide"
    }
   },
   "source": [
    "# Coroutines By Hand\n",
    "\n",
    "* Implement sequential process as a coroutine"
   ]
  },
  {
   "cell_type": "code",
   "execution_count": 2,
   "id": "driven-pizza",
   "metadata": {
    "execution": {
     "iopub.execute_input": "2021-06-28T16:56:38.296661Z",
     "iopub.status.busy": "2021-06-28T16:56:38.295966Z",
     "iopub.status.idle": "2021-06-28T16:56:38.625699Z",
     "shell.execute_reply": "2021-06-28T16:56:38.625425Z"
    },
    "slideshow": {
     "slide_type": "skip"
    }
   },
   "outputs": [],
   "source": [
    "#include <mutex>\n",
    "#include <string>\n",
    "#include <unordered_set>\n",
    "#include <functional>\n",
    "#include <condition_variable>\n",
    "#include <deque>\n",
    "#include <thread>\n",
    "#include <iostream>\n",
    "\n",
    "#define STLAB_DISABLE_FUTURE_COROUTINES 1\n",
    "#include <stlab/concurrency/future.hpp>\n",
    "#include <stlab/concurrency/immediate_executor.hpp>\n",
    "#include <stlab/concurrency/default_executor.hpp>\n",
    "#include <stlab/concurrency/utility.hpp>"
   ]
  },
  {
   "cell_type": "code",
   "execution_count": 3,
   "id": "graphic-passing",
   "metadata": {
    "execution": {
     "iopub.execute_input": "2021-06-28T16:56:38.628149Z",
     "iopub.status.busy": "2021-06-28T16:56:38.627588Z",
     "iopub.status.idle": "2021-06-28T16:56:38.628479Z",
     "shell.execute_reply": "2021-06-28T16:56:38.628722Z"
    },
    "slideshow": {
     "slide_type": "skip"
    }
   },
   "outputs": [],
   "source": [
    "using namespace std;"
   ]
  },
  {
   "cell_type": "code",
   "execution_count": 4,
   "id": "lesbian-pendant",
   "metadata": {
    "execution": {
     "iopub.execute_input": "2021-06-28T16:56:38.631408Z",
     "iopub.status.busy": "2021-06-28T16:56:38.630873Z",
     "iopub.status.idle": "2021-06-28T16:56:38.640910Z",
     "shell.execute_reply": "2021-06-28T16:56:38.640467Z"
    },
    "run_control": {
     "marked": true
    },
    "slideshow": {
     "slide_type": "skip"
    }
   },
   "outputs": [],
   "source": [
    "class task {\n",
    "    struct concept {\n",
    "        virtual ~concept() {}\n",
    "        virtual void invoke() = 0;\n",
    "    };\n",
    "\n",
    "    template <class F>\n",
    "    struct model final : concept {\n",
    "        F _f;\n",
    "        model(F f) : _f(move(f)) {}\n",
    "        void invoke() override { _f(); }\n",
    "    };\n",
    "    unique_ptr<concept> _self;\n",
    "\n",
    "public:\n",
    "    task() = default;\n",
    "\n",
    "    template <class F> // F model void()\n",
    "    task(F f) : _self(make_unique<model<F>>(move(f))) {}\n",
    "\n",
    "    void operator()() { _self->invoke(); }\n",
    "};"
   ]
  },
  {
   "cell_type": "markdown",
   "id": "alpha-benchmark",
   "metadata": {
    "slideshow": {
     "slide_type": "slide"
    }
   },
   "source": [
    "## Recall `sequential_process` implementation"
   ]
  },
  {
   "cell_type": "code",
   "execution_count": 5,
   "id": "devoted-grammar",
   "metadata": {
    "execution": {
     "iopub.execute_input": "2021-06-28T16:56:38.642991Z",
     "iopub.status.busy": "2021-06-28T16:56:38.642511Z",
     "iopub.status.idle": "2021-06-28T16:56:38.663288Z",
     "shell.execute_reply": "2021-06-28T16:56:38.662849Z"
    },
    "slideshow": {
     "slide_type": "fragment"
    }
   },
   "outputs": [],
   "source": [
    "namespace bcc {\n",
    "\n",
    "class sequential_process {\n",
    "    mutex _mutex;\n",
    "    condition_variable _condition;\n",
    "    deque<task> _queue;\n",
    "    bool _done = false;\n",
    "\n",
    "    void run_loop();\n",
    "\n",
    "    thread _thread{[this] { run_loop(); }};\n",
    "\n",
    "public:\n",
    "    ~sequential_process();\n",
    "    void async(task);\n",
    "};\n",
    "\n",
    "} // namespace bcc"
   ]
  },
  {
   "cell_type": "markdown",
   "id": "nearby-output",
   "metadata": {
    "slideshow": {
     "slide_type": "slide"
    }
   },
   "source": [
    "- The logical structure of our coroutine will be:\n",
    "\n",
    "```cpp\n",
    "class sequential_process {\n",
    "    awaitable_queue<task> _queue;\n",
    "    co_task<void> _running;\n",
    "\n",
    "public:\n",
    "    sequential_process() {\n",
    "        _running = [&]() {\n",
    "            while (true) {\n",
    "                (co_await _queue.pop())();\n",
    "            }\n",
    "        }\n",
    "    }\n",
    "    void async(task f) { _queue.push(move(f)); }\n",
    "};\n",
    "```"
   ]
  },
  {
   "cell_type": "markdown",
   "id": "nuclear-benchmark",
   "metadata": {
    "slideshow": {
     "slide_type": "slide"
    }
   },
   "source": [
    "- **Tip: When desinging code, sketch the code in an ideal form**\n",
    "- Without building the infrustructure for `awaitable_queue<>` and `co_task<>`\n",
    "    - We can build the same logical structure directly in `seqential_process`\n",
    "- Build concrete solutions before complex abstractions"
   ]
  },
  {
   "cell_type": "markdown",
   "id": "otherwise-operation",
   "metadata": {
    "slideshow": {
     "slide_type": "slide"
    }
   },
   "source": [
    "- As a coroutine we no longer need:\n",
    "    - `_thread`\n",
    "    - `_condition`\n",
    "    - `_done` flag\n",
    "    - `run_loop()`\n",
    "    - `join()` on destuction\n",
    "- We will need\n",
    "    - `_running` flag\n",
    "    - `resume()`"
   ]
  },
  {
   "cell_type": "code",
   "execution_count": 6,
   "id": "temporal-script",
   "metadata": {
    "execution": {
     "iopub.execute_input": "2021-06-28T16:56:38.665423Z",
     "iopub.status.busy": "2021-06-28T16:56:38.664952Z",
     "iopub.status.idle": "2021-06-28T16:56:38.666387Z",
     "shell.execute_reply": "2021-06-28T16:56:38.665947Z"
    },
    "slideshow": {
     "slide_type": "slide"
    }
   },
   "outputs": [],
   "source": [
    "namespace bcc2 {\n",
    "\n",
    "class sequential_process {\n",
    "    mutex _mutex;\n",
    "    bool _running = false;\n",
    "    deque<task> _queue;\n",
    "\n",
    "    void resume();\n",
    "\n",
    "public:\n",
    "    void async(task);\n",
    "};\n",
    "\n",
    "} // namespace bcc2"
   ]
  },
  {
   "cell_type": "code",
   "execution_count": 7,
   "id": "stopped-nepal",
   "metadata": {
    "execution": {
     "iopub.execute_input": "2021-06-28T16:56:38.668033Z",
     "iopub.status.busy": "2021-06-28T16:56:38.667664Z",
     "iopub.status.idle": "2021-06-28T16:56:38.690341Z",
     "shell.execute_reply": "2021-06-28T16:56:38.689948Z"
    },
    "slideshow": {
     "slide_type": "skip"
    }
   },
   "outputs": [],
   "source": [
    "namespace bcc {\n",
    "       \n",
    "sequential_process::~sequential_process() {\n",
    "    {\n",
    "        lock_guard<mutex> lock(_mutex);\n",
    "        _done = true;\n",
    "    }\n",
    "    _condition.notify_one();\n",
    "    _thread.join();\n",
    "}\n",
    "\n",
    "void sequential_process::run_loop() {\n",
    "    while (true) {\n",
    "        task work;\n",
    "        {\n",
    "            unique_lock<mutex> lock(_mutex);\n",
    "\n",
    "            while (_queue.empty() && !_done) {\n",
    "                _condition.wait(lock);\n",
    "            }\n",
    "\n",
    "            if (_queue.empty()) return;\n",
    "\n",
    "            work = move(_queue.front());\n",
    "            _queue.pop_front();\n",
    "        }\n",
    "        work();\n",
    "    }\n",
    "}\n",
    "    \n",
    "void sequential_process::async(task f) {\n",
    "    {\n",
    "        lock_guard<mutex> lock(_mutex);\n",
    "        _queue.push_back(move(f));\n",
    "    }\n",
    "    _condition.notify_one();\n",
    "}\n",
    "    \n",
    "} // namespace bcc"
   ]
  },
  {
   "cell_type": "markdown",
   "id": "three-developer",
   "metadata": {
    "slideshow": {
     "slide_type": "slide"
    }
   },
   "source": [
    "- `resume()` is the body of our coroutine:\n",
    "```cpp\n",
    "while (true) {\n",
    "    (co_await _queue.pop())();\n",
    "}\n",
    "```"
   ]
  },
  {
   "cell_type": "code",
   "execution_count": 8,
   "id": "recognized-array",
   "metadata": {
    "execution": {
     "iopub.execute_input": "2021-06-28T16:56:38.692339Z",
     "iopub.status.busy": "2021-06-28T16:56:38.691906Z",
     "iopub.status.idle": "2021-06-28T16:56:38.697851Z",
     "shell.execute_reply": "2021-06-28T16:56:38.697546Z"
    },
    "slideshow": {
     "slide_type": "slide"
    }
   },
   "outputs": [],
   "source": [
    "namespace bcc2 {\n",
    "\n",
    "void sequential_process::resume() {\n",
    "    task work;\n",
    "    while (true) {\n",
    "        {\n",
    "            unique_lock<mutex> lock(_mutex);\n",
    "\n",
    "            if (_queue.empty()) {\n",
    "                _running = false;\n",
    "                return;\n",
    "            }\n",
    "            work = move(_queue.front());\n",
    "            _queue.pop_front();\n",
    "        }\n",
    "        work();\n",
    "    }\n",
    "}\n",
    "\n",
    "} // namespace bcc2"
   ]
  },
  {
   "cell_type": "markdown",
   "id": "comprehensive-manner",
   "metadata": {
    "slideshow": {
     "slide_type": "slide"
    }
   },
   "source": [
    "- `async()` does a push and `resume()` if not running"
   ]
  },
  {
   "cell_type": "code",
   "execution_count": 9,
   "id": "acceptable-testament",
   "metadata": {
    "execution": {
     "iopub.execute_input": "2021-06-28T16:56:38.699887Z",
     "iopub.status.busy": "2021-06-28T16:56:38.699511Z",
     "iopub.status.idle": "2021-06-28T16:56:38.707387Z",
     "shell.execute_reply": "2021-06-28T16:56:38.707114Z"
    },
    "slideshow": {
     "slide_type": "fragment"
    }
   },
   "outputs": [],
   "source": [
    "namespace bcc2 {\n",
    "\n",
    "void sequential_process::async(task f) {\n",
    "    bool running = true;\n",
    "    {\n",
    "        lock_guard<mutex> lock(_mutex);\n",
    "        _queue.push_back(move(f));\n",
    "        swap(running, _running);\n",
    "    }\n",
    "    if (!running) resume();\n",
    "}\n",
    "\n",
    "} // namespace bcc2"
   ]
  },
  {
   "cell_type": "code",
   "execution_count": 10,
   "id": "dependent-ethiopia",
   "metadata": {
    "execution": {
     "iopub.execute_input": "2021-06-28T16:56:38.709384Z",
     "iopub.status.busy": "2021-06-28T16:56:38.708868Z",
     "iopub.status.idle": "2021-06-28T16:56:38.710088Z",
     "shell.execute_reply": "2021-06-28T16:56:38.709792Z"
    },
    "slideshow": {
     "slide_type": "skip"
    }
   },
   "outputs": [],
   "source": [
    "using namespace bcc2;"
   ]
  },
  {
   "cell_type": "markdown",
   "id": "cellular-miami",
   "metadata": {
    "slideshow": {
     "slide_type": "slide"
    }
   },
   "source": [
    "- `async_packaged()`, `shared_pool`, and `interned_string` are unmodified"
   ]
  },
  {
   "cell_type": "code",
   "execution_count": 11,
   "id": "neural-proposal",
   "metadata": {
    "execution": {
     "iopub.execute_input": "2021-06-28T16:56:38.712183Z",
     "iopub.status.busy": "2021-06-28T16:56:38.711533Z",
     "iopub.status.idle": "2021-06-28T16:56:38.713312Z",
     "shell.execute_reply": "2021-06-28T16:56:38.712873Z"
    },
    "slideshow": {
     "slide_type": "fragment"
    }
   },
   "outputs": [],
   "source": [
    "namespace {\n",
    "\n",
    "template <class F> // F models R()\n",
    "auto async_packaged(sequential_process& process, F&& f) {\n",
    "    using result_t = std::result_of_t<std::decay_t<F>()>;\n",
    "\n",
    "    auto task_future = stlab::package<result_t()>(stlab::immediate_executor,\n",
    "                                                  std::forward<F>(f));\n",
    "\n",
    "    process.async(move(task_future.first));\n",
    "\n",
    "    return move(task_future.second);\n",
    "}\n",
    "    \n",
    "} // namespace"
   ]
  },
  {
   "cell_type": "code",
   "execution_count": 12,
   "id": "champion-nitrogen",
   "metadata": {
    "execution": {
     "iopub.execute_input": "2021-06-28T16:56:38.715059Z",
     "iopub.status.busy": "2021-06-28T16:56:38.714676Z",
     "iopub.status.idle": "2021-06-28T16:56:38.787849Z",
     "shell.execute_reply": "2021-06-28T16:56:38.787546Z"
    },
    "slideshow": {
     "slide_type": "slide"
    }
   },
   "outputs": [],
   "source": [
    "namespace {\n",
    "    \n",
    "struct shared_pool {\n",
    "    unordered_set<string> _pool;\n",
    "    sequential_process _process;\n",
    "\n",
    "    auto insert(string a) -> stlab::future<const string*> {\n",
    "        return async_packaged(\n",
    "            _process, [this, _a = move(a)]() mutable {\n",
    "                return &*_pool.insert(move(_a)).first;\n",
    "            });\n",
    "    }\n",
    "};\n",
    "    \n",
    "} // namespace"
   ]
  },
  {
   "cell_type": "code",
   "execution_count": 13,
   "id": "familiar-developer",
   "metadata": {
    "execution": {
     "iopub.execute_input": "2021-06-28T16:56:38.789634Z",
     "iopub.status.busy": "2021-06-28T16:56:38.789190Z",
     "iopub.status.idle": "2021-06-28T16:56:38.824986Z",
     "shell.execute_reply": "2021-06-28T16:56:38.824706Z"
    },
    "slideshow": {
     "slide_type": "slide"
    }
   },
   "outputs": [],
   "source": [
    "namespace {\n",
    "\n",
    "class interned_string {\n",
    "    static auto pool() -> shared_pool& {\n",
    "        static shared_pool result;\n",
    "        return result;\n",
    "    }\n",
    "\n",
    "    stlab::future<const string*> _string;\n",
    "\n",
    "public:\n",
    "    interned_string(string a) : _string(pool().insert(move(a))) {}\n",
    "\n",
    "    auto str() const -> stlab::future<reference_wrapper<const string>> {\n",
    "        return _string.then([](const string* p) { return cref(*p); });\n",
    "    }\n",
    "};\n",
    "    \n",
    "} // namespace"
   ]
  },
  {
   "cell_type": "markdown",
   "id": "external-apache",
   "metadata": {
    "slideshow": {
     "slide_type": "slide"
    }
   },
   "source": [
    "- And is used exactly the same way"
   ]
  },
  {
   "cell_type": "code",
   "execution_count": 14,
   "id": "fresh-single",
   "metadata": {
    "execution": {
     "iopub.execute_input": "2021-06-28T16:56:38.827230Z",
     "iopub.status.busy": "2021-06-28T16:56:38.826830Z",
     "iopub.status.idle": "2021-06-28T16:56:39.314847Z",
     "shell.execute_reply": "2021-06-28T16:56:39.314504Z"
    },
    "slideshow": {
     "slide_type": "fragment"
    }
   },
   "outputs": [
    {
     "name": "stdout",
     "output_type": "stream",
     "text": [
      "Hello World!\n"
     ]
    }
   ],
   "source": [
    "{\n",
    "    interned_string s(\"Hello World!\"s);\n",
    "\n",
    "    auto done = s.str().then([](const string& s) { cout << s << '\\n'; });\n",
    "\n",
    "    blocking_get(done);\n",
    "}"
   ]
  },
  {
   "cell_type": "markdown",
   "id": "distant-emergency",
   "metadata": {
    "slideshow": {
     "slide_type": "slide"
    }
   },
   "source": [
    "- Advantages to the coroutine implementation\n",
    "    - No seperate thread overhead\n",
    "    - No overhead for waiting on condition variable\n",
    "    - No blocking\n",
    "    - Possible to implement with lock-free queue\n",
    "    - `resume()` need not be executed _inline_\n",
    "        - It could be queued to a _thread pool_\n",
    "        - Requires some managment of _object liftimes_"
   ]
  },
  {
   "cell_type": "markdown",
   "id": "cosmetic-carter",
   "metadata": {
    "slideshow": {
     "slide_type": "fragment"
    }
   },
   "source": [
    "- Disadvantages\n",
    "    - _inline_ execution may _live lock_"
   ]
  },
  {
   "cell_type": "markdown",
   "id": "prescribed-terrorism",
   "metadata": {
    "slideshow": {
     "slide_type": "slide"
    }
   },
   "source": [
    "```cpp\n",
    "void sequential_process::async(task f) {\n",
    "    bool running = true;\n",
    "    {\n",
    "        lock_guard<mutex> lock(_mutex);\n",
    "        _queue.push_back(move(f));\n",
    "        swap(running, _running);\n",
    "    }\n",
    "    if (!running) async([this]{ resume(); }); // WHAAATTT this???\n",
    "}\n",
    "```"
   ]
  },
  {
   "cell_type": "code",
   "execution_count": null,
   "id": "loaded-detail",
   "metadata": {},
   "outputs": [],
   "source": []
  }
 ],
 "metadata": {
  "jupytext": {
   "formats": "ipynb,md"
  },
  "kernelspec": {
   "display_name": "C++17",
   "language": "C++17",
   "name": "xcpp17"
  },
  "language_info": {
   "codemirror_mode": "text/x-c++src",
   "file_extension": ".cpp",
   "mimetype": "text/x-c++src",
   "name": "c++",
   "version": "17"
  }
 },
 "nbformat": 4,
 "nbformat_minor": 5
}

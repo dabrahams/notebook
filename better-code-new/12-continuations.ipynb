{
 "cells": [
  {
   "cell_type": "code",
   "execution_count": 1,
   "id": "amazing-major",
   "metadata": {
    "execution": {
     "iopub.execute_input": "2021-06-28T16:56:32.817145Z",
     "iopub.status.busy": "2021-06-28T16:56:32.816584Z",
     "iopub.status.idle": "2021-06-28T16:56:32.817691Z",
     "shell.execute_reply": "2021-06-28T16:56:32.818149Z"
    },
    "slideshow": {
     "slide_type": "skip"
    }
   },
   "outputs": [],
   "source": [
    "#pragma cling add_include_path(\"../stlab/libraries\")"
   ]
  },
  {
   "cell_type": "code",
   "execution_count": 2,
   "id": "adequate-tobago",
   "metadata": {
    "execution": {
     "iopub.execute_input": "2021-06-28T16:56:32.820366Z",
     "iopub.status.busy": "2021-06-28T16:56:32.819841Z",
     "iopub.status.idle": "2021-06-28T16:56:33.116687Z",
     "shell.execute_reply": "2021-06-28T16:56:33.116429Z"
    },
    "slideshow": {
     "slide_type": "skip"
    }
   },
   "outputs": [],
   "source": [
    "#include <mutex>\n",
    "#include <string>\n",
    "#include <unordered_set>\n",
    "#include <functional>\n",
    "#include <condition_variable>\n",
    "#include <deque>\n",
    "#include <thread>\n",
    "#include <iostream>\n",
    "#include <type_traits>\n",
    "\n",
    "#define STLAB_DISABLE_FUTURE_COROUTINES 1\n",
    "#include <stlab/concurrency/future.hpp>\n",
    "#include <stlab/concurrency/immediate_executor.hpp>\n",
    "#include <stlab/concurrency/default_executor.hpp>\n",
    "#include <stlab/concurrency/utility.hpp>"
   ]
  },
  {
   "cell_type": "code",
   "execution_count": 3,
   "id": "together-columbia",
   "metadata": {
    "execution": {
     "iopub.execute_input": "2021-06-28T16:56:33.119168Z",
     "iopub.status.busy": "2021-06-28T16:56:33.118350Z",
     "iopub.status.idle": "2021-06-28T16:56:33.121180Z",
     "shell.execute_reply": "2021-06-28T16:56:33.120556Z"
    },
    "slideshow": {
     "slide_type": "skip"
    }
   },
   "outputs": [],
   "source": [
    "using namespace stlab;"
   ]
  },
  {
   "cell_type": "code",
   "execution_count": 4,
   "id": "accessory-apparel",
   "metadata": {
    "execution": {
     "iopub.execute_input": "2021-06-28T16:56:33.123538Z",
     "iopub.status.busy": "2021-06-28T16:56:33.123177Z",
     "iopub.status.idle": "2021-06-28T16:56:33.123866Z",
     "shell.execute_reply": "2021-06-28T16:56:33.124170Z"
    },
    "slideshow": {
     "slide_type": "skip"
    }
   },
   "outputs": [],
   "source": [
    "using namespace std;"
   ]
  },
  {
   "cell_type": "code",
   "execution_count": 5,
   "id": "informative-focus",
   "metadata": {
    "execution": {
     "iopub.execute_input": "2021-06-28T16:56:33.126263Z",
     "iopub.status.busy": "2021-06-28T16:56:33.125699Z",
     "iopub.status.idle": "2021-06-28T16:56:33.133304Z",
     "shell.execute_reply": "2021-06-28T16:56:33.133040Z"
    },
    "run_control": {
     "marked": true
    },
    "slideshow": {
     "slide_type": "skip"
    }
   },
   "outputs": [],
   "source": [
    "namespace bcc {\n",
    "    \n",
    "class task {\n",
    "    struct concept;\n",
    "\n",
    "    template <class F>\n",
    "    struct model;\n",
    "\n",
    "    std::unique_ptr<concept> _self;\n",
    "\n",
    "public:\n",
    "    task() = default;\n",
    "    //...\n",
    "\n",
    "    template <class F> // F model void()\n",
    "    task(F f);         // Need to implement\n",
    "\n",
    "    void operator()(); // Need to implement\n",
    "};\n",
    "    \n",
    "} // namespace bcc"
   ]
  },
  {
   "cell_type": "code",
   "execution_count": 6,
   "id": "second-buying",
   "metadata": {
    "execution": {
     "iopub.execute_input": "2021-06-28T16:56:33.135334Z",
     "iopub.status.busy": "2021-06-28T16:56:33.134831Z",
     "iopub.status.idle": "2021-06-28T16:56:33.135934Z",
     "shell.execute_reply": "2021-06-28T16:56:33.136218Z"
    },
    "slideshow": {
     "slide_type": "skip"
    }
   },
   "outputs": [],
   "source": [
    "using namespace bcc;"
   ]
  },
  {
   "cell_type": "code",
   "execution_count": 7,
   "id": "aggressive-basic",
   "metadata": {
    "execution": {
     "iopub.execute_input": "2021-06-28T16:56:33.137697Z",
     "iopub.status.busy": "2021-06-28T16:56:33.137292Z",
     "iopub.status.idle": "2021-06-28T16:56:33.138387Z",
     "shell.execute_reply": "2021-06-28T16:56:33.138069Z"
    },
    "slideshow": {
     "slide_type": "skip"
    }
   },
   "outputs": [],
   "source": [
    "struct bcc::task::concept {\n",
    "    virtual ~concept() {}\n",
    "    virtual void invoke() = 0;\n",
    "};"
   ]
  },
  {
   "cell_type": "code",
   "execution_count": 8,
   "id": "black-synthetic",
   "metadata": {
    "execution": {
     "iopub.execute_input": "2021-06-28T16:56:33.139974Z",
     "iopub.status.busy": "2021-06-28T16:56:33.139606Z",
     "iopub.status.idle": "2021-06-28T16:56:33.140341Z",
     "shell.execute_reply": "2021-06-28T16:56:33.140620Z"
    },
    "slideshow": {
     "slide_type": "skip"
    }
   },
   "outputs": [],
   "source": [
    "template <class F>\n",
    "struct bcc::task::model final : concept {\n",
    "    F _f;\n",
    "    model(F f) : _f(move(f)) {}\n",
    "    void invoke() override { _f(); }\n",
    "};"
   ]
  },
  {
   "cell_type": "code",
   "execution_count": 9,
   "id": "absolute-domestic",
   "metadata": {
    "execution": {
     "iopub.execute_input": "2021-06-28T16:56:33.142076Z",
     "iopub.status.busy": "2021-06-28T16:56:33.141730Z",
     "iopub.status.idle": "2021-06-28T16:56:33.142428Z",
     "shell.execute_reply": "2021-06-28T16:56:33.142694Z"
    },
    "slideshow": {
     "slide_type": "skip"
    }
   },
   "outputs": [],
   "source": [
    "template <class F>\n",
    "bcc::task::task(F f) : _self(make_unique<model<F>>(move(f))) { }"
   ]
  },
  {
   "cell_type": "code",
   "execution_count": 10,
   "id": "pressed-package",
   "metadata": {
    "execution": {
     "iopub.execute_input": "2021-06-28T16:56:33.144131Z",
     "iopub.status.busy": "2021-06-28T16:56:33.143772Z",
     "iopub.status.idle": "2021-06-28T16:56:33.145880Z",
     "shell.execute_reply": "2021-06-28T16:56:33.145624Z"
    },
    "run_control": {
     "marked": true
    },
    "slideshow": {
     "slide_type": "skip"
    }
   },
   "outputs": [],
   "source": [
    "namespace bcc {\n",
    "\n",
    "void task::operator()() { _self->invoke(); }\n",
    "\n",
    "} // namespace bcc"
   ]
  },
  {
   "cell_type": "code",
   "execution_count": 11,
   "id": "brief-essence",
   "metadata": {
    "execution": {
     "iopub.execute_input": "2021-06-28T16:56:33.147467Z",
     "iopub.status.busy": "2021-06-28T16:56:33.147103Z",
     "iopub.status.idle": "2021-06-28T16:56:33.177469Z",
     "shell.execute_reply": "2021-06-28T16:56:33.176886Z"
    },
    "slideshow": {
     "slide_type": "skip"
    }
   },
   "outputs": [],
   "source": [
    "namespace bcc {\n",
    "\n",
    "class sequential_process {\n",
    "    // using task = function<void()>;\n",
    "\n",
    "    mutex _mutex;\n",
    "    condition_variable _condition;\n",
    "    deque<task> _queue;\n",
    "    bool _done = false;\n",
    "\n",
    "    void run_loop();\n",
    "\n",
    "    thread _thread{[this] { run_loop(); }};\n",
    "\n",
    "public:\n",
    "    ~sequential_process();\n",
    "    void async(task f);\n",
    "};\n",
    "    \n",
    "sequential_process::~sequential_process() {\n",
    "    {\n",
    "        lock_guard<mutex> lock(_mutex);\n",
    "        _done = true;\n",
    "    }\n",
    "    _condition.notify_one();\n",
    "    _thread.join();\n",
    "}\n",
    "\n",
    "void sequential_process::run_loop() {\n",
    "    while (true) {\n",
    "        task work;\n",
    "        {\n",
    "            unique_lock<mutex> lock(_mutex);\n",
    "\n",
    "            while (_queue.empty() && !_done) {\n",
    "                _condition.wait(lock);\n",
    "            }\n",
    "\n",
    "            if (_queue.empty()) return;\n",
    "\n",
    "            work = move(_queue.front());\n",
    "            _queue.pop_front();\n",
    "        }\n",
    "        work();\n",
    "    }\n",
    "}\n",
    "    \n",
    "void sequential_process::async(task f) {\n",
    "    {\n",
    "        lock_guard<mutex> lock(_mutex);\n",
    "        _queue.push_back(move(f));\n",
    "    }\n",
    "    _condition.notify_one();\n",
    "}\n",
    "    \n",
    "} // namespace bcc\n",
    "    \n",
    "template <class F> // F models R()\n",
    "inline auto async_packaged(sequential_process& process, F&& f) {\n",
    "    using result_t = std::result_of_t<std::decay_t<F>()>;\n",
    "    \n",
    "    auto task_future = stlab::package<result_t()>(stlab::immediate_executor, std::forward<F>(f));\n",
    "    \n",
    "    process.async(move(task_future.first));\n",
    "    \n",
    "    return move(task_future.second);\n",
    "}\n",
    "\n",
    "using namespace bcc;"
   ]
  },
  {
   "cell_type": "markdown",
   "id": "thermal-explosion",
   "metadata": {},
   "source": [
    "# Continuations\n",
    "\n",
    "- Recap\n",
    "    - Callbacks\n",
    "        - Must be known in advance\n",
    "        - Require functional form transformations\n",
    "    - C++11 futures\n",
    "        - Do not compose\n",
    "        - Block on `get()`"
   ]
  },
  {
   "cell_type": "markdown",
   "id": "expensive-mauritius",
   "metadata": {
    "slideshow": {
     "slide_type": "slide"
    }
   },
   "source": [
    "- Continuations combine the best features<sup>*</sup> of these two approaches for returning a value from a task\n",
    "    - Do not need to be known in advance\n",
    "    - Do not require functional transformations\n",
    "    - Compose\n",
    "    - Do not block"
   ]
  },
  {
   "cell_type": "markdown",
   "id": "electric-airline",
   "metadata": {
    "slideshow": {
     "slide_type": "slide"
    }
   },
   "source": [
    "- Continuations are part of futures in the [concurrency TS](http://en.cppreference.com/w/cpp/experimental/concurrency) in `<experimental/future>`\n",
    "    - For this class I'm using [`stlab::future<>`](http://stlab.cc/libraries/concurrency/future/future/) which has additional capabilities and minor differences in syntax\n",
    "    - I'm participating in a standard committee workshop on April 26th to discuss the future of futures in C++20"
   ]
  },
  {
   "cell_type": "markdown",
   "id": "gothic-equipment",
   "metadata": {
    "slideshow": {
     "slide_type": "slide"
    }
   },
   "source": [
    "- A continuation is a callback attached to a `future`, using [`.then()`](http://stlab.cc/libraries/concurrency/future/future/then.html)\n",
    "    - `.then()` returns a new future that can be used for more continuations"
   ]
  },
  {
   "cell_type": "code",
   "execution_count": 12,
   "id": "wired-roulette",
   "metadata": {
    "execution": {
     "iopub.execute_input": "2021-06-28T16:56:33.179919Z",
     "iopub.status.busy": "2021-06-28T16:56:33.179582Z",
     "iopub.status.idle": "2021-06-28T16:56:33.573887Z",
     "shell.execute_reply": "2021-06-28T16:56:33.573244Z"
    },
    "slideshow": {
     "slide_type": "fragment"
    }
   },
   "outputs": [
    {
     "name": "stdout",
     "output_type": "stream",
     "text": [
      "42\n"
     ]
    },
    {
     "name": "stdout",
     "output_type": "stream",
     "text": [
      "done!\n"
     ]
    }
   ],
   "source": [
    "{\n",
    "auto p = async(default_executor, []{ return 42; });\n",
    "    \n",
    "auto q = p.then([](int x){ cout << x << endl; });\n",
    "    \n",
    "auto r = q.then([]{ cout << \"done!\" << endl; });\n",
    "\n",
    "blocking_get(r); // <-- DON'T DO THIS IN REAL CODE!!!\n",
    "}"
   ]
  },
  {
   "cell_type": "markdown",
   "id": "systematic-worship",
   "metadata": {
    "slideshow": {
     "slide_type": "slide"
    }
   },
   "source": [
    "- Recall our interned string implementation with futures"
   ]
  },
  {
   "cell_type": "code",
   "execution_count": 13,
   "id": "otherwise-stress",
   "metadata": {
    "execution": {
     "iopub.execute_input": "2021-06-28T16:56:33.577720Z",
     "iopub.status.busy": "2021-06-28T16:56:33.576801Z",
     "iopub.status.idle": "2021-06-28T16:56:33.656860Z",
     "shell.execute_reply": "2021-06-28T16:56:33.656585Z"
    },
    "slideshow": {
     "slide_type": "fragment"
    }
   },
   "outputs": [],
   "source": [
    "namespace bcc {\n",
    "\n",
    "struct shared_pool {\n",
    "    unordered_set<string> _pool;\n",
    "    sequential_process _process;\n",
    "    \n",
    "    auto insert(string) -> stlab::future<const string*>;\n",
    "};\n",
    "    \n",
    "auto shared_pool::insert(string a) -> stlab::future<const string*> {\n",
    "    return async_packaged(_process, [this, _a = move(a)]() mutable {\n",
    "        return &*_pool.insert(move(_a)).first;\n",
    "    });\n",
    "}\n",
    "    \n",
    "}"
   ]
  },
  {
   "cell_type": "markdown",
   "id": "elegant-villa",
   "metadata": {
    "run_control": {
     "marked": true
    },
    "slideshow": {
     "slide_type": "slide"
    }
   },
   "source": [
    "```cpp\n",
    "class interned_string {\n",
    "    // struct shared_pool\n",
    "\n",
    "    static auto pool() -> shared_pool& {\n",
    "        static shared_pool result;\n",
    "        return result;\n",
    "    }\n",
    "\n",
    "    shared_future<const std::string*> _string;\n",
    "public:\n",
    "    interned_string(string a) : _string(pool().insert(move(a))) {}\n",
    "    \n",
    "    auto str() const {\n",
    "        return *_string.get(); // <---- BLOCKING!!!\n",
    "    }\n",
    "};\n",
    "```"
   ]
  },
  {
   "cell_type": "code",
   "execution_count": 14,
   "id": "demanding-lebanon",
   "metadata": {
    "execution": {
     "iopub.execute_input": "2021-06-28T16:56:33.659111Z",
     "iopub.status.busy": "2021-06-28T16:56:33.658585Z",
     "iopub.status.idle": "2021-06-28T16:56:33.690391Z",
     "shell.execute_reply": "2021-06-28T16:56:33.690113Z"
    },
    "slideshow": {
     "slide_type": "slide"
    }
   },
   "outputs": [],
   "source": [
    "namespace {\n",
    "\n",
    "class interned_string {\n",
    "    // struct shared_pool\n",
    "\n",
    "    static auto pool() -> shared_pool& {\n",
    "        static shared_pool result;\n",
    "        return result;\n",
    "    }\n",
    "\n",
    "    stlab::future<const string*> _string; // or std::experimental::shared_future\n",
    "public:\n",
    "    interned_string(string a) : _string(pool().insert(move(a))) {}\n",
    "    \n",
    "    auto str() const -> stlab::future<reference_wrapper<const string>> {\n",
    "        return _string.then([](const string* p) { return cref(*p); });\n",
    "    }\n",
    "};\n",
    "    \n",
    "} // namespace"
   ]
  },
  {
   "cell_type": "code",
   "execution_count": 15,
   "id": "finnish-delivery",
   "metadata": {
    "execution": {
     "iopub.execute_input": "2021-06-28T16:56:33.692667Z",
     "iopub.status.busy": "2021-06-28T16:56:33.692316Z",
     "iopub.status.idle": "2021-06-28T16:56:34.084728Z",
     "shell.execute_reply": "2021-06-28T16:56:34.083938Z"
    },
    "slideshow": {
     "slide_type": "slide"
    }
   },
   "outputs": [
    {
     "name": "stdout",
     "output_type": "stream",
     "text": [
      "Hello World!\n"
     ]
    }
   ],
   "source": [
    "{\n",
    "interned_string s(\"Hello World!\"s);\n",
    "\n",
    "auto done = s.str().then([](const string& s){\n",
    "    cout << s << '\\n';\n",
    "});\n",
    "    \n",
    "blocking_get(done);\n",
    "}"
   ]
  },
  {
   "cell_type": "markdown",
   "id": "derived-rental",
   "metadata": {
    "slideshow": {
     "slide_type": "slide"
    }
   },
   "source": [
    "- Pros for continuations\n",
    "    - Do not need to be known in advance\n",
    "    - Do not require functional transformations\n",
    "        - Straight forward transformation from synchronous to asynchronous code\n",
    "    - Compose\n",
    "    - Do not block\n",
    "- Cons\n",
    "    - Require more synchronization than callbacks\n",
    "    - Execution context is ambiguous\n",
    "        - _Immediate execution_ may happen either in the calling context or resolving context"
   ]
  },
  {
   "cell_type": "markdown",
   "id": "sound-discipline",
   "metadata": {
    "slideshow": {
     "slide_type": "slide"
    }
   },
   "source": [
    "- Multiple continuation can be attached to a single `future` (or `shared_future`)\n",
    "    - This _splits_ execution\n",
    "    - i.e.\n",
    "        - \"blur the document\"\n",
    "            - \"then save the document\"\n",
    "            - \"then rotate the document\"\n",
    "- A _join_ is accomplished using `when_all()`"
   ]
  },
  {
   "cell_type": "code",
   "execution_count": 16,
   "id": "decreased-canvas",
   "metadata": {
    "execution": {
     "iopub.execute_input": "2021-06-28T16:56:34.087196Z",
     "iopub.status.busy": "2021-06-28T16:56:34.086443Z",
     "iopub.status.idle": "2021-06-28T16:56:34.561210Z",
     "shell.execute_reply": "2021-06-28T16:56:34.560852Z"
    },
    "slideshow": {
     "slide_type": "slide"
    }
   },
   "outputs": [
    {
     "name": "stdout",
     "output_type": "stream",
     "text": [
      "47\n"
     ]
    }
   ],
   "source": [
    "{\n",
    "auto p = async(default_executor, []{ return 42; });\n",
    "auto q = async(default_executor, []{ return 5; });\n",
    "\n",
    "auto done = when_all(default_executor, [](int x, int y){ cout << x + y << endl; }, p, q);\n",
    "    \n",
    "blocking_get(done);\n",
    "}"
   ]
  },
  {
   "cell_type": "markdown",
   "id": "exceptional-recorder",
   "metadata": {
    "slideshow": {
     "slide_type": "slide"
    }
   },
   "source": [
    "- Joins are non-blocking\n",
    "    - Attach continuations to the arguments\n",
    "    - Keep an atomic count of how many arguments are resolved\n",
    "    - Execute continuation on last resolve\n",
    "- Splits and Joins allow us to construct arbitrary dependency DAGs"
   ]
  },
  {
   "cell_type": "markdown",
   "id": "wanted-pencil",
   "metadata": {
    "slideshow": {
     "slide_type": "fragment"
    }
   },
   "source": [
    "- Continuations are a form of a sequential process"
   ]
  },
  {
   "cell_type": "code",
   "execution_count": null,
   "id": "engaging-precipitation",
   "metadata": {},
   "outputs": [],
   "source": []
  }
 ],
 "metadata": {
  "jupytext": {
   "formats": "ipynb,md"
  },
  "kernelspec": {
   "display_name": "C++17",
   "language": "C++17",
   "name": "xcpp17"
  },
  "language_info": {
   "codemirror_mode": "text/x-c++src",
   "file_extension": ".cpp",
   "mimetype": "text/x-c++src",
   "name": "c++",
   "version": "17"
  }
 },
 "nbformat": 4,
 "nbformat_minor": 5
}

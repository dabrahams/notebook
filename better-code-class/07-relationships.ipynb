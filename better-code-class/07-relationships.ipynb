{
 "cells": [
  {
   "cell_type": "markdown",
   "id": "natural-agency",
   "metadata": {
    "slideshow": {
     "slide_type": "slide"
    }
   },
   "source": [
    "# Architecture\n",
    "\n",
    "- Relationships are unavoidable with objects in a space\n",
    "    - The address of an object is the relationship between the object and the space within which it resides\n",
    "    \n",
    "- For any relationship there is a predicate form\n",
    "    - Dick and Jane are married (relationship)\n",
    "    - Are Dick and Jane married? (predicate)\n",
    "\n",
    "- We normally think of objects as representing _things_ or _nouns_\n",
    "    - An object may also represent a _relationship_\n",
    "    - The `next` pointer in a linked list represents the relationship between one element and its successor"
   ]
  },
  {
   "cell_type": "markdown",
   "id": "tribal-avenue",
   "metadata": {
    "slideshow": {
     "slide_type": "slide"
    }
   },
   "source": [
    "- An object which represents a relationship is a _witness_ to the relationship\n",
    "- When copying a witness there are three possible outcomes\n",
    "    - The relationship is maintained\n",
    "    - The relationship is severed\n",
    "    - The witness is invalidated "
   ]
  },
  {
   "cell_type": "markdown",
   "id": "suspected-sheriff",
   "metadata": {
    "slideshow": {
     "slide_type": "fragment"
    }
   },
   "source": [
    "- Other mutating operations on any object in the relationship have the same possible outcomes"
   ]
  },
  {
   "cell_type": "markdown",
   "id": "accomplished-madrid",
   "metadata": {
    "slideshow": {
     "slide_type": "notes"
    }
   },
   "source": [
    "Give two example - the wedding band example\n",
    "An offset into an array example"
   ]
  }
 ],
 "metadata": {
  "jupytext": {
   "formats": "ipynb,md"
  },
  "kernelspec": {
   "display_name": "C++17",
   "language": "C++17",
   "name": "xcpp17"
  },
  "language_info": {
   "codemirror_mode": "text/x-c++src",
   "file_extension": ".cpp",
   "mimetype": "text/x-c++src",
   "name": "c++",
   "version": "17"
  }
 },
 "nbformat": 4,
 "nbformat_minor": 5
}

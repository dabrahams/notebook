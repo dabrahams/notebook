{
 "cells": [
  {
   "cell_type": "code",
   "execution_count": 1,
   "id": "according-blast",
   "metadata": {
    "execution": {
     "iopub.execute_input": "2021-06-28T16:55:41.632028Z",
     "iopub.status.busy": "2021-06-28T16:55:41.631386Z",
     "iopub.status.idle": "2021-06-28T16:55:41.715682Z",
     "shell.execute_reply": "2021-06-28T16:55:41.715209Z"
    },
    "slideshow": {
     "slide_type": "skip"
    }
   },
   "outputs": [],
   "source": [
    "#include \"../common.hpp\""
   ]
  },
  {
   "cell_type": "markdown",
   "id": "generic-orlando",
   "metadata": {},
   "source": [
    "# Runtime Polymorphism"
   ]
  },
  {
   "cell_type": "markdown",
   "id": "raising-somewhere",
   "metadata": {
    "slideshow": {
     "slide_type": "fragment"
    }
   },
   "source": [
    "**Goal: No _raw pointers_**"
   ]
  },
  {
   "cell_type": "markdown",
   "id": "naval-investigator",
   "metadata": {
    "slideshow": {
     "slide_type": "slide"
    },
    "tags": []
   },
   "source": [
    "## Definitions"
   ]
  },
  {
   "cell_type": "markdown",
   "id": "periodic-ranking",
   "metadata": {
    "slideshow": {
     "slide_type": "fragment"
    },
    "tags": []
   },
   "source": [
    "> A _raw pointer_ is any type with owning pointer semantics including:\n",
    "> - `T*`\n",
    "> - `shared_ptr<T>`\n",
    "> - `unique_ptr<T>`\n",
    "> - `weak_ptr<T>`\n",
    ">\n",
    "> It does not include _iterators_, even if the iterator is a pointer type, or a pointer used to represent an optional reference"
   ]
  },
  {
   "cell_type": "markdown",
   "id": "distinct-indie",
   "metadata": {
    "slideshow": {
     "slide_type": "slide"
    }
   },
   "source": [
    "> _Polymorphism_ is the provision of a single interface to entities of different types."
   ]
  },
  {
   "cell_type": "markdown",
   "id": "meaningful-eligibility",
   "metadata": {
    "slideshow": {
     "slide_type": "slide"
    }
   },
   "source": [
    "## Motivation"
   ]
  },
  {
   "cell_type": "markdown",
   "id": "western-timeline",
   "metadata": {
    "slideshow": {
     "slide_type": "fragment"
    }
   },
   "source": [
    "In C++, runtime polymorphism is typically achieved with _subtyping_ using _inheritance_.\n",
    "\n",
    "- _Inheritance_ is a mechanism to where one class is _derived_ from another class, but overriding all or part of the implementation."
   ]
  },
  {
   "cell_type": "markdown",
   "id": "piano-inspector",
   "metadata": {
    "slideshow": {
     "slide_type": "fragment"
    }
   },
   "source": [
    "- The requirement of runtime-polymorphism within a system comes from the need to use objects of different but _related_ types"
   ]
  },
  {
   "cell_type": "code",
   "execution_count": 2,
   "id": "documented-preservation",
   "metadata": {
    "execution": {
     "iopub.execute_input": "2021-06-28T16:55:41.717585Z",
     "iopub.status.busy": "2021-06-28T16:55:41.717151Z",
     "iopub.status.idle": "2021-06-28T16:55:41.724138Z",
     "shell.execute_reply": "2021-06-28T16:55:41.723797Z"
    },
    "slideshow": {
     "slide_type": "slide"
    }
   },
   "outputs": [],
   "source": [
    "namespace v3 {\n",
    "    \n",
    "using circle = int;\n",
    "\n",
    "void draw(const circle& a, ostream& out, size_t position) {\n",
    "    out << string(position, ' ') << \"circle: \" << a << \"\\n\";\n",
    "}\n",
    "\n",
    "using document = vector<circle>;\n",
    "\n",
    "void draw(const document& a, ostream& out, size_t position) {\n",
    "    out << string(position, ' ') << \"{\\n\";\n",
    "    for (const auto& e : a)\n",
    "        draw(e, out, position + 2);\n",
    "    out << string(position, ' ') << \"}\\n\";\n",
    "}\n",
    "    \n",
    "} // namespace v3"
   ]
  },
  {
   "cell_type": "code",
   "execution_count": 3,
   "id": "southwest-secret",
   "metadata": {
    "execution": {
     "iopub.execute_input": "2021-06-28T16:55:41.725547Z",
     "iopub.status.busy": "2021-06-28T16:55:41.725153Z",
     "iopub.status.idle": "2021-06-28T16:55:41.751786Z",
     "shell.execute_reply": "2021-06-28T16:55:41.750787Z"
    },
    "slideshow": {
     "slide_type": "slide"
    }
   },
   "outputs": [
    {
     "name": "stdout",
     "output_type": "stream",
     "text": [
      "{\n",
      "  circle: 5\n",
      "  circle: 42\n",
      "}\n"
     ]
    }
   ],
   "source": [
    "{\n",
    "    using namespace v3;\n",
    "\n",
    "    document d;\n",
    "\n",
    "    d.emplace_back(circle{5});\n",
    "    d.emplace_back(circle{42});\n",
    "    draw(d, cout, 0);\n",
    "}"
   ]
  },
  {
   "cell_type": "markdown",
   "id": "mediterranean-flour",
   "metadata": {
    "slideshow": {
     "slide_type": "slide"
    }
   },
   "source": [
    "<center>\n",
    "    <img src='img/document-circle.svg' alt='Concrete Document Structure'>\n",
    "    <br>\n",
    "    <em>Concrete Document Structure</em>\n",
    "</center>"
   ]
  },
  {
   "cell_type": "code",
   "execution_count": 4,
   "id": "worse-bolivia",
   "metadata": {
    "execution": {
     "iopub.execute_input": "2021-06-28T16:55:41.754054Z",
     "iopub.status.busy": "2021-06-28T16:55:41.753671Z",
     "iopub.status.idle": "2021-06-28T16:55:41.767489Z",
     "shell.execute_reply": "2021-06-28T16:55:41.767067Z"
    },
    "slideshow": {
     "slide_type": "slide"
    }
   },
   "outputs": [],
   "source": [
    "namespace v4 {\n",
    "\n",
    "class shape {\n",
    "public:\n",
    "    virtual ~shape() = default;\n",
    "    virtual void draw(ostream&, size_t) const = 0;\n",
    "};\n",
    "\n",
    "using document = vector<shared_ptr<shape>>;\n",
    "\n",
    "void draw(const document& a, ostream& out, size_t position) {\n",
    "    out << string(position, ' ') << \"{\\n\";\n",
    "    for (const auto& e : a)\n",
    "        e->draw(out, position + 2);\n",
    "    out << string(position, ' ') << \"}\\n\";\n",
    "}\n",
    "\n",
    "} // namespace v4"
   ]
  },
  {
   "cell_type": "code",
   "execution_count": 5,
   "id": "other-freight",
   "metadata": {
    "execution": {
     "iopub.execute_input": "2021-06-28T16:55:41.769052Z",
     "iopub.status.busy": "2021-06-28T16:55:41.768588Z",
     "iopub.status.idle": "2021-06-28T16:55:41.770891Z",
     "shell.execute_reply": "2021-06-28T16:55:41.770565Z"
    },
    "slideshow": {
     "slide_type": "slide"
    }
   },
   "outputs": [],
   "source": [
    "namespace v4 {\n",
    "\n",
    "class circle final : public shape {\n",
    "    int _radius;\n",
    "\n",
    "public:\n",
    "    explicit circle(int radius) : _radius{radius} {}\n",
    "    void draw(ostream& out, size_t position) const override {\n",
    "        out << string(position, ' ') << \"circle: \" << _radius << \"\\n\";\n",
    "    }\n",
    "};\n",
    "\n",
    "} // namespace v4"
   ]
  },
  {
   "cell_type": "code",
   "execution_count": 6,
   "id": "derived-dallas",
   "metadata": {
    "execution": {
     "iopub.execute_input": "2021-06-28T16:55:41.772313Z",
     "iopub.status.busy": "2021-06-28T16:55:41.771892Z",
     "iopub.status.idle": "2021-06-28T16:55:41.774336Z",
     "shell.execute_reply": "2021-06-28T16:55:41.773932Z"
    },
    "slideshow": {
     "slide_type": "slide"
    }
   },
   "outputs": [],
   "source": [
    "namespace v4 {\n",
    "\n",
    "class rectangle final : public shape {\n",
    "    int _width, _height;\n",
    "public:\n",
    "    explicit rectangle(int width, int height) : _width{width}, _height{height} {}\n",
    "    void draw(ostream& out, size_t position) const override {\n",
    "        out << string(position, ' ') << \"rectangle: \" << _width << \", \" << _height << \"\\n\";\n",
    "    }\n",
    "};\n",
    "\n",
    "} // namespace 4"
   ]
  },
  {
   "cell_type": "code",
   "execution_count": 7,
   "id": "finnish-ethnic",
   "metadata": {
    "execution": {
     "iopub.execute_input": "2021-06-28T16:55:41.775872Z",
     "iopub.status.busy": "2021-06-28T16:55:41.775495Z",
     "iopub.status.idle": "2021-06-28T16:55:41.825205Z",
     "shell.execute_reply": "2021-06-28T16:55:41.824473Z"
    },
    "slideshow": {
     "slide_type": "slide"
    }
   },
   "outputs": [
    {
     "name": "stdout",
     "output_type": "stream",
     "text": [
      "{\n",
      "  circle: 5\n",
      "  rectangle: 10, 42\n",
      "}\n"
     ]
    }
   ],
   "source": [
    "{\n",
    "    using namespace v4;\n",
    "\n",
    "    document d;\n",
    "\n",
    "    d.emplace_back(new circle{5});\n",
    "    d.emplace_back(new rectangle{10, 42});\n",
    "    draw(d, cout, 0);\n",
    "}"
   ]
  },
  {
   "cell_type": "markdown",
   "id": "numerical-tokyo",
   "metadata": {
    "slideshow": {
     "slide_type": "slide"
    }
   },
   "source": [
    "- This line contains a defect:\n",
    "```cpp\n",
    "    d.emplace_back(new circle{5});\n",
    "```\n",
    "- An instance of `circle` will be allocated first\n",
    "- Then the document will grow to make room\n",
    "- If growing the document throws an exception, the memory from `circle` is leaked"
   ]
  },
  {
   "cell_type": "markdown",
   "id": "reflected-virus",
   "metadata": {},
   "source": [
    "- The interface leaves it to the client to get correct"
   ]
  },
  {
   "cell_type": "code",
   "execution_count": 8,
   "id": "necessary-title",
   "metadata": {
    "execution": {
     "iopub.execute_input": "2021-06-28T16:55:41.827118Z",
     "iopub.status.busy": "2021-06-28T16:55:41.826625Z",
     "iopub.status.idle": "2021-06-28T16:55:41.903178Z",
     "shell.execute_reply": "2021-06-28T16:55:41.902206Z"
    },
    "slideshow": {
     "slide_type": "slide"
    }
   },
   "outputs": [
    {
     "name": "stdout",
     "output_type": "stream",
     "text": [
      "{\n",
      "  circle: 5\n",
      "  rectangle: 10, 42\n",
      "}\n"
     ]
    }
   ],
   "source": [
    "{\n",
    "    using namespace v4;\n",
    "\n",
    "    document d;\n",
    "\n",
    "    d.push_back(make_shared<circle>(5));\n",
    "    d.push_back(make_shared<rectangle>(10, 42));\n",
    "    draw(d, cout, 0);\n",
    "}"
   ]
  },
  {
   "cell_type": "markdown",
   "id": "offshore-saying",
   "metadata": {
    "slideshow": {
     "slide_type": "slide"
    }
   },
   "source": [
    "## Issues with inheritance and shared pointers"
   ]
  },
  {
   "cell_type": "markdown",
   "id": "universal-prompt",
   "metadata": {
    "slideshow": {
     "slide_type": "fragment"
    }
   },
   "source": [
    "Pointers create incidental data structures"
   ]
  },
  {
   "cell_type": "markdown",
   "id": "confident-climate",
   "metadata": {
    "slideshow": {
     "slide_type": "fragment"
    }
   },
   "source": [
    "### Breaks local reasoning\n",
    "\n",
    "- Our document _could_ share objects with other components\n",
    "    - If we wanted to asynchronously save our document, how do we ensure it doesn't change?"
   ]
  },
  {
   "cell_type": "markdown",
   "id": "ordered-saver",
   "metadata": {
    "slideshow": {
     "slide_type": "slide"
    }
   },
   "source": [
    "### Breaks copying and changes the definition of what it means for two documents to be equal\n",
    "\n",
    "- Copies are disjoint and equal\n",
    "- For two documents to be equal they now need to hold _identical_ shapes"
   ]
  },
  {
   "cell_type": "markdown",
   "id": "preceding-maintenance",
   "metadata": {
    "slideshow": {
     "slide_type": "fragment"
    }
   },
   "source": [
    "### Imposes additional requirement on the client\n",
    "\n",
    "- Inheritance is intrusive, now our rectangle has become logically part of the system using it\n",
    "    - But there are _a lot_ of other uses for rectangle besides a shape in our document\n",
    "- Forces the client to allocate and manage memory"
   ]
  },
  {
   "cell_type": "markdown",
   "id": "naval-window",
   "metadata": {
    "slideshow": {
     "slide_type": "slide"
    }
   },
   "source": [
    "### Considerably Less Efficient"
   ]
  },
  {
   "cell_type": "markdown",
   "id": "elegant-vegetarian",
   "metadata": {
    "slideshow": {
     "slide_type": "fragment"
    }
   },
   "source": [
    "**Question:** What is the size of a `shared_ptr<>`?"
   ]
  },
  {
   "cell_type": "code",
   "execution_count": 9,
   "id": "dutch-student",
   "metadata": {
    "execution": {
     "iopub.execute_input": "2021-06-28T16:55:41.905359Z",
     "iopub.status.busy": "2021-06-28T16:55:41.904779Z",
     "iopub.status.idle": "2021-06-28T16:55:42.236305Z",
     "shell.execute_reply": "2021-06-28T16:55:42.235503Z"
    },
    "slideshow": {
     "slide_type": "fragment"
    }
   },
   "outputs": [
    {
     "data": {
      "text/plain": [
       "2"
      ]
     },
     "execution_count": 9,
     "metadata": {},
     "output_type": "execute_result"
    }
   ],
   "source": [
    "sizeof(shared_ptr<int>) / sizeof(void*)"
   ]
  },
  {
   "cell_type": "markdown",
   "id": "suitable-newspaper",
   "metadata": {
    "slideshow": {
     "slide_type": "slide"
    }
   },
   "source": [
    "<center>\n",
    "    <img style='height:400px;' src='img/document-full.svg' alt='Document Structure'>\n",
    "    <br>\n",
    "    <em>Document Structure</em>\n",
    "</center>"
   ]
  },
  {
   "cell_type": "markdown",
   "id": "reserved-methodology",
   "metadata": {
    "slideshow": {
     "slide_type": "slide"
    }
   },
   "source": [
    "<center>\n",
    "    <img src='img/memory-hierarchy.svg' alt='Memory Hierarchy'>\n",
    "    <br>\n",
    "    <em>Data from <a href='http://ithare.com/infographics-operation-costs-in-cpu-clock-cycles/'>IT Hare</a></em>\n",
    "</center>"
   ]
  },
  {
   "cell_type": "markdown",
   "id": "fourth-attempt",
   "metadata": {
    "slideshow": {
     "slide_type": "slide"
    }
   },
   "source": [
    "- The number of allocations an application makes is a good indicator of the applications performance"
   ]
  },
  {
   "cell_type": "markdown",
   "id": "completed-theory",
   "metadata": {
    "slideshow": {
     "slide_type": "fragment"
    }
   },
   "source": [
    "- Strive for fewer allocations than objects (log N allocations is a good target)"
   ]
  },
  {
   "cell_type": "markdown",
   "id": "endangered-drilling",
   "metadata": {
    "slideshow": {
     "slide_type": "slide"
    }
   },
   "source": [
    "## Runtime Concept-Based Polymorphism\n",
    "\n",
    "> A _runtime concept-based polymorphic type_ is a type that can hold _any_ object type which models a concept"
   ]
  },
  {
   "cell_type": "markdown",
   "id": "entire-kenya",
   "metadata": {
    "slideshow": {
     "slide_type": "fragment"
    }
   },
   "source": [
    "- Also known as _ad-hoc polymorphism_ or _duck typing_"
   ]
  },
  {
   "cell_type": "markdown",
   "id": "linear-diameter",
   "metadata": {
    "slideshow": {
     "slide_type": "fragment"
    }
   },
   "source": [
    "- `std::any` and `std::function<>` are examples of concept-based polymorphic types\n",
    "- The technique to create such types is known as _type erasure_"
   ]
  },
  {
   "cell_type": "code",
   "execution_count": 10,
   "id": "likely-mention",
   "metadata": {
    "execution": {
     "iopub.execute_input": "2021-06-28T16:55:42.238595Z",
     "iopub.status.busy": "2021-06-28T16:55:42.237923Z",
     "iopub.status.idle": "2021-06-28T16:55:42.242078Z",
     "shell.execute_reply": "2021-06-28T16:55:42.241650Z"
    },
    "slideshow": {
     "slide_type": "slide"
    }
   },
   "outputs": [],
   "source": [
    "namespace v5 {\n",
    "\n",
    "class shape {\n",
    "    struct concept_t;\n",
    "    template <class T> struct model_t;\n",
    "\n",
    "    std::shared_ptr<const concept_t> _model;\n",
    "\n",
    "public:\n",
    "    template <class T>\n",
    "    shape(T&& s); // <-- (1)\n",
    "\n",
    "    shape() = default;\n",
    "    shape(const shape&) noexcept = default;\n",
    "    shape(shape&&) noexcept = default;\n",
    "    shape& operator=(const shape&) noexcept = default;\n",
    "    shape& operator=(shape&&) noexcept = default;\n",
    "\n",
    "    friend void draw(const shape& s, ostream& out, size_t position); // <-- (2)\n",
    "};\n",
    "\n",
    "} // namespace v5"
   ]
  },
  {
   "cell_type": "code",
   "execution_count": 11,
   "id": "classified-infection",
   "metadata": {
    "execution": {
     "iopub.execute_input": "2021-06-28T16:55:42.243965Z",
     "iopub.status.busy": "2021-06-28T16:55:42.243519Z",
     "iopub.status.idle": "2021-06-28T16:55:42.248356Z",
     "shell.execute_reply": "2021-06-28T16:55:42.248043Z"
    },
    "slideshow": {
     "slide_type": "slide"
    }
   },
   "outputs": [],
   "source": [
    "namespace v5 {\n",
    "\n",
    "using document = std::vector<shape>;\n",
    "\n",
    "void draw(const document& a, ostream& out, size_t position) {\n",
    "    out << string(position, ' ') << \"{\\n\";\n",
    "    for (const auto& e : a)\n",
    "        draw(e, out, position + 2);\n",
    "    out << string(position, ' ') << \"}\\n\";\n",
    "}\n",
    "\n",
    "} // namespace v5"
   ]
  },
  {
   "cell_type": "code",
   "execution_count": 12,
   "id": "later-holiday",
   "metadata": {
    "execution": {
     "iopub.execute_input": "2021-06-28T16:55:42.250107Z",
     "iopub.status.busy": "2021-06-28T16:55:42.249674Z",
     "iopub.status.idle": "2021-06-28T16:55:42.250880Z",
     "shell.execute_reply": "2021-06-28T16:55:42.250621Z"
    },
    "slideshow": {
     "slide_type": "slide"
    }
   },
   "outputs": [],
   "source": [
    "namespace v5 {\n",
    "\n",
    "struct shape::concept_t {\n",
    "    virtual ~concept_t() = default;\n",
    "    virtual void draw_(ostream& out, size_t position) const = 0; // <-- (2)\n",
    "};\n",
    "\n",
    "} // namespace v5"
   ]
  },
  {
   "cell_type": "markdown",
   "id": "respiratory-opportunity",
   "metadata": {
    "slideshow": {
     "slide_type": "slide"
    }
   },
   "source": [
    "- We can provide a default implementation of draw"
   ]
  },
  {
   "cell_type": "code",
   "execution_count": 13,
   "id": "specified-agreement",
   "metadata": {
    "execution": {
     "iopub.execute_input": "2021-06-28T16:55:42.252654Z",
     "iopub.status.busy": "2021-06-28T16:55:42.252213Z",
     "iopub.status.idle": "2021-06-28T16:55:42.253543Z",
     "shell.execute_reply": "2021-06-28T16:55:42.253224Z"
    },
    "slideshow": {
     "slide_type": "fragment"
    }
   },
   "outputs": [],
   "source": [
    "namespace v5 {\n",
    "    template <class T>\n",
    "    void draw(const T& x, ostream& out, size_t position) { // <-- (2)\n",
    "        out << string(position, ' ') << type_name<T>() << \": \" << x << \"\\n\";\n",
    "    }\n",
    "}"
   ]
  },
  {
   "cell_type": "code",
   "execution_count": 14,
   "id": "historic-injury",
   "metadata": {
    "execution": {
     "iopub.execute_input": "2021-06-28T16:55:42.255019Z",
     "iopub.status.busy": "2021-06-28T16:55:42.254691Z",
     "iopub.status.idle": "2021-06-28T16:55:42.255411Z",
     "shell.execute_reply": "2021-06-28T16:55:42.255667Z"
    },
    "slideshow": {
     "slide_type": "slide"
    }
   },
   "outputs": [],
   "source": [
    "namespace v5 {\n",
    "\n",
    "template <class T>\n",
    "struct shape::model_t final : concept_t {\n",
    "    T _value;\n",
    "\n",
    "    template <class U = T>\n",
    "    model_t(U&& x) : _value{std::forward<U>(x)} {} // <-- (1)\n",
    "\n",
    "    void draw_(ostream& out, size_t position) const override { // <-- (2)\n",
    "        draw(_value, out, position);\n",
    "    }\n",
    "};\n",
    "\n",
    "} // namespace v5"
   ]
  },
  {
   "cell_type": "code",
   "execution_count": 15,
   "id": "rapid-hanging",
   "metadata": {
    "execution": {
     "iopub.execute_input": "2021-06-28T16:55:42.257169Z",
     "iopub.status.busy": "2021-06-28T16:55:42.256799Z",
     "iopub.status.idle": "2021-06-28T16:55:42.258619Z",
     "shell.execute_reply": "2021-06-28T16:55:42.258341Z"
    },
    "slideshow": {
     "slide_type": "slide"
    }
   },
   "outputs": [],
   "source": [
    "namespace v5 {\n",
    "\n",
    "template <class T>\n",
    "shape::shape(T&& s)\n",
    "    : _model{std::make_shared<model_t<std::decay_t<T>>>(std::forward<T>(s))} {} // <-- (1)\n",
    "\n",
    "void draw(const shape& s, ostream& out, size_t position) { // <-- (2)\n",
    "    s._model->draw_(out, position);\n",
    "}\n",
    "\n",
    "} // namespace v5"
   ]
  },
  {
   "cell_type": "code",
   "execution_count": 16,
   "id": "suffering-egyptian",
   "metadata": {
    "execution": {
     "iopub.execute_input": "2021-06-28T16:55:42.260269Z",
     "iopub.status.busy": "2021-06-28T16:55:42.259854Z",
     "iopub.status.idle": "2021-06-28T16:55:42.261762Z",
     "shell.execute_reply": "2021-06-28T16:55:42.261478Z"
    },
    "slideshow": {
     "slide_type": "slide"
    }
   },
   "outputs": [],
   "source": [
    "namespace v5 {\n",
    "    \n",
    "class circle {\n",
    "    int _radius;\n",
    "\n",
    "public:\n",
    "    explicit circle(int radius) : _radius{radius} {}\n",
    "\n",
    "    friend void draw(const circle& s, ostream& out, size_t position) {\n",
    "        out << string(position, ' ') << \"circle: \" << s._radius << \"\\n\";\n",
    "    }\n",
    "};\n",
    "\n",
    "} // namespace v5"
   ]
  },
  {
   "cell_type": "code",
   "execution_count": 17,
   "id": "million-boating",
   "metadata": {
    "execution": {
     "iopub.execute_input": "2021-06-28T16:55:42.263602Z",
     "iopub.status.busy": "2021-06-28T16:55:42.263234Z",
     "iopub.status.idle": "2021-06-28T16:55:42.265077Z",
     "shell.execute_reply": "2021-06-28T16:55:42.264715Z"
    },
    "slideshow": {
     "slide_type": "slide"
    }
   },
   "outputs": [],
   "source": [
    "namespace v5 {\n",
    "    \n",
    "class rectangle {\n",
    "    int _width, _height;\n",
    "    \n",
    "public:\n",
    "    explicit rectangle(int width, int height) : _width{width}, _height{height} {}\n",
    "\n",
    "    friend void draw(const rectangle& s, ostream& out, size_t position) {\n",
    "        out << string(position, ' ') << \"rectangle: \" << s._width << \", \" << s._height << \"\\n\";\n",
    "    }\n",
    "};\n",
    "\n",
    "} // namespace v5"
   ]
  },
  {
   "cell_type": "code",
   "execution_count": 18,
   "id": "opposite-glasgow",
   "metadata": {
    "execution": {
     "iopub.execute_input": "2021-06-28T16:55:42.266486Z",
     "iopub.status.busy": "2021-06-28T16:55:42.266068Z",
     "iopub.status.idle": "2021-06-28T16:55:42.353534Z",
     "shell.execute_reply": "2021-06-28T16:55:42.352793Z"
    },
    "slideshow": {
     "slide_type": "slide"
    }
   },
   "outputs": [
    {
     "name": "stdout",
     "output_type": "stream",
     "text": [
      "{\n",
      "  circle: 5\n",
      "  rectangle: 10, 42\n",
      "}\n"
     ]
    }
   ],
   "source": [
    "{\n",
    "    using namespace v5;\n",
    "\n",
    "    document d;\n",
    "\n",
    "    d.emplace_back(circle{5});\n",
    "    d.emplace_back(rectangle{10, 42});\n",
    "    draw(d, cout, 0);\n",
    "}"
   ]
  },
  {
   "cell_type": "code",
   "execution_count": 19,
   "id": "banner-exhaust",
   "metadata": {
    "execution": {
     "iopub.execute_input": "2021-06-28T16:55:42.355458Z",
     "iopub.status.busy": "2021-06-28T16:55:42.354977Z",
     "iopub.status.idle": "2021-06-28T16:55:42.471330Z",
     "shell.execute_reply": "2021-06-28T16:55:42.470620Z"
    },
    "slideshow": {
     "slide_type": "slide"
    }
   },
   "outputs": [
    {
     "name": "stdout",
     "output_type": "stream",
     "text": [
      "{\n",
      "  circle: 5\n",
      "  rectangle: 10, 42\n",
      "  std::string: Hello World!\n",
      "}\n"
     ]
    }
   ],
   "source": [
    "{\n",
    "    using namespace v5;\n",
    "\n",
    "    document d;\n",
    "\n",
    "    d.emplace_back(circle{5});\n",
    "    d.emplace_back(rectangle{10, 42});\n",
    "    d.emplace_back(string{\"Hello World!\"});\n",
    "    draw(d, cout, 0);\n",
    "}"
   ]
  },
  {
   "cell_type": "code",
   "execution_count": 20,
   "id": "specific-daughter",
   "metadata": {
    "execution": {
     "iopub.execute_input": "2021-06-28T16:55:42.473565Z",
     "iopub.status.busy": "2021-06-28T16:55:42.473203Z",
     "iopub.status.idle": "2021-06-28T16:55:42.609072Z",
     "shell.execute_reply": "2021-06-28T16:55:42.608217Z"
    },
    "slideshow": {
     "slide_type": "slide"
    }
   },
   "outputs": [
    {
     "name": "stdout",
     "output_type": "stream",
     "text": [
      "{\n",
      "  circle: 5\n",
      "  rectangle: 10, 42\n",
      "  {\n",
      "    circle: 5\n",
      "    rectangle: 10, 42\n",
      "  }\n",
      "  std::string: Hello World!\n",
      "}\n"
     ]
    }
   ],
   "source": [
    "{\n",
    "    using namespace v5;\n",
    "\n",
    "    document d;\n",
    "\n",
    "    d.emplace_back(circle{5});\n",
    "    d.emplace_back(rectangle{10, 42});\n",
    "    d.emplace_back(d);\n",
    "    d.emplace_back(string{\"Hello World!\"});\n",
    "    draw(d, cout, 0);\n",
    "}"
   ]
  },
  {
   "cell_type": "markdown",
   "id": "ordered-subject",
   "metadata": {
    "slideshow": {
     "slide_type": "slide"
    }
   },
   "source": [
    "- To review our definition of a document, it inherits from nothing\n",
    "\n",
    "```cpp\n",
    "namespace v5 {\n",
    "\n",
    "using document = std::vector<shape>;\n",
    "\n",
    "void draw(const document& a, ostream& out, size_t position) {\n",
    "    out << string(position, ' ') << \"{\\n\";\n",
    "    for (const auto& e : a)\n",
    "        draw(e, out, position + 2);\n",
    "    out << string(position, ' ') << \"}\\n\";\n",
    "}\n",
    "\n",
    "} // namespace v5\n",
    "```"
   ]
  },
  {
   "cell_type": "markdown",
   "id": "essential-provision",
   "metadata": {
    "slideshow": {
     "slide_type": "slide"
    }
   },
   "source": [
    "## Advantages\n",
    "- Restored local reasoning, `shared_ptr<>` is an implementation detail\n",
    "- Restored copy and equality semantics\n",
    "- Simplified client code, client doesn't heap allocate"
   ]
  },
  {
   "cell_type": "markdown",
   "id": "registered-criticism",
   "metadata": {
    "slideshow": {
     "slide_type": "fragment"
    }
   },
   "source": [
    "- Efficiency?"
   ]
  },
  {
   "cell_type": "markdown",
   "id": "hired-academy",
   "metadata": {
    "slideshow": {
     "slide_type": "slide"
    }
   },
   "source": [
    "<center>\n",
    "    <img  style='height:400px;' src='img/document-full.svg' alt='Document Structure'>\n",
    "    <br>\n",
    "    <em>Document Structure</em>\n",
    "</center>"
   ]
  },
  {
   "cell_type": "markdown",
   "id": "royal-variance",
   "metadata": {
    "slideshow": {
     "slide_type": "slide"
    }
   },
   "source": [
    "## Efficient concept-based polymorphism"
   ]
  },
  {
   "cell_type": "markdown",
   "id": "quiet-tunisia",
   "metadata": {
    "slideshow": {
     "slide_type": "slide"
    }
   },
   "source": [
    "**Exercise:** Read the documentation for `std::function<>`, write a similar class that supports move-only invocable objects."
   ]
  },
  {
   "cell_type": "code",
   "execution_count": 21,
   "id": "vanilla-identifier",
   "metadata": {
    "execution": {
     "iopub.execute_input": "2021-06-28T16:55:42.610969Z",
     "iopub.status.busy": "2021-06-28T16:55:42.610687Z",
     "iopub.status.idle": "2021-06-28T16:55:42.619777Z",
     "shell.execute_reply": "2021-06-28T16:55:42.619483Z"
    },
    "slideshow": {
     "slide_type": "fragment"
    },
    "tags": []
   },
   "outputs": [],
   "source": [
    "?std::function"
   ]
  },
  {
   "cell_type": "markdown",
   "id": "sharp-beverage",
   "metadata": {
    "slideshow": {
     "slide_type": "slide"
    }
   },
   "source": [
    "- Here is a minimal interface:"
   ]
  },
  {
   "cell_type": "code",
   "execution_count": 22,
   "id": "normal-senegal",
   "metadata": {
    "execution": {
     "iopub.execute_input": "2021-06-28T16:55:42.622523Z",
     "iopub.status.busy": "2021-06-28T16:55:42.621973Z",
     "iopub.status.idle": "2021-06-28T16:55:42.624215Z",
     "shell.execute_reply": "2021-06-28T16:55:42.623656Z"
    },
    "slideshow": {
     "slide_type": "fragment"
    }
   },
   "outputs": [],
   "source": [
    "namespace v1 {\n",
    "\n",
    "template <class> class task;\n",
    "\n",
    "template <class R, class... Args>\n",
    "class task<R(Args...)> {\n",
    "    struct concept_t;\n",
    "    template <class F> struct model_t;\n",
    "\n",
    "    unique_ptr<concept_t> _model;\n",
    "public:\n",
    "    template <class F>\n",
    "    task(F&&); // <-- (1)\n",
    "\n",
    "    constexpr task() noexcept = default;\n",
    "\n",
    "    task(task&&) noexcept = default;\n",
    "    task& operator=(task&&) noexcept = default;\n",
    "\n",
    "    R operator()(Args...); // <-- (2)\n",
    "};\n",
    "\n",
    "} // namespace v1"
   ]
  },
  {
   "cell_type": "markdown",
   "id": "paperback-sense",
   "metadata": {
    "slideshow": {
     "slide_type": "slide"
    }
   },
   "source": [
    "- Cake in the oven..."
   ]
  },
  {
   "cell_type": "code",
   "execution_count": 23,
   "id": "synthetic-vatican",
   "metadata": {
    "execution": {
     "iopub.execute_input": "2021-06-28T16:55:42.626565Z",
     "iopub.status.busy": "2021-06-28T16:55:42.625903Z",
     "iopub.status.idle": "2021-06-28T16:55:42.627495Z",
     "shell.execute_reply": "2021-06-28T16:55:42.627085Z"
    },
    "slideshow": {
     "slide_type": "fragment"
    }
   },
   "outputs": [],
   "source": [
    "namespace v1 {\n",
    "\n",
    "template <class R, class... Args>\n",
    "struct task<R(Args...)>::concept_t {\n",
    "    virtual ~concept_t() = default; // <-- (1)\n",
    "    virtual R invoke_(Args...) = 0; // <-- (2)\n",
    "};\n",
    "\n",
    "} // namespace v1"
   ]
  },
  {
   "cell_type": "code",
   "execution_count": 24,
   "id": "yellow-princess",
   "metadata": {
    "execution": {
     "iopub.execute_input": "2021-06-28T16:55:42.629616Z",
     "iopub.status.busy": "2021-06-28T16:55:42.629062Z",
     "iopub.status.idle": "2021-06-28T16:55:42.630483Z",
     "shell.execute_reply": "2021-06-28T16:55:42.630116Z"
    },
    "slideshow": {
     "slide_type": "slide"
    }
   },
   "outputs": [],
   "source": [
    "namespace v1 {\n",
    "\n",
    "template <class R, class... Args>\n",
    "template <class F>\n",
    "struct task<R(Args...)>::model_t final : concept_t {\n",
    "    F _f;\n",
    "\n",
    "    template <class G = F>\n",
    "    model_t(G&& f) : _f{forward<G>(f)} {} // <-- (1)\n",
    "\n",
    "    R invoke_(Args... args) override { return invoke(_f, forward<Args>(args)...); } // <-- (2)\n",
    "};\n",
    "\n",
    "} // namespace v1"
   ]
  },
  {
   "cell_type": "code",
   "execution_count": 25,
   "id": "abstract-reducing",
   "metadata": {
    "execution": {
     "iopub.execute_input": "2021-06-28T16:55:42.632138Z",
     "iopub.status.busy": "2021-06-28T16:55:42.631787Z",
     "iopub.status.idle": "2021-06-28T16:55:42.632546Z",
     "shell.execute_reply": "2021-06-28T16:55:42.632849Z"
    },
    "slideshow": {
     "slide_type": "slide"
    }
   },
   "outputs": [],
   "source": [
    "namespace v1 {\n",
    "\n",
    "template <class R, class... Args>\n",
    "template <class F>\n",
    "task<R(Args...)>::task(F&& f) : _model{make_unique<model_t<decay_t<F>>>(forward<F>(f))} {}\n",
    "\n",
    "template <class R, class... Args>\n",
    "R task<R(Args...)>::operator()(Args... args) {\n",
    "    return _model->invoke_(forward<Args>(args)...);\n",
    "}\n",
    "\n",
    "} // namespace v1"
   ]
  },
  {
   "cell_type": "code",
   "execution_count": 26,
   "id": "necessary-minister",
   "metadata": {
    "execution": {
     "iopub.execute_input": "2021-06-28T16:55:42.634266Z",
     "iopub.status.busy": "2021-06-28T16:55:42.633888Z",
     "iopub.status.idle": "2021-06-28T16:55:42.691309Z",
     "shell.execute_reply": "2021-06-28T16:55:42.690591Z"
    }
   },
   "outputs": [
    {
     "name": "stdout",
     "output_type": "stream",
     "text": [
      "42\n",
      "1\n"
     ]
    }
   ],
   "source": [
    "{\n",
    "    using namespace v1;\n",
    "\n",
    "    auto p = make_unique<int>(42);\n",
    "\n",
    "    task<unique_ptr<int>()> payload{[_p = move(p)]() mutable { return move(_p); }};\n",
    "\n",
    "    cout << *payload() << \"\\n\";\n",
    "    cout << (payload() == nullptr) << \"\\n\";\n",
    "}"
   ]
  },
  {
   "cell_type": "markdown",
   "id": "liked-software",
   "metadata": {},
   "source": [
    "### Roll your own vtable\n",
    "\n",
    "- This implementation is using a `unique_ptr<>` instead of `shared_ptr<>`\n",
    "- We can reclaim the ability to copy by virtualizing copy\n",
    "- We can also implement a small-object optimization to avoid heap allocations\n",
    "    - To do so, we can implement our own vtable (and avoid RTTI overhead as a bonus)"
   ]
  },
  {
   "cell_type": "code",
   "execution_count": 27,
   "id": "broad-friday",
   "metadata": {
    "execution": {
     "iopub.execute_input": "2021-06-28T16:55:42.693480Z",
     "iopub.status.busy": "2021-06-28T16:55:42.692957Z",
     "iopub.status.idle": "2021-06-28T16:55:42.695486Z",
     "shell.execute_reply": "2021-06-28T16:55:42.694820Z"
    },
    "slideshow": {
     "slide_type": "slide"
    }
   },
   "outputs": [],
   "source": [
    "namespace v2 {\n",
    "\n",
    "template <class> class task;\n",
    "\n",
    "template <class R, class... Args>\n",
    "class task<R(Args...)> {\n",
    "    struct concept_t;\n",
    "    template <class F, bool Small> struct model_t;\n",
    "\n",
    "    static constexpr size_t max_align = alignof(max_align_t);\n",
    "    static constexpr size_t small_size =\n",
    "        max(max_align * 2, sizeof(void*) * 8) - max(max_align, sizeof(concept_t*));\n",
    "    static constexpr concept_t empty{[](void*) noexcept {}, [](void*, void*) noexcept {}};\n",
    "\n",
    "    const concept_t* _concept{&empty};\n",
    "    aligned_storage_t<small_size> _model;\n",
    "public:\n",
    "    template <class F>\n",
    "    task(F&&); // <-- (1)\n",
    "    ~task();   // <-- (2)\n",
    "\n",
    "    constexpr task() noexcept = default;\n",
    "    task(task&&) noexcept;            // <-- (3)\n",
    "    task& operator=(task&&) noexcept; // <-- (4)\n",
    "\n",
    "    R operator()(Args...); // <-- (5)\n",
    "};\n",
    "\n",
    "} // namespace v2"
   ]
  },
  {
   "cell_type": "code",
   "execution_count": 28,
   "id": "fancy-resident",
   "metadata": {
    "execution": {
     "iopub.execute_input": "2021-06-28T16:55:42.697826Z",
     "iopub.status.busy": "2021-06-28T16:55:42.697401Z",
     "iopub.status.idle": "2021-06-28T16:55:42.698214Z",
     "shell.execute_reply": "2021-06-28T16:55:42.698527Z"
    },
    "slideshow": {
     "slide_type": "slide"
    }
   },
   "outputs": [],
   "source": [
    "namespace v2 {\n",
    "\n",
    "template <class R, class... Args>\n",
    "struct task<R(Args...)>::concept_t {\n",
    "    void (*_dtor)(void*) noexcept; // <-- (2)\n",
    "    void (*_move)(void*, void*) noexcept; // <-- (3, 4)\n",
    "    R (*_invoke)(void*, Args&&...); // <-- (5)\n",
    "};\n",
    "\n",
    "} // namespace v2"
   ]
  },
  {
   "cell_type": "code",
   "execution_count": 29,
   "id": "entire-groove",
   "metadata": {
    "execution": {
     "iopub.execute_input": "2021-06-28T16:55:42.700131Z",
     "iopub.status.busy": "2021-06-28T16:55:42.699674Z",
     "iopub.status.idle": "2021-06-28T16:55:42.701437Z",
     "shell.execute_reply": "2021-06-28T16:55:42.701107Z"
    },
    "slideshow": {
     "slide_type": "slide"
    }
   },
   "outputs": [],
   "source": [
    "namespace v2 {\n",
    "\n",
    "template <class R, class... Args>\n",
    "template <class F>\n",
    "struct task<R(Args...)>::model_t<F, true> {\n",
    "    template <class G>\n",
    "    model_t(G&& f) : _f(forward<G>(f)) {}\n",
    "\n",
    "    static void _dtor(void* self) noexcept { static_cast<model_t*>(self)->~model_t(); }\n",
    "    static void _move(void* self, void* p) noexcept {\n",
    "        new (p) model_t(move(*static_cast<model_t*>(self)));\n",
    "    }\n",
    "    static R _invoke(void* self, Args&&... args) {\n",
    "        return invoke(static_cast<model_t*>(self)->_f, forward<Args>(args)...);\n",
    "    }\n",
    "\n",
    "    static constexpr concept_t vtable{_dtor, _move, _invoke};\n",
    "\n",
    "    F _f;\n",
    "};\n",
    "\n",
    "} // namespace v2"
   ]
  },
  {
   "cell_type": "code",
   "execution_count": 30,
   "id": "healthy-assets",
   "metadata": {
    "execution": {
     "iopub.execute_input": "2021-06-28T16:55:42.703250Z",
     "iopub.status.busy": "2021-06-28T16:55:42.702853Z",
     "iopub.status.idle": "2021-06-28T16:55:42.703644Z",
     "shell.execute_reply": "2021-06-28T16:55:42.703958Z"
    },
    "slideshow": {
     "slide_type": "slide"
    }
   },
   "outputs": [],
   "source": [
    "namespace v2 {\n",
    "\n",
    "template <class R, class... Args>\n",
    "template <class F>\n",
    "struct task<R(Args...)>::model_t<F, false> {\n",
    "    template <class G>\n",
    "    model_t(G&& f) : _p(make_unique<F>(forward<F>(f))) {}\n",
    "\n",
    "    static void _dtor(void* self) noexcept { static_cast<model_t*>(self)->~model_t(); }\n",
    "    static void _move(void* self, void* p) noexcept {\n",
    "        new (p) model_t(move(*static_cast<model_t*>(self)));\n",
    "    }\n",
    "    static R _invoke(void* self, Args&&... args) {\n",
    "        return invoke(*static_cast<model_t*>(self)->_p, forward<Args>(args)...);\n",
    "    }\n",
    "\n",
    "    static constexpr concept_t vtable{_dtor, _move, _invoke};\n",
    "\n",
    "    unique_ptr<F> _p;\n",
    "};\n",
    "\n",
    "} // namespace v2"
   ]
  },
  {
   "cell_type": "code",
   "execution_count": 31,
   "id": "chinese-findings",
   "metadata": {
    "execution": {
     "iopub.execute_input": "2021-06-28T16:55:42.705621Z",
     "iopub.status.busy": "2021-06-28T16:55:42.705262Z",
     "iopub.status.idle": "2021-06-28T16:55:42.705994Z",
     "shell.execute_reply": "2021-06-28T16:55:42.706318Z"
    },
    "slideshow": {
     "slide_type": "slide"
    }
   },
   "outputs": [],
   "source": [
    "namespace v2 {\n",
    "\n",
    "template <class R, class... Args>\n",
    "template <class F>\n",
    "task<R(Args...)>::task(F&& f) { // <-- (1)\n",
    "    using small_t = model_t<decay_t<F>, true>;\n",
    "    using large_t = model_t<decay_t<F>, false>;\n",
    "    using model_type = conditional_t<(sizeof(small_t) <= small_size) &&\n",
    "                                         (alignof(small_t) <= alignof(decltype(_model))),\n",
    "                                     small_t, large_t>;\n",
    "\n",
    "    new (&_model) model_type(forward<F>(f));\n",
    "    _concept = &model_type::vtable;\n",
    "}\n",
    "\n",
    "template <class R, class... Args>\n",
    "task<R(Args...)>::~task() { // <-- (2)\n",
    "    _concept->_dtor(&_model);\n",
    "}\n",
    "\n",
    "} // namespace v2"
   ]
  },
  {
   "cell_type": "code",
   "execution_count": 32,
   "id": "genetic-payroll",
   "metadata": {
    "execution": {
     "iopub.execute_input": "2021-06-28T16:55:42.707748Z",
     "iopub.status.busy": "2021-06-28T16:55:42.707418Z",
     "iopub.status.idle": "2021-06-28T16:55:42.708092Z",
     "shell.execute_reply": "2021-06-28T16:55:42.708393Z"
    },
    "slideshow": {
     "slide_type": "slide"
    }
   },
   "outputs": [],
   "source": [
    "namespace v2 {\n",
    "\n",
    "template <class R, class... Args>\n",
    "task<R(Args...)>::task(task&& x) noexcept : _concept{x._concept} { // <-- (3)\n",
    "    _concept->_move(&x._model, &_model);\n",
    "}\n",
    "\n",
    "template <class R, class... Args>\n",
    "auto task<R(Args...)>::operator=(task&& x) noexcept -> task& { // <-- (4)\n",
    "    if (this == &x) return *this;\n",
    "    _concept->_dtor(&_model);\n",
    "    _concept = x._concept;\n",
    "    _concept->_move(&x._model, &_model);\n",
    "    return *this;\n",
    "}\n",
    "\n",
    "template <class R, class... Args>\n",
    "R task<R(Args...)>::operator()(Args... args) { // <-- (5)\n",
    "    return _concept->_invoke(&_model, forward<Args>(args)...);\n",
    "}\n",
    "\n",
    "} // namespace v2"
   ]
  },
  {
   "cell_type": "code",
   "execution_count": 33,
   "id": "fabulous-emission",
   "metadata": {
    "execution": {
     "iopub.execute_input": "2021-06-28T16:55:42.709782Z",
     "iopub.status.busy": "2021-06-28T16:55:42.709458Z",
     "iopub.status.idle": "2021-06-28T16:55:43.027969Z",
     "shell.execute_reply": "2021-06-28T16:55:43.027001Z"
    },
    "slideshow": {
     "slide_type": "slide"
    }
   },
   "outputs": [
    {
     "data": {
      "text/plain": [
       "42"
      ]
     },
     "metadata": {},
     "output_type": "display_data"
    },
    {
     "data": {
      "text/plain": [
       "true"
      ]
     },
     "metadata": {},
     "output_type": "display_data"
    }
   ],
   "source": [
    "{\n",
    "    using namespace v2;\n",
    "\n",
    "    auto p = make_unique<int>(42);\n",
    "\n",
    "    task<unique_ptr<int>()> payload{[_p = move(p)]() mutable { return move(_p); }};\n",
    "        \n",
    "    display(*payload());\n",
    "    display(payload() == nullptr);\n",
    "}"
   ]
  },
  {
   "cell_type": "markdown",
   "id": "comprehensive-coordinate",
   "metadata": {
    "slideshow": {
     "slide_type": "slide"
    }
   },
   "source": [
    "<center>\n",
    "    <img src='img/05-runtime-polymorphism-hand-vtable.svg' alt='Document Structure'>\n",
    "    <br>\n",
    "    <em>Document with Custom vTable</em>\n",
    "</center>"
   ]
  },
  {
   "cell_type": "code",
   "execution_count": null,
   "id": "dedicated-disco",
   "metadata": {},
   "outputs": [],
   "source": []
  },
  {
   "cell_type": "markdown",
   "id": "fantastic-arkansas",
   "metadata": {
    "slideshow": {
     "slide_type": "skip"
    }
   },
   "source": [
    "[\n",
    "    optional tagged constructor for ADL\n",
    "]"
   ]
  }
 ],
 "metadata": {
  "jupytext": {
   "formats": "ipynb,md"
  },
  "kernelspec": {
   "display_name": "C++17",
   "language": "C++17",
   "name": "xcpp17"
  },
  "language_info": {
   "codemirror_mode": "text/x-c++src",
   "file_extension": ".cpp",
   "mimetype": "text/x-c++src",
   "name": "c++",
   "version": "17"
  }
 },
 "nbformat": 4,
 "nbformat_minor": 5
}

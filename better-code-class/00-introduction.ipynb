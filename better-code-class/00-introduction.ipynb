{
 "cells": [
  {
   "cell_type": "code",
   "execution_count": 1,
   "id": "alert-tension",
   "metadata": {
    "execution": {
     "iopub.execute_input": "2021-06-28T16:54:51.892998Z",
     "iopub.status.busy": "2021-06-28T16:54:51.892503Z",
     "iopub.status.idle": "2021-06-28T16:54:51.979263Z",
     "shell.execute_reply": "2021-06-28T16:54:51.978846Z"
    },
    "slideshow": {
     "slide_type": "skip"
    }
   },
   "outputs": [],
   "source": [
    "#include \"../common.hpp\""
   ]
  },
  {
   "cell_type": "markdown",
   "id": "likely-primary",
   "metadata": {
    "slideshow": {
     "slide_type": "slide"
    }
   },
   "source": [
    "# Better Code Workshop : Sean Parent"
   ]
  },
  {
   "cell_type": "markdown",
   "id": "encouraging-orchestra",
   "metadata": {
    "slideshow": {
     "slide_type": "slide"
    }
   },
   "source": [
    "# Introduction\n",
    "\n",
    "> _Engineering_ is making informed trade-offs to find the best solution given a set of constraints."
   ]
  },
  {
   "cell_type": "markdown",
   "id": "fallen-partner",
   "metadata": {
    "slideshow": {
     "slide_type": "fragment"
    },
    "tags": []
   },
   "source": [
    "My hope is that this workshop is generally applicable, but my experience colors the choices I've made."
   ]
  },
  {
   "cell_type": "markdown",
   "id": "organic-richards",
   "metadata": {
    "slideshow": {
     "slide_type": "slide"
    }
   },
   "source": [
    "## Career Background"
   ]
  },
  {
   "cell_type": "markdown",
   "id": "progressive-relationship",
   "metadata": {
    "slideshow": {
     "slide_type": "slide"
    }
   },
   "source": [
    "## Demo"
   ]
  },
  {
   "cell_type": "markdown",
   "id": "banner-indicator",
   "metadata": {
    "slideshow": {
     "slide_type": "slide"
    }
   },
   "source": [
    "## Course Outline\n",
    "\n",
    "- Introduction\n",
    "- Preface\n",
    "- Types - Goal: Write _complete_, _expressive_, and _efficient_ types\n",
    "- Algorithms - Goal: No _raw loops_\n",
    "- Data Structures - Goal: No _incidental data structures_\n",
    "- Runtime Polymorphism - Goal: No _raw pointers_\n",
    "- Concurrency - Goal: No _raw synchronization primitives_\n",
    "- Relationships - Goal: No contradictions\n",
    "- Epilogue"
   ]
  },
  {
   "cell_type": "markdown",
   "id": "overall-ecuador",
   "metadata": {
    "slideshow": {
     "slide_type": "slide"
    }
   },
   "source": [
    "## Materials\n",
    "\n",
    "- Slides: https://sean-parent.stlab.cc/notebook\n",
    "- Exercises: https://github.com/sean-parent/better-code-class"
   ]
  },
  {
   "cell_type": "markdown",
   "id": "defensive-increase",
   "metadata": {
    "slideshow": {
     "slide_type": "slide"
    },
    "tags": []
   },
   "source": [
    "## Use of Jupyter w/Xeus-Cling"
   ]
  },
  {
   "cell_type": "markdown",
   "id": "technical-norway",
   "metadata": {
    "slideshow": {
     "slide_type": "slide"
    },
    "tags": []
   },
   "source": [
    "- Currently limited to C++17\n",
    "    - I will provide some C++20 examples\n",
    "- `using std;` is implied\n",
    "- Definitions wrapped in a `namespace`\n",
    "- Namespaces are often versions so I can refine implementations"
   ]
  },
  {
   "cell_type": "code",
   "execution_count": 2,
   "id": "married-expansion",
   "metadata": {
    "execution": {
     "iopub.execute_input": "2021-06-28T16:54:51.981348Z",
     "iopub.status.busy": "2021-06-28T16:54:51.980926Z",
     "iopub.status.idle": "2021-06-28T16:54:51.982286Z",
     "shell.execute_reply": "2021-06-28T16:54:51.981932Z"
    },
    "lines_to_next_cell": 2,
    "slideshow": {
     "slide_type": "fragment"
    },
    "tags": []
   },
   "outputs": [],
   "source": [
    "namespace v0 {\n",
    "    \n",
    "int f() { return 42; }\n",
    "    \n",
    "} // namespace v0"
   ]
  },
  {
   "cell_type": "markdown",
   "id": "canadian-residence",
   "metadata": {
    "slideshow": {
     "slide_type": "slide"
    },
    "tags": []
   },
   "source": [
    "- Often code is wrapped in a scope so it doesn't interfere with other code\n",
    "- If the last line doesn't have a semi-colon it is displayed\n",
    "    - calling `display(value);` has the same effect"
   ]
  },
  {
   "cell_type": "code",
   "execution_count": 3,
   "id": "verified-manual",
   "metadata": {
    "execution": {
     "iopub.execute_input": "2021-06-28T16:54:51.983746Z",
     "iopub.status.busy": "2021-06-28T16:54:51.983385Z",
     "iopub.status.idle": "2021-06-28T16:54:52.318886Z",
     "shell.execute_reply": "2021-06-28T16:54:52.317935Z"
    },
    "slideshow": {
     "slide_type": "fragment"
    },
    "tags": []
   },
   "outputs": [
    {
     "data": {
      "text/plain": [
       "42"
      ]
     },
     "execution_count": 3,
     "metadata": {},
     "output_type": "execute_result"
    }
   ],
   "source": [
    "v0::f()"
   ]
  },
  {
   "cell_type": "code",
   "execution_count": 4,
   "id": "indirect-doctor",
   "metadata": {
    "execution": {
     "iopub.execute_input": "2021-06-28T16:54:52.320837Z",
     "iopub.status.busy": "2021-06-28T16:54:52.320080Z",
     "iopub.status.idle": "2021-06-28T16:54:52.593150Z",
     "shell.execute_reply": "2021-06-28T16:54:52.592864Z"
    },
    "slideshow": {
     "slide_type": "fragment"
    },
    "tags": []
   },
   "outputs": [
    {
     "data": {
      "text/plain": [
       "42"
      ]
     },
     "metadata": {},
     "output_type": "display_data"
    }
   ],
   "source": [
    "{\n",
    "    using namespace v0;\n",
    "    \n",
    "    display(f());\n",
    "}"
   ]
  },
  {
   "cell_type": "markdown",
   "id": "political-victor",
   "metadata": {
    "slideshow": {
     "slide_type": "slide"
    },
    "tags": []
   },
   "source": [
    "- Operations can be timed with `%%timeit`\n",
    "    - This is not a substitute for benchmarks but gives some information to compare"
   ]
  },
  {
   "cell_type": "code",
   "execution_count": 5,
   "id": "double-tucson",
   "metadata": {
    "execution": {
     "iopub.execute_input": "2021-06-28T16:54:52.595301Z",
     "iopub.status.busy": "2021-06-28T16:54:52.594603Z",
     "iopub.status.idle": "2021-06-28T16:54:54.650107Z",
     "shell.execute_reply": "2021-06-28T16:54:54.649825Z"
    },
    "slideshow": {
     "slide_type": "fragment"
    },
    "tags": []
   },
   "outputs": [
    {
     "name": "stdout",
     "output_type": "stream",
     "text": [
      "222 ns +- 6.21 ns per loop (mean +- std. dev. of 7 runs 1000000 loops each)\n"
     ]
    }
   ],
   "source": [
    "%%timeit\n",
    "{\n",
    "    int a[] = { 9, 8, 7, 6, 5, 4, 3, 2, 1, 0 };\n",
    "    sort(begin(a), end(a));\n",
    "}"
   ]
  },
  {
   "cell_type": "markdown",
   "id": "reliable-muslim",
   "metadata": {
    "slideshow": {
     "slide_type": "slide"
    }
   },
   "source": [
    "- I use an `annotate` class which prints common operations"
   ]
  },
  {
   "cell_type": "code",
   "execution_count": 6,
   "id": "standard-joseph",
   "metadata": {
    "execution": {
     "iopub.execute_input": "2021-06-28T16:54:54.652614Z",
     "iopub.status.busy": "2021-06-28T16:54:54.651798Z",
     "iopub.status.idle": "2021-06-28T16:54:54.660909Z",
     "shell.execute_reply": "2021-06-28T16:54:54.658933Z"
    },
    "slideshow": {
     "slide_type": "fragment"
    }
   },
   "outputs": [
    {
     "name": "stdout",
     "output_type": "stream",
     "text": [
      "annotate ctor\n"
     ]
    },
    {
     "name": "stdout",
     "output_type": "stream",
     "text": [
      "annotate ctor\n"
     ]
    },
    {
     "name": "stdout",
     "output_type": "stream",
     "text": [
      "annotate assign\n"
     ]
    },
    {
     "name": "stdout",
     "output_type": "stream",
     "text": [
      "annotate move-assign\n"
     ]
    },
    {
     "name": "stdout",
     "output_type": "stream",
     "text": [
      "annotate dtor\n"
     ]
    },
    {
     "name": "stdout",
     "output_type": "stream",
     "text": [
      "annotate dtor\n"
     ]
    }
   ],
   "source": [
    "{\n",
    "    annotate a;\n",
    "    annotate b;\n",
    "    a = b;\n",
    "    a = move(b);\n",
    "}"
   ]
  },
  {
   "cell_type": "markdown",
   "id": "enabling-duplicate",
   "metadata": {
    "slideshow": {
     "slide_type": "skip"
    }
   },
   "source": [
    "Story Arc -\n",
    "- Types - task\n",
    "- Algorithms - heaps\n",
    "- Data structure - priority queue, queue\n",
    "- Concurrency - timer tasks, sequential process\n",
    "- Relationship (rename architecture?) - declarative flow graph?"
   ]
  }
 ],
 "metadata": {
  "jupytext": {
   "formats": "ipynb,md"
  },
  "kernelspec": {
   "display_name": "C++17",
   "language": "C++17",
   "name": "xcpp17"
  },
  "language_info": {
   "codemirror_mode": "text/x-c++src",
   "file_extension": ".cpp",
   "mimetype": "text/x-c++src",
   "name": "c++",
   "version": "17"
  }
 },
 "nbformat": 4,
 "nbformat_minor": 5
}

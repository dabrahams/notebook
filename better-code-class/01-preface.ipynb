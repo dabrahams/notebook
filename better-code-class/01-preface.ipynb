{
 "cells": [
  {
   "cell_type": "code",
   "execution_count": 1,
   "id": "correct-boards",
   "metadata": {
    "execution": {
     "iopub.execute_input": "2021-06-28T16:54:56.474868Z",
     "iopub.status.busy": "2021-06-28T16:54:56.474314Z",
     "iopub.status.idle": "2021-06-28T16:54:56.561245Z",
     "shell.execute_reply": "2021-06-28T16:54:56.560852Z"
    },
    "slideshow": {
     "slide_type": "skip"
    }
   },
   "outputs": [],
   "source": [
    "#include \"../common.hpp\""
   ]
  },
  {
   "cell_type": "markdown",
   "id": "sixth-designer",
   "metadata": {
    "slideshow": {
     "slide_type": "slide"
    }
   },
   "source": [
    "# Preface\n",
    "\n",
    "- What is _better code_?"
   ]
  },
  {
   "cell_type": "markdown",
   "id": "interesting-amplifier",
   "metadata": {
    "slideshow": {
     "slide_type": "fragment"
    }
   },
   "source": [
    "- What is _good code_?"
   ]
  },
  {
   "cell_type": "markdown",
   "id": "official-pierce",
   "metadata": {
    "slideshow": {
     "slide_type": "fragment"
    }
   },
   "source": [
    "- Goals:\n",
    "    - Not prescriptive\n",
    "    - Not always achievable"
   ]
  },
  {
   "cell_type": "markdown",
   "id": "signed-acoustic",
   "metadata": {
    "slideshow": {
     "slide_type": "fragment"
    }
   },
   "source": [
    "- Not limited to C++\n",
    "- Language is a constraint"
   ]
  },
  {
   "cell_type": "markdown",
   "id": "centered-gabriel",
   "metadata": {
    "slideshow": {
     "slide_type": "slide"
    },
    "tags": []
   },
   "source": [
    "## Definitions\n",
    "The term _raw_ appears in a couple of goals, and I'll use it frequently throughout this talk.\n",
    "\n",
    "> The _raw_ usage of a construct means the construct should be considered too low-level and not used outside of a function or class whose primary purpose it to create a safe and efficient, higher level construct that can be used instead."
   ]
  },
  {
   "cell_type": "markdown",
   "id": "encouraging-veteran",
   "metadata": {
    "slideshow": {
     "slide_type": "fragment"
    }
   },
   "source": [
    "Throughout these slides I use _word_ to mean a machine word, typically 64 bits on a 64 bit architecture and 32 bits on a 32 bit architecture. I do not mean a Win32 `WORD` type which is 16 bits."
   ]
  },
  {
   "cell_type": "markdown",
   "id": "christian-lewis",
   "metadata": {
    "slideshow": {
     "slide_type": "slide"
    }
   },
   "source": [
    "## Philosophy\n",
    "\n",
    "- _Correct_\n",
    "- _Efficient_\n",
    "    - On a wide variety of consumer and enterprise hardware\n",
    "    - Balance CPU/GPU/ML/Memory/Storage/Power resources\n",
    "- _Reusable_\n",
    "- _Scalable_\n",
    "    - With large data sets, but primarily on a single machine"
   ]
  },
  {
   "cell_type": "markdown",
   "id": "boxed-rebate",
   "metadata": {
    "slideshow": {
     "slide_type": "notes"
    },
    "tags": []
   },
   "source": [
    "**Note:** What is not on this list:\n",
    "- Readable: Not that I don't think readability is important, I think people put it too high on the list. Code isn't prose, code is math."
   ]
  },
  {
   "cell_type": "markdown",
   "id": "temporal-ordering",
   "metadata": {
    "slideshow": {
     "slide_type": "slide"
    }
   },
   "source": [
    "### Software is _Physics_\n",
    "\n",
    "- Object are physical entities\n",
    "- The building block for modern computers is the transistor\n",
    "    - A transistor is simply an electronically controlled switch, similar to a relay but without moving parts"
   ]
  },
  {
   "cell_type": "markdown",
   "id": "mobile-poetry",
   "metadata": {
    "slideshow": {
     "slide_type": "slide"
    }
   },
   "source": [
    "<center>\n",
    "    <img src='img/relay.svg' alt='Relay'>\n",
    "    <br>\n",
    "    <em>Relay</em>\n",
    "</center>"
   ]
  },
  {
   "cell_type": "markdown",
   "id": "weird-words",
   "metadata": {
    "slideshow": {
     "slide_type": "slide"
    }
   },
   "source": [
    "- To build a transistor, silicon is doped with a material such as Boron and Phosphorus\n",
    "    - Silicon + Boron = P, fewer electrons, insulator \n",
    "    - Silicon + Phosphorus = N, has _free_ electrons, conductive"
   ]
  },
  {
   "cell_type": "markdown",
   "id": "smaller-castle",
   "metadata": {
    "slideshow": {
     "slide_type": "fragment"
    }
   },
   "source": [
    "<center>\n",
    "    <img src='img/transistor-silicon.svg' alt='Transistor Construction'>\n",
    "    <br>\n",
    "    <em>Transistor Construction</em>\n",
    "</center>"
   ]
  },
  {
   "cell_type": "markdown",
   "id": "juvenile-lewis",
   "metadata": {
    "slideshow": {
     "slide_type": "slide"
    }
   },
   "source": [
    "- We can make a NAND gate by combining two transistors"
   ]
  },
  {
   "cell_type": "markdown",
   "id": "hungry-vaccine",
   "metadata": {
    "slideshow": {
     "slide_type": "fragment"
    }
   },
   "source": [
    "<center>\n",
    "    <img src='img/nand-gate.svg' alt='NAND Gate'>\n",
    "    <br>\n",
    "    <em>NAND Gate</em>\n",
    "</center>"
   ]
  },
  {
   "cell_type": "markdown",
   "id": "administrative-planet",
   "metadata": {
    "slideshow": {
     "slide_type": "slide"
    }
   },
   "source": [
    "- A transistor is fast, but not infinitely fast, so we need a clock to delineate _which_ `A` and `B` the result applies to"
   ]
  },
  {
   "cell_type": "markdown",
   "id": "needed-lexington",
   "metadata": {
    "slideshow": {
     "slide_type": "fragment"
    }
   },
   "source": [
    "<center>\n",
    "    <img src='img/cmos-nand-gate.svg' alt='CMOS NAND Gate' style='width:25%;height:25%'>\n",
    "    <br>\n",
    "    <em>CMOS NAND Gate</em>\n",
    "</center>"
   ]
  },
  {
   "cell_type": "markdown",
   "id": "printable-demographic",
   "metadata": {
    "slideshow": {
     "slide_type": "slide"
    }
   },
   "source": [
    "- Combining two NAND gates with feedback creates a _sequential circuit_ and a simple memory cell, an SR latch"
   ]
  },
  {
   "cell_type": "markdown",
   "id": "rubber-dealer",
   "metadata": {
    "slideshow": {
     "slide_type": "fragment"
    }
   },
   "source": [
    "<center>\n",
    "    <img src='img/sr-latch.svg' alt='SR Latch'>\n",
    "    <br>\n",
    "    <em>SR Latch</em>\n",
    "</center>"
   ]
  },
  {
   "cell_type": "markdown",
   "id": "quiet-record",
   "metadata": {
    "slideshow": {
     "slide_type": "slide"
    }
   },
   "source": [
    "- Combining SR Latches we can create a register"
   ]
  },
  {
   "cell_type": "markdown",
   "id": "adapted-emperor",
   "metadata": {
    "slideshow": {
     "slide_type": "fragment"
    }
   },
   "source": [
    "<center>\n",
    "    <img src='img/register.svg' alt='Register'>\n",
    "    <br>\n",
    "    <em>Register</em>\n",
    "</center>"
   ]
  },
  {
   "cell_type": "markdown",
   "id": "wrong-hotel",
   "metadata": {
    "slideshow": {
     "slide_type": "slide"
    }
   },
   "source": [
    "- By combining transistors with a clock to form sequential circuits we can make both memory and a processor\n",
    "    - A modern CPU contains billions of transistors"
   ]
  },
  {
   "cell_type": "markdown",
   "id": "located-scoop",
   "metadata": {
    "slideshow": {
     "slide_type": "fragment"
    }
   },
   "source": [
    "- The transistor count increases complexity\n",
    "    - Memory hierarchy\n",
    "    - Parallel execution\n",
    "    - Speculative execution\n",
    "    - Branch prediction"
   ]
  },
  {
   "cell_type": "markdown",
   "id": "acceptable-phrase",
   "metadata": {
    "slideshow": {
     "slide_type": "fragment"
    }
   },
   "source": [
    "- The fundamental physics don't change, for performance we want:\n",
    "    - Simple operations\n",
    "    - Executed sequentially\n",
    "    - Operating on memory _near_ the processor"
   ]
  },
  {
   "cell_type": "markdown",
   "id": "independent-boulder",
   "metadata": {
    "slideshow": {
     "slide_type": "slide"
    }
   },
   "source": [
    "### Software is _Mathematics_"
   ]
  },
  {
   "cell_type": "markdown",
   "id": "given-membrane",
   "metadata": {
    "slideshow": {
     "slide_type": "fragment"
    }
   },
   "source": [
    "- Not _pure_ mathematics\n",
    "    - We are not describing systems on an idealized device that cannot be realized\n",
    "    \n",
    "- Mathematics is a tool to describe what _is_ and a tool to reason about code\n",
    "    \n",
    "- Software is defined on algebraic structures"
   ]
  }
 ],
 "metadata": {
  "jupytext": {
   "formats": "ipynb,md"
  },
  "kernelspec": {
   "display_name": "C++17",
   "language": "C++17",
   "name": "xcpp17"
  },
  "language_info": {
   "codemirror_mode": "text/x-c++src",
   "file_extension": ".cpp",
   "mimetype": "text/x-c++src",
   "name": "c++",
   "version": "17"
  }
 },
 "nbformat": 4,
 "nbformat_minor": 5
}

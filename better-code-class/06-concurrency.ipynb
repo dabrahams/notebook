{
 "cells": [
  {
   "cell_type": "markdown",
   "id": "plastic-plenty",
   "metadata": {
    "slideshow": {
     "slide_type": "slide"
    },
    "tags": []
   },
   "source": [
    "# Concurrency\n",
    "\n",
    "**Goal: No _raw_ synchronization**\n",
    "\n",
    "## Definitions\n",
    "\n",
    "> _Concurrency_ is when tasks start, run, and complete in overlapping time periods\n",
    "\n",
    "> _Parallelism_ is when two or more tasks execute simultaneously\n",
    "\n",
    "- Threads enable concurrency\n",
    "- Processor cores enable parallelism"
   ]
  },
  {
   "cell_type": "markdown",
   "id": "obvious-orbit",
   "metadata": {
    "slideshow": {
     "slide_type": "slide"
    },
    "tags": []
   },
   "source": [
    "## Motivation\n",
    "\n",
    "- Better performance can be achieved through parallelism\n",
    "- Better interactivity, and reduced latency, can be achieved through concurrency"
   ]
  },
  {
   "cell_type": "markdown",
   "id": "formal-alert",
   "metadata": {
    "slideshow": {
     "slide_type": "slide"
    },
    "tags": []
   },
   "source": [
    "<center>\n",
    "    <img src='img/mips.svg' alt='GFlops in the machine' style='width:50%;height:50%;'>\n",
    "    <br>\n",
    "    <em>GFlops in the machine</em>\n",
    "</center>"
   ]
  },
  {
   "cell_type": "markdown",
   "id": "cooked-settlement",
   "metadata": {
    "slideshow": {
     "slide_type": "slide"
    },
    "tags": []
   },
   "source": [
    "## Challenge\n",
    "\n",
    "_Amdahl's Law_ provides an equation that limits the speedup that can be expected based on how much of our application is serialized.\n",
    "\n",
    "$$ S_{latency}(s) = { 1 \\over{(1 - p) + {p \\over{s}}}} $$\n",
    "\n",
    "Where:\n",
    "- $S_{latency}$ is the theoretical speedup of the execution of the whole task;\n",
    "- $s$ is the speedup of the part of the task that benefits from improved system resources;\n",
    "- $p$ is the proportion of execution time that the part benefiting from improved resources originally occupied.\n",
    "\n",
    "Amdahl's Law tells us the limit we can speed up any application is bounded by $1 \\over{1 - p}$.\n"
   ]
  },
  {
   "cell_type": "markdown",
   "id": "described-coverage",
   "metadata": {
    "slideshow": {
     "slide_type": "slide"
    },
    "tags": []
   },
   "source": [
    "<center>\n",
    "    <img src='img/AmdahlsLaw.svg' alt='Amdahl\\'s Law' style='width:50%;height:50%;'>\n",
    "    <br>\n",
    "    <em>Amdahl's Law</em> <br>\n",
    "    <small>&mdash; By <a href=\"https://en.wikipedia.org/wiki/User:Daniels220\" class=\"extiw\" title=\"wikipedia:User:Daniels220\">Daniels220</a> at <a href=\"https://en.wikipedia.org/wiki/\" class=\"extiw\" title=\"wikipedia:\">English Wikipedia</a>, <a href=\"https://creativecommons.org/licenses/by-sa/3.0\" title=\"Creative Commons Attribution-Share Alike 3.0\">CC BY-SA 3.0</a>, <a href=\"https://commons.wikimedia.org/w/index.php?curid=6678551\">Link</a></small>\n",
    "</center>"
   ]
  },
  {
   "cell_type": "markdown",
   "id": "responsible-sunglasses",
   "metadata": {
    "slideshow": {
     "slide_type": "slide"
    },
    "tags": []
   },
   "source": [
    "<center>\n",
    "    <img src='img/amdahls-law-linear.svg' alt='Amdahl\\'s Law Linear Scale' style='width:40%;height:40%;'>\n",
    "    <br>\n",
    "    <em>Amdahl's Law, Linear Scale</em><br>\n",
    "    Each line represents 10% more synchronization\n",
    "</center>"
   ]
  },
  {
   "cell_type": "markdown",
   "id": "descending-selling",
   "metadata": {
    "slideshow": {
     "slide_type": "slide"
    },
    "tags": []
   },
   "source": [
    "## Synchronization Primitives\n",
    "\n",
    "- Atomics\n",
    "- Mutex\n",
    "- Lock\n",
    "- Condition Variable\n",
    "- Semaphore\n",
    "- Memory Fence"
   ]
  },
  {
   "cell_type": "markdown",
   "id": "driving-investor",
   "metadata": {},
   "source": [
    "- All of these are explicit synchronization points\n",
    "- All run the risk of misuse causing _race_ errors or deadlocks"
   ]
  },
  {
   "cell_type": "markdown",
   "id": "quality-tsunami",
   "metadata": {
    "slideshow": {
     "slide_type": "skip"
    },
    "tags": []
   },
   "source": [
    "_\\[The following cell is an iframe for an [ithare infographic](http://ithare.com/infographics-operation-costs-in-cpu-clock-cycles/)\\]_"
   ]
  },
  {
   "cell_type": "markdown",
   "id": "developing-worthy",
   "metadata": {
    "slideshow": {
     "slide_type": "slide"
    },
    "tags": []
   },
   "source": [
    "<section>\n",
    "<iframe data-src='http://ithare.com/infographics-operation-costs-in-cpu-clock-cycles/'></iframe>\n",
    "</section>"
   ]
  }
 ],
 "metadata": {
  "jupytext": {
   "formats": "ipynb,md"
  },
  "kernelspec": {
   "display_name": "C++17",
   "language": "C++17",
   "name": "xcpp17"
  },
  "language_info": {
   "codemirror_mode": "text/x-c++src",
   "file_extension": ".cpp",
   "mimetype": "text/x-c++src",
   "name": "c++",
   "version": "17"
  }
 },
 "nbformat": 4,
 "nbformat_minor": 5
}

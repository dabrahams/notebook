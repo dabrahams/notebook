{
 "cells": [
  {
   "cell_type": "code",
   "execution_count": 1,
   "id": "fiscal-problem",
   "metadata": {
    "execution": {
     "iopub.execute_input": "2021-06-28T16:54:58.486481Z",
     "iopub.status.busy": "2021-06-28T16:54:58.485811Z",
     "iopub.status.idle": "2021-06-28T16:54:58.572284Z",
     "shell.execute_reply": "2021-06-28T16:54:58.571903Z"
    },
    "slideshow": {
     "slide_type": "skip"
    }
   },
   "outputs": [],
   "source": [
    "#include \"../common.hpp\""
   ]
  },
  {
   "cell_type": "markdown",
   "id": "accessory-column",
   "metadata": {
    "slideshow": {
     "slide_type": "slide"
    }
   },
   "source": [
    "# Types\n",
    "\n",
    "**Goal: Write _complete_, _expressive_, and _efficient_ types**"
   ]
  },
  {
   "cell_type": "markdown",
   "id": "tough-painting",
   "metadata": {
    "slideshow": {
     "slide_type": "fragment"
    }
   },
   "source": [
    "> A _type_ is a pattern for storing and modifying objects.\n",
    "\n",
    "- In C++, `struct` and `class` are mechanisms for implementing types but can also be used for other purposes\n",
    "    - Example: as a mechanism to execute a function at the end of a scope\n",
    "- I use _type_ to mean _type_ as well as the mechanisms for implementing types in C++ interchangeably"
   ]
  },
  {
   "cell_type": "markdown",
   "id": "stupid-lightning",
   "metadata": {
    "slideshow": {
     "slide_type": "slide"
    }
   },
   "source": [
    "> An _object_ is a representation of an entity as a value in memory.\n",
    "\n",
    "- An object is a _physical_ entity, and as such, is imbued with a set of properties\n",
    "  - size\n",
    "  - address"
   ]
  },
  {
   "cell_type": "markdown",
   "id": "outside-metropolitan",
   "metadata": {
    "slideshow": {
     "slide_type": "fragment"
    }
   },
   "source": [
    "- All types have common, _basis_, operations\n",
    "  - constructible\n",
    "  - destructible\n",
    "  - copyable<sup>1</sup>\n",
    "  - equality comparable<sup>1</sup>\n",
    "\n",
    "- <sup>1</sup>Well defined, but may be problematic to implement"
   ]
  },
  {
   "cell_type": "markdown",
   "id": "ultimate-methodology",
   "metadata": {
    "slideshow": {
     "slide_type": "slide"
    }
   },
   "source": [
    "> The _computational basis_ for a type is a finite set of procedures that enable the construction of any other procedure on the type\n",
    "\n",
    "- A type which implements a _computational basis_ is _computationally complete_"
   ]
  },
  {
   "cell_type": "markdown",
   "id": "wooden-charlotte",
   "metadata": {
    "slideshow": {
     "slide_type": "slide"
    }
   },
   "source": [
    "## Regular\n",
    "\n",
    "> There is a set of procedures whose inclusion in the computational basis of a type lets us place objects in data structures and use algorithms to _copy objects_ from one data structure to another. We call types having such a basis _regular_ since their use guarantees regularity of behavior and, therefore, interoperability. <br>\n",
    "<p style='text-align:right;'><small>&mdash; <em>(Stepanov & McJones 6)</em></small></p>"
   ]
  },
  {
   "cell_type": "markdown",
   "id": "graphic-glass",
   "metadata": {
    "slideshow": {
     "slide_type": "slide"
    }
   },
   "source": [
    "- The copy operation creates a new object, equal to, and logically disjoint from the original\n",
    "\n",
    "$$\n",
    "\\begin{align}\n",
    "b & \\to a \\implies a = b. && \\text{(copies are equal)}\n",
    "\\end{align}\n",
    "$$"
   ]
  },
  {
   "cell_type": "markdown",
   "id": "other-cholesterol",
   "metadata": {
    "slideshow": {
     "slide_type": "slide"
    }
   },
   "source": [
    "> Two objects are _equal_ iff they represent the same entity\n",
    "\n",
    "- From this definition we can derive the following axioms for equality:\n",
    "\n",
    "\\begin{align}\n",
    "(\\forall a) a & = a. && \\text{(Reflexivity)} \\\\\n",
    "(\\forall a, b) a & = b \\implies b = a. && \\text{(Symmetry)} \\\\\n",
    "(\\forall a, b, c) a & = b \\wedge b = c \\implies a = c. && \\text {(Transitivity)} \\\\\n",
    "\\end{align}\n"
   ]
  },
  {
   "cell_type": "markdown",
   "id": "convertible-compression",
   "metadata": {
    "slideshow": {
     "slide_type": "slide"
    }
   },
   "source": [
    "- Copies are logically disjoint\n",
    "\n",
    "For all $op$, which modifies its operand, and given $b = c$:\n",
    "\n",
    "\\begin{align}\n",
    "b & \\to a, op(a) \\implies a \\neq b \\wedge b = c.  && \\text{(copies are disjoint)}\n",
    "\\end{align}\n",
    "\n",
    "- An _algebraic structure_ is a set of connected axioms\n",
    "    - as with copy and assignment\n",
    "- Algebraic structures define the semantics of operations"
   ]
  },
  {
   "cell_type": "markdown",
   "id": "handy-token",
   "metadata": {
    "slideshow": {
     "slide_type": "slide"
    }
   },
   "source": [
    "### Implementing Copy and Assignment\n",
    "\n",
    "- A copy-constructor implements the copy operation\n",
    "    - **The compiler is free to assume the semantics of the copy constructor and may elide the copy**"
   ]
  },
  {
   "cell_type": "markdown",
   "id": "involved-figure",
   "metadata": {
    "slideshow": {
     "slide_type": "notes"
    },
    "tags": []
   },
   "source": [
    "**Note:** True story, a colleague walked into my office and asked, \"I'm writing a class, and need to be able to copy it. Should I call the member function that copies 'copy' or 'clone'?\"\n",
    "Me: You should use a copy constructor.\n",
    "Colleague: \"I can't, I'm already using the copy-constructor for something else.\""
   ]
  },
  {
   "cell_type": "code",
   "execution_count": 2,
   "id": "touched-reducing",
   "metadata": {
    "execution": {
     "iopub.execute_input": "2021-06-28T16:54:58.574748Z",
     "iopub.status.busy": "2021-06-28T16:54:58.574366Z",
     "iopub.status.idle": "2021-06-28T16:54:58.575782Z",
     "shell.execute_reply": "2021-06-28T16:54:58.575475Z"
    },
    "slideshow": {
     "slide_type": "slide"
    },
    "tags": []
   },
   "outputs": [],
   "source": [
    "namespace v0 {\n",
    "\n",
    "annotate f() {\n",
    "    annotate r;\n",
    "    return r;\n",
    "}\n",
    "\n",
    "} // namespace v0"
   ]
  },
  {
   "cell_type": "markdown",
   "id": "front-bishop",
   "metadata": {
    "slideshow": {
     "slide_type": "fragment"
    },
    "tags": []
   },
   "source": [
    "**Question:** How many copies? How many moves?\n",
    "```cpp\n",
    "annotate a = f();\n",
    "```"
   ]
  },
  {
   "cell_type": "code",
   "execution_count": 3,
   "id": "social-alignment",
   "metadata": {
    "execution": {
     "iopub.execute_input": "2021-06-28T16:54:58.577397Z",
     "iopub.status.busy": "2021-06-28T16:54:58.576991Z",
     "iopub.status.idle": "2021-06-28T16:54:58.582887Z",
     "shell.execute_reply": "2021-06-28T16:54:58.582082Z"
    },
    "slideshow": {
     "slide_type": "slide"
    }
   },
   "outputs": [
    {
     "name": "stdout",
     "output_type": "stream",
     "text": [
      "annotate ctor\n"
     ]
    },
    {
     "name": "stdout",
     "output_type": "stream",
     "text": [
      "annotate dtor\n"
     ]
    }
   ],
   "source": [
    "{\n",
    "    using namespace v0;\n",
    "    \n",
    "    annotate a = f();\n",
    "}"
   ]
  },
  {
   "cell_type": "markdown",
   "id": "another-scottish",
   "metadata": {
    "slideshow": {
     "slide_type": "slide"
    }
   },
   "source": [
    "- To copy an object, copy all the _parts_\n",
    "- If not defined, the compiler will provide a member-wise copy-constructor\n",
    "- The copy-constructor can be declared `= default` to ensure it is present"
   ]
  },
  {
   "cell_type": "code",
   "execution_count": 4,
   "id": "friendly-minister",
   "metadata": {
    "execution": {
     "iopub.execute_input": "2021-06-28T16:54:58.584395Z",
     "iopub.status.busy": "2021-06-28T16:54:58.583940Z",
     "iopub.status.idle": "2021-06-28T16:54:58.584798Z",
     "shell.execute_reply": "2021-06-28T16:54:58.585100Z"
    },
    "slideshow": {
     "slide_type": "fragment"
    }
   },
   "outputs": [],
   "source": [
    "namespace v0 {\n",
    "\n",
    "class my_type {\n",
    "    // members\n",
    "public:\n",
    "    my_type(const my_type&) = default;\n",
    "};\n",
    "\n",
    "} // namespace v0"
   ]
  },
  {
   "cell_type": "markdown",
   "id": "amended-summer",
   "metadata": {
    "slideshow": {
     "slide_type": "slide"
    }
   },
   "source": [
    "- Similarly, the compiler will provide a member-wise copy-assignment operator"
   ]
  },
  {
   "cell_type": "code",
   "execution_count": 5,
   "id": "national-spanish",
   "metadata": {
    "execution": {
     "iopub.execute_input": "2021-06-28T16:54:58.586812Z",
     "iopub.status.busy": "2021-06-28T16:54:58.586442Z",
     "iopub.status.idle": "2021-06-28T16:54:58.587220Z",
     "shell.execute_reply": "2021-06-28T16:54:58.587526Z"
    },
    "slideshow": {
     "slide_type": "fragment"
    }
   },
   "outputs": [],
   "source": [
    "namespace v1 {\n",
    "\n",
    "class my_type {\n",
    "    // members\n",
    "public:\n",
    "    my_type(const my_type&) = default;\n",
    "    my_type& operator=(const my_type&) = default;\n",
    "};\n",
    "\n",
    "} // namespace v1"
   ]
  },
  {
   "cell_type": "markdown",
   "id": "serious-customs",
   "metadata": {},
   "source": [
    "- A type which is both copy-constructible and copy-assignable is _copyable_"
   ]
  },
  {
   "cell_type": "markdown",
   "id": "resident-regard",
   "metadata": {
    "slideshow": {
     "slide_type": "slide"
    }
   },
   "source": [
    "### Implementing Equality"
   ]
  },
  {
   "cell_type": "markdown",
   "id": "chicken-triumph",
   "metadata": {
    "slideshow": {
     "slide_type": "fragment"
    }
   },
   "source": [
    "- If the representation of an object is unique, then equality can be implemented as part-wise equality\n",
    "- C++20 provides member-wise equality (and inequality) by explicitly defaulting `operator==()`\n",
    "\n",
    "- For C++11 until C++20\n",
    "    - Use `std::tie()` as a simple mechanism to implement equality\n",
    "    - Declare `operator==()` as a non-member operator\n",
    "        - Otherwise implicit conversions will apply different for the left and right argument\n",
    "    - A `friend` declaration may be used to implement directly in the class definition\n",
    "        - `inline` is implied"
   ]
  },
  {
   "cell_type": "markdown",
   "id": "current-jones",
   "metadata": {
    "slideshow": {
     "slide_type": "slide"
    }
   },
   "source": [
    "```cpp\n",
    "namespace v2 {\n",
    "\n",
    "// C++20\n",
    "\n",
    "class my_type {\n",
    "    int _a = 0;\n",
    "    int _b = 42;\n",
    "\n",
    "public:\n",
    "    my_type(const my_type&) = default;\n",
    "    my_type& operator=(const my_type&) = default;\n",
    "\n",
    "    bool operator==(const my_type&) const = default;\n",
    "};\n",
    "\n",
    "} // namespace v2\n",
    "```"
   ]
  },
  {
   "cell_type": "code",
   "execution_count": 6,
   "id": "organic-munich",
   "metadata": {
    "execution": {
     "iopub.execute_input": "2021-06-28T16:54:58.588970Z",
     "iopub.status.busy": "2021-06-28T16:54:58.588600Z",
     "iopub.status.idle": "2021-06-28T16:54:58.595168Z",
     "shell.execute_reply": "2021-06-28T16:54:58.594862Z"
    },
    "slideshow": {
     "slide_type": "slide"
    }
   },
   "outputs": [],
   "source": [
    "namespace v2 {\n",
    "\n",
    "// C++17\n",
    "\n",
    "class my_type {\n",
    "    int _a = 0;\n",
    "    int _b = 42;\n",
    "\n",
    "    auto underlying() const { return std::tie(_a, _b); }\n",
    "\n",
    "public:\n",
    "    my_type(const my_type&) = default;\n",
    "    my_type& operator=(const my_type&) = default;\n",
    "\n",
    "    friend bool operator==(const my_type& a, const my_type& b) {\n",
    "        return a.underlying() == b.underlying();\n",
    "    }\n",
    "    friend bool operator!=(const my_type& a, const my_type& b) { return !(a == b); }\n",
    "};\n",
    "\n",
    "} // namespace v2"
   ]
  },
  {
   "cell_type": "markdown",
   "id": "focal-validity",
   "metadata": {
    "slideshow": {
     "slide_type": "slide"
    }
   },
   "source": [
    "- If the value representation of an object is unique, then representational equality _is_ value equality\n",
    "    - Otherwise representational equality _implies_ value equality, but not the converse\n",
    "- Representational equality satisfies the axioms for equality as well as copy\n",
    "- If value equality is not implementable in time proportional to the area of the object then implement `operator==()` as representational equality\n",
    "    - This usually means in terms of _identity_ of the remote parts\n",
    "    - Examples include functions and some graph structures"
   ]
  },
  {
   "cell_type": "markdown",
   "id": "favorite-circulation",
   "metadata": {
    "slideshow": {
     "slide_type": "fragment"
    }
   },
   "source": [
    "- Functions can be compared by identity\n",
    "- Lambda objects are not equality comparable\n",
    "    - When stored in an object they usually represent a _relationship_ and will be discussed later"
   ]
  },
  {
   "cell_type": "markdown",
   "id": "manufactured-titanium",
   "metadata": {
    "slideshow": {
     "slide_type": "slide"
    }
   },
   "source": [
    "### Semantics and Complexity\n",
    "\n",
    "- We associate semantics with operation names to ascribe meaning to software\n",
    "  - Operations with the same semantics should have the same name\n",
    "- The complexity of an operation is another important part of the operation semantics\n",
    "  - By associating complexity with names we make code easier to reason about\n",
    "- The _expected_ complexity of copy, assignment, and equality<sup>2</sup> is proportional to the area of the object\n",
    "  - If these operations cannot be implemented with the expected complexity, they should be given different names\n",
    "\n",
    "\n",
    "<sup>2</sup> worst case, if equal."
   ]
  },
  {
   "cell_type": "markdown",
   "id": "rural-working",
   "metadata": {
    "slideshow": {
     "slide_type": "slide"
    }
   },
   "source": [
    "- Naming is language\n",
    "  - Often semantics are expected from patterns of common use\n",
    "  - When naming functions consider expectations and that few will read any specification\n",
    "    - But beware, our expectations may be incorrect\n",
    "    - Trying to always meet expectations does not lead to logically consistent systems"
   ]
  },
  {
   "cell_type": "markdown",
   "id": "progressive-parameter",
   "metadata": {
    "slideshow": {
     "slide_type": "slide"
    }
   },
   "source": [
    "### Equationally Complete\n",
    "\n",
    "- A type for which equality can be implemented as a non-friend (non-member) function is said to be _equationally complete_\n",
    "- A type that is both equationally and computationally complete can be copied without the use of the copy-constructor or assignment operator\n",
    "  - Equationally complete implies all the parts are readable\n",
    "  - Computationally complete implies all the values are obtainable"
   ]
  },
  {
   "cell_type": "markdown",
   "id": "velvet-translation",
   "metadata": {
    "slideshow": {
     "slide_type": "notes"
    }
   },
   "source": [
    "**Note:** Give the example of std::size() for expected complexity."
   ]
  },
  {
   "cell_type": "markdown",
   "id": "stopped-setup",
   "metadata": {
    "slideshow": {
     "slide_type": "slide"
    }
   },
   "source": [
    "### Whole-Part Relationship\n",
    "\n",
    "- A common and useful relationship is the _whole-part_ relationship\n",
    "- An object is a whole, composed of its parts\n",
    "- A part is _local_ if it is stored directly in the object\n",
    "    - i.e. a data member"
   ]
  },
  {
   "cell_type": "code",
   "execution_count": 7,
   "id": "encouraging-cleaning",
   "metadata": {
    "execution": {
     "iopub.execute_input": "2021-06-28T16:54:58.596946Z",
     "iopub.status.busy": "2021-06-28T16:54:58.596540Z",
     "iopub.status.idle": "2021-06-28T16:54:58.597373Z",
     "shell.execute_reply": "2021-06-28T16:54:58.597677Z"
    },
    "slideshow": {
     "slide_type": "fragment"
    }
   },
   "outputs": [],
   "source": [
    "namespace v3 {\n",
    "\n",
    "class my_type {\n",
    "    int _val; // local part\n",
    "    //...\n",
    "};\n",
    "\n",
    "} // namespace v3"
   ]
  },
  {
   "cell_type": "markdown",
   "id": "intensive-denmark",
   "metadata": {
    "slideshow": {
     "slide_type": "slide"
    }
   },
   "source": [
    "- A part is remote if it is stored elsewhere (such as on the heap)\n",
    "  - Variable size data (polymorphic or collections)\n",
    "  - Trade-off in performance of copy vs. _move_\n",
    "  - Sharing of immutable data\n",
    "  - Separation of interface from implementation dependencies (PImpl)"
   ]
  },
  {
   "cell_type": "markdown",
   "id": "opened-hollow",
   "metadata": {
    "slideshow": {
     "slide_type": "fragment"
    }
   },
   "source": [
    "- Remote parts are expensive\n",
    "    - Allocation + deallocation costs is over 200-500x more expensive than copying a word\n",
    "    - Each access is a potential cache miss\n",
    "    - Most objects are never or rarely copied"
   ]
  },
  {
   "cell_type": "markdown",
   "id": "metallic-dragon",
   "metadata": {
    "slideshow": {
     "slide_type": "notes"
    }
   },
   "source": [
    "**Note:** I can copy 1.5K - 4K of data in the time it takes for one allocation+ deallocation"
   ]
  },
  {
   "cell_type": "markdown",
   "id": "talented-parish",
   "metadata": {
    "slideshow": {
     "slide_type": "skip"
    },
    "tags": []
   },
   "source": [
    "_\\[The following cell is an iframe for an [ithare infographic](http://ithare.com/infographics-operation-costs-in-cpu-clock-cycles/)\\]_"
   ]
  },
  {
   "cell_type": "markdown",
   "id": "valuable-subscriber",
   "metadata": {
    "slideshow": {
     "slide_type": "slide"
    },
    "tags": []
   },
   "source": [
    "<section>\n",
    "<iframe data-src='http://ithare.com/infographics-operation-costs-in-cpu-clock-cycles/'></iframe>\n",
    "</section>"
   ]
  },
  {
   "cell_type": "markdown",
   "id": "nervous-agreement",
   "metadata": {
    "slideshow": {
     "slide_type": "slide"
    }
   },
   "source": [
    "- Prefer local parts when appropriate\n",
    "- But also be aware that techniques like PImpl can greatly improve build time and reduce header file pollution\n",
    "    - In C++20, modules may make this less necessary"
   ]
  },
  {
   "cell_type": "markdown",
   "id": "global-mention",
   "metadata": {
    "slideshow": {
     "slide_type": "slide"
    }
   },
   "source": [
    "**Exercise**: Implement a type with a remote part holding a pair of integers."
   ]
  },
  {
   "cell_type": "code",
   "execution_count": 8,
   "id": "protective-utility",
   "metadata": {
    "execution": {
     "iopub.execute_input": "2021-06-28T16:54:58.599487Z",
     "iopub.status.busy": "2021-06-28T16:54:58.599055Z",
     "iopub.status.idle": "2021-06-28T16:54:58.599876Z",
     "shell.execute_reply": "2021-06-28T16:54:58.600167Z"
    },
    "slideshow": {
     "slide_type": "fragment"
    }
   },
   "outputs": [],
   "source": [
    "// 02-types.hpp\n",
    "\n",
    "namespace v4 {\n",
    "\n",
    "class my_type {\n",
    "    struct implementation;     // forward declaration\n",
    "    /* <some_type> _remote; */ // remote part\n",
    "public:\n",
    "    my_type(int x, int y);\n",
    "    ~my_type();\n",
    "    my_type(const my_type&);\n",
    "    my_type& operator=(const my_type&);\n",
    "};\n",
    "\n",
    "} // namespace v4"
   ]
  },
  {
   "cell_type": "code",
   "execution_count": 9,
   "id": "egyptian-processing",
   "metadata": {
    "execution": {
     "iopub.execute_input": "2021-06-28T16:54:58.601700Z",
     "iopub.status.busy": "2021-06-28T16:54:58.601299Z",
     "iopub.status.idle": "2021-06-28T16:54:58.602078Z",
     "shell.execute_reply": "2021-06-28T16:54:58.602411Z"
    },
    "slideshow": {
     "slide_type": "slide"
    }
   },
   "outputs": [],
   "source": [
    "// 02-types.cpp\n",
    "\n",
    "// #include \"02-types.hpp\" // first include\n",
    "\n",
    "// other includes\n",
    "\n",
    "namespace v4 {\n",
    "\n",
    "struct my_type::implementation {\n",
    "    int _x;\n",
    "    int _y;\n",
    "};\n",
    "\n",
    "/*\n",
    "    Fill in the rest...\n",
    "*/\n",
    "\n",
    "} // namespace v4"
   ]
  },
  {
   "cell_type": "markdown",
   "id": "regular-vulnerability",
   "metadata": {
    "slideshow": {
     "slide_type": "fragment"
    }
   },
   "source": [
    "- A major downside of using the PImpl pattern is the amount of forwarding boiler plate that must be written."
   ]
  },
  {
   "cell_type": "code",
   "execution_count": 10,
   "id": "suited-trouble",
   "metadata": {
    "execution": {
     "iopub.execute_input": "2021-06-28T16:54:58.604278Z",
     "iopub.status.busy": "2021-06-28T16:54:58.603459Z",
     "iopub.status.idle": "2021-06-28T16:54:58.619464Z",
     "shell.execute_reply": "2021-06-28T16:54:58.619009Z"
    },
    "slideshow": {
     "slide_type": "slide"
    }
   },
   "outputs": [],
   "source": [
    "// 02-types.hpp\n",
    "#include <memory>\n",
    "\n",
    "namespace v41 {\n",
    "\n",
    "class my_type {\n",
    "    struct implementation;              // forward declaration\n",
    "    struct deleter {\n",
    "        void operator()(implementation*) const;\n",
    "    };\n",
    "    std::unique_ptr<implementation, deleter> _remote; // remote part\n",
    "public:\n",
    "    my_type(int x, int y);\n",
    "    ~my_type() = default;\n",
    "    my_type(const my_type&);\n",
    "    my_type& operator=(const my_type&);\n",
    "};\n",
    "\n",
    "} // namespace v4"
   ]
  },
  {
   "cell_type": "code",
   "execution_count": 11,
   "id": "gross-perry",
   "metadata": {
    "execution": {
     "iopub.execute_input": "2021-06-28T16:54:58.621129Z",
     "iopub.status.busy": "2021-06-28T16:54:58.620749Z",
     "iopub.status.idle": "2021-06-28T16:54:58.626589Z",
     "shell.execute_reply": "2021-06-28T16:54:58.626262Z"
    },
    "slideshow": {
     "slide_type": "slide"
    }
   },
   "outputs": [],
   "source": [
    "// 02-types.cpp\n",
    "\n",
    "// #include \"02-types.hpp\" // first include\n",
    "\n",
    "// other includes\n",
    "\n",
    "namespace v41 {\n",
    "\n",
    "struct my_type::implementation {\n",
    "    int _x;\n",
    "    int _y;\n",
    "};\n",
    "\n",
    "my_type::my_type(int x, int y) : _remote{new implementation{x, y}} {}\n",
    "my_type::my_type(const my_type& a) : _remote{new implementation{*a._remote}} {}\n",
    "my_type& my_type::operator=(const my_type& a) {\n",
    "    *_remote = *a._remote;\n",
    "    return *this;\n",
    "}\n",
    "\n",
    "void my_type::deleter::operator()(implementation* p) const { delete p; }\n",
    "\n",
    "} // namespace v41"
   ]
  },
  {
   "cell_type": "code",
   "execution_count": 12,
   "id": "arranged-reviewer",
   "metadata": {
    "execution": {
     "iopub.execute_input": "2021-06-28T16:54:58.628242Z",
     "iopub.status.busy": "2021-06-28T16:54:58.627865Z",
     "iopub.status.idle": "2021-06-28T16:54:58.638908Z",
     "shell.execute_reply": "2021-06-28T16:54:58.638618Z"
    },
    "slideshow": {
     "slide_type": "slide"
    }
   },
   "outputs": [],
   "source": [
    "{\n",
    "    using namespace v41;\n",
    "    \n",
    "    my_type a{10, 20};\n",
    "    my_type b = a;\n",
    "    a = b;\n",
    "}"
   ]
  },
  {
   "cell_type": "markdown",
   "id": "changed-panama",
   "metadata": {
    "slideshow": {
     "slide_type": "slide"
    }
   },
   "source": [
    "- It compiles and runs, what else do we need to make a valid unit test?"
   ]
  },
  {
   "cell_type": "markdown",
   "id": "extra-kennedy",
   "metadata": {
    "slideshow": {
     "slide_type": "fragment"
    }
   },
   "source": [
    "**Exercise:** Implement `operator==()` on my_type."
   ]
  },
  {
   "cell_type": "code",
   "execution_count": 13,
   "id": "strong-title",
   "metadata": {
    "execution": {
     "iopub.execute_input": "2021-06-28T16:54:58.640590Z",
     "iopub.status.busy": "2021-06-28T16:54:58.640062Z",
     "iopub.status.idle": "2021-06-28T16:54:58.648683Z",
     "shell.execute_reply": "2021-06-28T16:54:58.648399Z"
    },
    "slideshow": {
     "slide_type": "slide"
    }
   },
   "outputs": [],
   "source": [
    "// 02-types.hpp\n",
    "#include <memory>\n",
    "\n",
    "namespace v42 {\n",
    "\n",
    "class my_type {\n",
    "    struct implementation; // forward declaration\n",
    "    struct deleter {\n",
    "        void operator()(implementation*) const;\n",
    "    };\n",
    "    std::unique_ptr<implementation, deleter> _remote; // remote part\n",
    "public:\n",
    "    my_type(int x, int y);\n",
    "    ~my_type() = default;\n",
    "    my_type(const my_type&);\n",
    "    my_type& operator=(const my_type&);\n",
    "\n",
    "    friend bool operator==(const my_type&, const my_type&);\n",
    "    friend bool operator!=(const my_type& a, const my_type& b) { return !(a == b); }\n",
    "};\n",
    "\n",
    "} // namespace v42"
   ]
  },
  {
   "cell_type": "markdown",
   "id": "isolated-humanitarian",
   "metadata": {
    "slideshow": {
     "slide_type": "notes"
    }
   },
   "source": [
    "**Note:** A bit esoteric, but declaring a free function in a class is not callable either qualified or unqualified, and can only be found by ADL. The advantage of doing this is we improve compile speed by keeping overloads out of the potential overload set for other types."
   ]
  },
  {
   "cell_type": "code",
   "execution_count": 14,
   "id": "accompanied-music",
   "metadata": {
    "execution": {
     "iopub.execute_input": "2021-06-28T16:54:58.650480Z",
     "iopub.status.busy": "2021-06-28T16:54:58.649787Z",
     "iopub.status.idle": "2021-06-28T16:54:58.657024Z",
     "shell.execute_reply": "2021-06-28T16:54:58.656718Z"
    },
    "slideshow": {
     "slide_type": "slide"
    }
   },
   "outputs": [],
   "source": [
    "#include <tuple>\n",
    "\n",
    "namespace v42 {\n",
    "\n",
    "struct my_type::implementation {\n",
    "    int _x;\n",
    "    int _y;\n",
    "\n",
    "    auto underlying() const { return std::tie(_x, _y); }\n",
    "};\n",
    "\n",
    "my_type::my_type(int x, int y) : _remote{new implementation{x, y}} {}\n",
    "my_type::my_type(const my_type& a) : _remote{new implementation{*a._remote}} {}\n",
    "my_type& my_type::operator=(const my_type& a) {\n",
    "    *_remote = *a._remote;\n",
    "    return *this;\n",
    "}\n",
    "\n",
    "void my_type::deleter::operator()(implementation* p) const { delete p; }\n",
    "\n",
    "bool operator==(const my_type& a, const my_type& b) {\n",
    "    return a._remote->underlying() == b._remote->underlying();\n",
    "}\n",
    "\n",
    "} // namespace v42"
   ]
  },
  {
   "cell_type": "code",
   "execution_count": 15,
   "id": "invalid-hours",
   "metadata": {
    "execution": {
     "iopub.execute_input": "2021-06-28T16:54:58.659176Z",
     "iopub.status.busy": "2021-06-28T16:54:58.658770Z",
     "iopub.status.idle": "2021-06-28T16:54:58.676477Z",
     "shell.execute_reply": "2021-06-28T16:54:58.676098Z"
    },
    "slideshow": {
     "slide_type": "slide"
    }
   },
   "outputs": [],
   "source": [
    "{\n",
    "    using namespace v42;\n",
    "    \n",
    "    my_type a{10, 20};\n",
    "    my_type b = a;\n",
    "    assert(a == b);\n",
    "    b = my_type{5, 30};\n",
    "    assert(a != b);\n",
    "    a = b;\n",
    "    assert(a == b);\n",
    "}"
   ]
  },
  {
   "cell_type": "markdown",
   "id": "three-effort",
   "metadata": {
    "slideshow": {
     "slide_type": "fragment"
    }
   },
   "source": [
    "- Equality is important to testing"
   ]
  },
  {
   "cell_type": "markdown",
   "id": "fundamental-terry",
   "metadata": {
    "slideshow": {
     "slide_type": "slide"
    }
   },
   "source": [
    "- Being able to reason about a subject in terms of equivalence is known as _equational reasoning_\n",
    "    - The notion of equality is critical, not just for testing, but for reasoning about a piece of code"
   ]
  },
  {
   "cell_type": "markdown",
   "id": "magnetic-element",
   "metadata": {
    "slideshow": {
     "slide_type": "slide"
    }
   },
   "source": [
    "### `std::regular<T>`\n",
    "\n",
    "The C++20 standard defines the _concept_ std::regular<T> to be copyable, equality-comparable, and default-constructible. Default-constructible is covered later in this section, and concepts are discussed more in Chapter 3, Algorithms."
   ]
  },
  {
   "cell_type": "markdown",
   "id": "atomic-spouse",
   "metadata": {
    "incorrectly_encoded_metadata": "slideshow={\"slide_type\": \"slide\"} toc-hr-collapsed=false",
    "slideshow": {
     "slide_type": "slide"
    }
   },
   "source": [
    "## Safety and Efficient Basis"
   ]
  },
  {
   "cell_type": "markdown",
   "id": "chubby-duplicate",
   "metadata": {
    "slideshow": {
     "slide_type": "slide"
    }
   },
   "source": [
    "### Safety\n",
    "\n",
    "- An object which represents an entity is _fully-formed_, or _well-formed_\n",
    "- An object which does not represent an entity, but may be modified (i.e. through assignment) to establish a correspondence with an entity, or destroyed, is _partially-formed_.\n",
    "- An object which does not represent an entity and cannot be safely modified to represent an entity, or destroyed, is _ill-formed_."
   ]
  },
  {
   "cell_type": "markdown",
   "id": "fossil-unemployment",
   "metadata": {
    "slideshow": {
     "slide_type": "fragment"
    }
   },
   "source": [
    "- Any operation which preserves the correspondence between an object and an entity it represents is _safe_\n",
    "- An operation which loses the correspondence is _unsafe_"
   ]
  },
  {
   "cell_type": "markdown",
   "id": "sexual-watershed",
   "metadata": {
    "slideshow": {
     "slide_type": "fragment"
    }
   },
   "source": [
    "- There are different categories of safety:\n",
    "\n",
    "- _memory safety_\n",
    "  - A memory safe operation preserves the correspondence of unrelated objects to their respective entities. For example, writing through a deleted pointer is a not a memory safe operation as it may leave an unrelated object ill-formed.\n",
    "  \n",
    "- _thread safety_\n",
    " - A thread safe operation may be executed concurrently with other operations on the same object(s) without the possibility of a race condition (data or logical race) resulting an an object which is not full-formed.\n",
    "\n",
    "- _exception safety_\n",
    " - An exception safe operation is one which after an exception any objects being operated on are in a _fully-formed_ state. C++ refers to this as the _strong exception guarantee_.\n",
    " - An operation satisfying the _basic exception guarantee_ ensures that after an exception any objects being operated on are partially-formed."
   ]
  },
  {
   "cell_type": "markdown",
   "id": "billion-review",
   "metadata": {
    "slideshow": {
     "slide_type": "slide"
    }
   },
   "source": [
    "- _operational safety_\n",
    "  - An operation is operationally safe if, when the operation preconditions are satisfied, the operation results in objects which are fully-formed\n",
    "  - An operation is operationally unsafe if, when the operation preconditions are satisfied, the operation may result in an object which is partially-formed\n",
    "  - From here on, when referring to a _safe_ operation we mean _operationally safe_"
   ]
  },
  {
   "cell_type": "markdown",
   "id": "flush-consciousness",
   "metadata": {
    "slideshow": {
     "slide_type": "slide"
    }
   },
   "source": [
    "- As a general rule\n",
    "  - Only safe operations should be public\n",
    "  - Unsafe operations should be private"
   ]
  },
  {
   "cell_type": "markdown",
   "id": "according-consolidation",
   "metadata": {
    "incorrectly_encoded_metadata": "slideshow={\"slide_type\": \"slide\"} toc-hr-collapsed=false",
    "slideshow": {
     "slide_type": "slide"
    }
   },
   "source": [
    "### Efficient Basis\n",
    "\n",
    "- An operation is _efficient_ if there is no way to implement it to use fewer resources:\n",
    "  - time\n",
    "  - space\n",
    "  - energy\n",
    "\n",
    "- Unless otherwise specified, we will use efficiency to mean _time efficiency_\n",
    "    - But in practice, where not all three can be achieved the trade-offs should be considered"
   ]
  },
  {
   "cell_type": "markdown",
   "id": "clean-coffee",
   "metadata": {
    "slideshow": {
     "slide_type": "slide"
    }
   },
   "source": [
    "> A basis is _efficient_ if and only if any procedure can be implemented as efficiently using it as an equivalent procedure written in terms of an alternative basis."
   ]
  },
  {
   "cell_type": "markdown",
   "id": "little-medicine",
   "metadata": {
    "incorrectly_encoded_metadata": "slideshow={\"slide_type\": \"slide\"} toc-hr-collapsed=false",
    "slideshow": {
     "slide_type": "slide"
    }
   },
   "source": [
    "- Making all data members public ensures an efficient basis, but may be _unsafe_\n",
    "- In fact, we can prove that some operations cannot be implemented both efficiently and safely\n",
    "- The canonical example is in-situ sort, although it is true of any in-situ permutation\n",
    "  - This is why functional languages do not allow direct in-situ operations\n",
    "\n",
    "- In C++, explicit `move` is both unsafe and inefficient\n",
    "  - It is less safe than copy\n",
    "  - But more efficient than copy\n",
    "\n",
    "- Strive to make operations safe _and_ efficient\n",
    "- Only sacrifice safety for efficiency with good (measurable) reason"
   ]
  },
  {
   "cell_type": "markdown",
   "id": "desirable-parker",
   "metadata": {
    "slideshow": {
     "slide_type": "slide"
    }
   },
   "source": [
    "### Move\n",
    "\n",
    "- The _move_ operation transfers the value of one object to a new or existing object\n",
    "\n",
    "\\begin{align}\n",
    "a = b, a & \\rightharpoonup c \\implies c = b. && \\text{(move is value preserving)}\n",
    "\\end{align}"
   ]
  },
  {
   "cell_type": "markdown",
   "id": "annual-advocate",
   "metadata": {
    "slideshow": {
     "slide_type": "fragment"
    }
   },
   "source": [
    "- This says nothing about the moved from value\n",
    "    - In this way, move is a _weaker_ form of copy\n",
    "- The expectation is that moving a value does not require additional resources, beyond the local storage, for an object\n",
    "    - In this way, move is a _stronger_ form of copy\n",
    "- Move is a distinct operation as part of an _efficient_ basis"
   ]
  },
  {
   "cell_type": "markdown",
   "id": "cosmetic-client",
   "metadata": {
    "slideshow": {
     "slide_type": "notes"
    }
   },
   "source": [
    "**Note:** The C++ standard does not require that _move_ is `noexcept`, and so doesn't require efficiency"
   ]
  },
  {
   "cell_type": "markdown",
   "id": "ancient-birmingham",
   "metadata": {
    "slideshow": {
     "slide_type": "fragment"
    }
   },
   "source": [
    "- In C++ we implement the move operation in terms of rvalue references.\n",
    "    - An rvalue is a temporary value\n",
    "    - Any references to remote parts can be maintained without copying the remote part"
   ]
  },
  {
   "cell_type": "markdown",
   "id": "twenty-ghana",
   "metadata": {
    "slideshow": {
     "slide_type": "slide"
    }
   },
   "source": [
    "**Exercise:** Implement move-construction and move-assignment operators on `my_type`."
   ]
  },
  {
   "cell_type": "code",
   "execution_count": 16,
   "id": "distinguished-analysis",
   "metadata": {
    "execution": {
     "iopub.execute_input": "2021-06-28T16:54:58.678996Z",
     "iopub.status.busy": "2021-06-28T16:54:58.678334Z",
     "iopub.status.idle": "2021-06-28T16:54:58.686161Z",
     "shell.execute_reply": "2021-06-28T16:54:58.685877Z"
    },
    "slideshow": {
     "slide_type": "slide"
    }
   },
   "outputs": [],
   "source": [
    "namespace v43 {\n",
    "\n",
    "class my_type {\n",
    "    struct implementation; // forward declaration\n",
    "    struct deleter {\n",
    "        void operator()(implementation*) const;\n",
    "    };\n",
    "    std::unique_ptr<implementation, deleter> _remote; // remote part\n",
    "public:\n",
    "    my_type(int x, int y);\n",
    "    ~my_type() = default;\n",
    "    my_type(const my_type&);\n",
    "    my_type& operator=(const my_type&);\n",
    "\n",
    "    my_type(my_type&&) noexcept = default;   // <--\n",
    "    my_type& operator=(my_type&&) = default; // <--\n",
    "\n",
    "    friend bool operator==(const my_type&, const my_type&);\n",
    "    friend bool operator!=(const my_type& a, const my_type& b) { return !(a == b); }\n",
    "};\n",
    "\n",
    "} // namespace v43"
   ]
  },
  {
   "cell_type": "markdown",
   "id": "regulation-cotton",
   "metadata": {
    "slideshow": {
     "slide_type": "slide"
    }
   },
   "source": [
    "- Recall our implementation of assignment:\n",
    "```cpp\n",
    "my_type& my_type::operator=(const my_type& a) {\n",
    "    *_remote = *a._remote;\n",
    "    return *this;\n",
    "}\n",
    "```"
   ]
  },
  {
   "cell_type": "markdown",
   "id": "brief-electricity",
   "metadata": {
    "slideshow": {
     "slide_type": "fragment"
    }
   },
   "source": [
    "**Question:** What happens if we assign-to a moved from object?"
   ]
  },
  {
   "cell_type": "code",
   "execution_count": 17,
   "id": "flexible-lunch",
   "metadata": {
    "execution": {
     "iopub.execute_input": "2021-06-28T16:54:58.688005Z",
     "iopub.status.busy": "2021-06-28T16:54:58.687572Z",
     "iopub.status.idle": "2021-06-28T16:54:58.697156Z",
     "shell.execute_reply": "2021-06-28T16:54:58.696860Z"
    },
    "slideshow": {
     "slide_type": "slide"
    }
   },
   "outputs": [],
   "source": [
    "namespace v43 {\n",
    "\n",
    "struct my_type::implementation {\n",
    "    int _x;\n",
    "    int _y;\n",
    "\n",
    "    auto underlying() const { return std::tie(_x, _y); }\n",
    "};\n",
    "\n",
    "my_type::my_type(int x, int y) : _remote{new implementation{x, y}} {}\n",
    "my_type::my_type(const my_type& a) : _remote{new implementation{*a._remote}} {}\n",
    "\n",
    "my_type& my_type::operator=(const my_type& a) { // <--\n",
    "    if (!_remote) *this = my_type{a};\n",
    "    *_remote = *a._remote;\n",
    "    return *this;\n",
    "}\n",
    "\n",
    "void my_type::deleter::operator()(implementation* p) const { delete p; }\n",
    "\n",
    "bool operator==(const my_type& a, const my_type& b) {\n",
    "    return a._remote->underlying() == b._remote->underlying();\n",
    "}\n",
    "\n",
    "} // namespace v43"
   ]
  },
  {
   "cell_type": "code",
   "execution_count": 18,
   "id": "destroyed-layer",
   "metadata": {
    "execution": {
     "iopub.execute_input": "2021-06-28T16:54:58.699185Z",
     "iopub.status.busy": "2021-06-28T16:54:58.698850Z",
     "iopub.status.idle": "2021-06-28T16:54:58.724988Z",
     "shell.execute_reply": "2021-06-28T16:54:58.724680Z"
    },
    "slideshow": {
     "slide_type": "slide"
    }
   },
   "outputs": [],
   "source": [
    "{\n",
    "    using namespace v43;\n",
    "    \n",
    "    my_type a{10, 20};\n",
    "    my_type b{move(a)};\n",
    "    a = my_type{5, 30};\n",
    "    assert((b == my_type{10, 20}));\n",
    "    assert((a == my_type{5, 30}));\n",
    "}"
   ]
  },
  {
   "cell_type": "markdown",
   "id": "superb-determination",
   "metadata": {
    "slideshow": {
     "slide_type": "slide"
    }
   },
   "source": [
    "- The requirements in the C++ standard are that we must leave the moved from object in a _\"unspecified\"_ state\n",
    "  - _Unspecified_ is without correspondence to an entity\n",
    "  - explicit move is a public unsafe operation, it may leave the moved-from object in a partially formed state\n",
    "- Some operations are required on the otherwise unspecified state\n",
    "    - destruction\n",
    "    - copy and move assigning to the object (to establish a new value)"
   ]
  },
  {
   "cell_type": "markdown",
   "id": "cathedral-price",
   "metadata": {
    "slideshow": {
     "slide_type": "slide"
    }
   },
   "source": [
    "- There is a trade-off between safety, and efficiency\n",
    "  - Not every operation can be implemented to be both safe, and efficient (provably)"
   ]
  },
  {
   "cell_type": "markdown",
   "id": "hybrid-wages",
   "metadata": {
    "slideshow": {
     "slide_type": "slide"
    }
   },
   "source": [
    "- There are many examples of unsafe operations with the built-in types:"
   ]
  },
  {
   "cell_type": "code",
   "execution_count": 19,
   "id": "joined-lover",
   "metadata": {
    "execution": {
     "iopub.execute_input": "2021-06-28T16:54:58.726904Z",
     "iopub.status.busy": "2021-06-28T16:54:58.726431Z",
     "iopub.status.idle": "2021-06-28T16:54:59.078221Z",
     "shell.execute_reply": "2021-06-28T16:54:59.077922Z"
    },
    "slideshow": {
     "slide_type": "fragment"
    }
   },
   "outputs": [
    {
     "data": {
      "text/plain": [
       "nan"
      ]
     },
     "execution_count": 19,
     "metadata": {},
     "output_type": "execute_result"
    }
   ],
   "source": [
    "double x = 0.0 / 0.0; // explicitly undefined\n",
    "x"
   ]
  },
  {
   "cell_type": "code",
   "execution_count": 20,
   "id": "detected-rwanda",
   "metadata": {
    "execution": {
     "iopub.execute_input": "2021-06-28T16:54:59.080149Z",
     "iopub.status.busy": "2021-06-28T16:54:59.079805Z",
     "iopub.status.idle": "2021-06-28T16:54:59.376655Z",
     "shell.execute_reply": "2021-06-28T16:54:59.375603Z"
    },
    "slideshow": {
     "slide_type": "fragment"
    }
   },
   "outputs": [
    {
     "data": {
      "text/plain": [
       "22016"
      ]
     },
     "metadata": {},
     "output_type": "display_data"
    }
   ],
   "source": [
    "{\n",
    "    int x; // unspecified\n",
    "    display(x); // undefined behavior!\n",
    "}"
   ]
  },
  {
   "cell_type": "code",
   "execution_count": 21,
   "id": "spatial-mainstream",
   "metadata": {
    "execution": {
     "iopub.execute_input": "2021-06-28T16:54:59.378635Z",
     "iopub.status.busy": "2021-06-28T16:54:59.378167Z",
     "iopub.status.idle": "2021-06-28T16:54:59.672922Z",
     "shell.execute_reply": "2021-06-28T16:54:59.671854Z"
    },
    "slideshow": {
     "slide_type": "slide"
    }
   },
   "outputs": [
    {
     "data": {
      "text/plain": [
       "\"\""
      ]
     },
     "execution_count": 21,
     "metadata": {},
     "output_type": "execute_result"
    }
   ],
   "source": [
    "string x = \"hello world\";\n",
    "string y = move(x); // unspecified\n",
    "x"
   ]
  },
  {
   "cell_type": "code",
   "execution_count": 22,
   "id": "healthy-protocol",
   "metadata": {
    "execution": {
     "iopub.execute_input": "2021-06-28T16:54:59.675435Z",
     "iopub.status.busy": "2021-06-28T16:54:59.674880Z",
     "iopub.status.idle": "2021-06-28T16:54:59.988981Z",
     "shell.execute_reply": "2021-06-28T16:54:59.988148Z"
    },
    "slideshow": {
     "slide_type": "fragment"
    }
   },
   "outputs": [
    {
     "data": {
      "text/plain": [
       "true"
      ]
     },
     "execution_count": 22,
     "metadata": {},
     "output_type": "execute_result"
    }
   ],
   "source": [
    "unique_ptr<int> x = make_unique<int>(42);\n",
    "unique_ptr<int> y = move(x); // safe. x is guaranteed to be == nullptr\n",
    "(x == nullptr)"
   ]
  },
  {
   "cell_type": "markdown",
   "id": "another-clark",
   "metadata": {
    "slideshow": {
     "slide_type": "slide"
    }
   },
   "source": [
    "- After an unsafe operation where an object is left partially formed\n",
    "  - Subsequent operations are required to restore the fully formed state prior to use\n",
    "    - If the partially formed state is _explicit_ it may by used in subsequent operation but those operations must yield explicitly undefined values for later detection and handling\n",
    "    - i.e. NaN, [expected](https://wg21.link/P0323), maybe-monad pattern\n",
    "  - Or the object must be destroyed"
   ]
  },
  {
   "cell_type": "markdown",
   "id": "available-genius",
   "metadata": {
    "slideshow": {
     "slide_type": "slide"
    }
   },
   "source": [
    "- An _implicit move_, one generated by the compiler, always occurs on an expiring value\n",
    "  - This means the combined operation of `op(rv); rv.~T();` is safe\n",
    "- `std::move()` is equivalent to `static_cast<T&&>()`\n",
    "  - Explicit move is unsafe\n",
    "  - Circumventing the type system requires additional care"
   ]
  },
  {
   "cell_type": "markdown",
   "id": "bibliographic-acceptance",
   "metadata": {
    "slideshow": {
     "slide_type": "slide"
    }
   },
   "source": [
    "### Explicit Move"
   ]
  },
  {
   "cell_type": "markdown",
   "id": "informative-effects",
   "metadata": {
    "slideshow": {
     "slide_type": "fragment"
    }
   },
   "source": [
    "- A _sink_ argument is an argument that will be stored or returned from a function."
   ]
  },
  {
   "cell_type": "markdown",
   "id": "growing-pillow",
   "metadata": {
    "slideshow": {
     "slide_type": "fragment"
    }
   },
   "source": [
    "- Pass sink arguments by universal reference or value and `forward<>` or `move()` them into place."
   ]
  },
  {
   "cell_type": "markdown",
   "id": "painted-marketing",
   "metadata": {
    "slideshow": {
     "slide_type": "fragment"
    }
   },
   "source": [
    "- This is the most common usage where an explicit move is required for efficiency. Try to avoid other uses by transforming the code into a functional form."
   ]
  },
  {
   "cell_type": "code",
   "execution_count": 23,
   "id": "stock-supplement",
   "metadata": {
    "execution": {
     "iopub.execute_input": "2021-06-28T16:54:59.991477Z",
     "iopub.status.busy": "2021-06-28T16:54:59.990932Z",
     "iopub.status.idle": "2021-06-28T16:54:59.992392Z",
     "shell.execute_reply": "2021-06-28T16:54:59.992080Z"
    },
    "slideshow": {
     "slide_type": "slide"
    }
   },
   "outputs": [],
   "source": [
    "namespace v5 {\n",
    "\n",
    "class example {\n",
    "    string _str;\n",
    "\n",
    "public:\n",
    "    template <class T>\n",
    "    example(T&& a) : _str{std::forward<T>(a)} {}\n",
    "    // or\n",
    "    example(string a) : _str{std::move(a)} {}\n",
    "};\n",
    "\n",
    "} // namespace v5"
   ]
  },
  {
   "cell_type": "code",
   "execution_count": 24,
   "id": "injured-substance",
   "metadata": {
    "execution": {
     "iopub.execute_input": "2021-06-28T16:54:59.994285Z",
     "iopub.status.busy": "2021-06-28T16:54:59.993778Z",
     "iopub.status.idle": "2021-06-28T16:55:00.003681Z",
     "shell.execute_reply": "2021-06-28T16:55:00.003397Z"
    },
    "slideshow": {
     "slide_type": "fragment"
    }
   },
   "outputs": [],
   "source": [
    "{\n",
    "    using namespace v5;\n",
    "    // Don't\n",
    "    string str{\"Hello World!\"};\n",
    "    example item1{move(str)};\n",
    "    \n",
    "    // Do\n",
    "    example item2{\"Hello World!\"};\n",
    "}"
   ]
  },
  {
   "cell_type": "markdown",
   "id": "mighty-finding",
   "metadata": {
    "slideshow": {
     "slide_type": "notes"
    }
   },
   "source": [
    "**Note:** I once had a colleague who went through my code and split out every sub-expression and assigned it to a variable, with no moves, and then complained my code was slow."
   ]
  },
  {
   "cell_type": "markdown",
   "id": "medium-least",
   "metadata": {
    "slideshow": {
     "slide_type": "slide"
    }
   },
   "source": [
    "## Default Construction\n",
    "\n",
    "- What should the state be of a default constructed object?\n",
    "    - Should it always be fully-formed?\n",
    "\n",
    "- A common use case of a default constructed object is to create the object before we have a value to give to it:"
   ]
  },
  {
   "cell_type": "code",
   "execution_count": 25,
   "id": "pacific-photography",
   "metadata": {
    "execution": {
     "iopub.execute_input": "2021-06-28T16:55:00.005607Z",
     "iopub.status.busy": "2021-06-28T16:55:00.005046Z",
     "iopub.status.idle": "2021-06-28T16:55:00.011328Z",
     "shell.execute_reply": "2021-06-28T16:55:00.010986Z"
    },
    "slideshow": {
     "slide_type": "skip"
    }
   },
   "outputs": [],
   "source": [
    "namespace v11 {\n",
    "\n",
    "bool predicate() { return true; }\n",
    "\n",
    "std::pair<std::string, std::string> get_pair() {\n",
    "    return std::make_pair<string, string>(\"Hello\", \"World\");\n",
    "}\n",
    "\n",
    "} // namespace v11"
   ]
  },
  {
   "cell_type": "code",
   "execution_count": 26,
   "id": "outside-classics",
   "metadata": {
    "execution": {
     "iopub.execute_input": "2021-06-28T16:55:00.013243Z",
     "iopub.status.busy": "2021-06-28T16:55:00.012873Z",
     "iopub.status.idle": "2021-06-28T16:55:00.023587Z",
     "shell.execute_reply": "2021-06-28T16:55:00.023248Z"
    },
    "slideshow": {
     "slide_type": "slide"
    }
   },
   "outputs": [],
   "source": [
    "{\n",
    "    using namespace v11;\n",
    "    \n",
    "    string s;\n",
    "    if (predicate()) s = \"Hello\";\n",
    "    else s = \"World\";\n",
    "}"
   ]
  },
  {
   "cell_type": "code",
   "execution_count": 27,
   "id": "following-chair",
   "metadata": {
    "execution": {
     "iopub.execute_input": "2021-06-28T16:55:00.024976Z",
     "iopub.status.busy": "2021-06-28T16:55:00.024631Z",
     "iopub.status.idle": "2021-06-28T16:55:00.035731Z",
     "shell.execute_reply": "2021-06-28T16:55:00.035431Z"
    },
    "slideshow": {
     "slide_type": "fragment"
    }
   },
   "outputs": [],
   "source": [
    "{\n",
    "    using namespace v11;\n",
    "    \n",
    "    string s1;\n",
    "    string s2;\n",
    "    tie(s1, s2) = get_pair();\n",
    "}"
   ]
  },
  {
   "cell_type": "markdown",
   "id": "sitting-citizen",
   "metadata": {
    "slideshow": {
     "slide_type": "slide"
    }
   },
   "source": [
    "- The language has facilities that make it rarely necessary to construct an object before providing a value:"
   ]
  },
  {
   "cell_type": "code",
   "execution_count": 28,
   "id": "afraid-aging",
   "metadata": {
    "execution": {
     "iopub.execute_input": "2021-06-28T16:55:00.037363Z",
     "iopub.status.busy": "2021-06-28T16:55:00.036835Z",
     "iopub.status.idle": "2021-06-28T16:55:00.044604Z",
     "shell.execute_reply": "2021-06-28T16:55:00.044307Z"
    },
    "slideshow": {
     "slide_type": "fragment"
    }
   },
   "outputs": [],
   "source": [
    "{\n",
    "    using namespace v11;\n",
    "    \n",
    "    string s = predicate() ? \"Hello\" : \"World\";\n",
    "}"
   ]
  },
  {
   "cell_type": "code",
   "execution_count": 29,
   "id": "enormous-drill",
   "metadata": {
    "execution": {
     "iopub.execute_input": "2021-06-28T16:55:00.046563Z",
     "iopub.status.busy": "2021-06-28T16:55:00.046168Z",
     "iopub.status.idle": "2021-06-28T16:55:00.050771Z",
     "shell.execute_reply": "2021-06-28T16:55:00.050463Z"
    },
    "slideshow": {
     "slide_type": "fragment"
    }
   },
   "outputs": [],
   "source": [
    "{\n",
    "    using namespace v11;\n",
    "    \n",
    "    auto [s1, s2] = get_pair();\n",
    "}"
   ]
  },
  {
   "cell_type": "markdown",
   "id": "handled-entrepreneur",
   "metadata": {
    "slideshow": {
     "slide_type": "slide"
    }
   },
   "source": [
    "- This makes having a default constructor optional\n",
    "    - But not having one can be inconvenient"
   ]
  },
  {
   "cell_type": "markdown",
   "id": "photographic-happening",
   "metadata": {
    "slideshow": {
     "slide_type": "fragment"
    }
   },
   "source": [
    "- A default constructed value is often overwritten before use\n",
    "    - It is inefficient to allocate memory, or acquire resources, in the default constructor"
   ]
  },
  {
   "cell_type": "markdown",
   "id": "eleven-dictionary",
   "metadata": {
    "slideshow": {
     "slide_type": "slide"
    }
   },
   "source": [
    "- A default constructor should:\n",
    "    - Be noexcept (one way to do this is to initialize to point to a const (or constexpr) singleton)\n",
    "    - Be `constexpr`\n",
    "    - Execute in time no worse than the time proportional to the `sizeof()` the object\n",
    "    - If the object has a meaningful _zero_ or _empty_ state it should initialize to that state\n",
    "        - Otherwise it may be partially-formed"
   ]
  },
  {
   "cell_type": "markdown",
   "id": "refined-baking",
   "metadata": {
    "slideshow": {
     "slide_type": "slide"
    }
   },
   "source": [
    "- Recommendation\n",
    "    - Provide a default-ctor\n",
    "    - Avoid using it unless it has a meaningful zero or empty value\n",
    "    - A similar effect can always be achieved using `std::optional<>`"
   ]
  },
  {
   "cell_type": "markdown",
   "id": "floating-proposition",
   "metadata": {
    "slideshow": {
     "slide_type": "fragment"
    }
   },
   "source": [
    "- Default-construction is only included in `std::regular<>` for historical reasons\n",
    "    - The classical definition of regular predates `move` as a basis operation\n",
    "        - Instead, `move` was done with default-construction and swap\n",
    "    - Default construction is not required by any standard algorithm"
   ]
  },
  {
   "cell_type": "markdown",
   "id": "restricted-arrest",
   "metadata": {
    "slideshow": {
     "slide_type": "skip"
    }
   },
   "source": [
    "**Exercise:** Implement a default constructor for `my_type`."
   ]
  },
  {
   "cell_type": "code",
   "execution_count": 30,
   "id": "spoken-purchase",
   "metadata": {
    "execution": {
     "iopub.execute_input": "2021-06-28T16:55:00.052648Z",
     "iopub.status.busy": "2021-06-28T16:55:00.052168Z",
     "iopub.status.idle": "2021-06-28T16:55:00.059386Z",
     "shell.execute_reply": "2021-06-28T16:55:00.059049Z"
    },
    "slideshow": {
     "slide_type": "slide"
    }
   },
   "outputs": [],
   "source": [
    "namespace v44 {\n",
    "\n",
    "class my_type {\n",
    "    struct implementation; // forward declaration\n",
    "    struct deleter {\n",
    "        void operator()(implementation*) const;\n",
    "    };\n",
    "    std::unique_ptr<implementation, deleter> _remote; // remote part\n",
    "public:\n",
    "    constexpr my_type() noexcept = default; // <--\n",
    "\n",
    "    my_type(int x, int y);\n",
    "    ~my_type() = default;\n",
    "    my_type(const my_type&);\n",
    "    my_type& operator=(const my_type&);\n",
    "\n",
    "    my_type(my_type&&) noexcept = default;\n",
    "    my_type& operator=(my_type&&) = default;\n",
    "\n",
    "    friend bool operator==(const my_type&, const my_type&);\n",
    "    friend bool operator!=(const my_type& a, const my_type& b) { return !(a == b); }\n",
    "};\n",
    "\n",
    "} // namespace v44"
   ]
  },
  {
   "cell_type": "markdown",
   "id": "transparent-willow",
   "metadata": {
    "incorrectly_encoded_metadata": "toc-hr-collapsed=false",
    "slideshow": {
     "slide_type": "slide"
    }
   },
   "source": [
    "## Expressiveness"
   ]
  },
  {
   "cell_type": "markdown",
   "id": "dependent-realtor",
   "metadata": {
    "incorrectly_encoded_metadata": "slideshow={\"slide_type\": \"slide\"} toc-hr-collapsed=false",
    "slideshow": {
     "slide_type": "slide"
    }
   },
   "source": [
    "### Public calls with private access\n",
    "\n",
    "- In general we want the minimum number of public calls with private access to provide a type which is:\n",
    "    - Computationally Complete\n",
    "    - Equationally Complete\n",
    "    - Efficient\n",
    "    - Safe (except as _required_ for efficiency)\n",
    "    - Operations required to be part of the class interface by the language (i.e., you cannot implement a stand-alone assignment operator)\n",
    "\n",
    "- Other operations should be implemented in terms of those"
   ]
  },
  {
   "cell_type": "markdown",
   "id": "protected-people",
   "metadata": {
    "slideshow": {
     "slide_type": "fragment"
    }
   },
   "source": [
    "- What other operations should be provide?"
   ]
  },
  {
   "cell_type": "markdown",
   "id": "neutral-laundry",
   "metadata": {
    "incorrectly_encoded_metadata": "slideshow={\"slide_type\": \"slide\"} toc-hr-collapsed=false",
    "slideshow": {
     "slide_type": "slide"
    }
   },
   "source": [
    "### Expressive Basis\n",
    "\n",
    "> A basis is _expressive_ if it allows compact and convenient definitions of procedures on the type."
   ]
  },
  {
   "cell_type": "markdown",
   "id": "disturbed-forth",
   "metadata": {
    "slideshow": {
     "slide_type": "fragment"
    }
   },
   "source": [
    "- As an example, consider the standard operators, given `operator<()` we don't need the other comparisons:\n",
    "    - `(a > b) == (b < a)`\n",
    "    - `(a <= b) == !(b < a)`\n",
    "    - `(a >= b) == !(a < b)`\n",
    "    - `(a == b) == !(a < b || b < a)`\n",
    "    - `(a != b) == (a < b || b < a)`"
   ]
  },
  {
   "cell_type": "markdown",
   "id": "fatty-newman",
   "metadata": {
    "slideshow": {
     "slide_type": "slide"
    }
   },
   "source": [
    "- Writing:\n",
    "```cpp\n",
    "if (!(a < b || b < a)) some_operation();\n",
    "```\n",
    "is not as expressive as:\n",
    "```cpp\n",
    "if (a == b) some_operation();\n",
    "```"
   ]
  },
  {
   "cell_type": "markdown",
   "id": "shaped-extra",
   "metadata": {
    "slideshow": {
     "slide_type": "slide"
    }
   },
   "source": [
    "- Where we have standard operators or other strong conventions, supply those operations\n",
    "- Supply any other operations that are likely to be common\n",
    "    - Unless they can be provided in a generic fashion across types\n",
    "\n",
    "- This still leaves a fair amount up to the designer to choose how to balance safety and efficiency and what _expressive_ means in the context of the type"
   ]
  },
  {
   "cell_type": "markdown",
   "id": "metropolitan-lover",
   "metadata": {
    "slideshow": {
     "slide_type": "slide"
    }
   },
   "source": [
    "## Other Operations"
   ]
  },
  {
   "cell_type": "markdown",
   "id": "broken-crossing",
   "metadata": {
    "slideshow": {
     "slide_type": "slide"
    }
   },
   "source": [
    "### Address-of"
   ]
  },
  {
   "cell_type": "markdown",
   "id": "finished-premiere",
   "metadata": {
    "slideshow": {
     "slide_type": "fragment"
    }
   },
   "source": [
    "- Because every object exists in memory, every object has an address."
   ]
  },
  {
   "cell_type": "markdown",
   "id": "experienced-apple",
   "metadata": {
    "slideshow": {
     "slide_type": "fragment"
    }
   },
   "source": [
    "- Even though you can overload `operator&()`, don't."
   ]
  },
  {
   "cell_type": "markdown",
   "id": "affected-creek",
   "metadata": {
    "slideshow": {
     "slide_type": "fragment"
    }
   },
   "source": [
    "- For the paranoid library writeer, the standard supplies `std::addressof()`."
   ]
  },
  {
   "cell_type": "markdown",
   "id": "north-original",
   "metadata": {
    "slideshow": {
     "slide_type": "slide"
    }
   },
   "source": [
    "### Hash"
   ]
  },
  {
   "cell_type": "markdown",
   "id": "integral-northeast",
   "metadata": {
    "slideshow": {
     "slide_type": "fragment"
    }
   },
   "source": [
    "- Because every object exists in memory, it's representation can be hashed\n",
    "- Representationally equal objects imply equal hashes, not the converse\n",
    "- The standard allows you to specialize `std::hash<>` for your type\n",
    "- The standard does not provide a `hash_combine()` function or a tuple hash\n",
    "- [Boost provides both](https://www.boost.org/doc/libs/1_75_0/doc/html/hash.html) which can be used with `std::tie()` to easily provide a hash function"
   ]
  },
  {
   "cell_type": "markdown",
   "id": "dramatic-services",
   "metadata": {
    "slideshow": {
     "slide_type": "slide"
    }
   },
   "source": [
    "### Serialization"
   ]
  },
  {
   "cell_type": "markdown",
   "id": "million-mongolia",
   "metadata": {
    "slideshow": {
     "slide_type": "fragment"
    }
   },
   "source": [
    "- Although any equationally complete type can be serialized, the standard doesn't provide a standard serialization format\n",
    "- Still, supporting `operator<<()` for ostream is useful for debugging"
   ]
  },
  {
   "cell_type": "code",
   "execution_count": 31,
   "id": "ideal-state",
   "metadata": {
    "execution": {
     "iopub.execute_input": "2021-06-28T16:55:00.061606Z",
     "iopub.status.busy": "2021-06-28T16:55:00.060971Z",
     "iopub.status.idle": "2021-06-28T16:55:00.069431Z",
     "shell.execute_reply": "2021-06-28T16:55:00.068990Z"
    },
    "slideshow": {
     "slide_type": "slide"
    }
   },
   "outputs": [],
   "source": [
    "namespace v45 {\n",
    "\n",
    "class my_type {\n",
    "    struct implementation; // forward declaration\n",
    "    struct deleter {\n",
    "        void operator()(implementation*) const;\n",
    "    };\n",
    "    std::unique_ptr<implementation, deleter> _remote; // remote part\n",
    "public:\n",
    "    constexpr my_type() noexcept = default;\n",
    "\n",
    "    my_type(int x, int y);\n",
    "    ~my_type() = default;\n",
    "    my_type(const my_type&);\n",
    "    my_type& operator=(const my_type&);\n",
    "\n",
    "    my_type(my_type&&) noexcept = default;\n",
    "    my_type& operator=(my_type&&) = default;\n",
    "\n",
    "    friend bool operator==(const my_type&, const my_type&);\n",
    "    friend bool operator!=(const my_type& a, const my_type& b) { return !(a == b); }\n",
    "    \n",
    "    friend std::ostream& operator<<(std::ostream&, const my_type&);\n",
    "};\n",
    "\n",
    "} // namespace v44"
   ]
  },
  {
   "cell_type": "code",
   "execution_count": 32,
   "id": "dense-relaxation",
   "metadata": {
    "execution": {
     "iopub.execute_input": "2021-06-28T16:55:00.071429Z",
     "iopub.status.busy": "2021-06-28T16:55:00.070864Z",
     "iopub.status.idle": "2021-06-28T16:55:00.079412Z",
     "shell.execute_reply": "2021-06-28T16:55:00.079072Z"
    },
    "slideshow": {
     "slide_type": "skip"
    }
   },
   "outputs": [],
   "source": [
    "namespace v45 {\n",
    "\n",
    "struct my_type::implementation {\n",
    "    int _x;\n",
    "    int _y;\n",
    "\n",
    "    auto underlying() const { return std::tie(_x, _y); }\n",
    "};\n",
    "\n",
    "my_type::my_type(int x, int y) : _remote{new implementation{x, y}} {}\n",
    "my_type::my_type(const my_type& a) : _remote{new implementation{*a._remote}} {}\n",
    "\n",
    "my_type& my_type::operator=(const my_type& a) {\n",
    "    if (!_remote) *this = my_type{a};\n",
    "    *_remote = *a._remote;\n",
    "    return *this;\n",
    "}\n",
    "\n",
    "void my_type::deleter::operator()(implementation* p) const { delete p; }\n",
    "\n",
    "bool operator==(const my_type& a, const my_type& b) {\n",
    "    return a._remote->underlying() == b._remote->underlying();\n",
    "}\n",
    "\n",
    "} // namespace v43"
   ]
  },
  {
   "cell_type": "code",
   "execution_count": 33,
   "id": "increasing-curve",
   "metadata": {
    "execution": {
     "iopub.execute_input": "2021-06-28T16:55:00.081134Z",
     "iopub.status.busy": "2021-06-28T16:55:00.080665Z",
     "iopub.status.idle": "2021-06-28T16:55:00.083524Z",
     "shell.execute_reply": "2021-06-28T16:55:00.083248Z"
    },
    "slideshow": {
     "slide_type": "slide"
    }
   },
   "outputs": [],
   "source": [
    "namespace v45 {\n",
    "\n",
    "ostream& operator<<(ostream& out, const my_type& a) {\n",
    "    const auto& self{*a._remote};\n",
    "    return out << \"{ \\\"x\\\": \" << self._x << \", \\\"y\\\": \" << self._y << \" }\";\n",
    "}\n",
    "\n",
    "} // namespace v45"
   ]
  },
  {
   "cell_type": "code",
   "execution_count": 34,
   "id": "capital-appeal",
   "metadata": {
    "execution": {
     "iopub.execute_input": "2021-06-28T16:55:00.085436Z",
     "iopub.status.busy": "2021-06-28T16:55:00.085047Z",
     "iopub.status.idle": "2021-06-28T16:55:00.104122Z",
     "shell.execute_reply": "2021-06-28T16:55:00.103811Z"
    },
    "slideshow": {
     "slide_type": "fragment"
    }
   },
   "outputs": [
    {
     "name": "stdout",
     "output_type": "stream",
     "text": [
      "{ \"x\": 10, \"y\": 42 }\n"
     ]
    }
   ],
   "source": [
    "{\n",
    "    using namespace v45;\n",
    "    \n",
    "    my_type a{10, 42};\n",
    "    cout << a << \"\\n\";\n",
    "}"
   ]
  },
  {
   "cell_type": "markdown",
   "id": "absolute-occurrence",
   "metadata": {
    "slideshow": {
     "slide_type": "slide"
    }
   },
   "source": [
    "### Ordering"
   ]
  },
  {
   "cell_type": "markdown",
   "id": "massive-version",
   "metadata": {
    "slideshow": {
     "slide_type": "fragment"
    }
   },
   "source": [
    "- Covered in the next section"
   ]
  }
 ],
 "metadata": {
  "jupytext": {
   "formats": "ipynb,md"
  },
  "kernelspec": {
   "display_name": "C++17",
   "language": "C++17",
   "name": "xcpp17"
  },
  "language_info": {
   "codemirror_mode": "text/x-c++src",
   "file_extension": ".cpp",
   "mimetype": "text/x-c++src",
   "name": "c++",
   "version": "17"
  }
 },
 "nbformat": 4,
 "nbformat_minor": 5
}

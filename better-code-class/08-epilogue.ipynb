{
 "cells": [
  {
   "cell_type": "markdown",
   "id": "indonesian-masters",
   "metadata": {},
   "source": [
    "# Epilogue\n",
    "\n",
    "## Acknowledgments\n",
    "\n",
    "Kris van Rens for numerous corrections and suggestions."
   ]
  },
  {
   "cell_type": "code",
   "execution_count": null,
   "id": "saved-selling",
   "metadata": {},
   "outputs": [],
   "source": []
  }
 ],
 "metadata": {
  "jupytext": {
   "formats": "ipynb,md"
  },
  "kernelspec": {
   "display_name": "C++17",
   "language": "C++17",
   "name": "xcpp17"
  },
  "language_info": {
   "codemirror_mode": "text/x-c++src",
   "file_extension": ".cpp",
   "mimetype": "text/x-c++src",
   "name": "c++",
   "version": "17"
  }
 },
 "nbformat": 4,
 "nbformat_minor": 5
}

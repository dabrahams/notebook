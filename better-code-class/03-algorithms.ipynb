{
 "cells": [
  {
   "cell_type": "code",
   "execution_count": 1,
   "id": "stainless-orleans",
   "metadata": {
    "execution": {
     "iopub.execute_input": "2021-06-28T16:55:02.095769Z",
     "iopub.status.busy": "2021-06-28T16:55:02.095085Z",
     "iopub.status.idle": "2021-06-28T16:55:02.183774Z",
     "shell.execute_reply": "2021-06-28T16:55:02.183379Z"
    },
    "slideshow": {
     "slide_type": "skip"
    }
   },
   "outputs": [],
   "source": [
    "#include \"../common.hpp\""
   ]
  },
  {
   "cell_type": "markdown",
   "id": "applicable-procedure",
   "metadata": {
    "slideshow": {
     "slide_type": "slide"
    }
   },
   "source": [
    "# Algorithms\n",
    "\n",
    "**Goal: No raw loops**"
   ]
  },
  {
   "cell_type": "markdown",
   "id": "simplified-slope",
   "metadata": {
    "slideshow": {
     "slide_type": "fragment"
    }
   },
   "source": [
    "> An _Algorithm_ is a process or set of rules to be followed in calculations or other problem-solving operations, especially by a computer."
   ]
  },
  {
   "cell_type": "markdown",
   "id": "different-finding",
   "metadata": {
    "slideshow": {
     "slide_type": "slide"
    }
   },
   "source": [
    "## Trivial vs Non-Trivial Algorithms\n",
    "\n",
    "The term _algorithm_ covers all code. If an algorithm does not require iteration or recursion, it is a _trivial_ algorithm. Otherwise it is a non-trivial algorithm. The standard includes trivial algorithms such as `std::swap()` and `std::exchange()`, but for this section the focus is on non-trivial algorithms."
   ]
  },
  {
   "cell_type": "markdown",
   "id": "helpful-circuit",
   "metadata": {
    "slideshow": {
     "slide_type": "slide"
    }
   },
   "source": [
    "## Sequences\n",
    "\n",
    "- For a sequence of _n_ elements their are _n + 1_ positions"
   ]
  },
  {
   "cell_type": "markdown",
   "id": "combined-drove",
   "metadata": {
    "slideshow": {
     "slide_type": "fragment"
    }
   },
   "source": [
    "- How to represent a range of elements?"
   ]
  },
  {
   "cell_type": "markdown",
   "id": "legal-judges",
   "metadata": {
    "slideshow": {
     "slide_type": "fragment"
    }
   },
   "source": [
    "- Problem with closed interval `[f, l]`?"
   ]
  },
  {
   "cell_type": "markdown",
   "id": "chicken-softball",
   "metadata": {
    "slideshow": {
     "slide_type": "fragment"
    }
   },
   "source": [
    "- Problem with open interval `(f, l)`?"
   ]
  },
  {
   "cell_type": "markdown",
   "id": "flying-mystery",
   "metadata": {
    "slideshow": {
     "slide_type": "fragment"
    }
   },
   "source": [
    "- Half-open intervals have significant advantages `[f, l)`\n",
    "    - By strong convention we are open on the right"
   ]
  },
  {
   "cell_type": "markdown",
   "id": "biological-airfare",
   "metadata": {
    "slideshow": {
     "slide_type": "fragment"
    }
   },
   "source": [
    "- `[p, p)` represents an empty range, at position `p`\n",
    "    - All empty ranges are not equal"
   ]
  },
  {
   "cell_type": "markdown",
   "id": "authentic-treasury",
   "metadata": {
    "slideshow": {
     "slide_type": "fragment"
    }
   },
   "source": [
    "- Think of the positions as the lines between the elements"
   ]
  },
  {
   "cell_type": "markdown",
   "id": "following-visiting",
   "metadata": {
    "slideshow": {
     "slide_type": "slide"
    }
   },
   "source": [
    "<center>\n",
    "    <img src='img/sequence-1.svg' alt='Sequence 1'>\n",
    "    <br>\n",
    "    <em>Sequence With Pointers To Objects</em>\n",
    "</center>"
   ]
  },
  {
   "cell_type": "markdown",
   "id": "direct-money",
   "metadata": {
    "slideshow": {
     "slide_type": "slide"
    }
   },
   "source": [
    "<center>\n",
    "    <img src='img/sequence-2.svg' alt='Sequence 2'>\n",
    "    <br>\n",
    "    <em>Sequence With Pointers Between Objects</em>\n",
    "</center>"
   ]
  },
  {
   "cell_type": "markdown",
   "id": "disabled-habitat",
   "metadata": {
    "slideshow": {
     "slide_type": "slide"
    }
   },
   "source": [
    "- Limitations of half-open intervals\n",
    "    - If there is not a _next element_ then a half open interval cannot express a single element\n",
    "    - If there is a finite number of elements, the last (or first) cannot be included"
   ]
  },
  {
   "cell_type": "markdown",
   "id": "joined-bearing",
   "metadata": {
    "slideshow": {
     "slide_type": "slide"
    }
   },
   "source": [
    "- There are different common ways to represent a half-open interval"
   ]
  },
  {
   "cell_type": "markdown",
   "id": "funky-mercy",
   "metadata": {
    "slideshow": {
     "slide_type": "fragment"
    }
   },
   "source": [
    "- A position `f` in a sequence can be denoted with an index, pointer, or iterator\n",
    "    - The only requirement is that `f` be _incrementable_ to obtain the next element in the sequence"
   ]
  },
  {
   "cell_type": "markdown",
   "id": "noble-regulation",
   "metadata": {
    "slideshow": {
     "slide_type": "fragment"
    }
   },
   "source": [
    "- `[f, l)`"
   ]
  },
  {
   "cell_type": "markdown",
   "id": "expensive-titanium",
   "metadata": {
    "slideshow": {
     "slide_type": "fragment"
    }
   },
   "source": [
    "- `[f, f + n) _n`"
   ]
  },
  {
   "cell_type": "markdown",
   "id": "perceived-denver",
   "metadata": {
    "slideshow": {
     "slide_type": "fragment"
    }
   },
   "source": [
    "- `[f, predicate()) _until`"
   ]
  },
  {
   "cell_type": "markdown",
   "id": "alive-handy",
   "metadata": {
    "slideshow": {
     "slide_type": "fragment"
    }
   },
   "source": [
    "- `[f, is_sentinel())` NTBS\n",
    "    - `const char*`"
   ]
  },
  {
   "cell_type": "markdown",
   "id": "assumed-characterization",
   "metadata": {
    "slideshow": {
     "slide_type": "fragment"
    }
   },
   "source": [
    "- `[f, ...)` unbounded (dependent on something else)\n",
    "    - i.e. range is required to be same or greater length than another range"
   ]
  },
  {
   "cell_type": "markdown",
   "id": "under-frame",
   "metadata": {
    "slideshow": {
     "slide_type": "slide"
    }
   },
   "source": [
    "- For a variable `a` in C and C++, it is guaranteed that `&a + 1` yields a valid, but not dereferenceable, pointer\n",
    "    - `[&a, &a + 1)` is a valid range"
   ]
  },
  {
   "cell_type": "markdown",
   "id": "greenhouse-sapphire",
   "metadata": {
    "slideshow": {
     "slide_type": "slide"
    }
   },
   "source": [
    "## Common algorithms and their uses\n",
    "\n",
    "- A great resource for finding standard algorithms:\n",
    "  - https://en.cppreference.com/w/cpp/algorithm"
   ]
  },
  {
   "cell_type": "markdown",
   "id": "demonstrated-tongue",
   "metadata": {
    "slideshow": {
     "slide_type": "slide"
    }
   },
   "source": [
    "## Non-modifying sequence operations\n",
    "\n",
    "- `find`\n",
    "- `for_each`\n",
    "- `count`\n",
    "- `min` & `max`"
   ]
  },
  {
   "cell_type": "markdown",
   "id": "treated-delicious",
   "metadata": {},
   "source": [
    "- `find` returns the position of the first element in the range `[f, l)` that satisfies the specified criteria."
   ]
  },
  {
   "cell_type": "code",
   "execution_count": 2,
   "id": "julian-judgment",
   "metadata": {
    "execution": {
     "iopub.execute_input": "2021-06-28T16:55:02.186214Z",
     "iopub.status.busy": "2021-06-28T16:55:02.185765Z",
     "iopub.status.idle": "2021-06-28T16:55:02.487165Z",
     "shell.execute_reply": "2021-06-28T16:55:02.486211Z"
    },
    "slideshow": {
     "slide_type": "fragment"
    }
   },
   "outputs": [
    {
     "data": {
      "text/plain": [
       "5"
      ]
     },
     "metadata": {},
     "output_type": "display_data"
    }
   ],
   "source": [
    "{\n",
    "    int a[]{0, 1, 2, 3, 4, 5, 6, 7, 8, 9};\n",
    "    display(*find(begin(a), end(a), 5));\n",
    "}"
   ]
  },
  {
   "cell_type": "markdown",
   "id": "general-kuwait",
   "metadata": {
    "slideshow": {
     "slide_type": "fragment"
    }
   },
   "source": [
    "**Question:** How do we know `find()` will _find_ a value?"
   ]
  },
  {
   "cell_type": "markdown",
   "id": "genetic-hormone",
   "metadata": {
    "slideshow": {
     "slide_type": "slide"
    }
   },
   "source": [
    "- Iterator must meet the requirements of [_LegacyInputIterator_](https://en.cppreference.com/w/cpp/named_req/InputIterator)\n",
    "- `[f, l)` must form a _valid range_\n",
    "- the value type must be [_EqualityComparable_](https://en.cppreference.com/w/cpp/named_req/EqualityComparable) to the iterator `value_type`"
   ]
  },
  {
   "cell_type": "markdown",
   "id": "pleasant-female",
   "metadata": {
    "lines_to_next_cell": 0,
    "slideshow": {
     "slide_type": "slide"
    }
   },
   "source": [
    "## Requirements and Guarantees"
   ]
  },
  {
   "cell_type": "markdown",
   "id": "terminal-hollow",
   "metadata": {
    "slideshow": {
     "slide_type": "fragment"
    }
   },
   "source": [
    "- A generic algorithm is specified in terms of a set of _requirements_ on its arguments. The requirements are a set of _concepts_ and _preconditions_ which, if satisfied, guarantee the algorithm performs as specified\n",
    "- The C++ standard contains tables of [_named requirements_](https://en.cppreference.com/w/cpp/named_req) and [_concepts_](https://en.cppreference.com/w/cpp/header/concepts)"
   ]
  },
  {
   "cell_type": "markdown",
   "id": "wireless-paraguay",
   "metadata": {
    "slideshow": {
     "slide_type": "fragment"
    }
   },
   "source": [
    "- Concepts and Preconditions are closely related and both ideas are rooted in [_Hoare Logic_](https://en.wikipedia.org/wiki/Hoare_logic)\n",
    "\n",
    "\n",
    "\n"
   ]
  },
  {
   "cell_type": "markdown",
   "id": "welcome-pregnancy",
   "metadata": {
    "slideshow": {
     "slide_type": "slide"
    }
   },
   "source": [
    "- A given type or operation _guarantees_ it satisfies some requirements\n",
    "- Guarantees are provided by _modeling_ concepts, and ensuring postconditions and class invariants\n",
    "- The description of each type in the standard will specify it _is a_ (model of) a concept as well as specifying the semantics (postconditions and class invariants) of operations and object properties"
   ]
  },
  {
   "cell_type": "markdown",
   "id": "competitive-capitol",
   "metadata": {
    "slideshow": {
     "slide_type": "slide"
    }
   },
   "source": [
    "- By matching requirements with guarantees we create software which works"
   ]
  },
  {
   "cell_type": "markdown",
   "id": "asian-sarah",
   "metadata": {
    "slideshow": {
     "slide_type": "slide"
    }
   },
   "source": [
    "### Concept\n",
    "\n",
    "The term _concept_ first appeared in the paper _Fundamentals of Generic Programming_:\n",
    "\n",
    "> We call the set of axioms satisfied by a data type and a set of operations on it a _concept_.\n",
    "<br> &emsp;&mdash; _Fundamentals of Generic Programming_, Dehnert & Stepanov"
   ]
  },
  {
   "cell_type": "markdown",
   "id": "conceptual-richards",
   "metadata": {
    "slideshow": {
     "slide_type": "fragment"
    }
   },
   "source": [
    "In C++20, a language _concept_ is a set of syntactic requirements with a set of specified, in documentation, semantic and complexity requirements."
   ]
  },
  {
   "cell_type": "markdown",
   "id": "crucial-purpose",
   "metadata": {
    "slideshow": {
     "slide_type": "fragment"
    }
   },
   "source": [
    "- As with spoken language, we associate meaning with words\n",
    "- Even this is controversial "
   ]
  },
  {
   "cell_type": "markdown",
   "id": "necessary-opening",
   "metadata": {
    "slideshow": {
     "slide_type": "slide"
    }
   },
   "source": [
    "> Names should not be associated with semantics because\n",
    "everybody has their own hidden assumptions about what semantics are,\n",
    "and they clash, causing comprehension problems without knowing why.\n",
    "This is why it's valuable to write code to reflect what code is\n",
    "actually doing, rather than what code \"means\": it's hard to have\n",
    "conceptual clashes about what code actually does.\n",
    "<br> &emsp;&mdash; Craig Silverstein, personal correspondence"
   ]
  },
  {
   "cell_type": "markdown",
   "id": "beginning-situation",
   "metadata": {
    "slideshow": {
     "slide_type": "slide"
    }
   },
   "source": [
    "- _LegacyInputIterator_ and _EqualityComparable_ are concepts"
   ]
  },
  {
   "cell_type": "markdown",
   "id": "abandoned-russia",
   "metadata": {
    "slideshow": {
     "slide_type": "fragment"
    }
   },
   "source": [
    "- Concept semantics usually are specified in terms of existential quantifiers ($\\forall$, $\\exists$)"
   ]
  },
  {
   "cell_type": "markdown",
   "id": "organized-cylinder",
   "metadata": {
    "slideshow": {
     "slide_type": "fragment"
    }
   },
   "source": [
    "- However, they also imply a precondition that the argument is within the _domain of the operation_ (more discussion to follow)."
   ]
  },
  {
   "cell_type": "markdown",
   "id": "valid-validity",
   "metadata": {
    "slideshow": {
     "slide_type": "slide"
    }
   },
   "source": [
    "#### Model\n",
    "\n",
    "> We say that a concept is _modeled by_ specific types, or that the type _models_ the concept, if the requirements are satisfied for these types."
   ]
  },
  {
   "cell_type": "markdown",
   "id": "laden-karen",
   "metadata": {},
   "source": [
    "- By stating that a type models a concept, a type is providing a guarantee that it may be used where a concept is required."
   ]
  },
  {
   "cell_type": "markdown",
   "id": "elect-residence",
   "metadata": {
    "slideshow": {
     "slide_type": "slide"
    }
   },
   "source": [
    "### Contracts\n",
    "\n",
    "_Contracts_, or _Design by Contract_, is a systematic approach to ensuring the values passed to, and returned by an operation satisfy specific assertions."
   ]
  },
  {
   "cell_type": "markdown",
   "id": "serious-newspaper",
   "metadata": {
    "slideshow": {
     "slide_type": "fragment"
    }
   },
   "source": [
    "> If the execution of a certain task relies on a routine call to handle one of its subtasks, it is necessary to specify the relationship between the client (the call- er) and the supplier (the called routine) as precisely as possible. The mechanisms for expressing such conditions are called assertions. Some assertions. called preconditions and postconditions. apply to individual routines. Others, the class invariants, constrain all the routines of a given class...\n",
    "<br> &emsp;&mdash; _Applying \"Design by Contract\"_, Bertrand Meyer"
   ]
  },
  {
   "cell_type": "markdown",
   "id": "everyday-assembly",
   "metadata": {
    "slideshow": {
     "slide_type": "slide"
    }
   },
   "source": [
    "#### Precondition"
   ]
  },
  {
   "cell_type": "markdown",
   "id": "competent-disclosure",
   "metadata": {},
   "source": [
    "- A _precondition_ is a condition that must be satisfied by the argument values to a function, or by the state of the system (a _global precondition_) for the operation to execute correctly.\n",
    "- Correct execution can include returning an error.\n",
    "\n",
    "- `[f, l)` must form a valid range is a precondition\n",
    "\n",
    "- Not all preconditions can be asserted in code\n",
    "    - i.e. `f(int* p)` with the precondition that `p` is dereferenceable\n",
    "    \n",
    "- We must still validate, prove, our code by hand\n",
    "    - Most concepts can not be asserted in code (because existential quantifiers) and many preconditions cannot be asserted in code."
   ]
  },
  {
   "cell_type": "markdown",
   "id": "sized-indicator",
   "metadata": {
    "slideshow": {
     "slide_type": "slide"
    }
   },
   "source": [
    "- An aside:\n",
    "    - A _secure interface_ is an interface where all preconditions can be, and are, validated\n",
    "        - which can also be phrased as an interface _without preconditions_\n",
    "    - A _secure system_ is a system where the interface is secure and all the code in the system is correct"
   ]
  },
  {
   "cell_type": "markdown",
   "id": "religious-storm",
   "metadata": {
    "slideshow": {
     "slide_type": "notes"
    }
   },
   "source": [
    "**Note:** I never see this taught in classes on security, which tend to focus much more on safety. As someone who spent a fair amount of time in my youth hacking systems, I can tell you that looking for interfaces which cannot be validated is often a fast way into a system."
   ]
  },
  {
   "cell_type": "markdown",
   "id": "preliminary-customer",
   "metadata": {
    "slideshow": {
     "slide_type": "slide"
    }
   },
   "source": [
    "#### Postcondition\n",
    "\n",
    "- A _postcondition_ is a guarantee about the result of an operation\n",
    "- _result_ in this context is used broadly to include modified arguments and side-effects"
   ]
  },
  {
   "cell_type": "markdown",
   "id": "altered-asian",
   "metadata": {
    "slideshow": {
     "slide_type": "fragment"
    }
   },
   "source": [
    "- For example, \n",
    "> The result of `find(f, l, v)` is an iterator within the range `[f, l)`.\n",
    "\n",
    "Is a postcondition of `find()`."
   ]
  },
  {
   "cell_type": "markdown",
   "id": "wound-wesley",
   "metadata": {
    "slideshow": {
     "slide_type": "slide"
    }
   },
   "source": [
    "#### Class Invariant\n",
    "\n",
    "- A _class invariant_ is a postcondition that applies to all operations, including construction, on a class"
   ]
  },
  {
   "cell_type": "markdown",
   "id": "numeric-living",
   "metadata": {
    "slideshow": {
     "slide_type": "slide"
    }
   },
   "source": [
    "### Concepts, Partial Functions, and Domain"
   ]
  },
  {
   "cell_type": "markdown",
   "id": "sweet-principal",
   "metadata": {},
   "source": [
    "Compare the description for the old [SGI STL LessThanComparable concept](https://www.boost.org/sgi/stl/LessThanComparable.html):\n",
    "\n",
    "> Expression semantics\n",
    ">\n",
    "> | Name | Expression | Precondition                         | Semantics | Postcondition |\n",
    "> | -    | -          | -                                    | -         | -             |\n",
    "> | Less | `x < y`    | `x` and `y` are in the domain of `<` |           |               |\n",
    " \n",
    "versus the [C++17 concept](https://eel.is/c++draft/utility.arg.requirements#tab:cpp17.lessthancomparable).\n",
    "\n",
    "> Table 28: _CppLessThanComparable_ requirements\n",
    ">\n",
    "> | Expression | Return type           | Requirement                            |\n",
    "> | -          | -                     | -                                      |\n",
    "> | `a < b`    | convertible to `bool` | `<` is a strict weak ordering relation |\n",
    "\n",
    "_In the SGI STL the requirement of [strict-weak-ordering](https://www.boost.org/sgi/stl/StrictWeakOrdering.html) was a separate concept._"
   ]
  },
  {
   "cell_type": "markdown",
   "id": "basic-uruguay",
   "metadata": {
    "slideshow": {
     "slide_type": "slide"
    }
   },
   "source": [
    "Domain is defined in the C++ standard, but in the [context of _iterators_](https://eel.is/c++draft/iterator.cpp17#input.iterators-2). This passage used to refer to the _domain of operations_, but that has been narrowed to the _domain of_ `==`:"
   ]
  },
  {
   "cell_type": "markdown",
   "id": "exclusive-violence",
   "metadata": {
    "slideshow": {
     "slide_type": "slide"
    }
   },
   "source": [
    "> The term _the domain of_ `==` is used in the ordinary mathematical sense to denote the set of values over which `==` is (required to be) defined. This set can change over time. Each algorithm places additional requirements on the domain of `==` for the iterator values it uses. These requirements can be inferred from the uses that algorithm makes of `==` and `!=`.\n",
    ">\n",
    "> | Expression | Return type | Operational Semantics | Assertion/note<br>pre-/post-condition |\n",
    "> | - | - | - | - |\n",
    "> | `a != b` | contextually convertible to `bool` | `!(a == b)` | _Preconditions:_ (`a, b`) is in the domain of `==` |\n"
   ]
  },
  {
   "cell_type": "markdown",
   "id": "baking-swing",
   "metadata": {},
   "source": [
    "What was part of the definition of concepts in general has been weakened to a requirement for a single operation on iterators."
   ]
  },
  {
   "cell_type": "markdown",
   "id": "thrown-niagara",
   "metadata": {
    "slideshow": {
     "slide_type": "slide"
    }
   },
   "source": [
    "- I'm working on a standard proposal to address this, here is my current recommended wording:"
   ]
  },
  {
   "cell_type": "markdown",
   "id": "dental-familiar",
   "metadata": {
    "slideshow": {
     "slide_type": "fragment"
    }
   },
   "source": [
    "> The term _domain_ of an operation is used in the ordinary mathematical sense to denote the set of values over which an operation is (required to be) defined. This set can change over time. Each component may place additional requirements on the domain of an operation. These requirements can be inferred from the uses that a component makes of the operation and is generally constrained to those values accessible through the arguments of the operation."
   ]
  },
  {
   "cell_type": "markdown",
   "id": "inside-paris",
   "metadata": {
    "slideshow": {
     "slide_type": "slide"
    }
   },
   "source": [
    "> A _partial_ function is a function whose domain is a subset of the values for the type of the operands"
   ]
  },
  {
   "cell_type": "markdown",
   "id": "composed-source",
   "metadata": {
    "slideshow": {
     "slide_type": "fragment"
    }
   },
   "source": [
    "- Because machines are physical and finite, many operations are partial\n",
    "    - addition on signed integers for example"
   ]
  },
  {
   "cell_type": "markdown",
   "id": "proved-associate",
   "metadata": {
    "slideshow": {
     "slide_type": "fragment"
    }
   },
   "source": [
    "- Learn to manage partial functions with care to ensure values are within the functions domain"
   ]
  },
  {
   "cell_type": "markdown",
   "id": "heavy-reduction",
   "metadata": {
    "slideshow": {
     "slide_type": "slide"
    }
   },
   "source": [
    "### Axes of Freedom"
   ]
  },
  {
   "cell_type": "markdown",
   "id": "reported-master",
   "metadata": {
    "slideshow": {
     "slide_type": "fragment"
    }
   },
   "source": [
    "- Guarantees can be strengthened without breaking existing code"
   ]
  },
  {
   "cell_type": "markdown",
   "id": "loose-habitat",
   "metadata": {
    "slideshow": {
     "slide_type": "fragment"
    }
   },
   "source": [
    "- i.e. `std::basic_string()` only guarantees the value of a moved-from string is valid\n",
    "    - in the future it could guarantee the value is empty without breaking any code"
   ]
  },
  {
   "cell_type": "markdown",
   "id": "thousand-spiritual",
   "metadata": {
    "slideshow": {
     "slide_type": "slide"
    }
   },
   "source": [
    "- Requirements can be weakened without breaking existing code"
   ]
  },
  {
   "cell_type": "markdown",
   "id": "concrete-venue",
   "metadata": {
    "slideshow": {
     "slide_type": "fragment"
    }
   },
   "source": [
    "- i.e. `std::merge()` currently requires a strict-weak ordering\n",
    "    - in the future that could be relaxed to a partial-ordering without breaking any code"
   ]
  },
  {
   "cell_type": "markdown",
   "id": "hairy-lightweight",
   "metadata": {
    "slideshow": {
     "slide_type": "slide"
    }
   },
   "source": [
    "- Weakening a guarantee or strengthening a requirement is a breaking change\n",
    "    - best handled by introducing a new name for the type or operation"
   ]
  },
  {
   "cell_type": "markdown",
   "id": "second-oxygen",
   "metadata": {
    "slideshow": {
     "slide_type": "slide"
    }
   },
   "source": [
    "## Modifying sequence operations\n",
    "\n",
    "- `copy`\n",
    "- `move`\n",
    "- `transform`\n",
    "- `generate`\n",
    "- `remove` & `unique`"
   ]
  },
  {
   "cell_type": "markdown",
   "id": "italian-judgment",
   "metadata": {
    "slideshow": {
     "slide_type": "fragment"
    }
   },
   "source": [
    "- The basic non-modifying and modifying sequence operations are all very common"
   ]
  },
  {
   "cell_type": "markdown",
   "id": "stuck-stretch",
   "metadata": {
    "slideshow": {
     "slide_type": "fragment"
    }
   },
   "source": [
    "- The standard only provides a small number of possible, useful, interfaces to these operations\n",
    "- Keep a library of useful variants and add to them"
   ]
  },
  {
   "cell_type": "markdown",
   "id": "crucial-cream",
   "metadata": {
    "slideshow": {
     "slide_type": "slide"
    }
   },
   "source": [
    "### OutputIterators and _sink_ functions"
   ]
  },
  {
   "cell_type": "markdown",
   "id": "damaged-arcade",
   "metadata": {
    "slideshow": {
     "slide_type": "fragment"
    }
   },
   "source": [
    "- OutputIterators are isomorphic with a _sink_ function object\n",
    "    - Function objects are simpler to write with lambda expressions"
   ]
  },
  {
   "cell_type": "markdown",
   "id": "stainless-discharge",
   "metadata": {
    "slideshow": {
     "slide_type": "fragment"
    }
   },
   "source": [
    "- `std::fill()`, `std::iota()` and `std::generate()` would be better expressed with output iterators and sink function forms:"
   ]
  },
  {
   "cell_type": "code",
   "execution_count": 3,
   "id": "scenic-client",
   "metadata": {
    "execution": {
     "iopub.execute_input": "2021-06-28T16:55:02.490591Z",
     "iopub.status.busy": "2021-06-28T16:55:02.490037Z",
     "iopub.status.idle": "2021-06-28T16:55:02.491357Z",
     "shell.execute_reply": "2021-06-28T16:55:02.491009Z"
    },
    "slideshow": {
     "slide_type": "slide"
    }
   },
   "outputs": [],
   "source": [
    "namespace bcc {\n",
    "\n",
    "template <class T, class F>\n",
    "constexpr void iota(T first, T last, F out) {\n",
    "    for (; first != last; ++first) {\n",
    "        out(first);\n",
    "    }\n",
    "}\n",
    "\n",
    "} // namespace bcc"
   ]
  },
  {
   "cell_type": "code",
   "execution_count": 4,
   "id": "raising-documentation",
   "metadata": {
    "execution": {
     "iopub.execute_input": "2021-06-28T16:55:02.493151Z",
     "iopub.status.busy": "2021-06-28T16:55:02.492749Z",
     "iopub.status.idle": "2021-06-28T16:55:02.811169Z",
     "shell.execute_reply": "2021-06-28T16:55:02.810360Z"
    },
    "slideshow": {
     "slide_type": "fragment"
    }
   },
   "outputs": [
    {
     "data": {
      "text/plain": [
       "{ 0, 1, 2, 3, 4, 5, 6, 7, 8, 9 }"
      ]
     },
     "metadata": {},
     "output_type": "display_data"
    }
   ],
   "source": [
    "{\n",
    "    vector<int> v;\n",
    "    bcc::iota(0, 10, [&](int n) { v.push_back(n); });\n",
    "    display(v);\n",
    "}"
   ]
  },
  {
   "cell_type": "markdown",
   "id": "framed-insurance",
   "metadata": {
    "slideshow": {
     "slide_type": "fragment"
    }
   },
   "source": [
    "- Every algorithm using an output iterator should have a corresponding form with a sink function"
   ]
  },
  {
   "cell_type": "markdown",
   "id": "powerful-provincial",
   "metadata": {
    "slideshow": {
     "slide_type": "slide"
    }
   },
   "source": [
    "### Algorithm Semantics"
   ]
  },
  {
   "cell_type": "markdown",
   "id": "present-china",
   "metadata": {},
   "source": [
    "- The following code attempts to remove the first odd element from a sequence"
   ]
  },
  {
   "cell_type": "code",
   "execution_count": 5,
   "id": "elder-interstate",
   "metadata": {
    "execution": {
     "iopub.execute_input": "2021-06-28T16:55:02.813578Z",
     "iopub.status.busy": "2021-06-28T16:55:02.812796Z",
     "iopub.status.idle": "2021-06-28T16:55:03.155696Z",
     "shell.execute_reply": "2021-06-28T16:55:03.154889Z"
    }
   },
   "outputs": [
    {
     "data": {
      "text/plain": [
       "{ 0, 2, 4, 5 }"
      ]
     },
     "metadata": {},
     "output_type": "display_data"
    }
   ],
   "source": [
    "{\n",
    "    vector a{0, 1, 2, 3, 4, 5};\n",
    "\n",
    "    auto p = remove_if(begin(a), end(a), [n = 0](int x) mutable {\n",
    "        return (x & 1) && !n++;\n",
    "    });\n",
    "\n",
    "    a.erase(p, end(a));\n",
    "    display(a);\n",
    "}"
   ]
  },
  {
   "cell_type": "markdown",
   "id": "imposed-initial",
   "metadata": {
    "slideshow": {
     "slide_type": "fragment"
    }
   },
   "source": [
    "**Question:** What went wrong?"
   ]
  },
  {
   "cell_type": "markdown",
   "id": "committed-institution",
   "metadata": {
    "slideshow": {
     "slide_type": "slide"
    }
   },
   "source": [
    "```cpp\n",
    "template <class F, class P>\n",
    "auto remove_if(F f, F l, P pred) {\n",
    "    f = find_if(f, l, pred); // <-- pred is passed by value\n",
    "\n",
    "    if (f == l) return f;\n",
    "\n",
    "    for (auto p = next(f); p != l; ++p) {\n",
    "        if (!pred(*p)) *f++ = move(*p);\n",
    "    }\n",
    "    return f;\n",
    "}\n",
    "```"
   ]
  },
  {
   "cell_type": "code",
   "execution_count": 6,
   "id": "future-valentine",
   "metadata": {
    "execution": {
     "iopub.execute_input": "2021-06-28T16:55:03.157851Z",
     "iopub.status.busy": "2021-06-28T16:55:03.157533Z",
     "iopub.status.idle": "2021-06-28T16:55:03.483622Z",
     "shell.execute_reply": "2021-06-28T16:55:03.482800Z"
    },
    "slideshow": {
     "slide_type": "slide"
    }
   },
   "outputs": [
    {
     "data": {
      "text/plain": [
       "{ 0, 2, 3, 4, 5 }"
      ]
     },
     "metadata": {},
     "output_type": "display_data"
    }
   ],
   "source": [
    "{\n",
    "    vector<int> a{0, 1, 2, 3, 4, 5};\n",
    "    \n",
    "    int n = 0;\n",
    "    auto first_is_odd = [&n](int x) {\n",
    "        return (x & 1) && !n++;\n",
    "    };\n",
    "    \n",
    "    a.erase(remove_if(begin(a), end(a), first_is_odd), end(a));\n",
    "    display(a);\n",
    "}"
   ]
  },
  {
   "cell_type": "markdown",
   "id": "boxed-internship",
   "metadata": {
    "slideshow": {
     "slide_type": "fragment"
    }
   },
   "source": [
    "**Question:** Does the above code fix the issue?"
   ]
  },
  {
   "cell_type": "markdown",
   "id": "threatened-herald",
   "metadata": {
    "slideshow": {
     "slide_type": "slide"
    }
   },
   "source": [
    "- The requirement is that `pred` is a regular, _pure_, function although the [standard wording](https://eel.is/c++draft/algorithms#requirements-7) is obtuse:\n",
    "\n",
    "> Given a glvalue `u` of type (possibly `const`) `T` that designates the same object as `*first`, `pred(u)` shall be a valid expression that is equal to `pred(*first)`."
   ]
  },
  {
   "cell_type": "markdown",
   "id": "nervous-produce",
   "metadata": {
    "slideshow": {
     "slide_type": "fragment"
    }
   },
   "source": [
    "- There is no filter operation in the standard which guarantees the predicate is evaluated exactly N-times, in order. If you need it, write it."
   ]
  },
  {
   "cell_type": "markdown",
   "id": "danish-fossil",
   "metadata": {
    "slideshow": {
     "slide_type": "slide"
    }
   },
   "source": [
    "## Positional Permutations"
   ]
  },
  {
   "cell_type": "markdown",
   "id": "hawaiian-arbor",
   "metadata": {
    "slideshow": {
     "slide_type": "fragment"
    }
   },
   "source": [
    "- `rotate`\n",
    "- `reverse`\n",
    "- `swap`, `swap_ranges`\n",
    "- `shuffle`\n",
    "- `next_permutation`"
   ]
  },
  {
   "cell_type": "markdown",
   "id": "italic-weekend",
   "metadata": {
    "slideshow": {
     "slide_type": "fragment"
    }
   },
   "source": [
    "- _Positional permutation_ reorder object based on their position, not their value"
   ]
  },
  {
   "cell_type": "markdown",
   "id": "bridal-tunisia",
   "metadata": {
    "slideshow": {
     "slide_type": "slide"
    }
   },
   "source": [
    "- The algorithms in the standard library are basic building blocks for higher level algorithms\n",
    "- As we saw with `remove_if()`, many algorithms in the standard library are implemented in terms of other algorithms in the library\n",
    "- When confronted with a problem that is not a direct match to a standard algorithm, try and decompose the problem into one or more standard algorithms"
   ]
  },
  {
   "cell_type": "markdown",
   "id": "derived-billy",
   "metadata": {
    "slideshow": {
     "slide_type": "slide"
    }
   },
   "source": [
    "<center>\n",
    "    <iframe data-src=\"./img/algorithm-slide/index.html\"></iframe>\n",
    "    <em>Slide Algorithm</em>\n",
    "</center>"
   ]
  },
  {
   "cell_type": "markdown",
   "id": "cutting-resolution",
   "metadata": {
    "slideshow": {
     "slide_type": "slide"
    }
   },
   "source": [
    "- All permutations algorithms can be decomposed into a series of cycles\n",
    "- Each cycle of length n requires n+1 move operations\n",
    "- `swap_ranges()` and `reverse()` are the worst case, where every cycle is length 2 and requires 3 moves\n",
    "    - to reverse a sequence of `n` elements requires `(n / 2) * 3` moves"
   ]
  },
  {
   "cell_type": "markdown",
   "id": "stainless-ownership",
   "metadata": {
    "slideshow": {
     "slide_type": "slide"
    }
   },
   "source": [
    "<center>\n",
    "    <img src='img/03-algorithms-reverse.svg' alt='Reverse Cycles'>\n",
    "    <br>\n",
    "    <em>Reverse Cycles</em>\n",
    "</center>"
   ]
  },
  {
   "cell_type": "markdown",
   "id": "turned-light",
   "metadata": {
    "slideshow": {
     "slide_type": "fragment"
    }
   },
   "source": [
    "- A two-element cycle is implemented with `swap()`"
   ]
  },
  {
   "cell_type": "markdown",
   "id": "earlier-roman",
   "metadata": {
    "slideshow": {
     "slide_type": "slide"
    }
   },
   "source": [
    "**Exercise:** Write an algorithm, `swirl()`, that implements the following single cycle permutation."
   ]
  },
  {
   "cell_type": "markdown",
   "id": "useful-easter",
   "metadata": {
    "slideshow": {
     "slide_type": "fragment"
    }
   },
   "source": [
    "<center>\n",
    "    <img src='img/03-algorithms-swirl.svg' alt='Swirl Cycles'>\n",
    "    <br>\n",
    "    <em>Swirl</em>\n",
    "</center>"
   ]
  },
  {
   "cell_type": "markdown",
   "id": "blond-blues",
   "metadata": {
    "slideshow": {
     "slide_type": "slide"
    }
   },
   "source": [
    "<center>\n",
    "    <img src='img/03-algorithms-swirl-even.svg' alt='Swirl (Even)'>\n",
    "    <br>\n",
    "    <em>Swirl (Even)</em>\n",
    "</center>"
   ]
  },
  {
   "cell_type": "code",
   "execution_count": 7,
   "id": "innocent-verification",
   "metadata": {
    "execution": {
     "iopub.execute_input": "2021-06-28T16:55:03.486030Z",
     "iopub.status.busy": "2021-06-28T16:55:03.485506Z",
     "iopub.status.idle": "2021-06-28T16:55:03.487031Z",
     "shell.execute_reply": "2021-06-28T16:55:03.486776Z"
    },
    "slideshow": {
     "slide_type": "slide"
    }
   },
   "outputs": [],
   "source": [
    "namespace v0 {\n",
    "\n",
    "template <class I>\n",
    "void swirl(I f, I l) {\n",
    "    auto m = next(f, distance(f, l) / 2);\n",
    "    if (f == m) return;\n",
    "    m = rotate(f, m, l);\n",
    "    reverse(m, l);\n",
    "    ++f;\n",
    "    reverse(f, m);\n",
    "}\n",
    "\n",
    "} // namespace v0"
   ]
  },
  {
   "cell_type": "code",
   "execution_count": 8,
   "id": "reserved-herald",
   "metadata": {
    "execution": {
     "iopub.execute_input": "2021-06-28T16:55:03.488788Z",
     "iopub.status.busy": "2021-06-28T16:55:03.488434Z",
     "iopub.status.idle": "2021-06-28T16:55:03.788056Z",
     "shell.execute_reply": "2021-06-28T16:55:03.787757Z"
    },
    "slideshow": {
     "slide_type": "fragment"
    }
   },
   "outputs": [
    {
     "data": {
      "text/plain": [
       "{ 4, 8, 7, 6, 5, 3, 2, 1, 0 }"
      ]
     },
     "metadata": {},
     "output_type": "display_data"
    }
   ],
   "source": [
    "{\n",
    "    using namespace v0;\n",
    "\n",
    "    int a[]{0, 1, 2, 3, 4, 5, 6, 7, 8};\n",
    "    swirl(begin(a), end(a));\n",
    "\n",
    "    display(a);\n",
    "}"
   ]
  },
  {
   "cell_type": "markdown",
   "id": "actual-optimization",
   "metadata": {
    "slideshow": {
     "slide_type": "slide"
    }
   },
   "source": [
    "**Question:** What are the requirements for `I`, `f`, and `l`?"
   ]
  },
  {
   "cell_type": "code",
   "execution_count": 9,
   "id": "artistic-ethics",
   "metadata": {
    "execution": {
     "iopub.execute_input": "2021-06-28T16:55:03.790134Z",
     "iopub.status.busy": "2021-06-28T16:55:03.789734Z",
     "iopub.status.idle": "2021-06-28T16:55:03.790544Z",
     "shell.execute_reply": "2021-06-28T16:55:03.790868Z"
    },
    "slideshow": {
     "slide_type": "slide"
    }
   },
   "outputs": [],
   "source": [
    "namespace v1 {\n",
    "\n",
    "template <class I>\n",
    "void swirl(I f, I l) {\n",
    "    reverse(f, l);\n",
    "    auto m = next(f, distance(f, l) / 2);\n",
    "    if (m == l) return;\n",
    "    rotate(f, m, next(m));\n",
    "}\n",
    "\n",
    "} // namespace v1"
   ]
  },
  {
   "cell_type": "code",
   "execution_count": 10,
   "id": "secret-destruction",
   "metadata": {
    "execution": {
     "iopub.execute_input": "2021-06-28T16:55:03.792626Z",
     "iopub.status.busy": "2021-06-28T16:55:03.792053Z",
     "iopub.status.idle": "2021-06-28T16:55:04.087849Z",
     "shell.execute_reply": "2021-06-28T16:55:04.086994Z"
    },
    "slideshow": {
     "slide_type": "fragment"
    }
   },
   "outputs": [
    {
     "data": {
      "text/plain": [
       "{ 4, 8, 7, 6, 5, 3, 2, 1, 0 }"
      ]
     },
     "metadata": {},
     "output_type": "display_data"
    }
   ],
   "source": [
    "{\n",
    "    using namespace v1;\n",
    "\n",
    "    int a[]{0, 1, 2, 3, 4, 5, 6, 7, 8};\n",
    "    swirl(begin(a), end(a));\n",
    "\n",
    "    display(a);\n",
    "}"
   ]
  },
  {
   "cell_type": "markdown",
   "id": "considered-wrong",
   "metadata": {
    "slideshow": {
     "slide_type": "slide"
    }
   },
   "source": [
    "- As a general rule, an algorithm should not throw away information it calculated that the caller can't easily (small constant time) reconstruct."
   ]
  },
  {
   "cell_type": "markdown",
   "id": "backed-pension",
   "metadata": {
    "slideshow": {
     "slide_type": "fragment"
    }
   },
   "source": [
    "- `swirl` computes the mid-point, so it is a good thing to return"
   ]
  },
  {
   "cell_type": "markdown",
   "id": "vanilla-republic",
   "metadata": {
    "slideshow": {
     "slide_type": "fragment"
    }
   },
   "source": [
    "- (Unfortunately, `std::reverse()` throws it away!)"
   ]
  },
  {
   "cell_type": "code",
   "execution_count": 11,
   "id": "treated-david",
   "metadata": {
    "execution": {
     "iopub.execute_input": "2021-06-28T16:55:04.090199Z",
     "iopub.status.busy": "2021-06-28T16:55:04.089592Z",
     "iopub.status.idle": "2021-06-28T16:55:04.091296Z",
     "shell.execute_reply": "2021-06-28T16:55:04.090966Z"
    },
    "slideshow": {
     "slide_type": "fragment"
    }
   },
   "outputs": [],
   "source": [
    "namespace v2 {\n",
    "\n",
    "template <class I>\n",
    "I swirl(I f, I l) {\n",
    "    reverse(f, l);\n",
    "    auto m = next(f, distance(f, l) / 2);\n",
    "    if (m == l) return m;\n",
    "    rotate(f, m, next(m));\n",
    "    return m;\n",
    "}\n",
    "\n",
    "} // namespace v1"
   ]
  },
  {
   "cell_type": "markdown",
   "id": "intended-personality",
   "metadata": {
    "slideshow": {
     "slide_type": "fragment"
    }
   },
   "source": [
    "**Homework:** Implement `swirl` with the minimum number of moves"
   ]
  },
  {
   "cell_type": "markdown",
   "id": "polyphonic-watts",
   "metadata": {
    "slideshow": {
     "slide_type": "slide"
    }
   },
   "source": [
    "## Predicate Permutations"
   ]
  },
  {
   "cell_type": "markdown",
   "id": "apparent-house",
   "metadata": {
    "slideshow": {
     "slide_type": "fragment"
    }
   },
   "source": [
    "- `partition` & `stable_partition`"
   ]
  },
  {
   "cell_type": "markdown",
   "id": "original-prescription",
   "metadata": {
    "slideshow": {
     "slide_type": "fragment"
    }
   },
   "source": [
    "_Predicate permutations_ use a predicate function to determine ordering. These algorithms partition the set into two sets. A _stable partition_ algorithm preserves the relative order of the elements in each set."
   ]
  },
  {
   "cell_type": "markdown",
   "id": "worthy-april",
   "metadata": {
    "slideshow": {
     "slide_type": "slide"
    }
   },
   "source": [
    "<center>\n",
    "    <iframe data-src=\"./img/algorithm-gather/index.html\"></iframe>\n",
    "    <em>Gather Algorithm</em>\n",
    "</center>"
   ]
  },
  {
   "cell_type": "markdown",
   "id": "satisfactory-stylus",
   "metadata": {
    "slideshow": {
     "slide_type": "slide"
    }
   },
   "source": [
    "## Comparison Permutations"
   ]
  },
  {
   "cell_type": "markdown",
   "id": "amateur-domestic",
   "metadata": {
    "slideshow": {
     "slide_type": "fragment"
    }
   },
   "source": [
    "- `sort`, `stable_sort`, & `partial_sort`\n",
    "- `nth_element`\n",
    "- `make_heap`"
   ]
  },
  {
   "cell_type": "markdown",
   "id": "surprising-breakfast",
   "metadata": {
    "slideshow": {
     "slide_type": "fragment"
    }
   },
   "source": [
    "_Comparison permutations_ use a comparison function to map an ordering of the values to an ordering of their position"
   ]
  },
  {
   "cell_type": "markdown",
   "id": "surrounded-retrieval",
   "metadata": {
    "slideshow": {
     "slide_type": "slide"
    }
   },
   "source": [
    "- Comparison function is required to be a _strict-weak ordering_:\n",
    "\n",
    "> An ordering relation, $\\prec$, is a _strict-weak_ ordering iff\n",
    "\n",
    "\\begin{align}\n",
    "(a & \\nprec a). && \\text{(Irreflexivity)} \\\\\n",
    "(a & \\prec b) \\wedge (b \\prec c) \\implies a \\prec c. && \\text {(Transitivity)} \\\\\n",
    "(a & \\equiv b) \\wedge (b \\equiv c) \\implies a \\equiv c. && \\text {(Equivalence Transitivity)}\\\\\n",
    "\\end{align}\n",
    "\n",
    "> Where $a$ and $b$, are _equivalent_, $\\equiv$, iff $(a \\nprec b) \\wedge (b \\nprec a)$."
   ]
  },
  {
   "cell_type": "markdown",
   "id": "initial-boston",
   "metadata": {
    "slideshow": {
     "slide_type": "slide"
    }
   },
   "source": [
    "- The default is to use `operator<()`\n",
    "- On a type, the expectation is that `operator<()` is a _total ordering_\n",
    "    - Which is consistent with other operations on the type\n",
    "\n",
    "> A _total ordering_ is a strict-weak ordering where the defined equivalence is equality"
   ]
  },
  {
   "cell_type": "markdown",
   "id": "aggregate-gateway",
   "metadata": {
    "slideshow": {
     "slide_type": "fragment"
    }
   },
   "source": [
    "- `operator<()` is not defined on `std::complex<>` because there is no definition consistent with multiplication\n",
    "    - For example, both $i > 0$ and $i < 0$ imply that $0 < i^2$, however, $i^2 = -1$"
   ]
  },
  {
   "cell_type": "markdown",
   "id": "adaptive-barbados",
   "metadata": {
    "slideshow": {
     "slide_type": "slide"
    }
   },
   "source": [
    "- Despite `nan` values, both `float` and `double` are totally-ordered because `nan` is explicitly outside the value domain for floating point types\n",
    "    - `nan` is _not a number_\n",
    "- A floating point object containing `nan` is partially formed\n",
    "- Don't try and sort a sequence containing `nan` values with `operator<()`\n",
    "    - The result is UB and will likely crash\n",
    "    \n",
    "C++20 defines the ordering on floating-point types as a `std::partial_ordering` because of `nan` values. I find this complicates matters unnecessarily, and means the requirements of the comparison operator cannot be defined with a _concept_ but require a precondition. See prior discussion of domain of an operation."
   ]
  },
  {
   "cell_type": "markdown",
   "id": "loving-wilson",
   "metadata": {
    "slideshow": {
     "slide_type": "slide"
    }
   },
   "source": [
    "- The `sort` and `nth element` operations establish a direct relationship between the order of elements and their position in the sequence.\n",
    "- `make_heap` orders the elements as a _max heap_ "
   ]
  },
  {
   "cell_type": "markdown",
   "id": "central-continuity",
   "metadata": {
    "slideshow": {
     "slide_type": "slide"
    }
   },
   "source": [
    "<center>\n",
    "    <img src='img/03-algorithms-max-heap.svg' alt='Max Heap'>\n",
    "    <br>\n",
    "    <em>Max Heap</em>\n",
    "    <br>\n",
    "    <small >&mdash; <a href=\"https://commons.wikimedia.org/w/index.php?curid=12251273\">By Ermishin - Own work, CC BY-SA 3.0</a></small>\n",
    "</center>"
   ]
  },
  {
   "cell_type": "markdown",
   "id": "super-physiology",
   "metadata": {
    "slideshow": {
     "slide_type": "slide"
    }
   },
   "source": [
    "- `make_heap`, and the related heap operation are included in the standard library because they are used by `sort`\n",
    "- `sort` in the standard library is an _introsort_, which is an introspective quicksort that switches to _heap sort_ when the recursion depths exceeds a level $k \\cdot log(n)$"
   ]
  },
  {
   "cell_type": "markdown",
   "id": "optical-grain",
   "metadata": {
    "slideshow": {
     "slide_type": "slide"
    }
   },
   "source": [
    "- `nth_element` sorts a sequence _enough_ so that the specified element is in the correct location\n",
    "- A postcondition of `nth_element` is that the sequence is partitions such that every element before the nth element is less than or equal to it, and every element after is greater than or equal."
   ]
  },
  {
   "cell_type": "markdown",
   "id": "legal-space",
   "metadata": {
    "slideshow": {
     "slide_type": "slide"
    }
   },
   "source": [
    "- With `nth_element` and `partial_sort` you can sort a subrange of a sequence as if the entire range where sorted\n",
    "- This has the same time complexity as a full sort, $n \\cdot log(n)$, but can be considerably faster"
   ]
  },
  {
   "cell_type": "markdown",
   "id": "nervous-pierce",
   "metadata": {
    "slideshow": {
     "slide_type": "fragment"
    }
   },
   "source": [
    "- This is very useful when you want to sort a \"window\" view into a large sequence"
   ]
  },
  {
   "cell_type": "code",
   "execution_count": 12,
   "id": "funded-robertson",
   "metadata": {
    "execution": {
     "iopub.execute_input": "2021-06-28T16:55:04.094181Z",
     "iopub.status.busy": "2021-06-28T16:55:04.093531Z",
     "iopub.status.idle": "2021-06-28T16:55:04.094666Z",
     "shell.execute_reply": "2021-06-28T16:55:04.094915Z"
    },
    "slideshow": {
     "slide_type": "slide"
    }
   },
   "outputs": [],
   "source": [
    "template <class I> // I models RandomAccessIterator\n",
    "void sort_subrange_0(I f, I l, I sf, I sl) {\n",
    "    std::sort(f, l);\n",
    "}\n",
    "\n",
    "template <class I> // I models RandomAccessIterator\n",
    "void sort_subrange(I f, I l, I sf, I sl) {\n",
    "    if (f != sf && sf != l) {\n",
    "        std::nth_element(f, sf, l); // partition [f, l) at sf\n",
    "        ++sf;\n",
    "    }\n",
    "    std::partial_sort(sf, sl, l);\n",
    "}"
   ]
  },
  {
   "cell_type": "markdown",
   "id": "unlike-gender",
   "metadata": {
    "slideshow": {
     "slide_type": "slide"
    }
   },
   "source": [
    "<center>\n",
    "    <img src='img/sort-v-sort-subrange.png' alt='Sort v Sort Subrange'>\n",
    "    <br>\n",
    "    <em><a href='http://quick-bench.com/C0fww_d39OVBvCnoNrXUN5XU0nE'>Benchmark Code</a></em>\n",
    "</center>"
   ]
  },
  {
   "cell_type": "markdown",
   "id": "statewide-midwest",
   "metadata": {
    "slideshow": {
     "slide_type": "slide"
    }
   },
   "source": [
    "## Operations on sorted sequences\n",
    "\n",
    "- `lower_bound`, `upper_bound`, `equal_range`, `binary_search`"
   ]
  },
  {
   "cell_type": "markdown",
   "id": "driven-schema",
   "metadata": {},
   "source": [
    "- `merge`"
   ]
  },
  {
   "cell_type": "markdown",
   "id": "collectible-auckland",
   "metadata": {},
   "source": [
    "- `includes`, `set_difference`, `set_intersection`, `set_symmetric_difference`, `set_union`"
   ]
  },
  {
   "cell_type": "markdown",
   "id": "contained-palestinian",
   "metadata": {},
   "source": [
    "- `lower_bound` should is the most commonly used way to do a binary search for an element in a sequence"
   ]
  },
  {
   "cell_type": "code",
   "execution_count": 13,
   "id": "comfortable-cover",
   "metadata": {
    "execution": {
     "iopub.execute_input": "2021-06-28T16:55:04.096902Z",
     "iopub.status.busy": "2021-06-28T16:55:04.096560Z",
     "iopub.status.idle": "2021-06-28T16:55:04.386273Z",
     "shell.execute_reply": "2021-06-28T16:55:04.385582Z"
    }
   },
   "outputs": [
    {
     "data": {
      "text/plain": [
       "{ 0, 1, 2, 3, 3, 3, 4, 4, 5, 6 }"
      ]
     },
     "metadata": {},
     "output_type": "display_data"
    },
    {
     "name": "stdout",
     "output_type": "stream",
     "text": [
      "          ^\n"
     ]
    }
   ],
   "source": [
    "{\n",
    "    int a[]{ 0, 1, 2, 3, 3, 3, 4, 4, 5, 6 };\n",
    "    auto p = lower_bound(begin(a), end(a), 3);\n",
    "    display(a);\n",
    "    cout << string(distance(begin(a), p) * 3 + 1, ' ') << \"^\\n\";\n",
    "}"
   ]
  },
  {
   "cell_type": "markdown",
   "id": "future-spare",
   "metadata": {
    "slideshow": {
     "slide_type": "slide"
    }
   },
   "source": [
    "### Projections"
   ]
  },
  {
   "cell_type": "markdown",
   "id": "published-cincinnati",
   "metadata": {
    "slideshow": {
     "slide_type": "fragment"
    }
   },
   "source": [
    "- The range algorithms in C++20 contain projection arguments"
   ]
  },
  {
   "cell_type": "markdown",
   "id": "composed-sample",
   "metadata": {
    "slideshow": {
     "slide_type": "fragment"
    }
   },
   "source": [
    "- Projections are very useful with the comparison permutations and operations on sorted sequences to provide symmetry"
   ]
  },
  {
   "cell_type": "code",
   "execution_count": 14,
   "id": "median-detective",
   "metadata": {
    "execution": {
     "iopub.execute_input": "2021-06-28T16:55:04.388491Z",
     "iopub.status.busy": "2021-06-28T16:55:04.387849Z",
     "iopub.status.idle": "2021-06-28T16:55:04.698290Z",
     "shell.execute_reply": "2021-06-28T16:55:04.697998Z"
    },
    "slideshow": {
     "slide_type": "slide"
    }
   },
   "outputs": [
    {
     "data": {
      "text/plain": [
       "\"Joe\""
      ]
     },
     "metadata": {},
     "output_type": "display_data"
    }
   ],
   "source": [
    "{\n",
    "    struct employee {\n",
    "        string _first;\n",
    "        string _last;\n",
    "    };\n",
    "\n",
    "    employee a[]{{\"Joe\", \"Zimmer\"}, {\"Frank\", \"Berse\"}};\n",
    "\n",
    "    sort(begin(a), end(a), [](const employee& a, const employee& b) {\n",
    "        return a._last < b._last;\n",
    "    });\n",
    "    auto p = lower_bound(begin(a), end(a), \"Zimmer\"s, [](const employee& a, const string& b) {\n",
    "        return a._last < b;\n",
    "    });\n",
    "    \n",
    "    display(p->_first);\n",
    "}"
   ]
  },
  {
   "cell_type": "markdown",
   "id": "involved-cliff",
   "metadata": {
    "slideshow": {
     "slide_type": "slide"
    }
   },
   "source": [
    "```cpp\n",
    "{\n",
    "    struct employee {\n",
    "        string _first;\n",
    "        string _last;\n",
    "    };\n",
    "\n",
    "    employee a[]{{\"Joe\", \"Zimmer\"}, {\"Frank\", \"Berse\"}};\n",
    "\n",
    "    ranges::sort(a, less<>(), &employee::_last);\n",
    "    auto p = ranges::lower_bound(a, \"Zimmer\"s, less<>(), &employee::_last);\n",
    "   \n",
    "    display(p->_first);\n",
    "}\n",
    "```\n",
    "\n",
    "```\n",
    "\"Joe\"\n",
    "```"
   ]
  },
  {
   "cell_type": "markdown",
   "id": "minor-guide",
   "metadata": {
    "slideshow": {
     "slide_type": "slide"
    }
   },
   "source": [
    "## Iterator hierarchy (and why you probably shouldn't care)"
   ]
  },
  {
   "cell_type": "markdown",
   "id": "attempted-governor",
   "metadata": {
    "slideshow": {
     "slide_type": "slide"
    }
   },
   "source": [
    "## Composition vs. multi-pass"
   ]
  },
  {
   "cell_type": "markdown",
   "id": "separated-prescription",
   "metadata": {
    "slideshow": {
     "slide_type": "slide"
    }
   },
   "source": [
    "## Generators vs input iterator"
   ]
  },
  {
   "cell_type": "markdown",
   "id": "living-transmission",
   "metadata": {
    "slideshow": {
     "slide_type": "slide"
    }
   },
   "source": [
    "## Heap operations\n",
    "\n",
    "- `make_heap`, `push_heap`, `pop_heap`, `sort_heap`"
   ]
  },
  {
   "cell_type": "markdown",
   "id": "indoor-grenada",
   "metadata": {
    "slideshow": {
     "slide_type": "fragment"
    }
   },
   "source": [
    "- `priority_queue`"
   ]
  },
  {
   "cell_type": "markdown",
   "id": "considerable-turkey",
   "metadata": {
    "slideshow": {
     "slide_type": "fragment"
    }
   },
   "source": [
    "**Exercise:** Create a `priority_queue` of `my_type`."
   ]
  },
  {
   "cell_type": "markdown",
   "id": "indirect-mechanism",
   "metadata": {
    "slideshow": {
     "slide_type": "fragment"
    }
   },
   "source": [
    "- Can you move out the top element?"
   ]
  },
  {
   "cell_type": "markdown",
   "id": "muslim-portrait",
   "metadata": {
    "slideshow": {
     "slide_type": "fragment"
    }
   },
   "source": [
    "**Exercise:** Create a new `priority_queue` adapter that supports move using the heap operations."
   ]
  },
  {
   "cell_type": "markdown",
   "id": "isolated-check",
   "metadata": {
    "slideshow": {
     "slide_type": "notes"
    }
   },
   "source": [
    "\\[\n",
    "- discuss (show graph) of O(1), O(log(N)), O(N), O(N log(N)\n",
    "\\]"
   ]
  }
 ],
 "metadata": {
  "jupytext": {
   "formats": "ipynb,md"
  },
  "kernelspec": {
   "display_name": "C++17",
   "language": "C++17",
   "name": "xcpp17"
  },
  "language_info": {
   "codemirror_mode": "text/x-c++src",
   "file_extension": ".cpp",
   "mimetype": "text/x-c++src",
   "name": "c++",
   "version": "17"
  }
 },
 "nbformat": 4,
 "nbformat_minor": 5
}

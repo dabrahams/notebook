{
 "cells": [
  {
   "cell_type": "code",
   "execution_count": 1,
   "id": "federal-student",
   "metadata": {
    "execution": {
     "iopub.execute_input": "2021-06-28T16:55:06.626409Z",
     "iopub.status.busy": "2021-06-28T16:55:06.625832Z",
     "iopub.status.idle": "2021-06-28T16:55:06.715085Z",
     "shell.execute_reply": "2021-06-28T16:55:06.714681Z"
    },
    "slideshow": {
     "slide_type": "skip"
    }
   },
   "outputs": [],
   "source": [
    "#include \"../common.hpp\""
   ]
  },
  {
   "cell_type": "markdown",
   "id": "weekly-charlotte",
   "metadata": {
    "slideshow": {
     "slide_type": "slide"
    }
   },
   "source": [
    "# Data Structures\n",
    "\n",
    "**Goal: No incidental data structures**"
   ]
  },
  {
   "cell_type": "markdown",
   "id": "certified-campus",
   "metadata": {
    "slideshow": {
     "slide_type": "slide"
    }
   },
   "source": [
    "## Definitions\n",
    "\n",
    "> **Classic:** A _data structure_ is a format for organizing and storing data."
   ]
  },
  {
   "cell_type": "markdown",
   "id": "romantic-semester",
   "metadata": {
    "slideshow": {
     "slide_type": "fragment"
    }
   },
   "source": [
    "- Doesn't define _structure_, replaces it with the related word, _format_"
   ]
  },
  {
   "cell_type": "markdown",
   "id": "widespread-dictionary",
   "metadata": {
    "slideshow": {
     "slide_type": "fragment"
    }
   },
   "source": [
    "- In mathematics, _structure_ is defined as:\n",
    "\n",
    "> A _structure_ on a set consists of additional entities that, in some manner, relate to the set, endowing the collection with meaning or significance."
   ]
  },
  {
   "cell_type": "markdown",
   "id": "ranking-drain",
   "metadata": {
    "slideshow": {
     "slide_type": "slide"
    }
   },
   "source": [
    "- A type is a pattern for storing and modifying objects\n",
    "- A type is a structure that relates a set of objects to a set of values\n",
    "    - This is a _representational_ relationship\n",
    "- A representational relationship creates a _trivial data structure_ consisting of a single value\n",
    "\n",
    "- Values are related to other values, i.e. $3 \\neq 4$"
   ]
  },
  {
   "cell_type": "markdown",
   "id": "weighted-terry",
   "metadata": {
    "slideshow": {
     "slide_type": "slide"
    }
   },
   "source": [
    "- Because objects exist in memory, they have a _physical_ relationship\n",
    "\n",
    "> A _data structure_ is a structure utilizing value, representational, and physical relationships to encode semantic relationships on a collection of objects\n",
    "\n",
    "- The choice of encoding can make a dramatic difference on the performance of operations"
   ]
  },
  {
   "cell_type": "markdown",
   "id": "oriental-moscow",
   "metadata": {
    "slideshow": {
     "slide_type": "slide"
    }
   },
   "source": [
    "<center>\n",
    "    <img src='img/memory-hierarchy.svg' alt='Memory Hierarchy'>\n",
    "    <br>\n",
    "    <em>Data from <a href='http://ithare.com/infographics-operation-costs-in-cpu-clock-cycles/'>IT Hare</a></em>\n",
    "</center>"
   ]
  },
  {
   "cell_type": "markdown",
   "id": "intellectual-avenue",
   "metadata": {
    "slideshow": {
     "slide_type": "notes"
    }
   },
   "source": [
    "TLB is _Translation Look-aside Buffer_ - or _cache miss_"
   ]
  },
  {
   "cell_type": "markdown",
   "id": "owned-wallpaper",
   "metadata": {
    "slideshow": {
     "slide_type": "slide"
    }
   },
   "source": [
    "- A data structure is created anytime a relationship is established between objects\n",
    "- To avoid confusion we will reserve the term _data structure_ to refer to types with a set of invariants which insure a set of relationships are maintained. i.e. standard containers\n",
    "- More transient data structures will be referred to as _structured data_"
   ]
  },
  {
   "cell_type": "markdown",
   "id": "imperial-williams",
   "metadata": {
    "slideshow": {
     "slide_type": "slide"
    }
   },
   "source": [
    "## Encoding Semantic Relationships"
   ]
  },
  {
   "cell_type": "markdown",
   "id": "purple-malaysia",
   "metadata": {},
   "source": [
    "- Three primary means to encode a semantic relationship\n",
    "    - Physically, using relative location in memory\n",
    "        - `{3, 4, 5}` `3` is before `4` and `3` is less-than `4`\n",
    "    - Value, use an object with a value to represent the relationship\n",
    "        - `struct list { int _data, list* _next };` the value of `_next` encodes an ordered relationship\n",
    "    - Representational, use the representation of the object to encode a relationship about the values of the objects\n",
    "        - `hash(a) == hash(b)` $\\implies$ `a == b`\n",
    "\n",
    "\n"
   ]
  },
  {
   "cell_type": "markdown",
   "id": "occupational-stephen",
   "metadata": {
    "slideshow": {
     "slide_type": "slide"
    },
    "tags": []
   },
   "source": [
    "\\[\n",
    "    Everything from here down is notes...\n",
    "\\]"
   ]
  },
  {
   "cell_type": "code",
   "execution_count": 2,
   "id": "higher-violence",
   "metadata": {
    "execution": {
     "iopub.execute_input": "2021-06-28T16:55:06.716957Z",
     "iopub.status.busy": "2021-06-28T16:55:06.716551Z",
     "iopub.status.idle": "2021-06-28T16:55:06.717907Z",
     "shell.execute_reply": "2021-06-28T16:55:06.717596Z"
    }
   },
   "outputs": [],
   "source": [
    "namespace bcc {\n",
    "\n",
    "template <class T, class O>\n",
    "void iota(T f, T l, O out) {\n",
    "    while (f != l) {\n",
    "        out(f);\n",
    "        ++f;\n",
    "    }\n",
    "}\n",
    "\n",
    "} // namespace bcc"
   ]
  },
  {
   "cell_type": "code",
   "execution_count": 3,
   "id": "adaptive-comedy",
   "metadata": {
    "execution": {
     "iopub.execute_input": "2021-06-28T16:55:06.719831Z",
     "iopub.status.busy": "2021-06-28T16:55:06.719245Z",
     "iopub.status.idle": "2021-06-28T16:55:14.657114Z",
     "shell.execute_reply": "2021-06-28T16:55:14.656833Z"
    }
   },
   "outputs": [
    {
     "name": "stdout",
     "output_type": "stream",
     "text": [
      "96.2 ms +- 8.58 ms per loop (mean +- std. dev. of 7 runs 10 loops each)\n"
     ]
    }
   ],
   "source": [
    "%%timeit\n",
    "{\n",
    "std::list<int> _list;\n",
    "bcc::iota(0, 1'000'000, [&](int n){ _list.push_back(n); });\n",
    "}"
   ]
  },
  {
   "cell_type": "code",
   "execution_count": 4,
   "id": "located-meaning",
   "metadata": {
    "execution": {
     "iopub.execute_input": "2021-06-28T16:55:14.658594Z",
     "iopub.status.busy": "2021-06-28T16:55:14.658298Z",
     "iopub.status.idle": "2021-06-28T16:55:24.735244Z",
     "shell.execute_reply": "2021-06-28T16:55:24.734846Z"
    }
   },
   "outputs": [
    {
     "name": "stdout",
     "output_type": "stream",
     "text": [
      "12.1 ms +- 1.14 ms per loop (mean +- std. dev. of 7 runs 100 loops each)\n"
     ]
    }
   ],
   "source": [
    "%%timeit\n",
    "{\n",
    "std::vector<int> _vector;\n",
    "bcc::iota(0, 1'000'000, [&](int n){ _vector.push_back(n); });\n",
    "}"
   ]
  },
  {
   "cell_type": "code",
   "execution_count": 5,
   "id": "greatest-lafayette",
   "metadata": {
    "execution": {
     "iopub.execute_input": "2021-06-28T16:55:24.736672Z",
     "iopub.status.busy": "2021-06-28T16:55:24.736315Z",
     "iopub.status.idle": "2021-06-28T16:55:24.833174Z",
     "shell.execute_reply": "2021-06-28T16:55:24.832894Z"
    }
   },
   "outputs": [],
   "source": [
    "std::list<int> _list;\n",
    "bcc::iota(0, 1'000'000, [&](int n){ _list.push_back(n); });"
   ]
  },
  {
   "cell_type": "code",
   "execution_count": 6,
   "id": "facial-scott",
   "metadata": {
    "execution": {
     "iopub.execute_input": "2021-06-28T16:55:24.835530Z",
     "iopub.status.busy": "2021-06-28T16:55:24.835072Z",
     "iopub.status.idle": "2021-06-28T16:55:24.862929Z",
     "shell.execute_reply": "2021-06-28T16:55:24.862624Z"
    },
    "slideshow": {
     "slide_type": "skip"
    }
   },
   "outputs": [],
   "source": [
    "std::vector<int> _vector;\n",
    "bcc::iota(0, 1'000'000, [&](int n){ _vector.push_back(n); });"
   ]
  },
  {
   "cell_type": "code",
   "execution_count": 7,
   "id": "polar-player",
   "metadata": {
    "execution": {
     "iopub.execute_input": "2021-06-28T16:55:24.865054Z",
     "iopub.status.busy": "2021-06-28T16:55:24.864198Z",
     "iopub.status.idle": "2021-06-28T16:55:29.566918Z",
     "shell.execute_reply": "2021-06-28T16:55:29.566609Z"
    }
   },
   "outputs": [
    {
     "name": "stdout",
     "output_type": "stream",
     "text": [
      "5.6 ms +- 63.4 us per loop (mean +- std. dev. of 7 runs 100 loops each)\n"
     ]
    }
   ],
   "source": [
    "%timeit std::find(begin(_list), end(_list), 500'000);"
   ]
  },
  {
   "cell_type": "code",
   "execution_count": 8,
   "id": "cultural-syntax",
   "metadata": {
    "execution": {
     "iopub.execute_input": "2021-06-28T16:55:29.569491Z",
     "iopub.status.busy": "2021-06-28T16:55:29.568511Z",
     "iopub.status.idle": "2021-06-28T16:55:31.720326Z",
     "shell.execute_reply": "2021-06-28T16:55:31.719634Z"
    }
   },
   "outputs": [
    {
     "name": "stdout",
     "output_type": "stream",
     "text": [
      "2.52 ms +- 21.8 us per loop (mean +- std. dev. of 7 runs 100 loops each)\n"
     ]
    }
   ],
   "source": [
    "%timeit std::find(begin(_vector), end(_vector), 500'000);"
   ]
  },
  {
   "cell_type": "code",
   "execution_count": 9,
   "id": "driving-apartment",
   "metadata": {
    "execution": {
     "iopub.execute_input": "2021-06-28T16:55:31.722743Z",
     "iopub.status.busy": "2021-06-28T16:55:31.722019Z",
     "iopub.status.idle": "2021-06-28T16:55:36.385049Z",
     "shell.execute_reply": "2021-06-28T16:55:36.384737Z"
    }
   },
   "outputs": [
    {
     "name": "stdout",
     "output_type": "stream",
     "text": [
      "5.58 ms +- 70.9 us per loop (mean +- std. dev. of 7 runs 100 loops each)\n"
     ]
    }
   ],
   "source": [
    "%timeit _list.insert(std::find(begin(_list), end(_list), 500'000), 42);"
   ]
  },
  {
   "cell_type": "code",
   "execution_count": 10,
   "id": "incredible-patient",
   "metadata": {
    "execution": {
     "iopub.execute_input": "2021-06-28T16:55:36.387848Z",
     "iopub.status.busy": "2021-06-28T16:55:36.387156Z",
     "iopub.status.idle": "2021-06-28T16:55:38.818492Z",
     "shell.execute_reply": "2021-06-28T16:55:38.817758Z"
    }
   },
   "outputs": [
    {
     "name": "stdout",
     "output_type": "stream",
     "text": [
      "2.74 ms +- 95 us per loop (mean +- std. dev. of 7 runs 100 loops each)\n"
     ]
    }
   ],
   "source": [
    "%timeit _vector.insert(std::find(begin(_vector), end(_vector), 500'000), 42);"
   ]
  },
  {
   "cell_type": "code",
   "execution_count": 11,
   "id": "automotive-headset",
   "metadata": {
    "execution": {
     "iopub.execute_input": "2021-06-28T16:55:38.820790Z",
     "iopub.status.busy": "2021-06-28T16:55:38.820012Z",
     "iopub.status.idle": "2021-06-28T16:55:38.899730Z",
     "shell.execute_reply": "2021-06-28T16:55:38.899293Z"
    }
   },
   "outputs": [
    {
     "name": "stdout",
     "output_type": "stream",
     "text": [
      "87.7 ns +- 35.3 ns per loop (mean +- std. dev. of 7 runs 1000 loops each)\n"
     ]
    }
   ],
   "source": [
    "%timeit -n 1000 _list.push_front(42);"
   ]
  },
  {
   "cell_type": "code",
   "execution_count": 12,
   "id": "european-drove",
   "metadata": {
    "execution": {
     "iopub.execute_input": "2021-06-28T16:55:38.901725Z",
     "iopub.status.busy": "2021-06-28T16:55:38.901108Z",
     "iopub.status.idle": "2021-06-28T16:55:39.688489Z",
     "shell.execute_reply": "2021-06-28T16:55:39.688010Z"
    }
   },
   "outputs": [
    {
     "name": "stdout",
     "output_type": "stream",
     "text": [
      "94.5 us +- 6.86 us per loop (mean +- std. dev. of 7 runs 1000 loops each)\n"
     ]
    }
   ],
   "source": [
    "%timeit -n 1000 _vector.insert(begin(_vector), 42);"
   ]
  },
  {
   "cell_type": "markdown",
   "id": "comparative-nelson",
   "metadata": {},
   "source": [
    "- If you only need `push_front()`, `std::deque<>` is a better choice\n",
    "- `std::list<>` only makes since when you are externally indexing and hence require iterator stability"
   ]
  },
  {
   "cell_type": "markdown",
   "id": "southern-sight",
   "metadata": {
    "slideshow": {
     "slide_type": "skip"
    }
   },
   "source": [
    "\\[\n",
    "\n",
    "Show performance difference with std::list.\n",
    "Discuss how big O() advantages are frequently lost.\n",
    "Problem with deque (two-level iteration never implemented).\n",
    "Map vs. Hashmap - and better flat hash map implementation available\n",
    "\n",
    "Almost every major application sits on just one, or a very small number of data-structures or algorithms. Show Ps layer/tile structure. Google is built on map-reduce (cover map-reduce in algorithms).\n",
    "\n",
    "include iota implementation in algorithm section\n",
    "\n",
    "\\]"
   ]
  },
  {
   "cell_type": "markdown",
   "id": "immediate-insertion",
   "metadata": {
    "slideshow": {
     "slide_type": "slide"
    }
   },
   "source": [
    "## Problem"
   ]
  },
  {
   "cell_type": "code",
   "execution_count": null,
   "id": "mathematical-nursing",
   "metadata": {},
   "outputs": [],
   "source": []
  }
 ],
 "metadata": {
  "jupytext": {
   "formats": "ipynb,md"
  },
  "kernelspec": {
   "display_name": "C++17",
   "language": "C++17",
   "name": "xcpp17"
  },
  "language_info": {
   "codemirror_mode": "text/x-c++src",
   "file_extension": ".cpp",
   "mimetype": "text/x-c++src",
   "name": "c++",
   "version": "17"
  }
 },
 "nbformat": 4,
 "nbformat_minor": 5
}

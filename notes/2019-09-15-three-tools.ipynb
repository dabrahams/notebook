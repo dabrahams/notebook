{
 "cells": [
  {
   "cell_type": "markdown",
   "id": "vital-upper",
   "metadata": {
    "slideshow": {
     "slide_type": "slide"
    }
   },
   "source": [
    "# Three Tools for C++ Presenters"
   ]
  },
  {
   "cell_type": "markdown",
   "id": "conservative-coordinator",
   "metadata": {
    "slideshow": {
     "slide_type": "fragment"
    }
   },
   "source": [
    "Sean Parent | Sr. Principal Scientist, Adobe Photoshop"
   ]
  },
  {
   "cell_type": "markdown",
   "id": "electrical-algeria",
   "metadata": {
    "slideshow": {
     "slide_type": "slide"
    }
   },
   "source": [
    "## reveal.js\n",
    "\n",
    "_A framework for easily creating beautiful presentations using HTML._\n",
    "\n",
    "https://github.com/hakimel/reveal.js/"
   ]
  },
  {
   "cell_type": "markdown",
   "id": "arctic-sympathy",
   "metadata": {
    "slideshow": {
     "slide_type": "fragment"
    }
   },
   "source": [
    "Type `?` for help."
   ]
  },
  {
   "cell_type": "markdown",
   "id": "analyzed-columbia",
   "metadata": {
    "slideshow": {
     "slide_type": "notes"
    }
   },
   "source": [
    "show speaker notes."
   ]
  },
  {
   "cell_type": "markdown",
   "id": "reliable-thesaurus",
   "metadata": {
    "slideshow": {
     "slide_type": "slide"
    }
   },
   "source": [
    "## cling\n",
    "\n",
    "_Cling is an interactive C++ interpreter, built on the top of LLVM and Clang libraries._\n",
    "\n",
    "https://root.cern.ch/cling"
   ]
  },
  {
   "cell_type": "markdown",
   "id": "focal-mainstream",
   "metadata": {
    "slideshow": {
     "slide_type": "notes"
    }
   },
   "source": [
    "show cling"
   ]
  },
  {
   "cell_type": "markdown",
   "id": "qualified-thesis",
   "metadata": {
    "slideshow": {
     "slide_type": "slide"
    }
   },
   "source": [
    "## Jupyter Lab\n",
    "\n",
    "_Project Jupyter exists to develop open-source software, open-standards, and services for interactive computing across dozens of programming languages._\n",
    "\n",
    "https://jupyter.org"
   ]
  },
  {
   "cell_type": "code",
   "execution_count": 1,
   "id": "aging-guarantee",
   "metadata": {
    "execution": {
     "iopub.execute_input": "2021-06-28T16:54:36.994144Z",
     "iopub.status.busy": "2021-06-28T16:54:36.993583Z",
     "iopub.status.idle": "2021-06-28T16:54:36.995153Z",
     "shell.execute_reply": "2021-06-28T16:54:36.994659Z"
    },
    "slideshow": {
     "slide_type": "skip"
    }
   },
   "outputs": [],
   "source": [
    "#pragma cling add_include_path(\"../stlab/libraries\")"
   ]
  },
  {
   "cell_type": "code",
   "execution_count": 2,
   "id": "superb-thriller",
   "metadata": {
    "execution": {
     "iopub.execute_input": "2021-06-28T16:54:36.997484Z",
     "iopub.status.busy": "2021-06-28T16:54:36.996901Z",
     "iopub.status.idle": "2021-06-28T16:54:37.273813Z",
     "shell.execute_reply": "2021-06-28T16:54:37.273525Z"
    },
    "slideshow": {
     "slide_type": "skip"
    }
   },
   "outputs": [],
   "source": [
    "#include <iostream>\n",
    "\n",
    "#define STLAB_DISABLE_FUTURE_COROUTINES 1\n",
    "#include <stlab/concurrency/default_executor.hpp>\n",
    "#include <stlab/concurrency/future.hpp>\n",
    "#include <stlab/concurrency/utility.hpp>"
   ]
  },
  {
   "cell_type": "code",
   "execution_count": 3,
   "id": "original-consequence",
   "metadata": {
    "execution": {
     "iopub.execute_input": "2021-06-28T16:54:37.276146Z",
     "iopub.status.busy": "2021-06-28T16:54:37.275481Z",
     "iopub.status.idle": "2021-06-28T16:54:37.276904Z",
     "shell.execute_reply": "2021-06-28T16:54:37.276649Z"
    },
    "slideshow": {
     "slide_type": "skip"
    }
   },
   "outputs": [],
   "source": [
    "using namespace std;"
   ]
  },
  {
   "cell_type": "code",
   "execution_count": 4,
   "id": "parental-buffer",
   "metadata": {
    "execution": {
     "iopub.execute_input": "2021-06-28T16:54:37.279439Z",
     "iopub.status.busy": "2021-06-28T16:54:37.278743Z",
     "iopub.status.idle": "2021-06-28T16:54:37.280103Z",
     "shell.execute_reply": "2021-06-28T16:54:37.279837Z"
    },
    "slideshow": {
     "slide_type": "skip"
    }
   },
   "outputs": [],
   "source": [
    "using namespace stlab;"
   ]
  },
  {
   "cell_type": "code",
   "execution_count": 5,
   "id": "iraqi-small",
   "metadata": {
    "execution": {
     "iopub.execute_input": "2021-06-28T16:54:37.282188Z",
     "iopub.status.busy": "2021-06-28T16:54:37.281729Z",
     "iopub.status.idle": "2021-06-28T16:54:37.633120Z",
     "shell.execute_reply": "2021-06-28T16:54:37.632326Z"
    },
    "slideshow": {
     "slide_type": "slide"
    }
   },
   "outputs": [
    {
     "name": "stdout",
     "output_type": "stream",
     "text": [
      "42\n"
     ]
    },
    {
     "name": "stdout",
     "output_type": "stream",
     "text": [
      "done!\n"
     ]
    }
   ],
   "source": [
    "{\n",
    "    auto p = async(default_executor, [] { return 42; });\n",
    "\n",
    "    auto q = p.then([](int x) { cout << x << endl; });\n",
    "\n",
    "    auto r = q.then([] { cout << \"done!\" << endl; });\n",
    "\n",
    "    blocking_get(r); // <-- DON'T DO THIS IN REAL CODE!!!\n",
    "}"
   ]
  },
  {
   "cell_type": "markdown",
   "id": "premium-identification",
   "metadata": {
    "slideshow": {
     "slide_type": "slide"
    }
   },
   "source": [
    "## Xeus Cling\n",
    "\n",
    "_xeus-cling is a Jupyter kernel for C++ based on the C++ interpreter cling and the native implementation of the Jupyter protocol xeus._\n",
    "\n",
    "https://github.com/QuantStack/xeus-cling"
   ]
  },
  {
   "cell_type": "markdown",
   "id": "variable-sewing",
   "metadata": {
    "slideshow": {
     "slide_type": "slide"
    }
   },
   "source": [
    "## More...\n",
    "\n",
    "### Binder\n",
    "\n",
    "_Have a repository full of Jupyter notebooks? With Binder, open those notebooks in an executable environment, making your code immediately reproducible by anyone, anywhere._\n",
    "\n",
    "https://mybinder.org/\n",
    "\n",
    "### GitHub\n",
    "\n",
    "_When you add Jupyter Notebook or IPython Notebook files with a .ipynb extension on GitHub, they will render as static HTML files in your repository._\n",
    "\n",
    "https://help.github.com/en/articles/working-with-jupyter-notebook-files-on-github"
   ]
  },
  {
   "cell_type": "markdown",
   "id": "anonymous-nature",
   "metadata": {
    "slideshow": {
     "slide_type": "slide"
    }
   },
   "source": [
    "### JupyterHub\n",
    "\n",
    "_Multi-user deployment infrastructure_\n",
    "\n",
    "https://github.com/jupyterhub/jupyterhub\n",
    "\n",
    "### Libraries\n",
    "\n",
    "- Xwidgets: widgets enable interactive data visualization\n",
    "- Xplot: 2D plotting\n",
    "- Xtensor: Numerical analysis with multi-dimensional arrays"
   ]
  }
 ],
 "metadata": {
  "jupytext": {
   "formats": "ipynb,md"
  },
  "kernelspec": {
   "display_name": "C++17",
   "language": "C++17",
   "name": "xcpp17"
  },
  "language_info": {
   "codemirror_mode": "text/x-c++src",
   "file_extension": ".cpp",
   "mimetype": "text/x-c++src",
   "name": "c++",
   "version": "17"
  }
 },
 "nbformat": 4,
 "nbformat_minor": 5
}

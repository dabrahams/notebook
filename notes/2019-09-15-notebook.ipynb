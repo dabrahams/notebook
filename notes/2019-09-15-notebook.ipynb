{
 "cells": [
  {
   "cell_type": "markdown",
   "id": "adequate-license",
   "metadata": {
    "slideshow": {
     "slide_type": "slide"
    }
   },
   "source": [
    "\n",
    "\\begin{align}\n",
    "a * b & = c \\\\\n",
    "a & = c / b\n",
    "\\end{align}"
   ]
  },
  {
   "cell_type": "markdown",
   "id": "vulnerable-aging",
   "metadata": {
    "lines_to_next_cell": 0,
    "slideshow": {
     "slide_type": "slide"
    }
   },
   "source": [
    "# Markdown\n",
    "This is `github` flavored _markdown_."
   ]
  },
  {
   "cell_type": "markdown",
   "id": "passing-hamburg",
   "metadata": {},
   "source": [
    "\n"
   ]
  }
 ],
 "metadata": {
  "jupytext": {
   "formats": "ipynb,md"
  },
  "kernelspec": {
   "display_name": "C++17",
   "language": "C++17",
   "name": "xcpp17"
  },
  "language_info": {
   "codemirror_mode": "text/x-c++src",
   "file_extension": ".cpp",
   "mimetype": "text/x-c++src",
   "name": "c++",
   "version": "17"
  }
 },
 "nbformat": 4,
 "nbformat_minor": 5
}

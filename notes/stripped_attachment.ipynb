{
 "cells": [
  {
   "cell_type": "markdown",
   "id": "funky-photograph",
   "metadata": {},
   "source": [
    "Adding an attachment:\n",
    "![image.png](attachment:c280a928-8f3f-4c05-9509-f74ac050f29e.png)"
   ]
  }
 ],
 "metadata": {
  "jupytext": {
   "formats": "ipynb,md"
  },
  "kernelspec": {
   "display_name": "Python 3",
   "language": "python",
   "name": "python3"
  },
  "language_info": {
   "codemirror_mode": {
    "name": "ipython",
    "version": 3
   },
   "file_extension": ".py",
   "mimetype": "text/x-python",
   "name": "python",
   "nbconvert_exporter": "python",
   "pygments_lexer": "ipython3",
   "version": "3.9.5"
  }
 },
 "nbformat": 4,
 "nbformat_minor": 5
}

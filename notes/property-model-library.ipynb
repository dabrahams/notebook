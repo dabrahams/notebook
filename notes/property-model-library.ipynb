{
 "cells": [
  {
   "cell_type": "markdown",
   "id": "directed-dietary",
   "metadata": {},
   "source": [
    "Collection of related properties\n",
    "forms a bipartite graph\n",
    "    `[value] --- (relation) --- [vlaue]`\n"
   ]
  }
 ],
 "metadata": {
  "jupytext": {
   "formats": "ipynb,md"
  },
  "kernelspec": {
   "display_name": "C++17",
   "language": "C++17",
   "name": "xcpp17"
  },
  "language_info": {
   "codemirror_mode": "text/x-c++src",
   "file_extension": ".cpp",
   "mimetype": "text/x-c++src",
   "name": "c++",
   "version": "17"
  }
 },
 "nbformat": 4,
 "nbformat_minor": 5
}

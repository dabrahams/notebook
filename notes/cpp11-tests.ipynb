{
 "cells": [
  {
   "cell_type": "code",
   "execution_count": 1,
   "id": "handled-leonard",
   "metadata": {
    "execution": {
     "iopub.execute_input": "2021-06-28T16:54:41.927666Z",
     "iopub.status.busy": "2021-06-28T16:54:41.927004Z",
     "iopub.status.idle": "2021-06-28T16:54:41.928633Z",
     "shell.execute_reply": "2021-06-28T16:54:41.928112Z"
    }
   },
   "outputs": [],
   "source": [
    "#define BCC_HAS_OPTIONAL() 0\n",
    "#if __cplusplus >= 201703L\n",
    "#  ifdef __has_include\n",
    "#    if __has_include(<optional>)\n",
    "#      include <optional>\n",
    "#      undef BCC_HAS_OPTIONAL\n",
    "#      define BCC_HAS_OPTIONAL() 1\n",
    "#    endif\n",
    "#  endif\n",
    "#endif"
   ]
  },
  {
   "cell_type": "code",
   "execution_count": 2,
   "id": "molecular-preview",
   "metadata": {
    "execution": {
     "iopub.execute_input": "2021-06-28T16:54:41.930728Z",
     "iopub.status.busy": "2021-06-28T16:54:41.930194Z",
     "iopub.status.idle": "2021-06-28T16:54:41.945740Z",
     "shell.execute_reply": "2021-06-28T16:54:41.933145Z"
    }
   },
   "outputs": [
    {
     "name": "stderr",
     "output_type": "stream",
     "text": [
      "\u001b[1m"
     ]
    },
    {
     "name": "stderr",
     "output_type": "stream",
     "text": [
      "input_line_8"
     ]
    },
    {
     "name": "stderr",
     "output_type": "stream",
     "text": [
      ":"
     ]
    },
    {
     "name": "stderr",
     "output_type": "stream",
     "text": [
      "2"
     ]
    },
    {
     "name": "stderr",
     "output_type": "stream",
     "text": [
      ":"
     ]
    },
    {
     "name": "stderr",
     "output_type": "stream",
     "text": [
      "2"
     ]
    },
    {
     "name": "stderr",
     "output_type": "stream",
     "text": [
      ":"
     ]
    },
    {
     "name": "stderr",
     "output_type": "stream",
     "text": [
      " "
     ]
    },
    {
     "name": "stderr",
     "output_type": "stream",
     "text": [
      "\u001b[0m"
     ]
    },
    {
     "name": "stderr",
     "output_type": "stream",
     "text": [
      "\u001b[0;1;35m"
     ]
    },
    {
     "name": "stderr",
     "output_type": "stream",
     "text": [
      "warning"
     ]
    },
    {
     "name": "stderr",
     "output_type": "stream",
     "text": [
      ": "
     ]
    },
    {
     "name": "stderr",
     "output_type": "stream",
     "text": [
      "\u001b[0m"
     ]
    },
    {
     "name": "stderr",
     "output_type": "stream",
     "text": [
      "\u001b[1m"
     ]
    },
    {
     "name": "stderr",
     "output_type": "stream",
     "text": [
      "\"optional\""
     ]
    },
    {
     "name": "stderr",
     "output_type": "stream",
     "text": [
      " "
     ]
    },
    {
     "name": "stderr",
     "output_type": "stream",
     "text": [
      "[-W#warnings]"
     ]
    },
    {
     "name": "stderr",
     "output_type": "stream",
     "text": [
      "\u001b[0m"
     ]
    },
    {
     "name": "stderr",
     "output_type": "stream",
     "text": [
      "\n"
     ]
    },
    {
     "name": "stderr",
     "output_type": "stream",
     "text": [
      "#warning \"optional\""
     ]
    },
    {
     "name": "stderr",
     "output_type": "stream",
     "text": [
      "\n"
     ]
    },
    {
     "name": "stderr",
     "output_type": "stream",
     "text": [
      "\u001b[0;1;32m"
     ]
    },
    {
     "name": "stderr",
     "output_type": "stream",
     "text": [
      " ^"
     ]
    },
    {
     "name": "stderr",
     "output_type": "stream",
     "text": [
      "\n"
     ]
    },
    {
     "name": "stderr",
     "output_type": "stream",
     "text": [
      "\u001b[0m"
     ]
    }
   ],
   "source": [
    "#if BCC_HAS_OPTIONAL()\n",
    "#warning \"optional\"\n",
    "#else\n",
    "#warning \"no optional\"\n",
    "#endif"
   ]
  },
  {
   "cell_type": "code",
   "execution_count": 3,
   "id": "nearby-difference",
   "metadata": {
    "execution": {
     "iopub.execute_input": "2021-06-28T16:54:41.947926Z",
     "iopub.status.busy": "2021-06-28T16:54:41.947351Z",
     "iopub.status.idle": "2021-06-28T16:54:41.948699Z",
     "shell.execute_reply": "2021-06-28T16:54:41.948378Z"
    }
   },
   "outputs": [],
   "source": [
    "#include <type_traits>\n",
    "\n",
    "#if !BCC_HAS_OPTIONAL()\n",
    "\n",
    "namespace std {\n",
    "inline namespace adobe_dcx {\n",
    "    \n",
    "template <class T>\n",
    "class optional {\n",
    "    std::aligned_storage_t<sizeof(T)> _storage;\n",
    "    bool _has_value = false;\n",
    "    \n",
    "public:\n",
    "    using value_type = T;\n",
    "    \n",
    "    constexpr optional() noexcept = default;\n",
    "    \n",
    "    constexpr optional(const optional& other) {\n",
    "        if (!other.has_value()) {\n",
    "        } else if (has_value()) {\n",
    "            **this = *other;\n",
    "        } else {\n",
    "            new (&_storage) T(*other);\n",
    "            _has_value = true;\n",
    "        }\n",
    "    }\n",
    "    \n",
    "    optional(optional&& other) noexcept(std::is_nothrow_move_constructible<T>::value && std::is_nothrow_move_assignable<T>::value) {\n",
    "        if (!other.has_value()) {\n",
    "            reset();\n",
    "        } else if (has_value()) {\n",
    "            **this = std::move(*other);\n",
    "        } else {\n",
    "            new (&_storage) T(std::move(*other));\n",
    "            _has_value = true;\n",
    "        }\n",
    "    }\n",
    "    \n",
    "    template <class U = value_type>\n",
    "    constexpr optional(U&& value) {\n",
    "        new (&_storage) T(std::forward<U>(value));\n",
    "        _has_value = true;\n",
    "    }\n",
    "    \n",
    "    ~optional() {\n",
    "        if (has_value()) (**this).T::~T();\n",
    "    }\n",
    "    \n",
    "    void reset() noexcept {\n",
    "        if (!has_value()) return;\n",
    "        (**this).T::~T();\n",
    "        _has_value = false;\n",
    "    }\n",
    "    \n",
    "    [[deprecated(\"Only available with C++17\")]] constexpr T& value() & = delete;\n",
    "    [[deprecated(\"Only available with C++17\")]] constexpr const T & value() const & = delete;\n",
    "    [[deprecated(\"Only available with C++17\")]] constexpr T&& value() && = delete;\n",
    "    [[deprecated(\"Only available with C++17\")]] constexpr const T&& value() const && = delete;\n",
    "    \n",
    "    T& operator*() { return reinterpret_cast<T&>(_storage); }\n",
    "    const T& operator*() const { return reinterpret_cast<const T&>(_storage); }\n",
    "    \n",
    "    constexpr bool has_value() const noexcept {\n",
    "        return _has_value;\n",
    "    }\n",
    "    \n",
    "    constexpr explicit operator bool() const noexcept {\n",
    "        return _has_value;\n",
    "    }\n",
    "    \n",
    "    template <class U>\n",
    "    constexpr T value_or(U&& default_value) const& {\n",
    "        return has_value() ? (**this) : static_cast<T>(std::forward<U>(default_value));\n",
    "    }\n",
    "    template <class U>\n",
    "    constexpr T value_or(U&& default_value) && {\n",
    "        return has_value() ? std::move(**this) : static_cast<T>(std::forward<U>(default_value));\n",
    "    }\n",
    "};\n",
    "    \n",
    "struct nullopt_t {\n",
    "    explicit constexpr nullopt_t(int) {}\n",
    "};\n",
    "    \n",
    "}\n",
    "}\n",
    "\n",
    "#endif\n",
    "\n"
   ]
  },
  {
   "cell_type": "code",
   "execution_count": 4,
   "id": "immediate-terrorist",
   "metadata": {
    "execution": {
     "iopub.execute_input": "2021-06-28T16:54:41.950344Z",
     "iopub.status.busy": "2021-06-28T16:54:41.949920Z",
     "iopub.status.idle": "2021-06-28T16:54:41.956300Z",
     "shell.execute_reply": "2021-06-28T16:54:41.955951Z"
    }
   },
   "outputs": [],
   "source": [
    "using namespace std;\n",
    "std::optional<int> x = 10;"
   ]
  },
  {
   "cell_type": "code",
   "execution_count": 5,
   "id": "contemporary-lesson",
   "metadata": {
    "execution": {
     "iopub.execute_input": "2021-06-28T16:54:41.958107Z",
     "iopub.status.busy": "2021-06-28T16:54:41.957712Z",
     "iopub.status.idle": "2021-06-28T16:54:42.350881Z",
     "shell.execute_reply": "2021-06-28T16:54:42.350589Z"
    }
   },
   "outputs": [
    {
     "data": {
      "text/plain": [
       "10"
      ]
     },
     "execution_count": 5,
     "metadata": {},
     "output_type": "execute_result"
    }
   ],
   "source": [
    "*x"
   ]
  },
  {
   "cell_type": "code",
   "execution_count": 6,
   "id": "spoken-engineering",
   "metadata": {
    "execution": {
     "iopub.execute_input": "2021-06-28T16:54:42.353894Z",
     "iopub.status.busy": "2021-06-28T16:54:42.353282Z",
     "iopub.status.idle": "2021-06-28T16:54:42.623586Z",
     "shell.execute_reply": "2021-06-28T16:54:42.622762Z"
    }
   },
   "outputs": [
    {
     "data": {
      "text/plain": [
       "true"
      ]
     },
     "execution_count": 6,
     "metadata": {},
     "output_type": "execute_result"
    }
   ],
   "source": [
    "x.has_value()"
   ]
  },
  {
   "cell_type": "code",
   "execution_count": 7,
   "id": "sorted-vessel",
   "metadata": {
    "execution": {
     "iopub.execute_input": "2021-06-28T16:54:42.625759Z",
     "iopub.status.busy": "2021-06-28T16:54:42.625180Z",
     "iopub.status.idle": "2021-06-28T16:54:42.904671Z",
     "shell.execute_reply": "2021-06-28T16:54:42.903845Z"
    }
   },
   "outputs": [
    {
     "data": {
      "text/plain": [
       "10"
      ]
     },
     "execution_count": 7,
     "metadata": {},
     "output_type": "execute_result"
    }
   ],
   "source": [
    "x.value_or(42)"
   ]
  },
  {
   "cell_type": "code",
   "execution_count": 8,
   "id": "confirmed-palmer",
   "metadata": {
    "execution": {
     "iopub.execute_input": "2021-06-28T16:54:42.907131Z",
     "iopub.status.busy": "2021-06-28T16:54:42.906434Z",
     "iopub.status.idle": "2021-06-28T16:54:42.910904Z",
     "shell.execute_reply": "2021-06-28T16:54:42.910552Z"
    }
   },
   "outputs": [],
   "source": [
    "x.reset();"
   ]
  },
  {
   "cell_type": "code",
   "execution_count": 9,
   "id": "allied-huntington",
   "metadata": {
    "execution": {
     "iopub.execute_input": "2021-06-28T16:54:42.913051Z",
     "iopub.status.busy": "2021-06-28T16:54:42.912435Z",
     "iopub.status.idle": "2021-06-28T16:54:43.176876Z",
     "shell.execute_reply": "2021-06-28T16:54:43.176590Z"
    }
   },
   "outputs": [
    {
     "data": {
      "text/plain": [
       "false"
      ]
     },
     "execution_count": 9,
     "metadata": {},
     "output_type": "execute_result"
    }
   ],
   "source": [
    "x.has_value()"
   ]
  },
  {
   "cell_type": "code",
   "execution_count": 10,
   "id": "numeric-tablet",
   "metadata": {
    "execution": {
     "iopub.execute_input": "2021-06-28T16:54:43.178956Z",
     "iopub.status.busy": "2021-06-28T16:54:43.178335Z",
     "iopub.status.idle": "2021-06-28T16:54:43.450836Z",
     "shell.execute_reply": "2021-06-28T16:54:43.449274Z"
    }
   },
   "outputs": [
    {
     "data": {
      "text/plain": [
       "42"
      ]
     },
     "execution_count": 10,
     "metadata": {},
     "output_type": "execute_result"
    }
   ],
   "source": [
    "x.value_or(42)"
   ]
  },
  {
   "cell_type": "code",
   "execution_count": 11,
   "id": "functional-jacob",
   "metadata": {
    "execution": {
     "iopub.execute_input": "2021-06-28T16:54:43.453102Z",
     "iopub.status.busy": "2021-06-28T16:54:43.452615Z",
     "iopub.status.idle": "2021-06-28T16:54:43.455621Z",
     "shell.execute_reply": "2021-06-28T16:54:43.455251Z"
    }
   },
   "outputs": [],
   "source": [
    "#include <cstdint>\n",
    "#include <iostream>"
   ]
  },
  {
   "cell_type": "code",
   "execution_count": 12,
   "id": "german-headline",
   "metadata": {
    "execution": {
     "iopub.execute_input": "2021-06-28T16:54:43.457510Z",
     "iopub.status.busy": "2021-06-28T16:54:43.457066Z",
     "iopub.status.idle": "2021-06-28T16:54:43.464617Z",
     "shell.execute_reply": "2021-06-28T16:54:43.463920Z"
    }
   },
   "outputs": [
    {
     "name": "stderr",
     "output_type": "stream",
     "text": [
      "failed."
     ]
    },
    {
     "name": "stderr",
     "output_type": "stream",
     "text": [
      "\n"
     ]
    }
   ],
   "source": [
    "try {\n",
    "   x.value();\n",
    "} catch (...) {\n",
    "    std::cerr << \"failed.\" << std::endl;\n",
    "}"
   ]
  },
  {
   "cell_type": "markdown",
   "id": "planned-canada",
   "metadata": {},
   "source": [
    "Thought on tracked values -\n",
    "\n",
    "A tracked value should be bound to an execution context. You want to be able to write:\n",
    "```cpp\n",
    "tracked | [](auto& x){\n",
    "    x.stuff();\n",
    "};\n",
    "```\n",
    "vs.\n",
    "```cpp\n",
    "async(executor, [] {\n",
    "    if (auto p = tracked.lock()) {\n",
    "        p->stuff();\n",
    "    }\n",
    "});\n",
    "```\n",
    "\n",
    "Should work with optional (and futures?) as well. Also, this would be when/if_all - requiring the same executor (how can you test that? - no equality on lambdas!)\n",
    "\n",
    "```cpp\n",
    "(track1, track2) | core | [](auto& x1, auto& x2){\n",
    "       // use x1 an x2\n",
    "} | surface ;\n",
    "```"
   ]
  },
  {
   "cell_type": "code",
   "execution_count": 13,
   "id": "impressive-stereo",
   "metadata": {
    "execution": {
     "iopub.execute_input": "2021-06-28T16:54:43.466619Z",
     "iopub.status.busy": "2021-06-28T16:54:43.466003Z",
     "iopub.status.idle": "2021-06-28T16:54:43.467887Z",
     "shell.execute_reply": "2021-06-28T16:54:43.467598Z"
    }
   },
   "outputs": [],
   "source": [
    "inline uint8_t Mul8x8Div255(unsigned a, unsigned b) {\n",
    "   uint32_t temp = a * b + 128; // why isn’t this 127?\n",
    "   return (uint8_t)((temp + (temp >> 8)) >> 8);\n",
    "}"
   ]
  },
  {
   "cell_type": "code",
   "execution_count": 14,
   "id": "nominated-population",
   "metadata": {
    "execution": {
     "iopub.execute_input": "2021-06-28T16:54:43.469387Z",
     "iopub.status.busy": "2021-06-28T16:54:43.468958Z",
     "iopub.status.idle": "2021-06-28T16:54:43.477697Z",
     "shell.execute_reply": "2021-06-28T16:54:43.475893Z"
    }
   },
   "outputs": [
    {
     "name": "stdout",
     "output_type": "stream",
     "text": [
      "80008000800080\n"
     ]
    },
    {
     "name": "stdout",
     "output_type": "stream",
     "text": [
      "80\n"
     ]
    },
    {
     "name": "stdout",
     "output_type": "stream",
     "text": [
      "4080408040804080\n"
     ]
    },
    {
     "name": "stdout",
     "output_type": "stream",
     "text": [
      "40\n"
     ]
    },
    {
     "name": "stdout",
     "output_type": "stream",
     "text": [
      "40004000400040\n"
     ]
    }
   ],
   "source": [
    "{\n",
    "    using namespace std;\n",
    "    constexpr uint64_t low_mask = 0x00FF00FF00FF00FFull;\n",
    "    constexpr uint64_t hi_mask = 0xFF00FF00FF00FF00ull;\n",
    "    \n",
    "    uint64_t a = 0xFF80FF80FF80FF80ULL;\n",
    "    uint64_t b = 0x80ULL;\n",
    "    \n",
    "    uint64_t al = a & low_mask;\n",
    "    uint64_t bl = b & low_mask;\n",
    "    uint64_t tl = al * bl + 0x0080008000800080ull;\n",
    "    cout << hex;\n",
    "    cout << al << endl;\n",
    "    cout << bl << endl;\n",
    "    cout << tl << endl;\n",
    "    cout << static_cast<int>(Mul8x8Div255(0x80, 0x80)) << endl;\n",
    "    \n",
    "    cout << (((tl + ((tl >> 8) & low_mask)) >> 8) & low_mask) << endl;\n",
    "\n",
    "}"
   ]
  },
  {
   "cell_type": "code",
   "execution_count": null,
   "id": "introductory-desire",
   "metadata": {},
   "outputs": [],
   "source": []
  }
 ],
 "metadata": {
  "jupytext": {
   "formats": "ipynb,md"
  },
  "kernelspec": {
   "display_name": "C++17",
   "language": "C++17",
   "name": "xcpp17"
  },
  "language_info": {
   "codemirror_mode": "text/x-c++src",
   "file_extension": ".cpp",
   "mimetype": "text/x-c++src",
   "name": "c++",
   "version": "17"
  }
 },
 "nbformat": 4,
 "nbformat_minor": 5
}

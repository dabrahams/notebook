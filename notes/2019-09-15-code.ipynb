{
 "cells": [
  {
   "cell_type": "code",
   "execution_count": 1,
   "id": "emerging-swedish",
   "metadata": {
    "execution": {
     "iopub.execute_input": "2021-06-28T16:54:32.733684Z",
     "iopub.status.busy": "2021-06-28T16:54:32.733047Z",
     "iopub.status.idle": "2021-06-28T16:54:33.021572Z",
     "shell.execute_reply": "2021-06-28T16:54:33.021167Z"
    },
    "slideshow": {
     "slide_type": "skip"
    },
    "tags": [
     "active-ipynb"
    ]
   },
   "outputs": [],
   "source": [
    "#pragma cling add_include_path(\"../stlab/libraries\")\n",
    "\n",
    "#include <iostream>\n",
    "\n",
    "#define STLAB_DISABLE_FUTURE_COROUTINES 1\n",
    "#include <stlab/concurrency/default_executor.hpp>\n",
    "#include <stlab/concurrency/future.hpp>\n",
    "#include <stlab/concurrency/utility.hpp>\n",
    "\n",
    "#include <chrono>\n"
   ]
  },
  {
   "cell_type": "markdown",
   "id": "important-letter",
   "metadata": {},
   "source": [
    "# Example\n",
    "Here is an example of some concurrent code.\n"
   ]
  },
  {
   "cell_type": "code",
   "execution_count": 2,
   "id": "noble-contribution",
   "metadata": {
    "execution": {
     "iopub.execute_input": "2021-06-28T16:54:33.023902Z",
     "iopub.status.busy": "2021-06-28T16:54:33.023452Z",
     "iopub.status.idle": "2021-06-28T16:54:33.116173Z",
     "shell.execute_reply": "2021-06-28T16:54:33.115874Z"
    },
    "slideshow": {
     "slide_type": "slide"
    }
   },
   "outputs": [],
   "source": [
    "int main() {\n",
    "    using namespace std;\n",
    "    using namespace stlab;\n",
    "    \n",
    "    auto p = async(default_executor, [] { return 42; });\n",
    "\n",
    "    auto q = p.then([](int x) { /* cout << x << endl; */ });\n",
    "\n",
    "    auto r = q.then([] { /* cout << \"done!\" << endl; */ });\n",
    "\n",
    "    blocking_get(r); // <-- DON'T DO THIS IN REAL CODE!!!\n",
    "}"
   ]
  },
  {
   "cell_type": "code",
   "execution_count": 3,
   "id": "compact-confusion",
   "metadata": {
    "execution": {
     "iopub.execute_input": "2021-06-28T16:54:33.118528Z",
     "iopub.status.busy": "2021-06-28T16:54:33.117988Z",
     "iopub.status.idle": "2021-06-28T16:54:33.520928Z",
     "shell.execute_reply": "2021-06-28T16:54:33.520617Z"
    },
    "tags": [
     "active-ipynb"
    ]
   },
   "outputs": [
    {
     "name": "stdout",
     "output_type": "stream",
     "text": [
      "134 us +- 8.11 us per loop (mean +- std. dev. of 7 runs 100 loops each)\n"
     ]
    }
   ],
   "source": [
    "%%timeit -n 100\n",
    "main();"
   ]
  },
  {
   "cell_type": "code",
   "execution_count": null,
   "id": "analyzed-engagement",
   "metadata": {},
   "outputs": [],
   "source": []
  }
 ],
 "metadata": {
  "jupytext": {
   "formats": "ipynb,md"
  },
  "kernelspec": {
   "display_name": "C++17",
   "language": "C++17",
   "name": "xcpp17"
  },
  "language_info": {
   "codemirror_mode": "text/x-c++src",
   "file_extension": ".cpp",
   "mimetype": "text/x-c++src",
   "name": "c++",
   "version": "17"
  }
 },
 "nbformat": 4,
 "nbformat_minor": 5
}

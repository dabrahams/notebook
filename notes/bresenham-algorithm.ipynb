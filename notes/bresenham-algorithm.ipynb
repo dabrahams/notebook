{
 "cells": [
  {
   "cell_type": "markdown",
   "id": "brutal-income",
   "metadata": {},
   "source": [
    "Bresenham Algorithm"
   ]
  },
  {
   "cell_type": "code",
   "execution_count": 1,
   "id": "5a66c1f1",
   "metadata": {
    "execution": {
     "iopub.execute_input": "2021-06-28T16:54:39.377133Z",
     "iopub.status.busy": "2021-06-28T16:54:39.376712Z",
     "iopub.status.idle": "2021-06-28T16:54:39.380568Z",
     "shell.execute_reply": "2021-06-28T16:54:39.379988Z"
    }
   },
   "outputs": [],
   "source": [
    "#include <cassert>\n",
    "#include <cstdint>\n",
    "#include <iostream>\n",
    "#include <climits>\n",
    "\n",
    "using namespace std;"
   ]
  },
  {
   "cell_type": "code",
   "execution_count": 2,
   "id": "82b7c494",
   "metadata": {
    "execution": {
     "iopub.execute_input": "2021-06-28T16:54:39.382498Z",
     "iopub.status.busy": "2021-06-28T16:54:39.382015Z",
     "iopub.status.idle": "2021-06-28T16:54:39.383004Z",
     "shell.execute_reply": "2021-06-28T16:54:39.383438Z"
    }
   },
   "outputs": [],
   "source": [
    "// dx - 1 <= INT_MAX - dy\n",
    "// dx <= INT_MAX - dy + 1"
   ]
  },
  {
   "cell_type": "code",
   "execution_count": 3,
   "id": "3306db8d",
   "metadata": {
    "execution": {
     "iopub.execute_input": "2021-06-28T16:54:39.385433Z",
     "iopub.status.busy": "2021-06-28T16:54:39.384909Z",
     "iopub.status.idle": "2021-06-28T16:54:39.385954Z",
     "shell.execute_reply": "2021-06-28T16:54:39.386327Z"
    },
    "tags": []
   },
   "outputs": [],
   "source": [
    "template <class F>\n",
    "void bresenham_line(int dx, int dy, F out) {\n",
    "    assert((0 <= dy) && (dy <= dx) && (dx <= (INT_MAX - dy)));\n",
    "\n",
    "    for (int x = 0, y = 0, a = dy / 2; x != dx; ++x) {\n",
    "        out(x, y);\n",
    "        a += dy;\n",
    "        if (dx <= a) {\n",
    "            ++y;\n",
    "            a -= dx;\n",
    "        }\n",
    "    }\n",
    "}"
   ]
  },
  {
   "cell_type": "code",
   "execution_count": 4,
   "id": "a6c750bc",
   "metadata": {
    "execution": {
     "iopub.execute_input": "2021-06-28T16:54:39.388172Z",
     "iopub.status.busy": "2021-06-28T16:54:39.387669Z",
     "iopub.status.idle": "2021-06-28T16:54:39.388710Z",
     "shell.execute_reply": "2021-06-28T16:54:39.389081Z"
    },
    "tags": []
   },
   "outputs": [],
   "source": [
    "template <class F>\n",
    "void fast_bresenham_line(unsigned dx, unsigned dy, F out) {\n",
    "    assert(dy < dx);\n",
    "\n",
    "    dy = (UINT_MAX + 1.0) * dy / dx;\n",
    "\n",
    "    for (unsigned x = 0, y = 0, a = dy / 2; x != dx; ++x) {\n",
    "        out(x, y);\n",
    "        a += dy;     // add ebx, r12d\n",
    "        y += a < dy; // addc r15d, 0\n",
    "    }\n",
    "}"
   ]
  },
  {
   "cell_type": "code",
   "execution_count": 5,
   "id": "25b2992a",
   "metadata": {
    "execution": {
     "iopub.execute_input": "2021-06-28T16:54:39.390879Z",
     "iopub.status.busy": "2021-06-28T16:54:39.390411Z",
     "iopub.status.idle": "2021-06-28T16:54:39.819754Z",
     "shell.execute_reply": "2021-06-28T16:54:39.818459Z"
    }
   },
   "outputs": [
    {
     "data": {
      "text/plain": [
       "4294967295"
      ]
     },
     "execution_count": 5,
     "metadata": {},
     "output_type": "execute_result"
    }
   ],
   "source": [
    "UINT_MAX"
   ]
  },
  {
   "cell_type": "code",
   "execution_count": 6,
   "id": "0370c3c8",
   "metadata": {
    "execution": {
     "iopub.execute_input": "2021-06-28T16:54:39.824916Z",
     "iopub.status.busy": "2021-06-28T16:54:39.822937Z",
     "iopub.status.idle": "2021-06-28T16:54:40.116276Z",
     "shell.execute_reply": "2021-06-28T16:54:40.115501Z"
    }
   },
   "outputs": [
    {
     "data": {
      "text/plain": [
       "true"
      ]
     },
     "execution_count": 6,
     "metadata": {},
     "output_type": "execute_result"
    }
   ],
   "source": [
    "unsigned((UINT_MAX + 1.0) * (UINT_MAX - 1.0) / UINT_MAX) == UINT_MAX"
   ]
  },
  {
   "cell_type": "code",
   "execution_count": 7,
   "id": "4cd04a60",
   "metadata": {
    "execution": {
     "iopub.execute_input": "2021-06-28T16:54:40.118125Z",
     "iopub.status.busy": "2021-06-28T16:54:40.117769Z",
     "iopub.status.idle": "2021-06-28T16:54:40.124694Z",
     "shell.execute_reply": "2021-06-28T16:54:40.124325Z"
    }
   },
   "outputs": [
    {
     "name": "stdout",
     "output_type": "stream",
     "text": [
      "*\n",
      "*\n",
      " *\n",
      "  *\n",
      "  *\n",
      "   *\n",
      "   *\n",
      "    *\n",
      "     *\n",
      "     *\n"
     ]
    }
   ],
   "source": [
    "bresenham_line(10, 6, [](auto, auto y){ cout << string(y, ' ') << \"*\\n\"; });"
   ]
  },
  {
   "cell_type": "code",
   "execution_count": 8,
   "id": "d6d8f589",
   "metadata": {
    "execution": {
     "iopub.execute_input": "2021-06-28T16:54:40.127150Z",
     "iopub.status.busy": "2021-06-28T16:54:40.126767Z",
     "iopub.status.idle": "2021-06-28T16:54:40.134114Z",
     "shell.execute_reply": "2021-06-28T16:54:40.133748Z"
    }
   },
   "outputs": [
    {
     "name": "stdout",
     "output_type": "stream",
     "text": [
      "*\n",
      "*\n",
      " *\n",
      "  *\n",
      "  *\n",
      "   *\n",
      "   *\n",
      "    *\n",
      "     *\n",
      "     *\n"
     ]
    }
   ],
   "source": [
    "fast_bresenham_line(10, 6, [](auto, auto y){ cout << string(y, ' ') << \"*\\n\"; });"
   ]
  }
 ],
 "metadata": {
  "jupytext": {
   "formats": "ipynb,md"
  },
  "kernelspec": {
   "display_name": "C++17",
   "language": "C++17",
   "name": "xcpp17"
  },
  "language_info": {
   "codemirror_mode": "text/x-c++src",
   "file_extension": ".cpp",
   "mimetype": "text/x-c++src",
   "name": "c++",
   "version": "17"
  }
 },
 "nbformat": 4,
 "nbformat_minor": 5
}
